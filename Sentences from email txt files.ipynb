{
 "cells": [
  {
   "cell_type": "code",
   "execution_count": 2,
   "metadata": {},
   "outputs": [
    {
     "name": "stderr",
     "output_type": "stream",
     "text": [
      "[nltk_data] Downloading package averaged_perceptron_tagger to\n",
      "[nltk_data]     C:\\Users\\eamas\\AppData\\Roaming\\nltk_data...\n",
      "[nltk_data]   Package averaged_perceptron_tagger is already up-to-\n",
      "[nltk_data]       date!\n",
      "[nltk_data] Downloading package punkt to\n",
      "[nltk_data]     C:\\Users\\eamas\\AppData\\Roaming\\nltk_data...\n",
      "[nltk_data]   Package punkt is already up-to-date!\n"
     ]
    },
    {
     "data": {
      "text/plain": [
       "True"
      ]
     },
     "execution_count": 2,
     "metadata": {},
     "output_type": "execute_result"
    }
   ],
   "source": [
    "import nltk\n",
    "from nltk import word_tokenize\n",
    "from nltk import sent_tokenize\n",
    "nltk.download('averaged_perceptron_tagger')\n",
    "nltk.download('punkt')"
   ]
  },
  {
   "cell_type": "code",
   "execution_count": 3,
   "metadata": {},
   "outputs": [],
   "source": [
    "from urllib import request"
   ]
  },
  {
   "cell_type": "code",
   "execution_count": 4,
   "metadata": {},
   "outputs": [],
   "source": [
    "# Find an email from https://raw.githubusercontent.com/ui-libraries/flint/master/filenames.txt\n",
    "url = \"https://flint-text.s3.amazonaws.com/dhhs01_b11_20_22_3.txt\""
   ]
  },
  {
   "cell_type": "code",
   "execution_count": 5,
   "metadata": {},
   "outputs": [],
   "source": [
    "response = request.urlopen(url)"
   ]
  },
  {
   "cell_type": "code",
   "execution_count": 6,
   "metadata": {},
   "outputs": [],
   "source": [
    "raw_text = response.read().decode('utf8')"
   ]
  },
  {
   "cell_type": "code",
   "execution_count": 7,
   "metadata": {},
   "outputs": [],
   "source": [
    "sent_email_tokens = sent_tokenize(raw_text)"
   ]
  },
  {
   "cell_type": "code",
   "execution_count": 8,
   "metadata": {},
   "outputs": [
    {
     "name": "stdout",
     "output_type": "stream",
     "text": [
      " \n",
      "\n",
      " \n",
      "\n",
      " \n",
      "\n",
      "  \n",
      "\n",
      "Please consider the environment before printing this e-mail.\n",
      "\"There are two lasting bequests we can hope to give our children: one is roots; the other is wings.\"\n",
      "Hodding Carter\n",
      "\n",
      "*NOTICE: This e-mail, including attachments, is intended for the exclusive use of the addressee and may confain proprietary, confidential or\n",
      "privileged information.\n",
      "If you are not the intended recipient, any disclosure, use, distribution, copying, or taking of any action in reliance of the\n",
      "contents of this e-mail is strictly prohibited.\n",
      "If you have received this e-mail in error, please notify me via e~mail and permanently delete the\n",
      "original and destroy all copies.\n",
      "Thank you.\n",
      "For a copy of the Health Department’s Notice of Information Practices, contact the Health Department or visit the Health Department’s website at\n",
      "hito:/fwww.gchd ue/\n",
      "\n",
      "From: Valacak, Mark\n",
      "\n",
      "Sent: Monday, September 28, 2015 1:57 PM\n",
      "To: 'Miller, Mark (DCH)'; TravisR@michigan.gov'\n",
      "Subject: RE: State lead testing results???\n",
      "Mark & Rashmi,\n",
      "\n",
      "| want to know whether you have confirmed with the lead program staff at MDHHS that the state results that purport\n",
      "that lead levels have not shown a significant increase since the changeover of the water supply for the city of Flint\n",
      "indeed represent Hint city zip codes only and not Flint mailing addresses.\n",
      "As | mentioned to vou both this morning, Flint\n",
      "mailing addresses would include outlving areas like Flint and Mundy Townships which obtain their water from the\n",
      "Detroit Water Authority.\n",
      "Mark Valacak, MPH, Health Officer\n",
      "\n",
      "Genesee County Health Department,\n",
      "630 S. Saginaw St. Suite 4 Flint, MI 48502-1540\n",
      "Phone 810-257-3588 Fax 810 257-3147\n",
      "\n",
      " \n",
      "\n",
      "  \n",
      "\n",
      "Please consider the environment before printing this e-mail.\n",
      "\"There are two lasting bequests we can hope to give our children: one is roots; the other is wings.\"\n",
      "Hodding Carter\n",
      "\n",
      "*NOTICE: This e-mail, including attachments, is intended for the exclusive use of the addressee and may confain proprietary, confidential or\n",
      "privileged information.\n",
      "If you are not the intended recipient, any disclosure, use, distribution, copying, or taking of any action in reliance of the\n",
      "contents of this e-mail is strictly prohibited.\n",
      "If you have received this e-mail in error, please notify me via e~mail and permanently delete the\n",
      "original and destroy all copies.\n",
      "Thank you.\n",
      "For a copy of the Health Department’s Notice of Information Practices, contact the Health Department or visit the Health Department’s website at\n",
      "hitp:/fwww.gchd us/\n"
     ]
    }
   ],
   "source": [
    "for token in sent_email_tokens:\n",
    "    print(token)\n",
    "    \n",
    "# you can also just type \"print(sent_email_tokens) but it prints as one large block of text. \n",
    "#There may be a more user-friendly way to display this!"
   ]
  }
 ],
 "metadata": {
  "kernelspec": {
   "display_name": "Python 3",
   "language": "python",
   "name": "python3"
  },
  "language_info": {
   "codemirror_mode": {
    "name": "ipython",
    "version": 3
   },
   "file_extension": ".py",
   "mimetype": "text/x-python",
   "name": "python",
   "nbconvert_exporter": "python",
   "pygments_lexer": "ipython3",
   "version": "3.7.4"
  }
 },
 "nbformat": 4,
 "nbformat_minor": 2
}
