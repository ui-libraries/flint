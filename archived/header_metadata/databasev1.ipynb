{
 "cells": [
  {
   "cell_type": "code",
   "execution_count": 711,
   "metadata": {},
   "outputs": [],
   "source": [
    "import emails\n",
    "import hme\n",
    "import uts\n",
    "import sreq\n",
    "import re\n",
    "import json\n",
    "import re\n"
   ]
  },
  {
   "cell_type": "code",
   "execution_count": 3,
   "metadata": {},
   "outputs": [],
   "source": [
    "emailstext = emails.getAll(\"allfilenames.txt\")"
   ]
  },
  {
   "cell_type": "code",
   "execution_count": 652,
   "metadata": {
    "scrolled": true
   },
   "outputs": [],
   "source": [
    "f = open(\"cleanlist.txt\", \"r+\")\n",
    "cleanlist0 = f.read()\n",
    "cleanlist = re.split('\\n',cleanlist0)"
   ]
  },
  {
   "cell_type": "code",
   "execution_count": 653,
   "metadata": {},
   "outputs": [],
   "source": [
    "def findSubj_mac(emailstext):\n",
    "    import re\n",
    "    from itertools import repeat\n",
    "    subjs0 = re.findall(\"\\n\\W*Subject[:;].*\", emailstext)\n",
    "    fullsubjstr = '\\n'.join(subjs0)\n",
    "    subjs1 = re.sub(\"[FfWwRr]+[EeWwDd][:;]\",\"\",fullsubjstr)\n",
    "    subjs2 = re.findall(\"Subject[:;][\\s]+(.*)\",subjs1)\n",
    "    froms = re.findall(\"\\n.*[FK]rom.*\",emailstext)\n",
    "    ons = re.findall(\".*On.*wro[ft]e.\",emailstext)\n",
    "    numf = int(len(froms))\n",
    "    numfo = int(len(froms)+len(ons))\n",
    "    if len(subjs2)==numf and ons==[]:\n",
    "        return subjs2\n",
    "    else:\n",
    "        placeholder=[]\n",
    "        for i in repeat(None, numfo):\n",
    "            placeholder.append('')\n",
    "        return placeholder"
   ]
  },
  {
   "cell_type": "code",
   "execution_count": 419,
   "metadata": {},
   "outputs": [],
   "source": [
    "def splitemails(bmpgl_emailstext):\n",
    "    Sdeqs = []\n",
    "    Sdeqs = []\n",
    "    listpgs = re.split(\"---endPAGE\",bmpgl_emailstext)\n",
    "    return listpgs\n",
    "e = splitemails(emailstext)"
   ]
  },
  {
   "cell_type": "code",
   "execution_count": 712,
   "metadata": {},
   "outputs": [],
   "source": [
    "def machineall(bmpgl_emailstext):\n",
    "    Sdeqs = []\n",
    "    Sdeqs = []\n",
    "    listpgs = re.split(\"---endPAGE\",bmpgl_emailstext)\n",
    "    for pg in listpgs:\n",
    "        listTS = uts.getUnixTS(pg) #1*\n",
    "        listTSr = uts.getUnixTSr(pg) #1*\n",
    "        listSo = srek.findRawSenders(pg,cleanlist) #2*\n",
    "        listto = srek.findTo(pg,cleanlist)\n",
    "        listCc = srek.findCc(pg,cleanlist)#3\n",
    "        listSub = findSubj_mac(pg) #4*\n",
    "        deqfile = re.findall(\"deq.*.txt\",pg) #0\n",
    "        if deqfile == [] or listTS == [] or listSo == []:\n",
    "            pass\n",
    "        else:\n",
    "            Sdeq = (deqfile[0],tuple(listTSr),tuple(listSo),listto,listCc,tuple(listSub))\n",
    "            Sdeqs.append(Sdeq)\n",
    "    return Sdeqs\n",
    "    "
   ]
  },
  {
   "cell_type": "code",
   "execution_count": 713,
   "metadata": {},
   "outputs": [],
   "source": [
    "deqpg = machineall(emailstext)"
   ]
  },
  {
   "cell_type": "code",
   "execution_count": 714,
   "metadata": {},
   "outputs": [
    {
     "data": {
      "text/plain": [
       "0.8887667061410929"
      ]
     },
     "execution_count": 714,
     "metadata": {},
     "output_type": "execute_result"
    }
   ],
   "source": [
    "deqslist = []\n",
    "misfits=[]\n",
    "for deqs in deqpg:\n",
    "    if len(deqs[1]) == len(deqs[2]) == len(deqs[3]) == len(deqs[4]) == len(deqs[5]):\n",
    "        deqslist.append(deqs)\n",
    "    else:\n",
    "        misfits.append(deqs)\n",
    "len(deqslist)/len(deqpg) # % good"
   ]
  },
  {
   "cell_type": "code",
   "execution_count": 721,
   "metadata": {},
   "outputs": [
    {
     "data": {
      "text/plain": [
       "0"
      ]
     },
     "execution_count": 721,
     "metadata": {},
     "output_type": "execute_result"
    }
   ],
   "source": [
    "# what is in that other 11%?\n",
    "alluts=[]\n",
    "otheruts=[]\n",
    "missing=[]\n",
    "for series in deqpg:\n",
    "    utslist = series[1]\n",
    "    for uts in utslist:\n",
    "        alluts.append(uts)\n",
    "dalluts=list(dict.fromkeys(alluts))\n",
    "for series1 in misfits:\n",
    "    utslist1 = series[1]\n",
    "    for uts1 in utslist1:\n",
    "        if uts1 not in dalluts:\n",
    "            otheruts.append(uts1)\n",
    "            missing.append(series1)\n",
    "len(missing)"
   ]
  },
  {
   "cell_type": "code",
   "execution_count": 722,
   "metadata": {},
   "outputs": [],
   "source": [
    "# KEY: a - all; b - nosub; c - nosub, noCCs; d - nosub, noCCs, noTos\n",
    "def process(deqslist,k):\n",
    "    newlist1 = []\n",
    "    for md in deqslist:\n",
    "        tss = md[1]\n",
    "        sndrs = md[2]\n",
    "        tos = md[3]\n",
    "        Ccs = md[4]\n",
    "        subs = md[5]\n",
    "        o = len(tss)\n",
    "        p = len(sndrs)\n",
    "        for x in range(o):\n",
    "            g = (md[0],(tss[x]),(sndrs[x]),tuple(tos[x]),tuple(Ccs[x]),(subs[x]))\n",
    "            newlist1.append(g)\n",
    "            \n",
    "    newlist2 = []\n",
    "    for news in newlist1:\n",
    "        deqf = news[0]\n",
    "        if k==\"a\":\n",
    "            r = (deqf,(news[1],news[2],news[3],news[4],news[5]))\n",
    "        elif k==\"b\":\n",
    "            r = (deqf,(news[1],news[2],news[3],news[4]))#,news[5]))\n",
    "        elif k==\"c\":\n",
    "            r = (deqf,(news[1],news[2],news[3]))#,news[4],news[5]))\n",
    "        elif k==\"d\":\n",
    "            r = (deqf,(news[1],news[2]))#,news[3],news[4],news[5]))\n",
    "        else:\n",
    "            print(\"invalid\")\n",
    "        newlist2.append(r)\n",
    "    return newlist2"
   ]
  },
  {
   "cell_type": "code",
   "execution_count": 717,
   "metadata": {},
   "outputs": [],
   "source": [
    "def combine(list0):\n",
    "        ndl = {}\n",
    "        nts = []\n",
    "        for tups in list0:\n",
    "            deqf = tups[0]\n",
    "            metadata = tups[1]\n",
    "            uts = metadata[0]\n",
    "            if uts != \"NOTIMESTAMP\":\n",
    "                deqflist = [deqf]\n",
    "                newdic = {}\n",
    "                if metadata not in [*ndl]:\n",
    "                    newdic[(metadata)] = deqflist\n",
    "                    ndl.update(newdic)\n",
    "                else:\n",
    "                    ndl[(metadata)].append(deqf)\n",
    "                    pass\n",
    "            elif uts == \"NOTIMESTAMP\":\n",
    "                tups1 = ((metadata),deqflist)\n",
    "                nts.append(tups1)\n",
    "        lndl = srej.tolist(ndl)\n",
    "        lndl.extend(nts)\n",
    "        return lndl"
   ]
  },
  {
   "cell_type": "code",
   "execution_count": 731,
   "metadata": {},
   "outputs": [],
   "source": [
    "newlist = process(deqslist,\"a\")"
   ]
  },
  {
   "cell_type": "code",
   "execution_count": 732,
   "metadata": {
    "scrolled": true
   },
   "outputs": [
    {
     "data": {
      "text/plain": [
       "10463"
      ]
     },
     "execution_count": 732,
     "metadata": {},
     "output_type": "execute_result"
    }
   ],
   "source": [
    "x = combine(newlist)\n",
    "x.sort(key=srej.takeFofF)\n",
    "len(x) # list of emails!"
   ]
  },
  {
   "cell_type": "code",
   "execution_count": 733,
   "metadata": {},
   "outputs": [],
   "source": [
    "#len(x) = a: 10463; b: 8766; c:8351 ; d: 7774  "
   ]
  },
  {
   "cell_type": "code",
   "execution_count": 734,
   "metadata": {
    "scrolled": true
   },
   "outputs": [
    {
     "data": {
      "text/plain": [
       "[((608428800, 'Elgar ﬂt@S', ('NOTO',), ('NOCc',), 'Lead Contamination Act'),\n",
       "  ['deq01_b2_1276_1819_83.txt']),\n",
       " ((1097057600,\n",
       "   'Shekter, Jean',\n",
       "   ('NOTO',),\n",
       "   ('NOCc',),\n",
       "   'Maximum residence time'),\n",
       "  ['deq04_b25_1682_1874_142.txt',\n",
       "   'deq14_b1187_3572_3572_1.txt',\n",
       "   'deq16_b4_688_891_7.txt',\n",
       "   'deq17_b1_1_2629_694.txt',\n",
       "   'deq18_b1_1_3746_1280.txt']),\n",
       " ((1293607900, 'Messer, Beth', ('NOTO',), ('NOCc',), 'Recap - MI Comments'),\n",
       "  ['deq25_b277_3638_3643_5.txt',\n",
       "   'deq25_b275_3627_3632_4.txt',\n",
       "   'deq25_b280_3655_3660_5.txt',\n",
       "   'deq25_b271_3617_3620_3.txt',\n",
       "   'deq25_b278_3644_3649_5.txt',\n",
       "   'deq25_b274_3623_3626_3.txt']),\n",
       " ((1293972200, 'Smith, Gerald', ('NOTO',), ('NOCc',), 'Recap REduxp'),\n",
       "  ['deq25_b277_3638_3643_4.txt',\n",
       "   'deq25_b275_3627_3632_4.txt',\n",
       "   'deq25_b280_3655_3660_4.txt',\n",
       "   'deq25_b271_3617_3620_2.txt',\n",
       "   'deq25_b278_3644_3649_4.txt',\n",
       "   'deq25_b274_3623_3626_2.txt']),\n",
       " ((1294060600, 'Jonas, Jill', ('Smith, Gerald',), ('NOCc',), 'Recap REduxp'),\n",
       "  ['deq25_b277_3638_3643_4.txt',\n",
       "   'deq25_b275_3627_3632_3.txt',\n",
       "   'deq25_b280_3655_3660_4.txt',\n",
       "   'deq25_b271_3617_3620_2.txt',\n",
       "   'deq25_b278_3644_3649_4.txt',\n",
       "   'deq25_b274_3623_3626_2.txt'])]"
      ]
     },
     "execution_count": 734,
     "metadata": {},
     "output_type": "execute_result"
    }
   ],
   "source": [
    "x1=[]\n",
    "for xs in x:\n",
    "    if 'NOTIMESTAMP' not in xs[0] and 'NOSENDER' not in xs[0] and 'NOTO' not in xs[0]:\n",
    "        x1.append(xs)\n",
    "x1.sort()\n",
    "x1[0:5]"
   ]
  },
  {
   "cell_type": "code",
   "execution_count": 431,
   "metadata": {},
   "outputs": [
    {
     "data": {
      "text/plain": [
       "8369"
      ]
     },
     "execution_count": 431,
     "metadata": {},
     "output_type": "execute_result"
    }
   ],
   "source": [
    "# CHECK: what is in c, that is not in d?\n",
    "newc=[]\n",
    "for c in cx:\n",
    "    e = c[0]\n",
    "    new = ((e[0],e[1]),c[1])\n",
    "    newc.append(new)\n",
    "len(newc)\n",
    "# from handchecking a sample, it appears that d is the more accurate count"
   ]
  },
  {
   "cell_type": "code",
   "execution_count": 735,
   "metadata": {},
   "outputs": [],
   "source": [
    "# to txtfile\n",
    "news=[]\n",
    "for xs in x:\n",
    "    em = xs[0]\n",
    "    files = xs[1]\n",
    "    files1=', '.join(files)\n",
    "    uts=em[0]\n",
    "    frum=em[1]\n",
    "    to=em[2]\n",
    "    to1 = ', '.join(to)\n",
    "    cc=em[3]\n",
    "    cc1 = ', '.join(cc)\n",
    "    sub=em[4]\n",
    "    new = (\"UTS: \" + str(uts) + \"//SNDR: \" + frum + \"//TO: \" + to1 + \"//CC: \" + cc1 + \"//SUB: \" + sub + '////files: ' + files1)\n",
    "    news.append(new)\n",
    "news1='\\n'.join(news)\n",
    "f = open('fulldatabase.txt','w')\n",
    "f.write(news1) #delete the final comma from final text file\n",
    "f.close()"
   ]
  },
  {
   "cell_type": "code",
   "execution_count": 736,
   "metadata": {},
   "outputs": [
    {
     "name": "stdout",
     "output_type": "stream",
     "text": [
      "{\n",
      "    \"uts\": 1794248400,\n",
      "    \"receivers (Cc:)\": [\n",
      "        \"NOREC\"\n",
      "    ],\n",
      "    \"sender\": \"Wright, Michael\",\n",
      "    \"files\": [\n",
      "        \"deq03_b1_1_4717_642.txt\"\n",
      "    ],\n",
      "    \"receivers (To:)\": [\n",
      "        \"NOREC\"\n",
      "    ],\n",
      "    \"subj\": \"\"\n",
      "}\n"
     ]
    }
   ],
   "source": [
    "# to json file\n",
    "for tup in x:       \n",
    "    metadata = tup[0]\n",
    "    deqf = tup[1]\n",
    "    uts = metadata[0]\n",
    "    sender = metadata[1]\n",
    "    tos = metadata[2]\n",
    "    Ccs = metadata[3]\n",
    "    subj = metadata[4]\n",
    "    data = {\n",
    "        \"uts\": uts,\n",
    "        \"sender\": sender,\n",
    "        \"receivers (To:)\": tos,\n",
    "        \"receivers (Cc:)\": Ccs,\n",
    "        \"subj\": subj,\n",
    "        \"files\": deqf\n",
    "    }\n",
    "    obj = json.dumps(data, indent=4)\n",
    "    \n",
    "# write to json file #\n",
    "    #f = open('dbtest.json','a+')\n",
    "    #f.write(obj + ',') #delete the final comma from final text file\n",
    "    #f.close()\n",
    "print(obj)"
   ]
  },
  {
   "cell_type": "code",
   "execution_count": null,
   "metadata": {},
   "outputs": [],
   "source": [
    "# # # END"
   ]
  },
  {
   "cell_type": "code",
   "execution_count": null,
   "metadata": {},
   "outputs": [],
   "source": [
    "# # # extra stuff"
   ]
  },
  {
   "cell_type": "code",
   "execution_count": 737,
   "metadata": {},
   "outputs": [
    {
     "data": {
      "text/plain": [
       "0.33518111440313486"
      ]
     },
     "execution_count": 737,
     "metadata": {},
     "output_type": "execute_result"
    }
   ],
   "source": [
    "r = []\n",
    "for xs in x:\n",
    "    if len(xs[1]) > 1:\n",
    "        r.append(xs)\n",
    "len(r) / len(x) # % that have duplicates (more than one deqfile)"
   ]
  },
  {
   "cell_type": "code",
   "execution_count": null,
   "metadata": {},
   "outputs": [],
   "source": [
    "# making txtfile for networks ((sender, receiver),freq)"
   ]
  },
  {
   "cell_type": "code",
   "execution_count": 683,
   "metadata": {},
   "outputs": [],
   "source": [
    "alls = srek.findRawSenders(emailstext,cleanlist)\n",
    "allt = srek.findTo(emailstext,cleanlist)\n",
    "allc = srek.findCc(emailstext,cleanlist)"
   ]
  },
  {
   "cell_type": "code",
   "execution_count": 684,
   "metadata": {},
   "outputs": [],
   "source": [
    "allr = []\n",
    "allr.extend(allt)\n",
    "allr.extend(allc)"
   ]
  },
  {
   "cell_type": "code",
   "execution_count": 685,
   "metadata": {},
   "outputs": [
    {
     "data": {
      "text/plain": [
       "58094"
      ]
     },
     "execution_count": 685,
     "metadata": {},
     "output_type": "execute_result"
    }
   ],
   "source": [
    "allr1=[]\n",
    "for n in allr:\n",
    "    for tn in n:\n",
    "        allr1.append(tn)\n",
    "len(allr1)"
   ]
  },
  {
   "cell_type": "code",
   "execution_count": 686,
   "metadata": {},
   "outputs": [],
   "source": [
    "allsr = list(allr1 + alls)"
   ]
  },
  {
   "cell_type": "code",
   "execution_count": 690,
   "metadata": {},
   "outputs": [
    {
     "data": {
      "text/plain": [
       "50987"
      ]
     },
     "execution_count": 690,
     "metadata": {},
     "output_type": "execute_result"
    }
   ],
   "source": [
    "sr2=[]\n",
    "for n in allsr:\n",
    "    nn = re.findall(\"[A-Z][\\w\\s]+, \\w\\w\\w+\",n)\n",
    "    if nn != []:\n",
    "        sr2.extend(nn)\n",
    "len(sr2)"
   ]
  },
  {
   "cell_type": "code",
   "execution_count": 691,
   "metadata": {},
   "outputs": [],
   "source": [
    "dsr = list(dict.fromkeys(sr2)) "
   ]
  },
  {
   "cell_type": "code",
   "execution_count": 738,
   "metadata": {},
   "outputs": [],
   "source": [
    "dsr.sort()"
   ]
  },
  {
   "cell_type": "code",
   "execution_count": 482,
   "metadata": {},
   "outputs": [],
   "source": [
    "u = srek.fixallnames(dsr)"
   ]
  },
  {
   "cell_type": "code",
   "execution_count": 693,
   "metadata": {},
   "outputs": [],
   "source": [
    "def ifhasname(x,dsr):\n",
    "    net=[]\n",
    "    for xs in x:\n",
    "        rec=[]\n",
    "        emcont = xs[0]\n",
    "        sndr = emcont[1]\n",
    "        to = emcont[2]\n",
    "        Cc = emcont[3]\n",
    "        for tos in to:\n",
    "            if tos != 'NOTO' and tos in dsr:\n",
    "                rec.extend(to)\n",
    "        rec.extend(to)\n",
    "        for Ccs in Cc:\n",
    "            if Ccs != 'NOCc' and Ccs in dsr:\n",
    "                rec.extend(Cc)\n",
    "        if sndr in dsr and sndr != 'NOSENDER':\n",
    "            for r in rec:\n",
    "                if r in dsr:\n",
    "                    new = (sndr,r)\n",
    "                    net.append(new)\n",
    "    net1=[]\n",
    "    for sr in net:\n",
    "        if sr[0] != sr[1]: #e.g. don't include Brad sending email to Brad\n",
    "            net1.append(sr)\n",
    "    len(net1)\n",
    "    return net1"
   ]
  },
  {
   "cell_type": "code",
   "execution_count": 694,
   "metadata": {},
   "outputs": [],
   "source": [
    "def printintxn(b):\n",
    "    netc = sre.freqsnames(b)\n",
    "    news = []\n",
    "    for tup in netc:\n",
    "        sr = tup[0]\n",
    "        f=tup[1]\n",
    "        new = str(sr[0] + '+' + sr[1] + '//' + str(f))\n",
    "        news.append(new)\n",
    "    newstr='\\n'.join(news)\n",
    "    return newstr"
   ]
  },
  {
   "cell_type": "code",
   "execution_count": 695,
   "metadata": {},
   "outputs": [],
   "source": [
    "c_all = getintxn(ifhasname(x,dsr))"
   ]
  },
  {
   "cell_type": "code",
   "execution_count": 696,
   "metadata": {},
   "outputs": [
    {
     "data": {
      "text/plain": [
       "'Collett, Joli+Wurfel, Brad//1\\nLachance, '"
      ]
     },
     "execution_count": 696,
     "metadata": {},
     "output_type": "execute_result"
    }
   ],
   "source": [
    "c_all[0:40]"
   ]
  },
  {
   "cell_type": "code",
   "execution_count": 697,
   "metadata": {},
   "outputs": [],
   "source": [
    "f = open(\"allintxns.txt\", \"w\")\n",
    "print(c_all,file=f)\n",
    "f.close()"
   ]
  },
  {
   "cell_type": "code",
   "execution_count": null,
   "metadata": {},
   "outputs": [],
   "source": [
    "# # # frequency over time historgram"
   ]
  },
  {
   "cell_type": "code",
   "execution_count": 698,
   "metadata": {},
   "outputs": [],
   "source": [
    "from datetime import datetime\n",
    "newts = []\n",
    "for xs in x:\n",
    "    e = xs[0]\n",
    "    ts = e[0]\n",
    "    if ts !='NOTIMESTAMP':\n",
    "        nts = datetime.utcfromtimestamp(ts).strftime('%Y-%m')\n",
    "        newts.append(nts)\n",
    "B=[]\n",
    "for moyr in newts:\n",
    "    ct = newts.count(moyr)\n",
    "    new = (moyr,ct)\n",
    "    if new not in B:\n",
    "        B.append(new)"
   ]
  },
  {
   "cell_type": "code",
   "execution_count": 384,
   "metadata": {},
   "outputs": [],
   "source": [
    "import csv\n",
    "with open('freqhist.csv', mode='w') as usd_file:\n",
    "        table = csv.writer(usd_file, delimiter=',', quotechar='\"', quoting=csv.QUOTE_MINIMAL)\n",
    "        for elem in B:\n",
    "            moyr = elem[0]\n",
    "            amt = elem[1]\n",
    "            table.writerow([moyr,amt])"
   ]
  },
  {
   "cell_type": "code",
   "execution_count": 386,
   "metadata": {},
   "outputs": [],
   "source": [
    "import uts\n",
    "j = uts.getUnixTS(emailstext)"
   ]
  },
  {
   "cell_type": "code",
   "execution_count": 399,
   "metadata": {},
   "outputs": [],
   "source": [
    "from datetime import datetime\n",
    "newtsj = []\n",
    "for ts in j:\n",
    "    if ts !='NOTIMESTAMP':\n",
    "        ts1 = int(ts)\n",
    "        nts = datetime.utcfromtimestamp(ts1).strftime('%Y-%m')\n",
    "        newtsj.append(nts)\n",
    "jo=[]\n",
    "for moyr in newtsj:\n",
    "    ct = newtsj.count(moyr)\n",
    "    new = (moyr,ct)\n",
    "    if new not in B:\n",
    "        jo.append(new)"
   ]
  },
  {
   "cell_type": "code",
   "execution_count": 407,
   "metadata": {},
   "outputs": [],
   "source": [
    "jo.sort()\n",
    "jo1=list(dict.fromkeys(jo))"
   ]
  },
  {
   "cell_type": "code",
   "execution_count": 408,
   "metadata": {},
   "outputs": [],
   "source": [
    "import csv\n",
    "with open('freqhist_dups.csv', mode='w') as usd_file:\n",
    "        table = csv.writer(usd_file, delimiter=',', quotechar='\"', quoting=csv.QUOTE_MINIMAL)\n",
    "        for elem in jo1:\n",
    "            moyr = elem[0]\n",
    "            amt = elem[1]\n",
    "            table.writerow([moyr,amt])"
   ]
  },
  {
   "cell_type": "code",
   "execution_count": null,
   "metadata": {},
   "outputs": [],
   "source": [
    "# # # data output for BC and DC graphs"
   ]
  },
  {
   "cell_type": "code",
   "execution_count": 700,
   "metadata": {},
   "outputs": [],
   "source": [
    "def ifhasname2(x,dsr):\n",
    "    net=[]\n",
    "    for xs in x:\n",
    "        rec=[]\n",
    "        emcont = xs[0]\n",
    "        sndr = emcont[1]\n",
    "        to = emcont[2]\n",
    "        Cc = emcont[3]\n",
    "        ts = emcont[0]\n",
    "        if ts !='NOTIMESTAMP':\n",
    "            nts = datetime.utcfromtimestamp(int(ts)).strftime('%Y-%m')\n",
    "            for tos in to:\n",
    "                if tos != 'NOTO' and tos in dsr:\n",
    "                    rec.extend(to)\n",
    "            rec.extend(to)\n",
    "            for Ccs in Cc:\n",
    "                if Ccs != 'NOCc' and Ccs in dsr:\n",
    "                    rec.extend(Cc)\n",
    "            if sndr in dsr and sndr != 'NOSENDER':\n",
    "                for r in rec:\n",
    "                    if r in dsr:\n",
    "                        new = ((sndr,r),nts)\n",
    "                        net.append(new)\n",
    "    net1=[]\n",
    "    for sr in net:\n",
    "        if sr[0] != sr[1]: #e.g. don't include Brad sending email to Brad\n",
    "            net1.append(sr)\n",
    "    len(net1)\n",
    "    return net1"
   ]
  },
  {
   "cell_type": "code",
   "execution_count": 641,
   "metadata": {},
   "outputs": [],
   "source": [
    "def printintxn2(netc):\n",
    "    news = []\n",
    "    for tup in netc:\n",
    "        sry = tup[0]\n",
    "        sr=sry[0]\n",
    "        f=tup[1]\n",
    "        new = str(sr[0] + '+' + sr[1] + \"!!\" + sry[1]+'//' + str(f))\n",
    "        news.append(new)\n",
    "    newstr='\\n'.join(news)\n",
    "    return news"
   ]
  },
  {
   "cell_type": "code",
   "execution_count": 701,
   "metadata": {},
   "outputs": [
    {
     "data": {
      "text/plain": [
       "[(('Jonas, Jill', 'Smith, Gerald'), '2011-01'),\n",
       " (('Jonas, Jill', 'Smith, Gerald'), '2011-01'),\n",
       " (('Tomlinson, Matt', 'Babcock, Robert'), '2011-01'),\n",
       " (('Tomlinson, Matt', 'Babcock, Robert'), '2011-01'),\n",
       " (('Tomlinson, Matt', 'Holmaquist, Dan'), '2011-01')]"
      ]
     },
     "execution_count": 701,
     "metadata": {},
     "output_type": "execute_result"
    }
   ],
   "source": [
    "ixnyr = ifhasname2(x,dsr)\n",
    "ixnyr[0:5]"
   ]
  },
  {
   "cell_type": "code",
   "execution_count": 702,
   "metadata": {},
   "outputs": [],
   "source": [
    "netc = []\n",
    "for item in ixnyr[0:50]:\n",
    "    ct = ixnyr.count(item)\n",
    "    lf0 = (item,ct)\n",
    "    netc.append(lf0)"
   ]
  },
  {
   "cell_type": "code",
   "execution_count": 739,
   "metadata": {},
   "outputs": [
    {
     "data": {
      "text/plain": [
       "[((('Jonas, Jill', 'Smith, Gerald'), '2011-01'), 4)]"
      ]
     },
     "execution_count": 739,
     "metadata": {},
     "output_type": "execute_result"
    }
   ],
   "source": [
    "netc = []\n",
    "for item in ixnyr:\n",
    "    ct = ixnyr.count(item)\n",
    "    lf0 = (item,ct)\n",
    "    netc.append(lf0)\n",
    "netc[0]"
   ]
  },
  {
   "cell_type": "code",
   "execution_count": 704,
   "metadata": {},
   "outputs": [],
   "source": [
    "r = printintxn2(netc)"
   ]
  },
  {
   "cell_type": "code",
   "execution_count": 705,
   "metadata": {},
   "outputs": [],
   "source": [
    "r2='\\n'.join(r)"
   ]
  },
  {
   "cell_type": "code",
   "execution_count": 706,
   "metadata": {},
   "outputs": [],
   "source": [
    "f = open(\"inxnmoyrs.txt\", \"w\")\n",
    "print(r2,file=f)\n",
    "f.close()"
   ]
  },
  {
   "cell_type": "code",
   "execution_count": 612,
   "metadata": {
    "scrolled": true
   },
   "outputs": [],
   "source": [
    "def ixn_yr(ixnyr,yr):\n",
    "    news=[]\n",
    "    for item in ixnyr:\n",
    "        sr_yr = item[0]\n",
    "        sry = item[0]\n",
    "        sr=sry[0]\n",
    "        f=item[1]\n",
    "        yract = (sr_yr[1])\n",
    "        if yract == yr:\n",
    "            new = str(sr[0] + '+' + sr[1] + '//' + str(f))\n",
    "            news.append(new)\n",
    "    ol = list(dict.fromkeys(news))\n",
    "    out = '\\n'.join(ol)\n",
    "    return out\n",
    "            \n",
    "            "
   ]
  }
 ],
 "metadata": {
  "kernelspec": {
   "display_name": "Python 3",
   "language": "python",
   "name": "python3"
  },
  "language_info": {
   "codemirror_mode": {
    "name": "ipython",
    "version": 3
   },
   "file_extension": ".py",
   "mimetype": "text/x-python",
   "name": "python",
   "nbconvert_exporter": "python",
   "pygments_lexer": "ipython3",
   "version": "3.5.3"
  }
 },
 "nbformat": 4,
 "nbformat_minor": 4
}
