{
 "cells": [
  {
   "cell_type": "code",
   "execution_count": 1,
   "metadata": {},
   "outputs": [],
   "source": [
    "import testmod\n",
    "import re\n",
    "from urllib import request"
   ]
  },
  {
   "cell_type": "code",
   "execution_count": 2,
   "metadata": {},
   "outputs": [],
   "source": [
    "f = open(\"allfilenames.txt\", \"r+\")\n",
    "deqsstr = f.read()\n",
    "\n",
    "s3_root = \"http://d1us66xhqwx73c.cloudfront.net/\"\n",
    "\n",
    "def getemails(deqslist):\n",
    "    emailstext = ''\n",
    "    for deq in deqslist:\n",
    "        url = s3_root + deq\n",
    "        response = request.urlopen(url)\n",
    "        raw_text = response.read().decode('utf8')\n",
    "        emailstext = \"\".join((raw_text, emailstext))\n",
    "    return emailstext\n"
   ]
  },
  {
   "cell_type": "code",
   "execution_count": 3,
   "metadata": {},
   "outputs": [],
   "source": [
    "deq01list = re.findall(\"deq01.b.*\", deqsstr)\n",
    "deq01 = ''.join(getemails(deq01list))"
   ]
  },
  {
   "cell_type": "code",
   "execution_count": 4,
   "metadata": {},
   "outputs": [],
   "source": [
    "deq02list = re.findall(\"deq02.b.*\", deqsstr)\n",
    "deq02 = ''.join(getemails(deq02list))"
   ]
  },
  {
   "cell_type": "code",
   "execution_count": 5,
   "metadata": {},
   "outputs": [],
   "source": [
    "deq03list = re.findall(\"deq03.b.*\", deqsstr)\n",
    "deq03 = ''.join(getemails(deq03list))"
   ]
  },
  {
   "cell_type": "code",
   "execution_count": 6,
   "metadata": {},
   "outputs": [],
   "source": [
    "deq04list = re.findall(\"deq04.b.*\", deqsstr)\n",
    "deq04 = ''.join(getemails(deq04list))\n",
    "deq09list = re.findall(\"deq09.b.*\", deqsstr)\n",
    "deq09 = ''.join(getemails(deq09list))"
   ]
  },
  {
   "cell_type": "code",
   "execution_count": 7,
   "metadata": {},
   "outputs": [],
   "source": [
    "deq10list = re.findall(\"deq10.b.*\", deqsstr)\n",
    "deq10 = ''.join(getemails(deq10list))\n",
    "deq11list = re.findall(\"deq11.b.*\", deqsstr)\n",
    "deq11 = ''.join(getemails(deq11list))\n",
    "deq12list = re.findall(\"deq12.b.*\", deqsstr)\n",
    "deq12 = ''.join(getemails(deq12list))\n",
    "deq14list = re.findall(\"deq14.b.*\", deqsstr)\n",
    "deq14 = ''.join(getemails(deq14list))"
   ]
  },
  {
   "cell_type": "code",
   "execution_count": 8,
   "metadata": {},
   "outputs": [],
   "source": [
    "deq15list = re.findall(\"deq15.b.*\", deqsstr)\n",
    "deq15 = ''.join(getemails(deq15list))\n",
    "deq16list = re.findall(\"deq16.b.*\", deqsstr)\n",
    "deq16 = ''.join(getemails(deq16list))\n",
    "deq17list = re.findall(\"deq17.b.*\", deqsstr)\n",
    "deq17 = ''.join(getemails(deq17list))"
   ]
  },
  {
   "cell_type": "code",
   "execution_count": 9,
   "metadata": {},
   "outputs": [],
   "source": [
    "deq18list = re.findall(\"deq18.b.*\", deqsstr)\n",
    "deq18 = ''.join(getemails(deq18list))\n",
    "deq19list = re.findall(\"deq19.b.*\", deqsstr)\n",
    "deq19 = ''.join(getemails(deq19list))\n",
    "deq20list = re.findall(\"deq20.b.*\", deqsstr)\n",
    "deq20 = ''.join(getemails(deq20list))"
   ]
  },
  {
   "cell_type": "code",
   "execution_count": 10,
   "metadata": {},
   "outputs": [],
   "source": [
    "deq21list = re.findall(\"deq21.b.*\", deqsstr)\n",
    "deq21 = ''.join(getemails(deq21list))\n",
    "deq24list = re.findall(\"deq24.b.*\", deqsstr)\n",
    "deq24 = ''.join(getemails(deq24list))\n",
    "deq25list = re.findall(\"deq25.b.*\", deqsstr)\n",
    "deq25 = ''.join(getemails(deq25list))"
   ]
  },
  {
   "cell_type": "code",
   "execution_count": 13,
   "metadata": {},
   "outputs": [],
   "source": [
    "def Bcc(deqemailstext):\n",
    "    x = re.findall(\"B[ec]c:.*\",deqemailstext)\n",
    "    return x\n",
    "def grabdescriptors(deqemailstext,deqlist):\n",
    "    print(\"\")\n",
    "    print(str(len(deqlist)) + \" text files\")\n",
    "    print(\"\")\n",
    "    print(str(len(testmod.getUnixTS(deqemailstext))) + \" total emails\")\n",
    "    print(str(len(testmod.getUnixTSnd(deqemailstext))) + \" unique emails\")\n",
    "    print(\"\")\n",
    "    print(str(len(testmod.listSubjects(deqemailstext))) + \" subject lines\")\n",
    "    print(\"\")\n",
    "    print(\"Bcc's found: \" + str(Bcc(deqemailstext)))\n",
    "    print(\"\")\n",
    "    testmod.descReceivers(deqemailstext)\n",
    "    print(\"\")\n",
    "    print(\"\")\n",
    "    testmod.descSenders(deqemailstext)"
   ]
  },
  {
   "cell_type": "code",
   "execution_count": 14,
   "metadata": {
    "scrolled": true
   },
   "outputs": [
    {
     "name": "stdout",
     "output_type": "stream",
     "text": [
      "DESCRIPTIVES:\n",
      "\n",
      "\n",
      "***deq1\n"
     ]
    },
    {
     "ename": "NameError",
     "evalue": "name 't' is not defined",
     "output_type": "error",
     "traceback": [
      "\u001b[0;31m---------------------------------------------------------------------------\u001b[0m",
      "\u001b[0;31mNameError\u001b[0m                                 Traceback (most recent call last)",
      "\u001b[0;32m<ipython-input-14-656d61716497>\u001b[0m in \u001b[0;36m<module>\u001b[0;34m\u001b[0m\n\u001b[1;32m      9\u001b[0m     \u001b[0;31m#t = len(testmod.getUnixTSnd(item[0]))\u001b[0m\u001b[0;34m\u001b[0m\u001b[0;34m\u001b[0m\u001b[0m\n\u001b[1;32m     10\u001b[0m     \u001b[0;31m#\u001b[0m\u001b[0;34m\u001b[0m\u001b[0;34m\u001b[0m\u001b[0m\n\u001b[0;32m---> 11\u001b[0;31m     \u001b[0mprint\u001b[0m\u001b[0;34m(\u001b[0m\u001b[0;34m\"num of unique emails: \"\u001b[0m \u001b[0;34m+\u001b[0m \u001b[0mstr\u001b[0m\u001b[0;34m(\u001b[0m\u001b[0mt\u001b[0m\u001b[0;34m)\u001b[0m\u001b[0;34m)\u001b[0m\u001b[0;34m\u001b[0m\u001b[0m\n\u001b[0m\u001b[1;32m     12\u001b[0m \u001b[0;34m\u001b[0m\u001b[0m\n\u001b[1;32m     13\u001b[0m     \u001b[0mgrabdescriptors\u001b[0m\u001b[0;34m(\u001b[0m\u001b[0mitem\u001b[0m\u001b[0;34m[\u001b[0m\u001b[0;36m0\u001b[0m\u001b[0;34m]\u001b[0m\u001b[0;34m,\u001b[0m\u001b[0mitem\u001b[0m\u001b[0;34m[\u001b[0m\u001b[0;36m1\u001b[0m\u001b[0;34m]\u001b[0m\u001b[0;34m)\u001b[0m\u001b[0;34m\u001b[0m\u001b[0m\n",
      "\u001b[0;31mNameError\u001b[0m: name 't' is not defined"
     ]
    }
   ],
   "source": [
    "listdeqst = [(deq01,deq01list,1),(deq02,deq02list,2),(deq03,deq03list,3),(deq04,deq04list,4),(deq10,deq10list,10),(deq11,deq11list,11),(deq12,deq12list,12),(deq14,deq14list,14),(deq15,deq15list,15),(deq16,deq16list,16),(deq17,deq17list,17),(deq18,deq18list,18),(deq19,deq19list,19),(deq20,deq20list,20),(deq21,deq21list,21),(deq24,deq24list,24),(deq25,deq25list,25),]\n",
    "#listdeqst = [(deq10,10),(deq11,11),(deq12,12),(deq14,14),(deq15,15),(deq16,16),(deq17,17),(deq18,18),(deq19,19),(deq20,20)]\n",
    "print(\"DESCRIPTIVES:\")\n",
    "for item in listdeqst:\n",
    "    print(\"\")\n",
    "    print(\"\")\n",
    "    print(\"***deq\" + str(item[2]))\n",
    "    \n",
    "    #t = len(testmod.getUnixTSnd(item[0]))\n",
    "    #\n",
    "    print(\"num of unique emails: \" + str(t))\n",
    "    \n",
    "    grabdescriptors(item[0],item[1])\n",
    "\n"
   ]
  },
  {
   "cell_type": "code",
   "execution_count": null,
   "metadata": {},
   "outputs": [],
   "source": []
  },
  {
   "cell_type": "code",
   "execution_count": 273,
   "metadata": {
    "scrolled": true
   },
   "outputs": [
    {
     "name": "stdout",
     "output_type": "stream",
     "text": [
      "all receivers for deqs:\n",
      "[('Donahue, Lisa', 1), ('Poy, Mlguel', 1), ('Premoe, Tara', 1), ('Mason, Kim', 1), ('heien, Mary', 1), ('Leaviit, Andy', 1), ('Wunderlich, Cathrine', 1), ('Coger, Jim', 1), ('Stevenson, Pamela', 1), ('Kletke, Malcolm', 1), ('Butier, Sonya', 1), ('Howard, Natzke', 1), ('Muchmore, Denms', 1), ('Sprague, Megan', 1), ('Aronoff, Lori', 1), ('Barnard, Vicki', 1), ('cityofflint,com', 1), ('shaler, Karen', 1), ('er, Jean', 1), ('Lausted, Andrew', 1), ('Wallling, Dayne', 1), ('Swenor, Scott', 1), ('Supply, Water', 1), ('Clement, Robert', 1), ('Howell, Sherri', 1), ('Sygo, Ir', 1), ('Larry, Osborn', 1), ('Cline, Richard', 1), ('Pat, Cook', 1), ('Crumly, Mike', 1), ('Devereaux, Ir', 1), ('Phillp, Kria', 1), ('Dewan, Maura', 1), ('Hansen, Jeif', 1), ('Andrea, Porter', 1), ('Philp, Kris', 1), ('Jury, Michael', 1), ('Murphy, Hizabeth', 1), ('je, Bi', 1), ('Fanson, Shelly', 1), ('Smith, Shelkter', 1), ('Rivard, Lynn', 1), ('genesee, mi', 1), ('PFortin, Denise', 1), ('Busch, Robert', 1), ('ooney, Carolyn', 1), ('Raysin, Malt', 1), ('Koenlg, Sandle', 1), ('Shekter, Liane', 1), ('Anderson, Beth', 1), ('Devereaux, I', 1), ('Hudak, John', 1), ('Cross, Benjamin', 1), ('BRosenthal, Adam', 1), ('Clavton, Stacie', 1), ('Rose, Joan', 1), ('Dettweller, Dan', 1), ('Muchmore, Dennlis', 1), ('EPA, Darren', 1), ('sShaler, Karen', 1), ('Elm, Brennan', 1), ('Brown, Gary', 1), ('Watson, Sam', 1), ('Gregg, Michael', 1), ('Browne, Hlizabeth', 1), ('Edelstein, Nationat', 1), ('EPA, Janet', 1), ('Sales, Nationat', 1), ('Shatler, Karen', 1), ('ore, Devms', 1), ('Reichert, Anna', 1), ('Collett, Jolt', 1), ('Bush, Dennis', 1), ('Croft, Marc', 1), ('Patterson, Paul', 1), ('Adams, Darryl', 1), ('Estes, Stephen', 1), ('Monosmith, Carrle', 1), ('Staff, Division', 1), ('us, Jamie', 1), ('Phiiip, Kris', 1), ('Hendrickson, Cindy', 1), ('Deltoral, Miguet', 1), ('Kilby, Kevin', 1), ('Sulllvan, Laura', 1), ('Swift, April', 1), ('Manolakoudis, Virginia', 1), ('Lin, Jing', 1), ('Jones, Stacy', 1), ('Wiilard, Veronica', 1), ('Smith, Lameka', 1), ('Carolan, Margaret', 1), ('Burdick, Melanie', 1), ('epa,.state', 1), ('Tommasulo, Kriszti', 1), ('Kim, William', 1), ('Krisztian, G', 1), ('Krisztian, Ceorge', 1), ('Ostund, Peter', 1), ('Blazic, Ryan', 1), ('Sarkipato, Ernest', 1), ('Kildee, Congressman', 1), ('Biayer, Steve', 1), ('Dan, Wyant', 1), ('Doli, Jeanette', 1), ('Bell, Aaron', 1), ('Muxlow, Paul', 1), ('Gordon, Clifford', 1), ('Flelds, Maggie', 1), ('North, Bill', 1), ('Groetsch, Kary', 1), ('Division, Wafter', 1), ('Darren, Lytle', 1), ('Smilh, Snekier', 1), ('Hess, Emer', 1), ('Gravilin, Mike', 1), ('Godin, Kevin', 1), ('Robetts, Virginia', 1), ('vanOtteren, Bruce', 1), ('Hayter, Scott', 1), ('Laura, Smlth', 1), ('Wagner, Bobert', 1), ('Neeley, Sheidon', 1), ('Gaskin, Jamle', 1), ('NDevereaux, Tracy', 1), ('Kay, Mary', 1), ('Brader, Valerle', 1), ('Martinez, Isidra', 1), ('Damico, Brian', 1), ('Thurston, Brian', 1), ('Corporation, Community', 1), ('Susan, Hedman', 1), ('TIwenter, Lisa', 1), ('McKinnon, Ike', 1), ('Bosserd, Chris', 1), ('michigan, gr', 1), ('Bashore, Matthew', 1), ('Trial, Larry', 1), ('Smith, l', 1), ('Rice, Jim', 1), ('Karen, Ir', 1), ('Lee, Ie', 1), ('Krlsztlan, George', 1), ('Laurle, Rospond', 1), ('Eric, Burneson', 1), ('Benne, Richard', 1), ('Laughlin, Theresa', 1), ('Doak, James', 1), ('Yorce, Susan', 1), ('Cray, Jennifer', 1), ('JTwenter, Lisa', 1), ('Rasso, Mark', 1), ('EPA, Andrea', 1), ('Whittier, Nick', 1), ('Hertel, Eizabeth', 1), ('Fulcher, Jerry', 1), ('gov, repphelps', 1), ('Orr, Kevyn', 1), ('White, Ridgway', 1), ('Devereauz, Tracy', 1), ('Cox, Maggie', 1), ('EPA, Nicholas', 1), ('Burr, Richard', 1), ('Angela, Dempkowskl', 1), ('Rhoads, William', 1), ('Wallling, Mayor', 1), ('Wilson, Jamie', 1), ('Schooley, Angie', 1), ('Customers, Wholesala', 1), ('Jones, Althea', 1), ('Lashert, Geralyn', 1), ('Creech, Thomas', 1), ('Conradson, Scott', 1), ('Rallone,‘Maggle', 1), ('Coleman, Mark', 1), ('Benoit, Dennis', 1), ('e, Richard', 1), ('fel, Brad', 1), ('Varricchione, Jeffrey', 1), ('Hertel, EI', 1), ('Busz, Rick', 1), ('Balrd, Richard', 1), ('Info, Webcast', 1), ('Treasurer, State', 1), ('Stock, Jack', 1), ('Sanker, Leyla', 1), ('Kneibel, Mark', 1), ('Dunleavy, Sean', 1), ('Murray, Maxijne', 1), ('Smith, Shekber', 1), ('Dennis, Muchmore', 1), ('Bade, Peter', 1), ('Creagh, K', 1), ('ith, Carrie', 1), ('EPA, Amanda', 1), ('Ho, Gaskln', 1), ('Buisch, Stephen', 1), ('Brandt, Patricia', 1), ('Arduin, Megan', 1), ('Senior, Park', 1), ('Olson, Jennifer', 1), ('Hovey, Andy', 1), ('Fields, Maggle', 1), ('Busch, Sepher', 1), ('Veronica, Wlllard', 1), ('idem,in', 1), ('Lachance, Amv', 1), ('Guasteila, David', 1), ('Devereau, Tracy', 1), ('Berner, Ted', 1), ('Camacho, Amy', 1), ('Maloney, Brenda', 1), ('Helm, Erik', 1), ('Quealy, Erica', 1), ('Bartley, Chery', 1), ('Bosales, Manny', 1), ('Custaomers, Wholesale', 1), ('Dailey, Daniel', 1), ('Grenier, Mike', 1), ('Fultz, Christopher', 1), ('Gilday, William', 1), ('Campbeli, Matthew', 1), ('Phllip, Kris', 1), ('Lytle,Darren', 1), ('Khoury, Valerie', 1), ('Speth, Thomas', 1), ('Butler, Socnya', 1), ('Brubaker, Sonia', 1), ('com, kboles', 1), ('Dunlevy, Robert', 1), ('Flegler, Earl', 1), ('lan, Susan', 1), ('Cock, Pat', 1), ('Williford, Patrick', 1), ('Denaldson, Kristina', 1), ('Headen, Frederick', 1), ('Novak, Robin', 1), ('ennedy, Jordan', 1), ('Smith, Shakier', 1), ('Shalar, Karep', 1), ('Stuever, Beth', 1), ('Sue, Medl', 1), ('Sygo, Jm', 1), ('Oosting, Jonathan', 1), ('Hoeh, Jeremy', 1), ('org, Boyer', 1), ('Eberhardt, Roger', 1), ('Alwan, Al', 1), ('Rusch, Sepnen', 1), ('Maynard, David', 1), ('Bertram, Kaitlyn', 1), ('Davies, Susan', 1), ('Prysby, Ir', 1), ('Montgomery, Delores', 1), ('Spitzley, Christine', 1), ('Hend, Natasha', 1), ('Shekiar, Jean', 1), ('Dapolito, Alexandra', 1), ('Rosenthal, Adars', 1), ('Wurfej, Brad', 1), ('Case, Roberf', 1), ('Wright, Mtchael', 1), ('Wurfei, Brad', 1), ('Lawrence, Deana', 1), ('Lack, Bruce', 1), ('Amanda, Druanne', 1), ('Mehan, Tracy', 1), ('crooks,jennifer', 1), ('Smith, wiane', 1), ('Willemin, John', 1), ('gov, Shekter', 1), ('Devine, Christina', 1), ('Shoven, tleather', 1), ('Rosenthal, Adar', 1), ('Crooks, lennifer', 1), ('Koenlg, MlcheIIe', 1), ('Crocks, Jennifer', 1), ('Earl, Carlita', 1), ('Trumble, Luke', 1), ('flintschools,org', 1), ('Confer, Karen', 1), ('Bakker, Gerry', 1), ('Dyvkema, Linda', 1), ('Okeefe, Colleen', 1), ('County, Genesee', 1), ('Wallmg, Dayne', 1), ('Croft, Prysby', 1), ('Langiry, Rebecca', 1), ('Miuchmore, Dennis', 1), ('BRobinson, Mikelle', 1), ('Lundquist, Jody', 1), ('CGraham, Lois', 1), ('Smith, Liapns', 1), ('Suero, Maryann', 1), ('Leavltt, Andy', 1), ('Pheips, Phillip', 1), ('ggdwm, John', 1), ('Ostrander, Debble', 1), ('Feuersteir, Heather', 1), ('mmm, Brent', 1), ('Greer, Linda', 1), ('BaIIard, Bonnlfer', 1), ('Ambrose, Jerry', 1), ('Gaskin, Hoimes', 1), ('Mroczkowski, Kenneth', 1), ('Rater, Tim', 1), ('Kukuk, Wayne', 1), ('Carter, Larry', 1), ('REQY, Hanry', 1), ('Corona, Elizabeth', 1), ('lp, Kris', 1), ('mf,higer', 1), ('Heather, Feuerstem', 1), ('Cousineay, Sara', 1), ('Sage, Catherine', 1), ('Nast, Conde', 1), ('Madziat, Joseph', 1), ('ohnson, Mark', 1), ('Robert, Kaplan', 1), ('Bemdt, Jason', 1), ('en, Mary', 1), ('Carlson, Deborah', 1), ('Flickinger, Brian', 1), ('Bollman, John', 1), ('nith, Lian', 1), ('Dykema, Lmda', 1), ('Rospond, Laurie', 1), ('Wickham, Tom', 1), ('Manager, Development', 1), ('Mary, Thelen', 1), ('Leavitt, Marc', 1), ('Glowinski, Mike', 1), ('Palmer, Michele', 1), ('Hovey, Anthony', 1), ('Bymne, Randall', 1), ('Lee, Micheiie', 1), ('Holmquist, Dan', 1), ('Slater, Brad', 1), ('McEwan, Jim', 1), ('Davis, Matt', 1), ('Couture, Anne', 1), ('Groetsch, Koty', 1), ('Dilion, Andy', 1), ('Adam, Rosenthal', 1), ('Hollins, Hawey', 1), ('Aimar, Jennifer', 1), ('Margolis, Lizabeth', 1), ('Miller, Kelly', 1), ('Andorfer, Bob', 1), ('KOONTZ, CAROLYN', 1), ('Plant, Water', 1), ('Karcher, Janice', 1), ('Murtay, David', 1), ('Context, Global', 1), ('Deiltoral, Miguel', 1), ('michizan, guw', 1), ('Garner, Emily', 1), ('Zohnson, Daugherty', 1), ('gov, CLARK', 1), ('Bohr, Joseph', 1), ('ichigan, gov', 1), ('Wright, Dayne', 1), ('Paciorek, Josh', 1), ('Wood, Monaca', 1), ('Murray, Dave', 1), ('Ray, Patricia', 1), ('Palagian, Evangelia', 1), ('Wygant, Adam', 1), ('Reveraaux, Tracy', 1), ('Suero, Mary', 1), ('Boaid, Advisory', 1), ('Thomas, Les', 1), ('org, jboyer', 1), ('Glaseow, Michael', 1), ('Flores, Benita', 1), ('ins, Harvey', 1), ('Suzanne, Schafer', 1), ('Pallone, Ir', 1), ('Steve, Blayer', 1), ('Wood, Lev', 1), ('Hazan, Stan', 1), ('Murphy, Ellzabeth', 1), ('Eyer, Tamara', 1), ('Richards, Colin', 1), ('Levengood, Tom', 1), ('Wintz, Carla', 1), ('Chrlstensen, Chris', 1), ('Colston, Leslie', 1), ('Karen, Shaler', 1), ('Mc, Greg', 1), ('Fausone, J', 1), ('Nancy, Grijalva', 1), ('Tang, Min', 1), ('Davis, Katrinell', 1), ('Reck, Diane', 1), ('Schaibly, Barbara', 1), ('Wyant,.Dan', 1), ('Henry, Jason', 1), ('Rennaker, Joa', 1), ('Ayers, Thomas', 1), ('Green, Wartren', 1), ('Pascoe, Doug', 1), ('Ferritto, James', 1), ('Buach, Stephen', 1), ('Lee, Michelie', 1), ('Hansen, Rachel', 1), ('Holmaquist, Dan', 1), ('Pleper, Julia', 1), ('Gardner, Kathleen', 1), ('edwardsm, George', 1), ('Schwarz, Peter', 1), ('Steudle, Kirk', 1), ('Crooks, Jennier', 1), ('Darman, Leslie', 1), ('Robinson, Felecla', 1), ('Deltoral, Mlguel', 1), ('Doyle, Ryan', 1), ('Walsh, John', 1), ('Spaulding, William', 1), ('Survey, Needs', 1), ('Tommasulg, Karen', 1), ('Hanna, Mona', 1), ('Mantha, Anurag', 1), ('Emerson, Danielle', 1), ('michigan,.gov', 1), ('Oparka, Dean', 1), ('Deltorat, Miguel', 1), ('Schinderie, Jack', 1), ('nof, waemyrdwnem', 1), ('Franzblau, Alfred', 1), ('Boushon, Lee', 1), ('Snyder, Governor', 1), ('Feuerstein, Heatner', 1), ('Tommasulo, Katen', 1), ('Irvmg, Cynthia', 1), ('Kaplan,Robert', 1), ('Montysko, Michael', 1), (\"Lorenz'Iga, Jason\", 1), ('Bettaso, James', 1), ('Bincsik, Rob', 1), ('Smith, Brian', 1), ('Bouvy, Mark', 1), ('Morgan, Mary', 1), ('shane, Kirby', 1), ('Debruvn, Dana', 1), ('Walters, Kevin', 1), ('Dingman, Jennifer', 1), ('Buckfire, Ken', 1), ('Hamel, Daniel', 1), ('Walllng, donna', 1), ('Crouse, Roger', 1), ('Hal, Ben', 1), ('Johnson, Daugherly', 1), ('Cantilli, Robert', 1), ('Felton, Ryan', 1), ('Iohnson, Daugberty', 1), ('Monosmith, Came', 1), ('Arwood, Steve', 1), ('lal, Adam', 1), ('Hedier, David', 1), ('Transition, Receivership', 1), ('Letner, Mary', 1), ('Etue, Kriste', 1), ('Klann, Rhonda', 1), ('Rosenthal, Adamn', 1), ('Dillon, State', 1), ('Jacob, Jamie', 1), ('Knsztlan, George', 1), ('Wisnlewski, Wendy', 1), ('Mever, Cheri', 1), ('Holdwick, Kevin', 1), ('Kinney, Deana', 1), ('All, Lansing', 1), ('Rater, Mike', 1), ('Masterson, Mike', 1), ('Barger, Kristin', 1), ('Boyle, Wade', 1), ('Monosmith, Carne', 1), ('Crable, John', 1), ('Roth, David', 1), ('Parisien, Lia', 1), ('Babcock, Amy', 1), ('HoImes, V', 1), ('Smith, Erich', 1), ('Fortin,Denise', 1), ('Edelstein, Michael', 1), ('Dennis, Derrick', 1), ('Walltng, Dayne', 1), (\"Wright'Walling, Brent\", 1), ('th, Liane', 1), ('Bartlett, Janice', 1), ('Wilson, Gary', 1), ('gmail,com', 1), ('Arduln, Jim', 1), ('Dee, Rhiannhon', 1), ('Wallmg, donna', 1), ('Mlller, Mark', 1), ('Qaqish, Awni', 1), ('Walczak, Joe', 1), ('Chester, Steven', 1), ('Rizzo, George', 1), ('Brown, Mariann', 1), ('District, Lansing', 1), ('Gindelberger, Jim', 1), ('Emington, Ann', 1), ('Via, Steve', 1), ('Clayton, Stacle', 1), ('Smith, L', 1), ('Craoks, Jennifer', 1), ('Erin, Renna', 1), ('Reinsch, Paul', 1), ('Smith, Liapa', 1), ('Jennifer, Crooks', 1), ('EPA, Rita', 1), ('Chamberlain, William', 1), ('Kirisztian, George', 1), ('Hanaburgh, Christine', 1), ('Damato, N', 1), ('reuerstein, Heather', 1), ('Thelqn, Many', 1), ('Wlsely, John', 1), ('Deyoung, David', 1), ('Daniels, Carla', 1), ('Paltone, Maggie', 1), ('Kammer, Stephanle', 1), ('Hawes, Mary', 1), ('Muchmore, Pennis', 1), ('Amtz, Rence', 1), ('Crouse, Boger', 1), ('Barr, Jacqm', 1), ('Qagish, Awn', 1), ('Merrick, Ann', 1), ('Hardigan, Carrie', 1), ('Syqgo, Jim', 1), ('Managers, Field', 1), ('Beckmann, Renna', 1), ('Bartiey, Cheryl', 1), ('Jaafari, Maher', 1), ('Oakes, Julie', 1), ('Bruneau, Michelie', 1), ('Kory, Groetsch', 1), ('Maita, Samir', 1), ('Smith, Sheiter', 2), ('Worthington, David', 2), ('Creen, Kelly', 2), ('Sampled, Date', 2), ('News, Evening', 2), ('Portef, Andrea', 2), ('Eryaby, Mike', 2), ('Blliott, Larry', 2), ('Cushman, Hillary', 2), ('Pocan, Eric', 2), ('Ackley, Martin', 2), ('Juhasz, Michael', 2), ('Vig, Steve', 2), ('Karmo, George', 2), ('McGarry, Sean', 2), ('Crane, Paul', 2), ('Golder, Edward', 2), ('Community, Senior', 2), ('Bart, sacqui', 2), ('Collett, Joli', 2), ('Rosenthai, Adam', 2), ('Tommasuilo, Karen', 2), ('Grochowski, Bryan', 2), ('org, Bover', 2), ('Smith, Shelter', 2), ('Reinke, Joseph', 2), ('Raysin, Matthew', 2), ('Balyasi, Stephanie', 2), ('Terrill, Jennifer', 2), ('Schleusener, Paul', 2), ('Phillips, David', 2), ('Smith, Snekter', 2), ('Ambrose, Cerald', 2), ('Sygo, Jlim', 2), ('Barden, Tim', 2), ('Campbell, Mary', 2), ('Gilman, Azure', 2), ('Bentie, Richard', 2), ('Chugis, Th', 2), ('White, Russ', 2), ('Vega, Dave', 2), ('Esparsa, Brian', 2), ('waurfel, Brad', 2), ('Porter, Andres', 2), ('Rick, Governor', 2), ('Stewart, Dale', 2), ('Beck, Diane', 2), ('epa,state', 2), ('Guy, Steve', 2), ('sShane, Kirby', 2), ('DiBernardo, Michael', 2), ('Park, Im', 2), ('michigan, gov', 2), ('Mayor, Hint', 2), ('Forbes, Cindy', 2), ('Farrell, Chris', 2), ('Salvatore, John', 2), ('Krisziian, George', 2), ('Benjamin, Kara', 2), ('Kasprzak, Jim', 2), ('Eisher, Brant', 2), ('Lawson, Autumn', 2), ('Marshall, Stephen', 2), ('Lindsay, Barbara', 2), ('donna, cole', 2), ('Renterla, Sylvia', 2), ('Sydo, Jim', 2), ('Pov, Thomas', 2), ('Debbie, Senator', 2), ('Phan, Lee', 2), ('Residents, The', 2), ('Scott, Robert', 2), ('DEQY, Busch', 2), ('Blakely, Matthew', 2), ('Noechel, Jeanette', 2), ('Stoken, Laura', 2), ('com, jobrien', 2), ('Deveregux, Tracy', 2), ('Bysko, Richard', 2), ('Henty, James', 2), ('Hentry, James', 2), ('Ellison, Melanie', 2), ('Phelps, Rep', 2), ('Modelski, Bryan', 2), ('Metzgar, Deborah', 2), ('Jansen, Dave', 2), ('Lai, George', 2), ('peeler, Nancy', 2), ('McCauley, Sara', 2), ('Byrne, BRandall', 2), ('Deitoral, Miguel', 2), ('Wordelman, Steven', 2), ('Spangler, Todd', 2), ('Mccarthy, Gina', 2), ('Hertel, Hizabeth', 2), ('Greene, Tony', 2), ('Duprie, Harold', 2), ('Hess, ElImer', 2), ('Cain, Carol', 2), ('Henderson, Henry', 2), ('Fox, Steve', 2), ('Van, Kevin', 2), ('Brooks, Charlie', 2), ('Swanson, Eric', 2), ('Beth, Maty', 2), ('Redding, Jim', 2), ('Cook, Dave', 2), ('Miller, Marc', 2), ('Thelen, Maty', 2), ('Smalley, Liz', 2), ('Simons, Holly', 2), ('Suma, Joe', 2), ('Taubitz, Michael', 2), ('Deltoral, Migue', 2), ('Henney, Autumn', 2), ('Kelley, Jeff', 2), ('Taft, James', 2), ('Robert, Carla', 2), ('Macaluso, Nora', 2), ('Yeiton, Lori', 2), ('Doyle, Mark', 2), ('Harrington, Braden', 2), ('Julien, Tom', 2), ('Disessa, William', 2), ('Stucker, Robert', 2), ('Sfucker, Bob', 2), ('Administrative, First', 2), ('Steglitz, Brian', 2), ('Birchmeier, Norbert', 2), ('Granger, Patricia', 2), ('Seiden, Barry', 2), ('Vanderstel, Joe', 2), ('Brien, Beth', 2), ('DeBruler, Carl', 2), ('Ellis, Jerry', 2), ('Eryapy, Mike', 2), ('Bioemker, Jon', 2), ('Johnson, Timothy', 2), ('Boase, Karen', 2), ('Kristina, Donald', 2), ('Camp, Don', 2), ('Christ, Lisa', 2), ('Dusenbery, Darren', 2), ('Seaks, Lynn', 2), ('Ostiund, Peter', 2), ('Kuefier, Janet', 2), ('Grevatt, Peter', 2), ('Mankel, Tamara', 2), ('Moon, Jason', 2), ('Taylor, Helen', 2), ('Anderson, Madbu', 2), ('Frank, Nancy', 2), ('Sygo, J', 2), ('Pluta, Rick', 2), ('Pingel, Dave', 2), ('Benton, Timothy', 2), ('Banzig, Hichard', 2), ('Langtry, Rebecca', 2), ('Gaskin, Holmes', 2), ('Erlandson, Janet', 2), ('Hoffman, Mark', 2), ('Hausler, Jeanne', 2), ('Shekier, Jean', 2), ('Heaton, Sylvia', 2), ('Husch, Staphen', 2), ('Weiss, Kurt', 2), ('Innes, Jim', 2), ('com, diansen', 2), ('Walser, D', 2), ('Kunkel, Barbara', 2), ('Hartwell, Helen', 2), ('Deveraaux, Tracy', 2), ('Henzis, Bichard', 2), ('Thompson, Sheryl', 2), ('Graviin, Mike', 2), ('Gaskln, Jamle', 2), ('Remus, Matt', 2), ('Euach, Stepnen', 2), ('Cole, Donna', 2), ('Sorek, Dan', 2), ('Van, Jim', 3), ('Bengzie, Richard', 3), ('Guastella, David', 3), ('Holmes, V', 3), ('Johnson, M', 3), ('Anderson, Arlene', 3), ('Chris, Chrlstensen', 3), ('Bartley, Bruce', 3), ('Health, Environmental', 3), ('michigan,gov', 3), ('Phillp, Kris', 3), ('Vanderiaan, Mary', 3), ('Madzlar, Joseph', 3), ('July, Jori', 3), ('Koenigsknecht, John', 3), ('Gadis, David', 3), ('Hart, Nancy', 3), ('Egan, Paul', 3), ('Yoon, Hae', 3), ('Bush, Steve', 3), ('Bockefeller, Cheryl', 3), ('Wvant, Dan', 3), ('DeBruvn, Dana', 3), ('Jenifier, Jamie', 3), ('Howard, Gaskln', 3), ('Lao, Al', 3), ('Brown, Eigar', 3), ('Poke, Irvin', 3), ('King, Kevin', 3), ('Casey, Steve', 3), ('Lee, Timothy', 3), ('Rustem, William', 3), ('Dorcy, Kristofer', 3), ('Earley, Darnell', 3), ('Miller, Warren', 3), ('Tawwab, Bllal', 3), ('Daniels, Lisa', 3), ('Fairchild, Kathleen', 3), ('Office, Executive', 3), ('Jordan, Dickinson', 3), ('Goodheart, James', 3), ('Cote, Druanne', 3), ('Gadola, Michael', 3), ('Parker, Tim', 3), ('Reising, William', 3), ('Drinking, Community', 3), ('Croft, Gerald', 3), ('Comment, Brad', 3), ('Berry, Deidre', 3), ('Gasper, Kirsten', 3), ('Kreiger, Carolyn', 3), ('Bergstrom, Carolyn', 3), ('Reiter, Mike', 3), ('Mikulec, Allison', 3), ('Bodnar, Brent', 3), ('Leavitt, Brent', 3), ('Lytie, Darren', 3), ('Miller, Bob', 3), ('Averill, James', 3), ('Porter, Cheryl', 3), ('Schrantz, Phil', 3), ('Pallone, Magqgie', 3), ('Financial, Emergency', 3), ('Holland, Alana', 3), ('Jeffries, Ellen', 3), ('Carrington, David', 3), ('Boom, Tom', 3), ('Kolhoff, Thomas', 3), ('Cronk, Kip', 3), ('Lynn, Mary', 3), ('Delgrosso, Kathi', 3), ('Detiweiler, Dan', 3), ('Maloney, Damon', 3), ('Shook, Kari', 3), ('Ploehn, Kelly', 3), ('Hotline, Water', 3), ('Croft, kboles', 3), ('Schmidt, Scott', 3), ('Rauch, Randy', 3), ('Mullins, Julie', 3), ('Tkaczyk, Judy', 3), ('Rothstein, Eric', 3), ('Heinze, Kirk', 3), ('Arntz, Renee', 3), ('Roost, Randy', 3), ('Bobinson, Mikelle', 3), ('Gelisse, Ashley', 3), ('Betr, Mary', 3), ('Bishop, Heather', 3), ('Freeman, Joshua', 3), ('smith, Liane', 3), ('Porter, Andtea', 3), ('Ackerman, Darin', 3), ('Ketola, Karlene', 3), ('Christensen, Chris', 3), ('Dionne, Aaron', 3), ('Brown, Melanie', 3), ('Downing, Jane', 3), ('Le, Jim', 3), ('Patrick, Shawn', 3), ('Cleary, Mary', 3), ('Matthews, Chip', 3), ('Schalow, Michele', 3), ('Jim, Senator', 4), ('Batterman, Stuart', 4), ('net, wnem', 4), ('Johnson, Eric', 4), ('Smlth, Shekter', 4), ('Neeley, Rep', 4), ('Burgess, Louis', 4), ('Klein, Jeremy', 4), ('Hagler, Gary', 4), ('Eggert, David', 4), ('com, news', 4), ('HelpDesk, Wellogic', 4), ('Raskin, Lutgarde', 4), ('Hazelton, Jennifer', 4), ('Drinking, Safe', 4), ('Kohlhepp, Amy', 4), ('Dirasian, Natalie', 4), ('Mooney, Albert', 4), ('Cordill, Todd', 4), ('Sheldon, Rep', 4), ('Hall, Jean', 4), ('Jensen, Donna', 4), ('Walstrom, Kimberly', 4), ('Brad, Wurfel', 4), ('Keiper, William', 4), ('Pryvsby, Mike', 4), ('com, GCHD', 4), ('Mayor, Aint', 4), ('Gohlke, Holly', 4), ('Schollhamer, Mary', 4), ('Irving, Cynthia', 4), ('Bielanski, Andrew', 4), ('Goldschmidt, Allan', 4), ('Mays, Melissa', 4), ('Johnson, Bentley', 4), ('Gliha, Lori', 4), ('Kanclerz, Jacob', 4), ('Spielberg, John', 4), ('Moritz, William', 4), ('Schafer, Suzanne', 4), ('Phil, Rep', 4), ('Protection, Environmental', 4), ('Hollingsworth, Mary', 4), ('Rivard, Mitchell', 4), ('Harkins, Chris', 4), ('Einhardt, Nancy', 4), ('Mc, Sue', 4), ('Pattwell, Michael', 4), ('Sporer, Bonita', 4), ('Meinz, Lynnette', 4), ('Horgan, Mark', 4), ('Finnell, Emily', 4), ('Phillips, Brian', 4), ('Johnson, James', 4), ('Adams, Dominic', 4), ('Walllng, Lawrence', 4), ('Knoll, Marcy', 4), ('Bahrou, Andrew', 4), ('Ann, Mary', 4), ('com, flnews', 4), ('Del, Brun', 4), ('Loop, Travis', 4), ('Joseph, Susan', 4), ('Speidel, Carin', 4), ('Smith, Snekier', 4), ('Smith, Sheider', 4), ('Hansen, Ron', 4), ('West, Samantha', 4), ('Reynolds, Andy', 4), ('Carmody, Stephen', 5), ('Barr, Carrie', 5), ('Bridges, Jeriesha', 5), ('Carbo, Maria', 5), ('Leece, James', 5), ('Petrovich, Jaime', 5), ('Neeley, Sheldon', 5), ('Mose, Sandi', 5), ('LaRocco, Toni', 5), ('Deltoral, Miguei', 5), ('Marie, Julia', 5), ('Schneider, Robert', 5), ('Johnson, Stephanie', 5), ('Fausone, James', 5), ('Drake, Wendy', 5), ('Clendenon, Cynthia', 5), ('Reichel, Robert', 5), ('Goodhall, Mary', 5), ('Hall, Ben', 5), ('Pattwell, Mike', 5), ('Roserthai, Adam', 5), ('Hunter, Bill', 5), ('Jones, Lynda', 5), ('Winegard, Mike', 5), ('Sikkema, Ken', 5), ('Kay, Sandi', 5), ('DAnglada, Lesley', 5), ('Holland, Meegan', 5), ('Roberts, Virginia', 5), ('CARROLL, PAT', 5), ('Sampson, Jeremy', 5), ('Davis, Donna', 5), ('Custodio, Theresa', 5), ('Philip, Kristen', 5), ('Hess, Elmer', 5), ('Weaver, Cynthia', 5), ('Smith, Shektar', 5), ('Winkler, Cecelia', 5), ('Roskoskey, Duane', 5), ('Gargano, Julia', 5), ('Olmstead, Crystal', 5), ('Hess, EImer', 5), ('Mail, All', 5), ('Re, Paul', 5), ('Deming, Susan', 5), ('Walllng, Dayne', 5), ('Pohl, Allan', 5), ('Chuhran, Laura', 5), ('Rusz, Rick', 5), ('Castro, Jeff', 5), ('Nikitin, Mary', 6), ('Allard, Claire', 6), ('Sygo, Jlm', 6), ('Bedan, Morgan', 6), ('Wildfang, Eric', 6), ('Fiedler, Jay', 6), ('Carpenter, Joe', 6), ('Lundy, Gregg', 6), ('Posthumus, Dick', 6), ('Connors, Paul', 6), ('Alexander, Eric', 6), ('Alexander, Richard', 6), ('Mims, Kathy', 6), ('Yocum, William', 6), ('English, Annette', 6), ('Brownfield, Michael', 6), ('Freeman, Rick', 6), ('McDermott, Kristine', 6), ('Murray, Maxine', 6), ('Bitely, Andrea', 6), ('Taylor, Deb', 6), ('Seymour, Veronica', 6), ('Howard, Donna', 6), ('Glowacki, Joanna', 6), ('Newell, Ann', 6), ('Gaskln, Jamie', 6), ('Rosales, Manny', 6), ('Eades, Cassaundra', 6), ('Harrison, Jennifer', 6), ('Fauerstein, Heather', 6), ('Kolka, Carolyn', 6), ('Moriarty, Edward', 6), ('Feuersteln, Heather', 6), ('Behen, David', 6), ('Harrison, Tiffany', 6), ('Myott, Brad', 6), ('Kolb, Chris', 6), ('Redford, James', 6), ('Robertson, Senator', 6), ('Tedder, Greg', 6), ('Fritz, Bill', 6), ('Cousineau, Sara', 6), ('Division, Water', 6), ('Davenport, Rodney', 6), ('Peterman, Tammy', 6), ('Beebe, Beth', 7), ('Gardner, Michael', 7), ('Tanner, Kristi', 7), ('Division, Drinking', 7), ('Ananich, Senator', 7), ('Devantier, Daria', 7), ('Merricle, Jennifer', 7), ('Wicks, Dorothy', 7), ('Butler, Sonva', 7), ('Heaton, Anna', 7), ('Gossiaux, Tom', 7), ('Baltusis, Matt', 7), ('Biehl, Laura', 7), ('Kline, David', 7), ('Sygo, MDEQ', 7), ('Bennaker, Joanne', 7), ('Manente, Susan', 7), ('Stanaway, Deb', 7), ('Fiedler, Lynn', 7), ('Eagle, Dennis', 7), ('Jones, Rosemary', 7), ('Snyder, Rick', 7), ('Water, Drinking', 7), ('Williams, Rebecca', 7), ('epa,gov', 7), ('Campbell, Matthew', 7), ('Miller, Scott', 7), ('Dehtiar, Luke', 7), ('Gravlin, Mike', 7), ('Amin, Sameen', 7), ('Zacharda, Nicole', 7), ('Kenyon, Jason', 7), ('VanSickle, Michele', 7), ('Maier, Bill', 7), ('Marinangeli, Lois', 8), ('Teeples, Karen', 8), ('Lenard, Tom', 8), ('Berthold, Alana', 8), ('Williams, Felicia', 8), ('Swain, Ann', 8), ('Fitch, Hal', 8), ('Baiyasi, Stephanie', 8), ('Miller, Jeanmarie', 8), ('Harris, Darlene', 8), ('Wittrock, Angela', 8), ('Phelps, Phillip', 8), ('Datema, Maggle', 8), ('Lawrence, Charles', 8), ('Laieski, Caleb', 8), ('Duncan, Matt', 8), ('Swartout, April', 8), ('Sills, Robert', 8), ('Valor, Carol', 8), ('Walser, Sean', 8), ('Kaiser, Rebecca', 8), ('Hirst, Laura', 8), ('Weber, Travis', 8), ('Babcock, Robert', 8), ('Vaughn, Kari', 8), ('Bradsher, Esther', 8), ('Smith, Robert', 8), ('Creal, Willlam', 8), ('Winters, Bobbie', 8), ('Mcbride, Bill', 8), ('Mc, Bryanna', 8), ('Vanportfleet, Jennifer', 8), ('Bosenthal, Adam', 8), ('Jackson, Michael', 8), ('Holton, Jennifer', 8), ('Krisztlan, George', 9), ('Woods, Vence', 9), ('Tharp, Ed', 9), ('Kurtz, Ed', 9), ('Customers, Wholesale', 9), ('Makoski, Paul', 9), ('Brandon, McAndrew', 9), ('Adams, Jamie', 9), ('Vail, Amy', 9), ('Jesko, Roxanne', 9), ('Gutting, Karen', 9), ('METTLER, MARTHA', 9), ('Office, The', 9), ('Burke, Thomas', 9), ('Cralg, John', 9), ('Davis, CatherineM', 9), ('Rudolph, Brian', 9), ('Dvkema, Linda', 9), ('Hanley, Farah', 9), ('Tharp, Edward', 9), ('Goodwin, Kevin', 9), ('Leavitt, Andrew', 10), ('Drake, Jerry', 10), ('Klemans, Diana', 10), ('Robinson, Felecia', 10), ('Elliott, Larry', 10), ('Ballard, Bonnifer', 10), ('Fausone, Jim', 10), ('Stieb, Melody', 10), ('Gill, Celeste', 10), ('Nakashima, Jeremy', 10), ('Feighner, Bryce', 10), ('Atkins, Tina', 10), ('Muchmore, Dennls', 10), ('Muliett, Ann', 10), ('Adams, Clover', 10), ('McNeely, Jacques', 10), ('Marie, Ann', 10), ('Chooi, Wood', 10), ('Devereauyx, Tracy', 10), ('Balr, Rita', 10), ('Marczak, Barbara', 10), ('Becker, Timothy', 10), ('Besey, Kevin', 10), ('Brookens, Todd', 10), ('Busch, Stephen', 10), ('Fields, Maggie', 11), ('Zimmer, Mike', 11), ('Flaga, Christine', 11), ('Duncan, Nancy', 11), ('Beach, Michael', 11), ('Seratt, Donna', 11), ('Griffin, Sylvia', 11), ('Glasson, Allison', 11), ('Wheaton, Bob', 11), ('Gross, Sara', 11), ('Roycraft, Phil', 11), ('Baker, Rebecca', 11), ('White, Valorie', 11), ('Jonas, Jill', 11), ('Christenson, Elysse', 11), ('Browne, Hizabeth', 11), ('Brown, Angela', 11), ('Noureldin, Mostafa', 11), ('Synk, Polly', 11), ('Hollenbach, Heidi', 11), ('Hills, Linda', 11), ('Glasgow, Michaet', 11), ('Goddard, Matthew', 11), ('Bowman, Matthew', 11), ('Smith, Gerald', 11), ('Shirey, Kathleen', 12), ('Acevedo, Jennifer', 12), ('Sellers, Fred', 12), ('Dempkowski, Angela', 12), ('Sackrider, Sarah', 12), ('DeBruler, Cari', 12), ('Dickinson, Jordan', 12), ('VanDyke, Trevor', 12), ('Osterhoudt, Darrell', 12), ('Cole, Evah', 12), ('Quiggle, Lisa', 12), ('Westcott, Jeremy', 12), ('Potter, Jodi', 12), ('Buhs, Caleb', 12), ('Ringler, Doug', 12), ('Verona, Laura', 12), ('Livengood, Chad', 12), ('Wroble, Amanda', 12), ('Schineman, Louis', 12), ('Smith, Lindsey', 12), ('Gangluff, Melissa', 12), ('Ladouceur, Anita', 13), ('Silfven, Ken', 13), ('Russell, Jon', 13), ('Smith, Jennifer', 13), ('Pearson, Sara', 13), ('Lee, Michelle', 13), ('Willhite, Marcia', 13), ('Fiedler, David', 13), ('Pratt, Chastity', 13), ('Fink, Brenda', 13), ('Devereauy, Tracy', 14), ('Skubik, Adam', 14), ('Hare, Chris', 14), ('Pleyte, Beth', 14), ('Flechter, Matt', 14), ('Briseno, Michael', 14), ('Koryzno, Edward', 14), ('Ruttman, Jennifer', 14), ('Taft, Jim', 14), ('Mickie, Bryn', 14), ('Collins, Jim', 14), ('Root, Lisa', 14), ('Bishop, Susan', 14), ('Mikkelson, Julie', 15), ('Fletcher, Vista', 15), ('Hichez, Amy', 15), ('Vantil, Barbara', 15), ('Thompson, Eleanor', 15), ('Bolf, Michael', 15), ('Houseman, Jennifer', 15), ('Prvsby, Mike', 15), ('Johnson, Shannon', 15), ('Hayes, Tandem', 15), ('Garrison, Laurel', 16), ('Argiroff, Phil', 16), ('Hartz, Andrew', 16), ('Erb, Robin', 16), ('Markstrom, Jeff', 16), ('Davidek, Tim', 16), ('Mc, Dave', 16), ('Hagerman, Lisa', 16), ('Kaffer, Nancy', 16), ('Blayer, Steve', 16), ('Flynn, Keith', 16), ('Dixon, Janice', 17), ('Robinson, Michael', 17), ('Patterson, Leigh', 17), ('Doty, Susan', 17), ('Hedman, Susan', 17), ('Creagh, Keith', 17), ('Wisely, John', 17), ('Lindsay, Brenda', 17), ('Shaw, Eric', 17), ('Fielek, Joseph', 18), ('Sylvester, Kevin', 18), ('DuMont, Ralph', 18), ('Jansen, David', 19), ('Beckmann, Ronna', 19), ('Berman, Jonathan', 19), ('Erin, Ronna', 19), ('Gotham, Daryl', 19), ('Harris, Kimberly', 20), ('Neuman, Andy', 20), ('Brader, Valerie', 20), ('Brown, Elgar', 20), ('Erickson, Susan', 20), ('Kennedy, Jordan', 20), ('McShane, Hilda', 20), ('Brennan, Patrick', 20), ('Edlin, Karen', 20), ('Forbes, Kevin', 21), ('Drullinger, Dave', 21), ('Childs, Bonnie', 21), ('Smith, Renee', 21), ('Baird, Richard', 21), ('Clampitt, Christopher', 21), ('Antil, Jeffrey', 21), ('Levine, Pete', 21), ('Cossa, Laura', 22), ('Rockefeller, Cheryl', 22), ('Faust, Tabitha', 22), ('Pallone, Maggle', 22), ('Ridley, Nancy', 22), ('Swendsen, Kurt', 22), ('Deamer, Eileen', 22), ('Price, Chris', 22), ('Lynch, James', 22), ('Yelton, Lori', 23), ('Peeler, Nancy', 23), ('Case, Robert', 23), ('Palione, Maggie', 23), ('Leifheit, Kirk', 23), ('Hill, Charles', 23), ('Brewster, Simone', 23), ('Administrative, Exchange', 23), ('Hutchings, Thomas', 24), ('Smith, Kirk', 24), ('Ostrowski, James', 24), ('Fish, Kim', 24), ('Mickle, Bryn', 25), ('Marquardt, Steve', 25), ('Manning, Peter', 25), ('Higgins, Deborah', 25), ('Dettweiler, Dan', 25), ('Svgo, Jim', 25), ('Bean, Lawrence', 25), ('Wilcox, Candra', 25), ('Guerrant, Kyle', 25), ('Barton, John', 26), ('Wigginton, Krista', 26), ('Beaulac, Michael', 26), ('Moss, Marla', 26), ('Eisenberg, Mindy', 27), ('Sullivan, Laura', 27), ('London, Bob', 27), ('Miller, Mark', 27), ('Bincsik, Robert', 28), ('Beese, Jennifer', 28), ('Joseph, Mark', 28), ('Brickey, Tamara', 29), ('Hallwood, Dawn', 29), ('Yoder, Jonathan', 29), ('Fitzner, Wendy', 30), ('Fortin, Denise', 30), ('Hoffman, Kelly', 30), ('Allan, Jon', 30), ('Willoughby, Kathy', 30), ('Hasan, Shurooq', 31), ('Austin, Dawn', 31), ('Alexander, Christine', 32), ('Baker, Mike', 32), ('Messer, Beth', 32), ('Burneson, Eric', 33), ('Kempic, Jeffrey', 34), ('Vanderlaan, Mary', 34), ('Attendees, Meeting', 35), ('Wisinski, Courtney', 35), ('Wolf, Jennifer', 35), ('Bouters, Janese', 36), ('Osborn, Larry', 36), ('Schinderle, Jack', 37), ('Raysin, Matt', 38), ('Brown, Eric', 38), ('Johnson, Mark', 38), ('Longley, Kristin', 39), ('Bruneau, Michelle', 39), ('Golzynski, Diane', 39), ('Boyer, Jenifier', 39), ('Berndt, Jason', 39), ('Lorenz, Jason', 39), ('Lane, Mike', 39), ('Wisniewski, Wendy', 39), ('Barr, Jacqui', 40), ('Clayton, Stacie', 41), ('Maul, Sue', 41), ('Lee, Lonnie', 41), ('Holmes, Virginia', 42), ('Byrne, Randall', 42), ('Grijalva, Nancy', 42), ('Emmitt, Beth', 42), ('Howard, Brock', 42), ('Doll, Jeanette', 43), ('Leeming, Susan', 43), ('Khouri, Nick', 43), ('Ashford, Stephen', 44), ('Mack, Melissa', 44), ('Winegar, Carla', 44), ('Ptaszenski, Rachel', 45), ('Dickinson, Sarah', 45), ('Baltazar, Debbie', 46), ('Tetzlaff, Katherine', 46), ('Hertel, Elizabeth', 46), ('Murphy, Elizabeth', 47), ('Twenter, Lisa', 48), ('Bettenhausen, Margaret', 48), ('Wagner, Robert', 48), ('Robinson, Mikelle', 48), ('Epkey, Amy', 48), ('McDonald, Paul', 48), ('VanOtteren, Bruce', 49), ('Miller, Corinne', 49), ('Sitko, Anthony', 49), ('Clement, Elizabeth', 50), ('Skinker, Bethel', 50), ('Bartley, Cheryl', 51), ('Moran, Susan', 52), ('Vorce, Susan', 52), ('Mayor, Flint', 52), ('Kammer, Stephanie', 53), ('Alexander, Michael', 53), ('Travis, Rashmi', 55), ('Eisner, Jennifer', 55), ('Ostlund, Peter', 55), ('Kuhl, Richard', 55), ('Kaplan, Robert', 55), ('McClellan, Michael', 58), ('Fisher, Brant', 58), ('Roberts, John', 58), ('Dillon, Andy', 59), ('Wells, Eden', 59), ('Renteria, Sylvia', 60), ('Lundy, Anastasia', 60), ('Thomas, Chuck', 61), ('Reynolds, Lawrence', 62), ('Stibitz, Brom', 63), ('Scott, Allison', 63), ('Lambrinidou, Yanna', 64), ('Glasgow, Mike', 65), ('Olszewski, Rosemarie', 65), ('Kammer, Sean', 65), ('Gaskin, Jamie', 66), ('Minicuci, Angela', 67), ('Green, Kelly', 67), ('Browne, Elizabeth', 68), ('Bennett, Charles', 68), ('Cupal, Suzanne', 68), ('Gray, Jennifer', 69), ('Moste, Lea', 69), ('Ermak, Lisa', 69), ('Scherbarth, John', 72), ('Smith, Laura', 72), ('Copen, Leigh', 72), ('Smith, Shekier', 73), ('Wright, Michael', 78), ('Kuefler, Janet', 78), ('Brown, Jessica', 79), ('Arduin, Jim', 79), ('Brim, Richard', 80), ('Shekter, Jean', 80), ('Madziar, Joseph', 82), ('Selden, Barry', 82), ('Workman, Wayne', 83), ('Valacak, Mark', 84), ('Henry, Timothy', 86), ('Fonger, Ronald', 88), ('Craig, John', 90), ('Ostrander, Debbie', 91), ('Tawwab, Bilal', 92), ('Murphy, Thomas', 92), ('Lyon, Nick', 93), ('Looney, Carolyn', 94), ('Anderson, Paula', 94), ('Graham, Lois', 97), ('Ambrose, Gerald', 99), ('Stanton, Terry', 102), ('Dee, Rhiannon', 102), ('Priem, Wesley', 102), ('Lasher, Geralyn', 112), ('Green, Warren', 115), ('Matta, Samir', 115), ('Chubb, Anthony', 115), ('Edgerton, Shelly', 118), ('Hansen, Jeff', 127), ('Henderson, Natasha', 128), ('Agen, Jarrod', 128), ('Saxton, Thomas', 145), ('Hollins, Harvey', 147), ('Lachance, Amy', 147), ('Creal, William', 155), ('Shane, Kirby', 158), ('Pieper, Julia', 159), ('Shoven, Heather', 160), ('Smith, Carol', 161), ('Hyde, Tinka', 169), ('DeBruyn, Dana', 176), ('Henry, James', 179), ('Anderson, Madhu', 181), ('Schock, Michael', 182), ('Groetsch, Kory', 200), ('Donaldson, Kristina', 201), ('Damato, Nicholas', 204), ('Edwards, Marc', 206), ('Johnson, Daugherty', 227), ('Bair, Rita', 234), ('Monosmith, Carrie', 267), ('Muchmore, Dennis', 275), ('Glasgow, Michael', 282), ('Rennaker, Joanne', 285), ('Bloemker, Jon', 288), ('Butler, Sonya', 289), ('Murray, David', 302), ('Datema, Maggie', 313), ('Wurfel, Sara', 333), ('Porter, Andrea', 340), ('Willard, Veronica', 350), ('Philip, Kris', 354), ('Leavitt, Andy', 391), ('Lytle, Darren', 402), ('Deltoral, Miguel', 405), ('Hovey, Amy', 414), ('Walling, Dayne', 424), ('Howes, Sarah', 435), ('Dykema, Linda', 436), ('Tommasulo, Karen', 456), ('Feuerstein, Heather', 499), ('Croft, Howard', 636), ('Wright, Brent', 708), ('Pallone, Maggie', 884), ('Crooks, Jennifer', 889), ('Cook, Pat', 939), ('Poy, Thomas', 1202), ('Shaler, Karen', 1239), ('Thelen, Mary', 1244), ('Devereaux, Tracy', 1256), ('Wyant, Dan', 1308), ('Krisztian, George', 1466), ('Rosenthal, Adam', 1472), ('Sygo, Jim', 2046), ('Wurfel, Brad', 2796), ('Benzie, Richard', 3941), ('Prysby, Mike', 4751), ('Shekter Smith, Liane', 5146), ('Busch, Stephen', 6375)]\n"
     ]
    }
   ],
   "source": [
    "print(\"all receivers for deqs:\")\n",
    "totalrnames = []\n",
    "\n",
    "fnl = []\n",
    "for item in listdeqst:\n",
    "    x = testmod.findReceivers(item[0])\n",
    "    fnl.extend(x)\n",
    "    r = testmod.freqs(fnl)\n",
    "totalrnames.extend(r)\n",
    "#print(totalrnames)"
   ]
  },
  {
   "cell_type": "code",
   "execution_count": 258,
   "metadata": {},
   "outputs": [
    {
     "name": "stdout",
     "output_type": "stream",
     "text": [
      "all senders for deqs:\n"
     ]
    }
   ],
   "source": [
    "print(\"all senders for deqs:\")\n",
    "totalsnames = []\n",
    "\n",
    "fnl = []\n",
    "for item in listdeqst:\n",
    "    x = testmod.findSenders(item[0])\n",
    "    fnl.extend(x)\n",
    "    r = testmod.freqs(fnl)\n",
    "totalsnames.extend(r)\n",
    "#print(totalsnames)"
   ]
  },
  {
   "cell_type": "code",
   "execution_count": 294,
   "metadata": {},
   "outputs": [],
   "source": [
    "def takeout1s(totalxnames):\n",
    "    newlistfreq = []\n",
    "    for thing in totalxnames:\n",
    "        if thing[1] > 1:\n",
    "            newlistfreq.append(thing)\n",
    "        else:\n",
    "            pass\n",
    "    return newlistfreq\n",
    "            "
   ]
  },
  {
   "cell_type": "code",
   "execution_count": 295,
   "metadata": {},
   "outputs": [
    {
     "data": {
      "text/plain": [
       "921"
      ]
     },
     "execution_count": 295,
     "metadata": {},
     "output_type": "execute_result"
    }
   ],
   "source": [
    "newr = takeout1s(totalrnames)\n",
    "len(newr)"
   ]
  },
  {
   "cell_type": "code",
   "execution_count": 296,
   "metadata": {},
   "outputs": [
    {
     "data": {
      "text/plain": [
       "569"
      ]
     },
     "execution_count": 296,
     "metadata": {},
     "output_type": "execute_result"
    }
   ],
   "source": [
    "news = takeout1s(totalsnames)\n",
    "len(news)"
   ]
  },
  {
   "cell_type": "code",
   "execution_count": null,
   "metadata": {},
   "outputs": [],
   "source": []
  },
  {
   "cell_type": "code",
   "execution_count": null,
   "metadata": {},
   "outputs": [],
   "source": []
  },
  {
   "cell_type": "code",
   "execution_count": 265,
   "metadata": {},
   "outputs": [],
   "source": [
    "def namer(listfreq):\n",
    "    names = []\n",
    "    for pair in listfreq:\n",
    "        names.append(pair[0])\n",
    "    return names"
   ]
  },
  {
   "cell_type": "code",
   "execution_count": 266,
   "metadata": {},
   "outputs": [
    {
     "data": {
      "text/plain": [
       "2360"
      ]
     },
     "execution_count": 266,
     "metadata": {},
     "output_type": "execute_result"
    }
   ],
   "source": [
    "lfsn = namer(totalsnames)\n",
    "lfrn = namer(totalrnames)\n",
    "grandlist = lfrn + lfsn\n",
    "len(grandlist)"
   ]
  },
  {
   "cell_type": "code",
   "execution_count": 267,
   "metadata": {},
   "outputs": [
    {
     "data": {
      "text/plain": [
       "1777"
      ]
     },
     "execution_count": 267,
     "metadata": {},
     "output_type": "execute_result"
    }
   ],
   "source": [
    "grandlist_d = list(dict.fromkeys(grandlist))\n",
    "len(grandlist_d)"
   ]
  },
  {
   "cell_type": "code",
   "execution_count": 178,
   "metadata": {},
   "outputs": [
    {
     "data": {
      "text/plain": [
       "1463"
      ]
     },
     "execution_count": 178,
     "metadata": {},
     "output_type": "execute_result"
    }
   ],
   "source": [
    "len(totalrnames)"
   ]
  },
  {
   "cell_type": "code",
   "execution_count": 268,
   "metadata": {},
   "outputs": [
    {
     "data": {
      "text/plain": [
       "897"
      ]
     },
     "execution_count": 268,
     "metadata": {},
     "output_type": "execute_result"
    }
   ],
   "source": [
    "len(totalsnames)"
   ]
  },
  {
   "cell_type": "code",
   "execution_count": null,
   "metadata": {},
   "outputs": [],
   "source": []
  },
  {
   "cell_type": "code",
   "execution_count": null,
   "metadata": {},
   "outputs": [],
   "source": []
  },
  {
   "cell_type": "code",
   "execution_count": null,
   "metadata": {},
   "outputs": [],
   "source": []
  },
  {
   "cell_type": "code",
   "execution_count": 269,
   "metadata": {},
   "outputs": [
    {
     "data": {
      "text/plain": [
       "15426"
      ]
     },
     "execution_count": 269,
     "metadata": {},
     "output_type": "execute_result"
    }
   ],
   "source": [
    "listnums = []\n",
    "for item in listdeqst:\n",
    "    t = len(testmod.getUnixTSnd(item[0]))\n",
    "    listnums.append(t)\n",
    "sum(listnums)"
   ]
  },
  {
   "cell_type": "code",
   "execution_count": 60,
   "metadata": {},
   "outputs": [
    {
     "data": {
      "text/plain": [
       "24015"
      ]
     },
     "execution_count": 60,
     "metadata": {},
     "output_type": "execute_result"
    }
   ],
   "source": [
    "listnumsx = []\n",
    "for item in listdeqst:\n",
    "    t = fromsons(item[0])\n",
    "    listnumsx.append(t)\n",
    "sum(listnumsx)\n",
    "#print(listnumsx)"
   ]
  },
  {
   "cell_type": "code",
   "execution_count": 57,
   "metadata": {},
   "outputs": [],
   "source": [
    "def fromsons(deqemailstext):\n",
    "    f = re.findall(\"From:.*\",deqemailstext)\n",
    "    o = re.findall(\"On.*wro[tf]e\",deqemailstext)\n",
    "    k = len(f) + len(o)\n",
    "    return k"
   ]
  },
  {
   "cell_type": "code",
   "execution_count": 170,
   "metadata": {},
   "outputs": [
    {
     "data": {
      "text/plain": [
       "1991"
      ]
     },
     "execution_count": 170,
     "metadata": {},
     "output_type": "execute_result"
    }
   ],
   "source": [
    "fromsons(deq02)"
   ]
  },
  {
   "cell_type": "code",
   "execution_count": 31,
   "metadata": {},
   "outputs": [
    {
     "data": {
      "text/plain": [
       "str"
      ]
     },
     "execution_count": 31,
     "metadata": {},
     "output_type": "execute_result"
    }
   ],
   "source": [
    "#combines all text into one big string of all the deqs\n",
    "deqtl = []\n",
    "for deq in listdeqst:\n",
    "    deqtl.extend(deq[0])\n",
    "emailstext = ''.join(deqtl)    "
   ]
  },
  {
   "cell_type": "code",
   "execution_count": null,
   "metadata": {},
   "outputs": [],
   "source": [
    "### empty header lines ###"
   ]
  },
  {
   "cell_type": "code",
   "execution_count": 59,
   "metadata": {},
   "outputs": [
    {
     "data": {
      "text/plain": [
       "534"
      ]
     },
     "execution_count": 59,
     "metadata": {},
     "output_type": "execute_result"
    }
   ],
   "source": [
    "emptyfroms = re.findall(\"\\nFrom[:;]\\s*\\n+\",emailstext)\n",
    "len(emptyfroms)"
   ]
  },
  {
   "cell_type": "code",
   "execution_count": 60,
   "metadata": {},
   "outputs": [
    {
     "data": {
      "text/plain": [
       "250"
      ]
     },
     "execution_count": 60,
     "metadata": {},
     "output_type": "execute_result"
    }
   ],
   "source": [
    "emptysents = re.findall(\"\\nSent[:;]\\s*\\n+\",emailstext)\n",
    "len(emptysents)"
   ]
  },
  {
   "cell_type": "code",
   "execution_count": 61,
   "metadata": {},
   "outputs": [
    {
     "data": {
      "text/plain": [
       "221"
      ]
     },
     "execution_count": 61,
     "metadata": {},
     "output_type": "execute_result"
    }
   ],
   "source": [
    "emptydates = re.findall(\"\\nDate[:;]\\s*\\n+\",emailstext)\n",
    "len(emptydates)"
   ]
  },
  {
   "cell_type": "code",
   "execution_count": 62,
   "metadata": {},
   "outputs": [
    {
     "data": {
      "text/plain": [
       "461"
      ]
     },
     "execution_count": 62,
     "metadata": {},
     "output_type": "execute_result"
    }
   ],
   "source": [
    "emptytos = re.findall(\"\\nTo[:;]\\s*\\n+\",emailstext)\n",
    "len(emptytos)"
   ]
  },
  {
   "cell_type": "code",
   "execution_count": null,
   "metadata": {},
   "outputs": [],
   "source": [
    "# compare timestamps #"
   ]
  },
  {
   "cell_type": "code",
   "execution_count": 41,
   "metadata": {},
   "outputs": [],
   "source": [
    "import datetime\n",
    "import dateutil.parser\n",
    "\n",
    "dtr1 = {\"Sent:\":\"Sent[:;](.*[AP][M])\",\"Date:\":\"Date[:;](.*[AP][M])\",\"On1\":\"On ([A-Z].*[AP][M]).* wro[tf]e:\"}\n",
    "dtr0 = {\n",
    "                'weekday month yearOrday yearORday hours:mins AMorPM':'\\\\b[A-Za-z]+\\s+[A-Za-z]+\\s+\\d+\\s+\\d+\\s+\\d+\\:\\d+\\s+[A-Z]+\\\\b',\n",
    "                'weekday month yearORday yearORday hours:mins:secs AMorPM':'\\\\b[A-Za-z]+\\s+[A-Za-z]+\\s+\\d+\\s+\\d+\\s+\\d+\\:\\d+\\:\\d+\\s+[A-Z]+\\\\b',\n",
    "                'yearORmonthORday-yearORmonthORday-yearORmonthORday:hours:mins:secs':'\\\\b\\d+\\-\\d+\\-\\d+\\:\\d+\\:\\d+\\:\\d+\\\\b',\n",
    "                'yearORmonthORday/yearORmonthORday/yearORmonthORday:hours:mins:secs':'\\\\b\\d+\\/\\d+\\/\\d+\\:\\d+\\:\\d+\\:\\d+\\\\b',\n",
    "                'yearORmonthORday-yearORmonthORday-yearORmonthORday-hours.mins.secs.millisecs':'\\\\b\\d+\\-\\d+\\-\\d+\\-\\d+\\.\\d+\\.\\d+\\.\\d+\\-\\d+\\\\b',\n",
    "                'yearORmonthORday/yearORmonthORday/yearORmonthORday-hours.mins.secs.millisecs':'\\\\b\\d+\\/\\d+\\/\\d+\\-\\d+\\.\\d+\\.\\d+\\.\\d+\\-\\d+\\\\b',\n",
    "                'yearORmonthORday-yearORmonthORday-yearORmonthORday-hours.mins.secs':'\\\\b\\d+\\-\\d+\\-\\d+\\-\\d+\\.\\d+\\.\\d+\\\\b',\n",
    "                'yearORmonthORday/yearORmonthORday/yearORmonthORday-hours.mins.secs':'\\\\b\\d+\\/\\d+\\/\\d+\\-\\d+\\.\\d+\\.\\d+\\\\b',\n",
    "                'yearORmonthORday-yearORmonthORday-yearORmonthORdayThours:mins:secs.millisecs':'\\\\b\\d+\\-\\d+\\-\\d+[A-Za-z]+\\d+\\:\\d+\\:\\d+\\.\\w+\\\\b',\n",
    "                'yearORmonthORday-yearORmonthORday-yearORmonthORdayThours:mins:secs+millisecs':'\\\\b\\d+\\-\\d+\\-\\d+[A-Za-z]+\\d+\\:\\d+\\:\\d+\\+\\d+\\\\b',\n",
    "                'yearORmonthORday-yearORmonthORday-yearORmonthORdayThours:mins:secs*millisecs':'\\\\b\\d+\\-\\d+\\-\\d+[A-Za-z]+\\d+\\:\\d+\\:\\d+\\*\\d+\\+\\d+\\\\b',\n",
    "                'yearORmonthORday-yearORmonthORday-yearORmonthORday*hours:mins:secs:millisecs':'\\\\b\\d+\\-\\d+\\-\\d+\\*\\d+\\:\\d+\\:\\d+\\:\\d+\\\\b',\n",
    "                'yearORmonthORday-yearORmonthORday-yearORmonthORday*hours:mins:secs':'\\\\b\\d+\\-\\d+\\-\\d+\\*\\d+\\:\\d+\\:\\d+\\\\b',\n",
    "                'yearORmonthORday-yearORmonthORday-yearORmonthORdayThours:mins:secs':'\\\\b\\d+\\-\\d+\\-\\d+[A-Za-z]+\\d+\\:\\d+\\:\\d+\\\\b',\n",
    "                'yearORmonthORday-yearORmonthORday-yearORmonthORday hours:mins:secs.millisecs':'\\\\b\\d+\\-\\d+\\-\\d+\\s+\\d+\\:\\d+\\:\\d+\\.\\w+\\\\b',\n",
    "                'yearORmonthORday/yearORmonthORday/yearORmonthORday hours:mins:secs:millisecs':'\\\\b\\d+\\/\\d+\\/\\d+\\s+\\d+\\:\\d+\\:\\d+\\:\\w+\\\\b',\n",
    "                'yearORmonthORday-yearORmonthORday-yearORmonthORday hours:mins:secs AMorPM':'\\\\b\\d+\\-\\d+\\-\\d+\\s+\\d+\\:\\d+\\:\\d+\\s+[A-Z]+\\\\b',\n",
    "                'yearORmonthORday-yearORmonthORday-yearORmonthORday hours:mins:secs':'\\\\b\\d+\\-\\d+\\-\\d+\\s+\\d+\\:\\d+\\:\\d+\\\\b',\n",
    "                'yearORmonthORday/yearORmonthORday/yearORmonthORday hours:mins:secs AMorPM':'\\\\b\\d+\\/\\d+\\/\\d+\\s+\\d+\\:\\d+\\:\\d+\\s+[A-Z]+\\\\b',\n",
    "                'yearORmonthORday/yearORmonthORday/yearORmonthORday hours:mins:secs':'\\\\b\\d+\\/\\d+\\/\\d+\\s+\\d+\\:\\d+\\:\\d+\\\\b',\n",
    "                'yearORmonthORday/yearORmonthORday/yearORmonthORday-hours:mins':'\\\\b\\d+\\/\\d+\\/\\d+\\-\\d+\\.\\d+\\\\b',\n",
    "                'yearORmonthORday-yearORmonthORday-yearORmonthORday-hours:mins':'\\\\b\\d+\\-\\d+\\-\\d+\\-\\d+\\.\\d+\\\\b',\n",
    "                'yearORmonthORday/yearORmonthORday/yearORmonthORday:hours:mins':'\\\\b\\d+\\/\\d+\\/\\d+\\:\\d+\\:\\d+\\\\b',\n",
    "                'yearORmonthORday-yearORmonthORday-yearORmonthORdayThours:mins':'\\\\b\\d+\\-\\d+\\-\\d+[A-Za-z]+\\d+\\:\\d+\\\\b',\n",
    "                'yearORmonthORday-yearORmonthORday-yearORmonthORday*hours:mins':'\\\\b\\d+\\-\\d+\\-\\d+\\*\\d+\\:\\d+\\\\b',\n",
    "                'yearORmonthORday/yearORmonthORday/yearORmonthORday hours:mins':'\\\\b\\d+\\/\\d+\\/\\d+\\s+\\d+\\:\\d+\\\\b',\n",
    "                'yearORmonthORday/yearORmonthORday/yearORmonthORday hours:mins AMorPM':'\\\\b\\d+\\/\\d+\\/\\d+\\s+\\d+\\:\\d+\\s+[A-Za-z]+\\\\b',\n",
    "                'yearORmonthORday-yearORmonthORday-yearORmonthORday hours:mins':'\\\\b\\d+\\-\\d+\\-\\d+\\s+\\d+\\:\\d+\\\\b',\n",
    "                'yearORmonthORday-yearORmonthORday-yearORmonthORday hours:mins AMorPM':'\\\\b\\d+\\-\\d+\\-\\d+\\s+\\d+\\:\\d+\\s+[A-Za-z]\\\\b',\n",
    "                'yearORday/month/yearORday:hours:mins:secs AMorPM':'\\\\b\\d+\\/[A-Za-z]+\\/\\d+\\:\\d+\\:\\d+\\:\\d+\\s+[A-Z]+\\\\b',\n",
    "                'yearORday/month/yearORday:hours:mins:secs':'\\\\b\\d+\\/[A-Za-z]+\\/\\d+\\:\\d+\\:\\d+\\:\\d+\\\\b',\n",
    "                'yearORday-month-yearORday:hours:mins:secs AMorPM':'\\\\b\\d+\\-[A-Za-z]+\\-\\d+\\:\\d+\\:\\d+\\:\\d+\\s+[A-Z]+\\\\b',\n",
    "                'yearORday-month-yearORday:hours:mins:secs':'\\\\b\\d+\\-[A-Za-z]+\\-\\d+\\:\\d+\\:\\d+\\:\\d+\\\\b',\n",
    "                'month/yearORday/yearORday:hours:mins:secs AMorPM':'\\\\b[A-Za-z]+\\/\\d+\\/\\d+\\:\\d+\\:\\d+\\:\\d+\\s+[A-Z]+\\\\b',\n",
    "                'month/yearORday/yearORday:hours:mins:secs':'\\\\b[A-Za-z]+\\/\\d+\\/\\d+\\:\\d+\\:\\d+\\:\\d+\\\\b',\n",
    "                'month-yearORday-yearORday:hours:mins:secs AMorPM':'\\\\b[A-Za-z]+\\-\\d+\\-\\d+\\:\\d+\\:\\d+\\:\\d+\\s+[A-Z]+\\\\b',\n",
    "                'month-yearORday-yearORday:hours:mins:secs':'\\\\b[A-Za-z]+\\-\\d+\\-\\d+\\:\\d+\\:\\d+\\:\\d+\\\\b',\n",
    "                'yearORday/month/yearORday hours:mins:secs AMorPM':'\\\\b\\d+\\/[A-Za-z]+\\/\\d+\\s+\\d+\\:\\d+\\:\\d+\\s+[A-Z]+\\\\b',\n",
    "                'yearORday/month/yearORday hours:mins:secs':'\\\\b\\d+\\/[A-Za-z]+\\/\\d+\\s+\\d+\\:\\d+\\:\\d+\\\\b',\n",
    "                'yearORday-month-yearORday hours:mins:secs AMorPM':'\\\\b\\d+\\-[A-Za-z]+\\-\\d+\\s+\\d+\\:\\d+\\:\\d+\\s+[A-Z]+\\\\b',\n",
    "                'yearORday-month-yearORday hours:mins:secs':'\\\\b\\d+\\-[A-Za-z]+\\-\\d+\\s+\\d+\\:\\d+\\:\\d+\\\\b',\n",
    "                'month/yearORday/yearORday hours:mins:secs AMorPM':'\\\\b[A-Za-z]+\\/\\d+\\/\\d+\\s+\\d+\\:\\d+\\:\\d+\\s+[A-Z]+\\\\b',\n",
    "                'month/yearORday/yearORday hours:mins:secs':'\\\\b[A-Za-z]+\\/\\d+\\/\\d+\\s+\\d+\\:\\d+\\:\\d+\\\\b',\n",
    "                'month-yearORday-yearORday hours:mins:secs AMorPM':'\\\\b[A-Za-z]+\\-\\d+\\-\\d+\\s+\\d+\\:\\d+\\:\\d+\\s+[A-Z]+\\\\b',\n",
    "                'month-yearORday-yearORday hours:mins:secs':'\\\\b[A-Za-z]+\\-\\d+\\-\\d+\\s+\\d+\\:\\d+\\:\\d+\\\\b',\n",
    "                'yearORday month yearORday hours:mins:secs.millisecs':'\\\\b\\d+\\s+[A-Za-z]+\\s+\\d+\\s+\\d+\\:\\d+\\:\\d+\\.\\d+\\\\b',\n",
    "                'month dayORyear hours:mins:secs +millisecs dayORyear':'\\\\b[A-Za-z]+\\s+\\d+\\s+\\d+\\:\\d+\\:\\d+\\s+\\+\\d+\\s+\\d+\\\\b',\n",
    "                'month dayORyear hours:mins:secs dayORyear':'\\\\b[A-Za-z]+\\s+\\d+\\s+\\d+\\:\\d+\\:\\d+\\s+\\d+\\\\b',\n",
    "                'month dayORyear dayORyear hours:mins:secs AMorPM':'\\\\b[A-Za-z]+\\s+\\d+\\s+\\d+\\s+\\d+\\:\\d+\\:\\d+\\s+[A-Z]+\\\\b',\n",
    "                'month dayORyear dayORyear hours:mins:secs':'\\\\b[A-Za-z]+\\s+\\d+\\s+\\d+\\s+\\d+\\:\\d+\\:\\d+\\\\b',\n",
    "                'month dayORyear hours:mins:secs +millisecs':'\\\\b[A-Za-z]+\\s+\\d+\\s+\\d+\\:\\d+\\:\\d+\\s+\\+\\d+\\\\b',\n",
    "                'dayORyear month dayORyear hours:mins:secs':'\\\\b\\d+\\s+[A-Za-z]+\\s+\\d+\\s+\\d+\\:\\d+\\:\\d+\\\\b',\n",
    "                'month dayORyear hours:mins:secs':'\\\\b[A-Za-z]+\\s+\\d+\\s+\\d+\\:\\d+\\:\\d+\\\\b',\n",
    "                'yearORmonthORday/yearORmonthORday/yearORmonthORday':'\\\\b\\d+\\/\\d+\\/\\d+\\*\\d+\\:\\d+\\:\\d+\\\\b',\n",
    "                'yearORday/month/yearORday:hours:mins AMorPM':'\\\\b\\d+\\/[A-Za-z]+\\d+\\:\\d+\\:\\d+\\s+[A-Za-z]+\\\\b',\n",
    "                'yearORday/month/yearORday:hours:mins':'\\\\b\\d+\\/[A-Za-z]+\\/\\d+\\:\\d+\\:\\d+\\\\b',\n",
    "                'yearORday-month-yearORday:hours:mins AMorPM':'\\\\b\\d+\\-[A-Za-z]+\\-\\d+\\:\\d+\\:\\d+\\s+[A-Za-z]+\\\\b',\n",
    "                'yearORday-month-yearORday:hours:mins':'\\\\b\\d+\\-[A-Za-z]+\\-\\d+\\:\\d+\\:\\d+\\\\b',\n",
    "                'month-yearORday-yearORday:hours:mins AMorPM':'\\\\b[A-Za-z]+\\-\\d+\\-\\d+\\:\\d+\\:\\d+\\s+[A-Za-z]+\\\\b',\n",
    "                'month-yearORday-yearORday:hours:mins':'\\\\b[A-Za-z]+\\-\\d+\\-\\d+\\:\\d+\\:\\d+\\\\b',\n",
    "                'month/yearORday/yearORday:hours:mins AMorPM':'\\\\b[A-Za-z]+\\/\\d+\\/\\d+\\:\\d+\\:\\d+\\s+[A-Za-z]+\\\\b',\n",
    "                'month/yearORday/yearORday:hours:mins':'\\\\b[A-Za-z]+\\/\\d+\\/\\d+\\:\\d+\\:\\d+\\\\b',\n",
    "                'yearORday/month/yearORday hours:mins AMorPM':'\\\\b\\d+\\/[A-Za-z]+\\/\\d+\\s+\\d+\\:\\d+\\s+[A-Za-z]+\\\\b',\n",
    "                'yearORday/month/yearORday hours:mins':'\\\\b\\d+\\/[A-Za-z]+\\/\\d+\\s+\\d+\\:\\d+\\\\b',\n",
    "                'yearORday-month-yearORday hours:mins AMorPM':'\\\\b\\d+\\-[A-Za-z]+\\-\\d+\\s+\\d+\\:\\d+\\s+[A-Za-z]+\\\\b',\n",
    "                'yearORday-month-yearORday hours:mins':'\\\\b\\d+\\-[A-Za-z]+\\-\\d+\\s+\\d+\\:\\d+\\\\b',\n",
    "                'month/yearORday/yearORday hours:mins AMorPM':'\\\\b[A-Za-z]\\/\\d+\\/\\d+\\s+\\d+\\:\\d+\\s+[A-Za-z]+\\\\b',\n",
    "                'month/yearORday/yearORday hours:mins':'\\\\b[A-Za-z]\\/\\d+\\/\\d+\\s+\\d+\\:\\d+\\\\b',\n",
    "                'month-yearORday-yearORday hours:mins AMorPM':'\\\\b[A-Za-z]+\\-\\d+\\-\\d+\\s+\\d+\\:\\d+\\s+[A-Za-z]+\\\\b',\n",
    "                'month-yearORday-yearORday hours:mins':'\\\\b[A-Za-z]+\\-\\d+\\-\\d+\\s+\\d+\\:\\d+\\\\b',\n",
    "                'year month day hours:mins':'\\\\b\\d+\\s+[A-Za-z]+\\s+\\d+\\s+\\d+\\:\\d+\\\\b',\n",
    "                'month day hours:mins year':'\\\\b[A-Za-z]+\\s+\\d+\\s+\\d+\\:\\d+\\s+\\d+\\\\b',\n",
    "                'month day hours:mins':'\\\\b[A-Za-z]+\\s+\\d+\\s+\\d+\\:\\d+\\\\b',\n",
    "                'month day year hours:mins AMorPM':'\\\\b[A-Za-z]+\\s+\\d+\\s+\\d+\\s+\\d+\\:\\d+\\s+[A-Za-z]+\\\\b',\n",
    "                'month day year hours:mins':'\\\\b[A-Za-z]+\\s+\\d+\\s+\\d+\\s+\\d+\\:\\d+\\\\b',\n",
    "                'on weekday, month day, year at hours:mins AMorPM':'\\\\b[a-z]+\\s+[A-Za-z]+\\s+[A-Za-z]+\\s+\\d+\\s+\\d+\\s+[a-z]+\\s+\\d+\\:\\d+\\s+[A-Za-z]+\\\\b',\n",
    "                'on month day, year, at hours:mins AMorPM':'\\\\b[a-z]+\\s+[A-Za-z]+\\s+\\d+\\s+\\d+\\s+[a-z]+\\s+\\d+\\:\\d+\\s+[A-Za-z]+\\\\b'\n",
    "                }\n",
    "\n",
    "def preprocess(x):\n",
    "    x = x.replace('\\t',' ')\n",
    "    #x = x.replace('\\n',' ')\n",
    "    x = x.replace('(',' ')\n",
    "    x = x.replace(')',' ')\n",
    "    x = x.replace('[',' ')\n",
    "    x = x.replace(']',' ')\n",
    "    x = x.replace('{',' ')\n",
    "    x = x.replace('}',' ')\n",
    "    x = x.replace(',',' ')\n",
    "    x = x.replace('\"','')\n",
    "    x = x.replace(\"'\",'')\n",
    "    x = x.replace(\"_\",\"\")\n",
    "    \n",
    "    return(x)\n",
    "\n",
    "\n",
    "reg1 = '|'.join(dtr1.values())\n",
    "reg0 = '|'.join(dtr0.values())\n",
    "\n",
    "def DateTimeExtractor(reg,x):\n",
    "    x = preprocess(x)\n",
    "    DT = re.findall(reg,x)\n",
    "    return(DT)\n",
    "\n",
    "def DateTimeExtractornopp (reg,x):\n",
    "    DT = re.findall(reg,x)\n",
    "    return(DT)\n",
    "\n",
    "def toUnixTime(time_list):\n",
    "    new_list = []\n",
    "    for t in time_list:\n",
    "        try:\n",
    "            unixtime = dateutil.parser.parse(t).timestamp()\n",
    "            new_list.append(unixtime)\n",
    "        except Exception:\n",
    "            pass  \n",
    "    return new_list"
   ]
  },
  {
   "cell_type": "code",
   "execution_count": 42,
   "metadata": {},
   "outputs": [],
   "source": [
    "setTS1 = DateTimeExtractor(reg1,emailstext)\n",
    "setTS0 = DateTimeExtractor(reg0,emailstext)\n",
    "def putinlist(setTS):\n",
    "    listTS = []\n",
    "    for trio in setTS:\n",
    "        for timestamp in trio:\n",
    "            if timestamp == '':\n",
    "                pass\n",
    "            else:\n",
    "                k = timestamp.replace(\" :\",\"\")\n",
    "                listTS.append(k)\n",
    "    return listTS"
   ]
  },
  {
   "cell_type": "code",
   "execution_count": 43,
   "metadata": {},
   "outputs": [
    {
     "name": "stderr",
     "output_type": "stream",
     "text": [
      "/home/bitnami/.local/lib/python3.5/site-packages/dateutil/parser/_parser.py:1218: UnknownTimezoneWarning: tzname C identified but not understood.  Pass `tzinfos` argument in order to correctly return a timezone-aware datetime.  In a future version, this will raise an exception.\n",
      "  category=UnknownTimezoneWarning)\n"
     ]
    },
    {
     "name": "stdout",
     "output_type": "stream",
     "text": [
      "new method yields 24251 timestamps and 23492 unix timestamps\n"
     ]
    },
    {
     "name": "stderr",
     "output_type": "stream",
     "text": [
      "/home/bitnami/.local/lib/python3.5/site-packages/dateutil/parser/_parser.py:1218: UnknownTimezoneWarning: tzname U identified but not understood.  Pass `tzinfos` argument in order to correctly return a timezone-aware datetime.  In a future version, this will raise an exception.\n",
      "  category=UnknownTimezoneWarning)\n",
      "/home/bitnami/.local/lib/python3.5/site-packages/dateutil/parser/_parser.py:1218: UnknownTimezoneWarning: tzname I identified but not understood.  Pass `tzinfos` argument in order to correctly return a timezone-aware datetime.  In a future version, this will raise an exception.\n",
      "  category=UnknownTimezoneWarning)\n",
      "/home/bitnami/.local/lib/python3.5/site-packages/dateutil/parser/_parser.py:1218: UnknownTimezoneWarning: tzname PV identified but not understood.  Pass `tzinfos` argument in order to correctly return a timezone-aware datetime.  In a future version, this will raise an exception.\n",
      "  category=UnknownTimezoneWarning)\n",
      "/home/bitnami/.local/lib/python3.5/site-packages/dateutil/parser/_parser.py:1218: UnknownTimezoneWarning: tzname AV identified but not understood.  Pass `tzinfos` argument in order to correctly return a timezone-aware datetime.  In a future version, this will raise an exception.\n",
      "  category=UnknownTimezoneWarning)\n"
     ]
    },
    {
     "name": "stdout",
     "output_type": "stream",
     "text": [
      "old method yields 39362 timestamps and 37831 unix timestamps\n",
      "\n",
      "estimated # of emails...\n",
      "number of senders = 22675\n",
      "number of froms + ons = 23657\n"
     ]
    }
   ],
   "source": [
    "listTS1 = putinlist(setTS1)\n",
    "unixtimes1 = toUnixTime(listTS1)\n",
    "print(\"new method yields \" + str(len(listTS1)) + \" timestamps and \" + str(len(unixtimes1)) + \" unix timestamps\")\n",
    "\n",
    "listTS0 = setTS0\n",
    "unixtimes0 = toUnixTime(listTS0)\n",
    "len(unixtimes0)\n",
    "print(\"old method yields \" + str(len(listTS0)) + \" timestamps and \" + str(len(unixtimes0)) + \" unix timestamps\")\n",
    "print(\"\")\n",
    "\n",
    "print(\"estimated # of emails...\")\n",
    "print(\"number of senders = \" + str(len(testmod.findSenders(emailstext))))\n",
    "i = re.findall(\"\\nFrom[:;].*\",emailstext)\n",
    "e = re.findall(\"\\nOn.*wro[tf]e[:;]\",emailstext)\n",
    "print(\"number of froms + ons = \" + str(len(i + e)))"
   ]
  },
  {
   "cell_type": "code",
   "execution_count": 45,
   "metadata": {},
   "outputs": [],
   "source": [
    "setTS1np = DateTimeExtractornopp(reg1,emailstext)\n",
    "setTS0np = DateTimeExtractornopp(reg0,emailstext)\n",
    "listTS1np = putinlist(setTS1np)\n",
    "listTS0np = setTS0np"
   ]
  },
  {
   "cell_type": "code",
   "execution_count": 46,
   "metadata": {},
   "outputs": [],
   "source": [
    "#in new but not old\n",
    "TS1onlynp = []\n",
    "for time in listTS1np:\n",
    "    if time in listTS0np:\n",
    "        pass\n",
    "    else:\n",
    "        TS1onlynp.append(time)\n",
    "        \n",
    "#in old but not new\n",
    "TS0onlynp = []\n",
    "for time in listTS0np:\n",
    "    if time in listTS1np:\n",
    "        pass\n",
    "    else:\n",
    "        TS0onlynp.append(time)"
   ]
  },
  {
   "cell_type": "code",
   "execution_count": 47,
   "metadata": {},
   "outputs": [
    {
     "data": {
      "text/plain": [
       "17845"
      ]
     },
     "execution_count": 47,
     "metadata": {},
     "output_type": "execute_result"
    }
   ],
   "source": [
    "len(TS0onlynp)"
   ]
  },
  {
   "cell_type": "code",
   "execution_count": 48,
   "metadata": {},
   "outputs": [
    {
     "data": {
      "text/plain": [
       "24250"
      ]
     },
     "execution_count": 48,
     "metadata": {},
     "output_type": "execute_result"
    }
   ],
   "source": [
    "len(TS1onlynp)"
   ]
  },
  {
   "cell_type": "code",
   "execution_count": 67,
   "metadata": {},
   "outputs": [
    {
     "data": {
      "text/plain": [
       "22043"
      ]
     },
     "execution_count": 67,
     "metadata": {},
     "output_type": "execute_result"
    }
   ],
   "source": [
    "len(re.findall(\"\\nFrom[:;]\",emailstext))"
   ]
  },
  {
   "cell_type": "code",
   "execution_count": 66,
   "metadata": {},
   "outputs": [
    {
     "data": {
      "text/plain": [
       "22431"
      ]
     },
     "execution_count": 66,
     "metadata": {},
     "output_type": "execute_result"
    }
   ],
   "source": [
    "len(re.findall(\"\\nTo[:;]\",emailstext))"
   ]
  },
  {
   "cell_type": "code",
   "execution_count": 68,
   "metadata": {},
   "outputs": [
    {
     "data": {
      "text/plain": [
       "0.9178846554236936"
      ]
     },
     "execution_count": 68,
     "metadata": {},
     "output_type": "execute_result"
    }
   ],
   "source": [
    "22043/24015"
   ]
  }
 ],
 "metadata": {
  "kernelspec": {
   "display_name": "Python 3",
   "language": "python",
   "name": "python3"
  },
  "language_info": {
   "codemirror_mode": {
    "name": "ipython",
    "version": 3
   },
   "file_extension": ".py",
   "mimetype": "text/x-python",
   "name": "python",
   "nbconvert_exporter": "python",
   "pygments_lexer": "ipython3",
   "version": "3.5.3"
  }
 },
 "nbformat": 4,
 "nbformat_minor": 4
}
