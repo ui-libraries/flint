{
 "cells": [
  {
   "cell_type": "code",
   "execution_count": 1,
   "metadata": {},
   "outputs": [],
   "source": [
    "import testmod\n",
    "import re\n",
    "from urllib import request"
   ]
  },
  {
   "cell_type": "code",
   "execution_count": 2,
   "metadata": {},
   "outputs": [],
   "source": [
    "f = open(\"allfilenames.txt\", \"r+\")\n",
    "deqsstr = f.read()\n",
    "\n",
    "s3_root = \"http://d1us66xhqwx73c.cloudfront.net/\"\n",
    "\n",
    "def getemails(deqslist):\n",
    "    emailstext = ''\n",
    "    for deq in deqslist:\n",
    "        url = s3_root + deq\n",
    "        response = request.urlopen(url)\n",
    "        raw_text = response.read().decode('utf8')\n",
    "        emailstext = \"\".join((raw_text, emailstext))\n",
    "    return emailstext\n"
   ]
  },
  {
   "cell_type": "code",
   "execution_count": 3,
   "metadata": {},
   "outputs": [],
   "source": [
    "deq01list = re.findall(\"deq01.b.*\", deqsstr)\n",
    "deq01 = ''.join(getemails(deq01list))"
   ]
  },
  {
   "cell_type": "code",
   "execution_count": 4,
   "metadata": {},
   "outputs": [],
   "source": [
    "deq02list = re.findall(\"deq02.b.*\", deqsstr)\n",
    "deq02 = ''.join(getemails(deq02list))"
   ]
  },
  {
   "cell_type": "code",
   "execution_count": 5,
   "metadata": {},
   "outputs": [],
   "source": [
    "deq03list = re.findall(\"deq03.b.*\", deqsstr)\n",
    "deq03 = ''.join(getemails(deq03list))"
   ]
  },
  {
   "cell_type": "code",
   "execution_count": 6,
   "metadata": {},
   "outputs": [],
   "source": [
    "deq04list = re.findall(\"deq04.b.*\", deqsstr)\n",
    "deq04 = ''.join(getemails(deq04list))\n",
    "deq09list = re.findall(\"deq09.b.*\", deqsstr)\n",
    "deq09 = ''.join(getemails(deq09list))"
   ]
  },
  {
   "cell_type": "code",
   "execution_count": 7,
   "metadata": {},
   "outputs": [],
   "source": [
    "deq10list = re.findall(\"deq10.b.*\", deqsstr)\n",
    "deq10 = ''.join(getemails(deq10list))\n",
    "deq11list = re.findall(\"deq11.b.*\", deqsstr)\n",
    "deq11 = ''.join(getemails(deq11list))\n",
    "deq12list = re.findall(\"deq12.b.*\", deqsstr)\n",
    "deq12 = ''.join(getemails(deq12list))\n",
    "deq14list = re.findall(\"deq14.b.*\", deqsstr)\n",
    "deq14 = ''.join(getemails(deq14list))"
   ]
  },
  {
   "cell_type": "code",
   "execution_count": 8,
   "metadata": {},
   "outputs": [],
   "source": [
    "deq15list = re.findall(\"deq15.b.*\", deqsstr)\n",
    "deq15 = ''.join(getemails(deq15list))\n",
    "deq16list = re.findall(\"deq16.b.*\", deqsstr)\n",
    "deq16 = ''.join(getemails(deq16list))\n",
    "deq17list = re.findall(\"deq17.b.*\", deqsstr)\n",
    "deq17 = ''.join(getemails(deq17list))"
   ]
  },
  {
   "cell_type": "code",
   "execution_count": 9,
   "metadata": {},
   "outputs": [],
   "source": [
    "deq18list = re.findall(\"deq18.b.*\", deqsstr)\n",
    "deq18 = ''.join(getemails(deq18list))"
   ]
  },
  {
   "cell_type": "code",
   "execution_count": 10,
   "metadata": {},
   "outputs": [],
   "source": [
    "deq19list = re.findall(\"deq19.b.*\", deqsstr)\n",
    "deq19 = ''.join(getemails(deq19list))\n",
    "deq20list = re.findall(\"deq20.b.*\", deqsstr)\n",
    "deq20 = ''.join(getemails(deq20list))"
   ]
  },
  {
   "cell_type": "code",
   "execution_count": null,
   "metadata": {},
   "outputs": [],
   "source": [
    "deq21list = re.findall(\"deq21.b.*\", deqsstr)\n",
    "deq21 = ''.join(getemails(deq21list))\n",
    "deq24list = re.findall(\"deq24.b.*\", deqsstr)\n",
    "deq24 = ''.join(getemails(deq24list))\n",
    "deq25list = re.findall(\"deq25.b.*\", deqsstr)\n",
    "deq25 = ''.join(getemails(deq25list))"
   ]
  },
  {
   "cell_type": "code",
   "execution_count": 28,
   "metadata": {},
   "outputs": [],
   "source": [
    "listdeqst = [(deq01,deq01list,1),(deq02,deq02list,2),(deq03,deq03list,3),(deq04,deq04list,4),(deq10,deq10list,10),(deq11,deq11list,11),(deq12,deq12list,12),(deq14,deq14list,14),(deq15,deq15list,15),(deq16,deq16list,16),(deq17,deq17list,17),(deq18,deq18list,18),(deq19,deq19list,19),(deq20,deq20list,20),(deq21,deq21list,21),(deq24,deq24list,24),(deq25,deq25list,25),]\n",
    "\n",
    "#combines all text into one big string of all the deqs\n",
    "deqtl = []\n",
    "for deq in listdeqst:\n",
    "    deqtl.extend(deq[0])\n",
    "emailstext = ''.join(deqtl)\n"
   ]
  },
  {
   "cell_type": "code",
   "execution_count": null,
   "metadata": {},
   "outputs": [],
   "source": [
    "# # # SENDERS & RECIEVERS # # #"
   ]
  },
  {
   "cell_type": "code",
   "execution_count": null,
   "metadata": {},
   "outputs": [],
   "source": [
    "def Bcc(deqemailstext):\n",
    "    x = re.findall(\"B[ec]c:.*\",deqemailstext)\n",
    "    return x\n",
    "def grabdescriptors(deqemailstext,deqlist):\n",
    "    print(\"\")\n",
    "    print(str(len(deqlist)) + \" text files\")\n",
    "    print(\"\")\n",
    "    print(str(len(testmod.getUnixTS(deqemailstext))) + \" total emails\")\n",
    "    print(str(len(testmod.getUnixTSnd(deqemailstext))) + \" unique emails\")\n",
    "    print(\"\")\n",
    "    print(str(len(testmod.listSubjects(deqemailstext))) + \" subject lines\")\n",
    "    print(\"\")\n",
    "    print(\"Bcc's found: \" + str(Bcc(deqemailstext)))\n",
    "    print(\"\")\n",
    "    testmod.descReceivers(deqemailstext)\n",
    "    print(\"\")\n",
    "    print(\"\")\n",
    "    testmod.descSenders(deqemailstext)"
   ]
  },
  {
   "cell_type": "code",
   "execution_count": null,
   "metadata": {
    "scrolled": true
   },
   "outputs": [
    {
     "name": "stdout",
     "output_type": "stream",
     "text": [
      "DESCRIPTIVES:\n",
      "\n",
      "\n",
      "***deq1\n",
      "\n",
      "4581 text files\n",
      "\n",
      "1287 total emails\n",
      "845 unique emails\n",
      "\n",
      "1269 subject lines\n",
      "\n",
      "Bcc's found: ['Bec: Cook, Pat (DEQ); Howard, Brock (DEQ)']\n",
      "\n",
      "- - - RECEIVER descriptives - - -\n",
      "3447 total receivers,\n",
      "2037 total receivers in To: line (59.09%)\n",
      "1410 total receivers in Cc: line (40.91%)\n",
      "\n",
      "223 unique, fixed receiver names.\n",
      "\n",
      "\n",
      "- - - SENDER descriptives - - -\n",
      "40 On...wrote sender lines. 1187 From: sender lines.\n",
      "1227 total froms and ons vs. 1160 senders found (94.54%)\n",
      "3.37% estimated to have an On...wrote header\n",
      "\n",
      "124 unique, fixed sender names.\n",
      "\n",
      "\n",
      "***deq2\n",
      "\n",
      "3795 text files\n",
      "\n",
      "1938 total emails\n",
      "1296 unique emails\n",
      "\n",
      "1819 subject lines\n",
      "\n",
      "Bcc's found: ['Bec: Devereaux, Tracy Jo (DEQ); Philip, Kris (DEQ); Cook, Pat (DEQ)', 'Bec: Shekter Smith, Liane (DEQ): Busch, Stephen (DEQ)']\n",
      "\n",
      "- - - RECEIVER descriptives - - -\n",
      "4958 total receivers,\n",
      "2850 total receivers in To: line (57.48%)\n",
      "2106 total receivers in Cc: line (42.48%)\n",
      "\n",
      "340 unique, fixed receiver names.\n",
      "\n",
      "\n",
      "- - - SENDER descriptives - - -\n",
      "123 On...wrote sender lines. 1681 From: sender lines.\n",
      "1804 total froms and ons vs. 1722 senders found (95.45%)\n",
      "7.32% estimated to have an On...wrote header\n",
      "\n",
      "204 unique, fixed sender names.\n",
      "\n",
      "\n",
      "***deq3\n",
      "\n",
      "4719 text files\n",
      "\n",
      "3802 total emails\n",
      "2215 unique emails\n",
      "\n",
      "3567 subject lines\n",
      "\n",
      "Bcc's found: ['Bec: Krisztian, George (DEQ)']\n",
      "\n",
      "- - - RECEIVER descriptives - - -\n",
      "9560 total receivers,\n",
      "5496 total receivers in To: line (57.49%)\n",
      "4063 total receivers in Cc: line (42.5%)\n",
      "\n",
      "441 unique, fixed receiver names.\n",
      "\n",
      "\n",
      "- - - SENDER descriptives - - -\n",
      "280 On...wrote sender lines. 3292 From: sender lines.\n",
      "3572 total froms and ons vs. 3484 senders found (97.54%)\n",
      "8.51% estimated to have an On...wrote header\n",
      "\n",
      "296 unique, fixed sender names.\n",
      "\n",
      "\n",
      "***deq4\n",
      "\n",
      "7131 text files\n",
      "\n",
      "5467 total emails\n",
      "2711 unique emails\n",
      "\n",
      "4861 subject lines\n",
      "\n",
      "Bcc's found: []\n",
      "\n",
      "- - - RECEIVER descriptives - - -\n",
      "14006 total receivers,\n",
      "7728 total receivers in To: line (55.18%)\n",
      "6276 total receivers in Cc: line (44.81%)\n",
      "\n",
      "581 unique, fixed receiver names.\n",
      "\n",
      "\n",
      "- - - SENDER descriptives - - -\n",
      "371 On...wrote sender lines. 4436 From: sender lines.\n",
      "4807 total froms and ons vs. 4635 senders found (96.42%)\n",
      "8.36% estimated to have an On...wrote header\n",
      "\n",
      "329 unique, fixed sender names.\n",
      "\n",
      "\n",
      "***deq10\n",
      "\n",
      "336 text files\n",
      "\n",
      "68 total emails\n",
      "67 unique emails\n",
      "\n",
      "98 subject lines\n",
      "\n",
      "Bcc's found: []\n",
      "\n",
      "- - - RECEIVER descriptives - - -\n",
      "167 total receivers,\n",
      "109 total receivers in To: line (65.27%)\n",
      "58 total receivers in Cc: line (34.73%)\n",
      "\n",
      "76 unique, fixed receiver names.\n",
      "\n",
      "\n",
      "- - - SENDER descriptives - - -\n",
      "13 On...wrote sender lines. 79 From: sender lines.\n",
      "92 total froms and ons vs. 80 senders found (86.96%)\n",
      "16.46% estimated to have an On...wrote header\n",
      "\n",
      "29 unique, fixed sender names.\n",
      "\n",
      "\n",
      "***deq11\n",
      "\n",
      "2147 text files\n",
      "\n"
     ]
    },
    {
     "name": "stderr",
     "output_type": "stream",
     "text": [
      "/home/bitnami/.local/lib/python3.5/site-packages/dateutil/parser/_parser.py:1218: UnknownTimezoneWarning: tzname C identified but not understood.  Pass `tzinfos` argument in order to correctly return a timezone-aware datetime.  In a future version, this will raise an exception.\n",
      "  category=UnknownTimezoneWarning)\n"
     ]
    },
    {
     "name": "stdout",
     "output_type": "stream",
     "text": [
      "657 total emails\n",
      "539 unique emails\n",
      "\n",
      "626 subject lines\n",
      "\n",
      "Bcc's found: []\n",
      "\n",
      "- - - RECEIVER descriptives - - -\n",
      "1176 total receivers,\n",
      "766 total receivers in To: line (65.14%)\n",
      "410 total receivers in Cc: line (34.86%)\n",
      "\n",
      "161 unique, fixed receiver names.\n",
      "\n",
      "\n",
      "- - - SENDER descriptives - - -\n",
      "52 On...wrote sender lines. 561 From: sender lines.\n",
      "613 total froms and ons vs. 581 senders found (94.78%)\n",
      "9.27% estimated to have an On...wrote header\n",
      "\n",
      "91 unique, fixed sender names.\n",
      "\n",
      "\n",
      "***deq12\n",
      "\n",
      "2299 text files\n",
      "\n",
      "385 total emails\n",
      "342 unique emails\n",
      "\n",
      "321 subject lines\n",
      "\n",
      "Bcc's found: []\n",
      "\n",
      "- - - RECEIVER descriptives - - -\n",
      "788 total receivers,\n",
      "443 total receivers in To: line (56.22%)\n",
      "345 total receivers in Cc: line (43.78%)\n",
      "\n",
      "112 unique, fixed receiver names.\n",
      "\n",
      "\n",
      "- - - SENDER descriptives - - -\n",
      "13 On...wrote sender lines. 289 From: sender lines.\n",
      "302 total froms and ons vs. 288 senders found (95.36%)\n",
      "4.5% estimated to have an On...wrote header\n",
      "\n",
      "71 unique, fixed sender names.\n",
      "\n",
      "\n",
      "***deq14\n",
      "\n",
      "3516 text files\n",
      "\n",
      "2157 total emails\n",
      "1389 unique emails\n",
      "\n",
      "1964 subject lines\n",
      "\n",
      "Bcc's found: []\n",
      "\n",
      "- - - RECEIVER descriptives - - -\n",
      "5178 total receivers,\n",
      "3087 total receivers in To: line (59.62%)\n",
      "2091 total receivers in Cc: line (40.38%)\n",
      "\n",
      "292 unique, fixed receiver names.\n",
      "\n",
      "\n",
      "- - - SENDER descriptives - - -\n",
      "218 On...wrote sender lines. 1826 From: sender lines.\n",
      "2044 total froms and ons vs. 2028 senders found (99.22%)\n",
      "11.94% estimated to have an On...wrote header\n",
      "\n",
      "200 unique, fixed sender names.\n",
      "\n",
      "\n",
      "***deq15\n",
      "\n",
      "2769 text files\n",
      "\n",
      "1810 total emails\n",
      "1291 unique emails\n",
      "\n",
      "1652 subject lines\n",
      "\n",
      "Bcc's found: []\n",
      "\n",
      "- - - RECEIVER descriptives - - -\n",
      "4557 total receivers,\n",
      "2575 total receivers in To: line (56.51%)\n",
      "1982 total receivers in Cc: line (43.49%)\n",
      "\n",
      "322 unique, fixed receiver names.\n",
      "\n",
      "\n",
      "- - - SENDER descriptives - - -\n",
      "179 On...wrote sender lines. 1561 From: sender lines.\n",
      "1740 total froms and ons vs. 1728 senders found (99.31%)\n",
      "11.47% estimated to have an On...wrote header\n",
      "\n",
      "196 unique, fixed sender names.\n",
      "\n",
      "\n",
      "***deq16\n",
      "\n",
      "4900 text files\n",
      "\n",
      "1514 total emails\n",
      "1124 unique emails\n",
      "\n",
      "1413 subject lines\n",
      "\n",
      "Bcc's found: []\n",
      "\n",
      "- - - RECEIVER descriptives - - -\n",
      "3608 total receivers,\n",
      "2103 total receivers in To: line (58.29%)\n",
      "1505 total receivers in Cc: line (41.71%)\n",
      "\n",
      "317 unique, fixed receiver names.\n",
      "\n",
      "\n",
      "- - - SENDER descriptives - - -\n",
      "135 On...wrote sender lines. 1325 From: sender lines.\n",
      "1460 total froms and ons vs. 1411 senders found (96.64%)\n",
      "10.19% estimated to have an On...wrote header\n",
      "\n",
      "170 unique, fixed sender names.\n",
      "\n",
      "\n",
      "***deq17\n",
      "\n",
      "2647 text files\n",
      "\n",
      "771 total emails\n",
      "602 unique emails\n",
      "\n",
      "706 subject lines\n",
      "\n",
      "Bcc's found: []\n",
      "\n",
      "- - - RECEIVER descriptives - - -\n",
      "1812 total receivers,\n",
      "1081 total receivers in To: line (59.66%)\n",
      "731 total receivers in Cc: line (40.34%)\n",
      "\n",
      "210 unique, fixed receiver names.\n",
      "\n",
      "\n",
      "- - - SENDER descriptives - - -\n",
      "42 On...wrote sender lines. 644 From: sender lines.\n",
      "686 total froms and ons vs. 672 senders found (97.96%)\n",
      "6.52% estimated to have an On...wrote header\n",
      "\n",
      "111 unique, fixed sender names.\n",
      "\n",
      "\n",
      "***deq18\n",
      "\n",
      "3746 text files\n",
      "\n",
      "875 total emails\n",
      "630 unique emails\n",
      "\n",
      "813 subject lines\n",
      "\n",
      "Bcc's found: []\n",
      "\n",
      "- - - RECEIVER descriptives - - -\n",
      "2218 total receivers,\n",
      "1268 total receivers in To: line (57.17%)\n",
      "950 total receivers in Cc: line (42.83%)\n",
      "\n",
      "252 unique, fixed receiver names.\n",
      "\n",
      "\n",
      "- - - SENDER descriptives - - -\n",
      "73 On...wrote sender lines. 681 From: sender lines.\n",
      "754 total froms and ons vs. 734 senders found (97.35%)\n",
      "10.72% estimated to have an On...wrote header\n",
      "\n",
      "138 unique, fixed sender names.\n",
      "\n",
      "\n",
      "***deq19\n",
      "\n",
      "1235 text files\n",
      "\n",
      "363 total emails\n",
      "313 unique emails\n",
      "\n",
      "365 subject lines\n",
      "\n",
      "Bcc's found: []\n",
      "\n",
      "- - - RECEIVER descriptives - - -\n",
      "924 total receivers,\n",
      "560 total receivers in To: line (60.61%)\n",
      "364 total receivers in Cc: line (39.39%)\n",
      "\n",
      "156 unique, fixed receiver names.\n",
      "\n",
      "\n",
      "- - - SENDER descriptives - - -\n",
      "31 On...wrote sender lines. 314 From: sender lines.\n",
      "345 total froms and ons vs. 337 senders found (97.68%)\n",
      "9.87% estimated to have an On...wrote header\n",
      "\n",
      "93 unique, fixed sender names.\n",
      "\n",
      "\n",
      "***deq20\n",
      "\n",
      "511 text files\n",
      "\n",
      "347 total emails\n",
      "287 unique emails\n",
      "\n",
      "324 subject lines\n",
      "\n",
      "Bcc's found: []\n",
      "\n",
      "- - - RECEIVER descriptives - - -\n",
      "807 total receivers,\n",
      "493 total receivers in To: line (61.09%)\n",
      "314 total receivers in Cc: line (38.91%)\n",
      "\n",
      "132 unique, fixed receiver names.\n",
      "\n",
      "\n",
      "- - - SENDER descriptives - - -\n",
      "17 On...wrote sender lines. 305 From: sender lines.\n",
      "322 total froms and ons vs. 315 senders found (97.83%)\n",
      "5.57% estimated to have an On...wrote header\n",
      "\n",
      "76 unique, fixed sender names.\n",
      "\n",
      "\n",
      "***deq21\n",
      "\n",
      "1875 text files\n",
      "\n",
      "1288 total emails\n",
      "1003 unique emails\n",
      "\n",
      "1202 subject lines\n",
      "\n",
      "Bcc's found: []\n",
      "\n",
      "- - - RECEIVER descriptives - - -\n",
      "3335 total receivers,\n",
      "1946 total receivers in To: line (58.35%)\n",
      "1389 total receivers in Cc: line (41.65%)\n",
      "\n",
      "317 unique, fixed receiver names.\n",
      "\n",
      "\n",
      "- - - SENDER descriptives - - -\n",
      "45 On...wrote sender lines. 1152 From: sender lines.\n",
      "1197 total froms and ons vs. 1177 senders found (98.33%)\n",
      "3.91% estimated to have an On...wrote header\n",
      "\n",
      "180 unique, fixed sender names.\n",
      "\n",
      "\n",
      "***deq24\n",
      "\n",
      "1896 text files\n",
      "\n",
      "853 total emails\n",
      "664 unique emails\n",
      "\n",
      "830 subject lines\n",
      "\n",
      "Bcc's found: []\n",
      "\n",
      "- - - RECEIVER descriptives - - -\n",
      "2343 total receivers,\n",
      "1458 total receivers in To: line (62.23%)\n",
      "885 total receivers in Cc: line (37.77%)\n",
      "\n",
      "277 unique, fixed receiver names.\n",
      "\n",
      "\n",
      "- - - SENDER descriptives - - -\n",
      "53 On...wrote sender lines. 708 From: sender lines.\n",
      "761 total froms and ons vs. 752 senders found (98.82%)\n",
      "7.49% estimated to have an On...wrote header\n",
      "\n",
      "148 unique, fixed sender names.\n",
      "\n",
      "\n",
      "***deq25\n",
      "\n",
      "3665 text files\n",
      "\n",
      "495 total emails\n",
      "376 unique emails\n",
      "\n",
      "459 subject lines\n",
      "\n",
      "Bcc's found: []\n",
      "\n",
      "- - - RECEIVER descriptives - - -\n",
      "1287 total receivers,\n",
      "831 total receivers in To: line (64.57%)\n",
      "456 total receivers in Cc: line (35.43%)\n",
      "\n",
      "211 unique, fixed receiver names.\n",
      "\n",
      "\n",
      "- - - SENDER descriptives - - -\n",
      "21 On...wrote sender lines. 450 From: sender lines.\n",
      "471 total froms and ons vs. 433 senders found (91.93%)\n",
      "4.67% estimated to have an On...wrote header\n",
      "\n",
      "107 unique, fixed sender names.\n"
     ]
    }
   ],
   "source": [
    "print(\"SENDER/RECIEVER DESCRIPTIVES:\")\n",
    "for item in listdeqst:\n",
    "    print(\"\")\n",
    "    print(\"\")\n",
    "    print(\"***deq\" + str(item[2]))\n",
    "    \n",
    "    \n",
    "    grabdescriptors(item[0],item[1])\n",
    "\n"
   ]
  },
  {
   "cell_type": "code",
   "execution_count": 65,
   "metadata": {
    "scrolled": true
   },
   "outputs": [
    {
     "name": "stdout",
     "output_type": "stream",
     "text": [
      "all receivers for deqs:\n"
     ]
    }
   ],
   "source": [
    "print(\"all receivers for deqs:\")\n",
    "totalrnames = []\n",
    "\n",
    "fnl = []\n",
    "for item in listdeqst:\n",
    "    x = testmod.findReceivers(item[0])\n",
    "    fnl.extend(x)\n",
    "    r = testmod.freqs(fnl)\n",
    "totalrnames.extend(r)\n",
    "#print(totalrnames)"
   ]
  },
  {
   "cell_type": "code",
   "execution_count": 66,
   "metadata": {},
   "outputs": [
    {
     "name": "stdout",
     "output_type": "stream",
     "text": [
      "all senders for deqs:\n"
     ]
    }
   ],
   "source": [
    "print(\"all senders for deqs:\")\n",
    "totalsnames = []\n",
    "\n",
    "fnl = []\n",
    "for item in listdeqst:\n",
    "    x = testmod.findSenders(item[0])\n",
    "    fnl.extend(x)\n",
    "    r = testmod.freqs(fnl)\n",
    "totalsnames.extend(r)\n",
    "#print(totalsnames)"
   ]
  },
  {
   "cell_type": "code",
   "execution_count": null,
   "metadata": {},
   "outputs": [],
   "source": [
    "#gets total list of names\n",
    "def namer(listfreq):\n",
    "    names = []\n",
    "    for pair in listfreq:\n",
    "        names.append(pair[0])\n",
    "    return names"
   ]
  },
  {
   "cell_type": "code",
   "execution_count": null,
   "metadata": {},
   "outputs": [],
   "source": [
    "lfsn = namer(totalsnames)\n",
    "lfrn = namer(totalrnames)\n",
    "grandlist = lfrn + lfsn\n",
    "print(\"# of total names: \" + str(len(grandlist)))"
   ]
  },
  {
   "cell_type": "code",
   "execution_count": null,
   "metadata": {},
   "outputs": [],
   "source": [
    "grandlist_d = list(dict.fromkeys(grandlist))\n",
    "print(\"# of total unique names: \" + str(len(grandlist_d)))"
   ]
  },
  {
   "cell_type": "code",
   "execution_count": 80,
   "metadata": {},
   "outputs": [],
   "source": [
    "sn1 = testmod.freqs(lfsn)\n",
    "rn1 = testmod.freqs(lfrn)"
   ]
  },
  {
   "cell_type": "code",
   "execution_count": 101,
   "metadata": {},
   "outputs": [
    {
     "name": "stdout",
     "output_type": "stream",
     "text": [
      "senders for freq > 500: \n",
      "[('Croft, Howard', 523), ('Krisztian, George', 613), ('Rosenthal, Adam', 643), ('Crooks, Jennifer', 821), ('Benzie, Richard', 1009), ('Wurfel, Brad', 1123), ('Prysby, Mike', 1626), ('Smith, Liane', 1714), ('Busch, Stephen', 2406)]\n",
      "\n",
      "recievers for freq > 500: \n",
      "[('Croft, Howard', 555), ('Wright, Brent', 653), ('Crooks, Jennifer', 821), ('Pallone, Maggie', 828), ('Cook, Pat', 923), ('Poy, Thomas', 1176), ('Shaler, Karen', 1189), ('Wyant, Dan', 1207), ('Thelen, Mary', 1215), ('Devereaux, Tracy', 1225), ('Krisztian, George', 1433), ('Rosenthal, Adam', 1444), ('Sygo, Jim', 1961), ('Wurfel, Brad', 2503), ('Benzie, Richard', 3727), ('Prysby, Mike', 4573), ('Smith, Liane', 5043), ('Busch, Stephen', 6212)]\n"
     ]
    }
   ],
   "source": [
    "listS = testmod.findSenders(emailstext)\n",
    "listR = testmod.findReceivers(emailstext)\n",
    "print(\"senders for freq > 500: \" + \"\\n\" + str(freqsnum(listS,500)))\n",
    "print(\"\")\n",
    "print(\"recievers for freq > 500: \" + \"\\n\" + str(freqsnum(listR,500)))"
   ]
  },
  {
   "cell_type": "code",
   "execution_count": 56,
   "metadata": {},
   "outputs": [
    {
     "name": "stdout",
     "output_type": "stream",
     "text": [
      "- - - SENDER descriptives - - -\n",
      "1706 On...wrote sender lines. 20491 From: sender lines.\n",
      "22197 total froms and ons vs. 21537 senders found (97.03%)\n",
      "8.33% estimated to have an On...wrote header\n",
      "\n",
      "871 unique, fixed sender names.\n"
     ]
    }
   ],
   "source": [
    "testmod.descSenders(emailstext)"
   ]
  },
  {
   "cell_type": "code",
   "execution_count": 58,
   "metadata": {},
   "outputs": [
    {
     "name": "stdout",
     "output_type": "stream",
     "text": [
      "- - - RECEIVER descriptives - - -\n",
      "60171 total receivers,\n",
      "34831 total receivers in To: line (57.89%)\n",
      "25335 total receivers in Cc: line (42.11%)\n",
      "\n",
      "1385 unique, fixed receiver names.\n"
     ]
    }
   ],
   "source": [
    "testmod.descReceivers(emailstext)"
   ]
  },
  {
   "cell_type": "code",
   "execution_count": null,
   "metadata": {},
   "outputs": [],
   "source": [
    "# SUBJECTS # "
   ]
  },
  {
   "cell_type": "code",
   "execution_count": 60,
   "metadata": {},
   "outputs": [
    {
     "data": {
      "text/plain": [
       "22289"
      ]
     },
     "execution_count": 60,
     "metadata": {},
     "output_type": "execute_result"
    }
   ],
   "source": [
    "len(testmod.listSubjects(emailstext))"
   ]
  },
  {
   "cell_type": "code",
   "execution_count": null,
   "metadata": {},
   "outputs": [],
   "source": [
    "# TIMESTAMPS (ts) #"
   ]
  },
  {
   "cell_type": "code",
   "execution_count": 39,
   "metadata": {},
   "outputs": [
    {
     "name": "stdout",
     "output_type": "stream",
     "text": [
      "24259 ts ... 24077 unix ts\n",
      "99.25% of ts unix-recognized\n",
      "\n",
      "without duplicates...\n",
      "9098 unix ts ... 7629 unix ts, joining ts w/in 100s of e/o\n"
     ]
    }
   ],
   "source": [
    "listTS = (testmod.getTS(emailstext))\n",
    "listuTS = (testmod.getUnixTS(emailstext))\n",
    "listuTSnd = testmod.getUnixTSnd\n",
    "listuTSndr = testmod.getUnixTSndr\n",
    "print(str(len(listTS)) + \" ts ... \" + str(len(listuTS)) + \" unix ts\")\n",
    "perc = (len(listuTS))/(len(listTS)) * 100\n",
    "print(str(round(perc,2)) + \"% of ts unix-recognized\")\n",
    "print(\"\")\n",
    "print(\"without duplicates...\")\n",
    "print(str(len(listuTSnd(emailstext))) + \" unix ts ... \" + str(len(listuTSndr(emailstext))) + \" unix ts, joining ts w/in 100s of e/o\")"
   ]
  },
  {
   "cell_type": "code",
   "execution_count": 40,
   "metadata": {},
   "outputs": [],
   "source": [
    "# EMPTYs #"
   ]
  },
  {
   "cell_type": "code",
   "execution_count": 41,
   "metadata": {},
   "outputs": [
    {
     "data": {
      "text/plain": [
       "534"
      ]
     },
     "execution_count": 41,
     "metadata": {},
     "output_type": "execute_result"
    }
   ],
   "source": [
    "emptyfroms = re.findall(\"\\nFrom[:;]\\s*\\n+\",emailstext)\n",
    "len(emptyfroms)"
   ]
  },
  {
   "cell_type": "code",
   "execution_count": 42,
   "metadata": {},
   "outputs": [
    {
     "data": {
      "text/plain": [
       "250"
      ]
     },
     "execution_count": 42,
     "metadata": {},
     "output_type": "execute_result"
    }
   ],
   "source": [
    "emptysents = re.findall(\"\\nSent[:;]\\s*\\n+\",emailstext)\n",
    "len(emptysents)"
   ]
  },
  {
   "cell_type": "code",
   "execution_count": 43,
   "metadata": {},
   "outputs": [
    {
     "data": {
      "text/plain": [
       "221"
      ]
     },
     "execution_count": 43,
     "metadata": {},
     "output_type": "execute_result"
    }
   ],
   "source": [
    "emptydates = re.findall(\"\\nDate[:;]\\s*\\n+\",emailstext)\n",
    "len(emptydates)"
   ]
  },
  {
   "cell_type": "code",
   "execution_count": 44,
   "metadata": {},
   "outputs": [
    {
     "data": {
      "text/plain": [
       "461"
      ]
     },
     "execution_count": 44,
     "metadata": {},
     "output_type": "execute_result"
    }
   ],
   "source": [
    "emptytos = re.findall(\"\\nTo[:;]\\s*\\n+\",emailstext)\n",
    "len(emptytos)"
   ]
  },
  {
   "cell_type": "code",
   "execution_count": null,
   "metadata": {},
   "outputs": [],
   "source": [
    "# compare timestamps #"
   ]
  },
  {
   "cell_type": "code",
   "execution_count": 45,
   "metadata": {},
   "outputs": [],
   "source": [
    "import datetime\n",
    "import dateutil.parser\n",
    "\n",
    "dtr1 = {\"Sent:\":\"Sent[:;](.*[AP][M])\",\"Date:\":\"Date[:;](.*[AP][M])\",\"On1\":\"On ([A-Z].*[AP][M]).* wro[tf]e:\"}\n",
    "dtr0 = {\n",
    "                'weekday month yearOrday yearORday hours:mins AMorPM':'\\\\b[A-Za-z]+\\s+[A-Za-z]+\\s+\\d+\\s+\\d+\\s+\\d+\\:\\d+\\s+[A-Z]+\\\\b',\n",
    "                'weekday month yearORday yearORday hours:mins:secs AMorPM':'\\\\b[A-Za-z]+\\s+[A-Za-z]+\\s+\\d+\\s+\\d+\\s+\\d+\\:\\d+\\:\\d+\\s+[A-Z]+\\\\b',\n",
    "                'yearORmonthORday-yearORmonthORday-yearORmonthORday:hours:mins:secs':'\\\\b\\d+\\-\\d+\\-\\d+\\:\\d+\\:\\d+\\:\\d+\\\\b',\n",
    "                'yearORmonthORday/yearORmonthORday/yearORmonthORday:hours:mins:secs':'\\\\b\\d+\\/\\d+\\/\\d+\\:\\d+\\:\\d+\\:\\d+\\\\b',\n",
    "                'yearORmonthORday-yearORmonthORday-yearORmonthORday-hours.mins.secs.millisecs':'\\\\b\\d+\\-\\d+\\-\\d+\\-\\d+\\.\\d+\\.\\d+\\.\\d+\\-\\d+\\\\b',\n",
    "                'yearORmonthORday/yearORmonthORday/yearORmonthORday-hours.mins.secs.millisecs':'\\\\b\\d+\\/\\d+\\/\\d+\\-\\d+\\.\\d+\\.\\d+\\.\\d+\\-\\d+\\\\b',\n",
    "                'yearORmonthORday-yearORmonthORday-yearORmonthORday-hours.mins.secs':'\\\\b\\d+\\-\\d+\\-\\d+\\-\\d+\\.\\d+\\.\\d+\\\\b',\n",
    "                'yearORmonthORday/yearORmonthORday/yearORmonthORday-hours.mins.secs':'\\\\b\\d+\\/\\d+\\/\\d+\\-\\d+\\.\\d+\\.\\d+\\\\b',\n",
    "                'yearORmonthORday-yearORmonthORday-yearORmonthORdayThours:mins:secs.millisecs':'\\\\b\\d+\\-\\d+\\-\\d+[A-Za-z]+\\d+\\:\\d+\\:\\d+\\.\\w+\\\\b',\n",
    "                'yearORmonthORday-yearORmonthORday-yearORmonthORdayThours:mins:secs+millisecs':'\\\\b\\d+\\-\\d+\\-\\d+[A-Za-z]+\\d+\\:\\d+\\:\\d+\\+\\d+\\\\b',\n",
    "                'yearORmonthORday-yearORmonthORday-yearORmonthORdayThours:mins:secs*millisecs':'\\\\b\\d+\\-\\d+\\-\\d+[A-Za-z]+\\d+\\:\\d+\\:\\d+\\*\\d+\\+\\d+\\\\b',\n",
    "                'yearORmonthORday-yearORmonthORday-yearORmonthORday*hours:mins:secs:millisecs':'\\\\b\\d+\\-\\d+\\-\\d+\\*\\d+\\:\\d+\\:\\d+\\:\\d+\\\\b',\n",
    "                'yearORmonthORday-yearORmonthORday-yearORmonthORday*hours:mins:secs':'\\\\b\\d+\\-\\d+\\-\\d+\\*\\d+\\:\\d+\\:\\d+\\\\b',\n",
    "                'yearORmonthORday-yearORmonthORday-yearORmonthORdayThours:mins:secs':'\\\\b\\d+\\-\\d+\\-\\d+[A-Za-z]+\\d+\\:\\d+\\:\\d+\\\\b',\n",
    "                'yearORmonthORday-yearORmonthORday-yearORmonthORday hours:mins:secs.millisecs':'\\\\b\\d+\\-\\d+\\-\\d+\\s+\\d+\\:\\d+\\:\\d+\\.\\w+\\\\b',\n",
    "                'yearORmonthORday/yearORmonthORday/yearORmonthORday hours:mins:secs:millisecs':'\\\\b\\d+\\/\\d+\\/\\d+\\s+\\d+\\:\\d+\\:\\d+\\:\\w+\\\\b',\n",
    "                'yearORmonthORday-yearORmonthORday-yearORmonthORday hours:mins:secs AMorPM':'\\\\b\\d+\\-\\d+\\-\\d+\\s+\\d+\\:\\d+\\:\\d+\\s+[A-Z]+\\\\b',\n",
    "                'yearORmonthORday-yearORmonthORday-yearORmonthORday hours:mins:secs':'\\\\b\\d+\\-\\d+\\-\\d+\\s+\\d+\\:\\d+\\:\\d+\\\\b',\n",
    "                'yearORmonthORday/yearORmonthORday/yearORmonthORday hours:mins:secs AMorPM':'\\\\b\\d+\\/\\d+\\/\\d+\\s+\\d+\\:\\d+\\:\\d+\\s+[A-Z]+\\\\b',\n",
    "                'yearORmonthORday/yearORmonthORday/yearORmonthORday hours:mins:secs':'\\\\b\\d+\\/\\d+\\/\\d+\\s+\\d+\\:\\d+\\:\\d+\\\\b',\n",
    "                'yearORmonthORday/yearORmonthORday/yearORmonthORday-hours:mins':'\\\\b\\d+\\/\\d+\\/\\d+\\-\\d+\\.\\d+\\\\b',\n",
    "                'yearORmonthORday-yearORmonthORday-yearORmonthORday-hours:mins':'\\\\b\\d+\\-\\d+\\-\\d+\\-\\d+\\.\\d+\\\\b',\n",
    "                'yearORmonthORday/yearORmonthORday/yearORmonthORday:hours:mins':'\\\\b\\d+\\/\\d+\\/\\d+\\:\\d+\\:\\d+\\\\b',\n",
    "                'yearORmonthORday-yearORmonthORday-yearORmonthORdayThours:mins':'\\\\b\\d+\\-\\d+\\-\\d+[A-Za-z]+\\d+\\:\\d+\\\\b',\n",
    "                'yearORmonthORday-yearORmonthORday-yearORmonthORday*hours:mins':'\\\\b\\d+\\-\\d+\\-\\d+\\*\\d+\\:\\d+\\\\b',\n",
    "                'yearORmonthORday/yearORmonthORday/yearORmonthORday hours:mins':'\\\\b\\d+\\/\\d+\\/\\d+\\s+\\d+\\:\\d+\\\\b',\n",
    "                'yearORmonthORday/yearORmonthORday/yearORmonthORday hours:mins AMorPM':'\\\\b\\d+\\/\\d+\\/\\d+\\s+\\d+\\:\\d+\\s+[A-Za-z]+\\\\b',\n",
    "                'yearORmonthORday-yearORmonthORday-yearORmonthORday hours:mins':'\\\\b\\d+\\-\\d+\\-\\d+\\s+\\d+\\:\\d+\\\\b',\n",
    "                'yearORmonthORday-yearORmonthORday-yearORmonthORday hours:mins AMorPM':'\\\\b\\d+\\-\\d+\\-\\d+\\s+\\d+\\:\\d+\\s+[A-Za-z]\\\\b',\n",
    "                'yearORday/month/yearORday:hours:mins:secs AMorPM':'\\\\b\\d+\\/[A-Za-z]+\\/\\d+\\:\\d+\\:\\d+\\:\\d+\\s+[A-Z]+\\\\b',\n",
    "                'yearORday/month/yearORday:hours:mins:secs':'\\\\b\\d+\\/[A-Za-z]+\\/\\d+\\:\\d+\\:\\d+\\:\\d+\\\\b',\n",
    "                'yearORday-month-yearORday:hours:mins:secs AMorPM':'\\\\b\\d+\\-[A-Za-z]+\\-\\d+\\:\\d+\\:\\d+\\:\\d+\\s+[A-Z]+\\\\b',\n",
    "                'yearORday-month-yearORday:hours:mins:secs':'\\\\b\\d+\\-[A-Za-z]+\\-\\d+\\:\\d+\\:\\d+\\:\\d+\\\\b',\n",
    "                'month/yearORday/yearORday:hours:mins:secs AMorPM':'\\\\b[A-Za-z]+\\/\\d+\\/\\d+\\:\\d+\\:\\d+\\:\\d+\\s+[A-Z]+\\\\b',\n",
    "                'month/yearORday/yearORday:hours:mins:secs':'\\\\b[A-Za-z]+\\/\\d+\\/\\d+\\:\\d+\\:\\d+\\:\\d+\\\\b',\n",
    "                'month-yearORday-yearORday:hours:mins:secs AMorPM':'\\\\b[A-Za-z]+\\-\\d+\\-\\d+\\:\\d+\\:\\d+\\:\\d+\\s+[A-Z]+\\\\b',\n",
    "                'month-yearORday-yearORday:hours:mins:secs':'\\\\b[A-Za-z]+\\-\\d+\\-\\d+\\:\\d+\\:\\d+\\:\\d+\\\\b',\n",
    "                'yearORday/month/yearORday hours:mins:secs AMorPM':'\\\\b\\d+\\/[A-Za-z]+\\/\\d+\\s+\\d+\\:\\d+\\:\\d+\\s+[A-Z]+\\\\b',\n",
    "                'yearORday/month/yearORday hours:mins:secs':'\\\\b\\d+\\/[A-Za-z]+\\/\\d+\\s+\\d+\\:\\d+\\:\\d+\\\\b',\n",
    "                'yearORday-month-yearORday hours:mins:secs AMorPM':'\\\\b\\d+\\-[A-Za-z]+\\-\\d+\\s+\\d+\\:\\d+\\:\\d+\\s+[A-Z]+\\\\b',\n",
    "                'yearORday-month-yearORday hours:mins:secs':'\\\\b\\d+\\-[A-Za-z]+\\-\\d+\\s+\\d+\\:\\d+\\:\\d+\\\\b',\n",
    "                'month/yearORday/yearORday hours:mins:secs AMorPM':'\\\\b[A-Za-z]+\\/\\d+\\/\\d+\\s+\\d+\\:\\d+\\:\\d+\\s+[A-Z]+\\\\b',\n",
    "                'month/yearORday/yearORday hours:mins:secs':'\\\\b[A-Za-z]+\\/\\d+\\/\\d+\\s+\\d+\\:\\d+\\:\\d+\\\\b',\n",
    "                'month-yearORday-yearORday hours:mins:secs AMorPM':'\\\\b[A-Za-z]+\\-\\d+\\-\\d+\\s+\\d+\\:\\d+\\:\\d+\\s+[A-Z]+\\\\b',\n",
    "                'month-yearORday-yearORday hours:mins:secs':'\\\\b[A-Za-z]+\\-\\d+\\-\\d+\\s+\\d+\\:\\d+\\:\\d+\\\\b',\n",
    "                'yearORday month yearORday hours:mins:secs.millisecs':'\\\\b\\d+\\s+[A-Za-z]+\\s+\\d+\\s+\\d+\\:\\d+\\:\\d+\\.\\d+\\\\b',\n",
    "                'month dayORyear hours:mins:secs +millisecs dayORyear':'\\\\b[A-Za-z]+\\s+\\d+\\s+\\d+\\:\\d+\\:\\d+\\s+\\+\\d+\\s+\\d+\\\\b',\n",
    "                'month dayORyear hours:mins:secs dayORyear':'\\\\b[A-Za-z]+\\s+\\d+\\s+\\d+\\:\\d+\\:\\d+\\s+\\d+\\\\b',\n",
    "                'month dayORyear dayORyear hours:mins:secs AMorPM':'\\\\b[A-Za-z]+\\s+\\d+\\s+\\d+\\s+\\d+\\:\\d+\\:\\d+\\s+[A-Z]+\\\\b',\n",
    "                'month dayORyear dayORyear hours:mins:secs':'\\\\b[A-Za-z]+\\s+\\d+\\s+\\d+\\s+\\d+\\:\\d+\\:\\d+\\\\b',\n",
    "                'month dayORyear hours:mins:secs +millisecs':'\\\\b[A-Za-z]+\\s+\\d+\\s+\\d+\\:\\d+\\:\\d+\\s+\\+\\d+\\\\b',\n",
    "                'dayORyear month dayORyear hours:mins:secs':'\\\\b\\d+\\s+[A-Za-z]+\\s+\\d+\\s+\\d+\\:\\d+\\:\\d+\\\\b',\n",
    "                'month dayORyear hours:mins:secs':'\\\\b[A-Za-z]+\\s+\\d+\\s+\\d+\\:\\d+\\:\\d+\\\\b',\n",
    "                'yearORmonthORday/yearORmonthORday/yearORmonthORday':'\\\\b\\d+\\/\\d+\\/\\d+\\*\\d+\\:\\d+\\:\\d+\\\\b',\n",
    "                'yearORday/month/yearORday:hours:mins AMorPM':'\\\\b\\d+\\/[A-Za-z]+\\d+\\:\\d+\\:\\d+\\s+[A-Za-z]+\\\\b',\n",
    "                'yearORday/month/yearORday:hours:mins':'\\\\b\\d+\\/[A-Za-z]+\\/\\d+\\:\\d+\\:\\d+\\\\b',\n",
    "                'yearORday-month-yearORday:hours:mins AMorPM':'\\\\b\\d+\\-[A-Za-z]+\\-\\d+\\:\\d+\\:\\d+\\s+[A-Za-z]+\\\\b',\n",
    "                'yearORday-month-yearORday:hours:mins':'\\\\b\\d+\\-[A-Za-z]+\\-\\d+\\:\\d+\\:\\d+\\\\b',\n",
    "                'month-yearORday-yearORday:hours:mins AMorPM':'\\\\b[A-Za-z]+\\-\\d+\\-\\d+\\:\\d+\\:\\d+\\s+[A-Za-z]+\\\\b',\n",
    "                'month-yearORday-yearORday:hours:mins':'\\\\b[A-Za-z]+\\-\\d+\\-\\d+\\:\\d+\\:\\d+\\\\b',\n",
    "                'month/yearORday/yearORday:hours:mins AMorPM':'\\\\b[A-Za-z]+\\/\\d+\\/\\d+\\:\\d+\\:\\d+\\s+[A-Za-z]+\\\\b',\n",
    "                'month/yearORday/yearORday:hours:mins':'\\\\b[A-Za-z]+\\/\\d+\\/\\d+\\:\\d+\\:\\d+\\\\b',\n",
    "                'yearORday/month/yearORday hours:mins AMorPM':'\\\\b\\d+\\/[A-Za-z]+\\/\\d+\\s+\\d+\\:\\d+\\s+[A-Za-z]+\\\\b',\n",
    "                'yearORday/month/yearORday hours:mins':'\\\\b\\d+\\/[A-Za-z]+\\/\\d+\\s+\\d+\\:\\d+\\\\b',\n",
    "                'yearORday-month-yearORday hours:mins AMorPM':'\\\\b\\d+\\-[A-Za-z]+\\-\\d+\\s+\\d+\\:\\d+\\s+[A-Za-z]+\\\\b',\n",
    "                'yearORday-month-yearORday hours:mins':'\\\\b\\d+\\-[A-Za-z]+\\-\\d+\\s+\\d+\\:\\d+\\\\b',\n",
    "                'month/yearORday/yearORday hours:mins AMorPM':'\\\\b[A-Za-z]\\/\\d+\\/\\d+\\s+\\d+\\:\\d+\\s+[A-Za-z]+\\\\b',\n",
    "                'month/yearORday/yearORday hours:mins':'\\\\b[A-Za-z]\\/\\d+\\/\\d+\\s+\\d+\\:\\d+\\\\b',\n",
    "                'month-yearORday-yearORday hours:mins AMorPM':'\\\\b[A-Za-z]+\\-\\d+\\-\\d+\\s+\\d+\\:\\d+\\s+[A-Za-z]+\\\\b',\n",
    "                'month-yearORday-yearORday hours:mins':'\\\\b[A-Za-z]+\\-\\d+\\-\\d+\\s+\\d+\\:\\d+\\\\b',\n",
    "                'year month day hours:mins':'\\\\b\\d+\\s+[A-Za-z]+\\s+\\d+\\s+\\d+\\:\\d+\\\\b',\n",
    "                'month day hours:mins year':'\\\\b[A-Za-z]+\\s+\\d+\\s+\\d+\\:\\d+\\s+\\d+\\\\b',\n",
    "                'month day hours:mins':'\\\\b[A-Za-z]+\\s+\\d+\\s+\\d+\\:\\d+\\\\b',\n",
    "                'month day year hours:mins AMorPM':'\\\\b[A-Za-z]+\\s+\\d+\\s+\\d+\\s+\\d+\\:\\d+\\s+[A-Za-z]+\\\\b',\n",
    "                'month day year hours:mins':'\\\\b[A-Za-z]+\\s+\\d+\\s+\\d+\\s+\\d+\\:\\d+\\\\b',\n",
    "                'on weekday, month day, year at hours:mins AMorPM':'\\\\b[a-z]+\\s+[A-Za-z]+\\s+[A-Za-z]+\\s+\\d+\\s+\\d+\\s+[a-z]+\\s+\\d+\\:\\d+\\s+[A-Za-z]+\\\\b',\n",
    "                'on month day, year, at hours:mins AMorPM':'\\\\b[a-z]+\\s+[A-Za-z]+\\s+\\d+\\s+\\d+\\s+[a-z]+\\s+\\d+\\:\\d+\\s+[A-Za-z]+\\\\b'\n",
    "                }\n",
    "\n",
    "def preprocess(x):\n",
    "    x = x.replace('\\t',' ')\n",
    "    #x = x.replace('\\n',' ')\n",
    "    x = x.replace('(',' ')\n",
    "    x = x.replace(')',' ')\n",
    "    x = x.replace('[',' ')\n",
    "    x = x.replace(']',' ')\n",
    "    x = x.replace('{',' ')\n",
    "    x = x.replace('}',' ')\n",
    "    x = x.replace(',',' ')\n",
    "    x = x.replace('\"','')\n",
    "    x = x.replace(\"'\",'')\n",
    "    x = x.replace(\"_\",\"\")\n",
    "    x = x.replace(\"-\",\"\")\n",
    "    x = x.replace(\"|\",\"\")\n",
    "    x = x.replace(\"~\",\"\")\n",
    "    x = x.replace(\".\",\"\")\n",
    "    x = x.replace(\"+\",\"\")\n",
    "    x = x.replace(\"=\",\"\")\n",
    "    x = x.replace(\"C \",\"\")\n",
    "    x = x.replace(\"o \",\"\")\n",
    "    x = x.replace(\";\",\":\")\n",
    "    x = x.replace(\"; \",\"\")\n",
    "    x = x.replace(\"`\",\"\")\n",
    "    x = x.replace(\"y:\",\"y\")\n",
    "    x = x.replace(\"?\",\"2\")\n",
    "    x = x.replace(\"‘\",\"\")\n",
    "    return(x)\n",
    "\n",
    "\n",
    "reg1 = '|'.join(dtr1.values())\n",
    "reg0 = '|'.join(dtr0.values())\n",
    "\n",
    "def DateTimeExtractor(reg,x):\n",
    "    x = preprocess(x)\n",
    "    DT = re.findall(reg,x)\n",
    "    return(DT)\n",
    "\n",
    "def DateTimeExtractornopp (reg,x):\n",
    "    DT = re.findall(reg,x)\n",
    "    return(DT)\n",
    "\n",
    "def toUnixTime(time_list):\n",
    "    new_list = []\n",
    "    for t in time_list:\n",
    "        try:\n",
    "            unixtime = dateutil.parser.parse(t).timestamp()\n",
    "            new_list.append(unixtime)\n",
    "        except Exception:\n",
    "            pass  \n",
    "    return new_list"
   ]
  },
  {
   "cell_type": "code",
   "execution_count": 46,
   "metadata": {},
   "outputs": [],
   "source": [
    "setTS1 = DateTimeExtractor(reg1,emailstext)\n",
    "setTS0 = DateTimeExtractor(reg0,emailstext)\n",
    "def putinlist(setTS):\n",
    "    listTS = []\n",
    "    for trio in setTS:\n",
    "        for timestamp in trio:\n",
    "            if timestamp == '':\n",
    "                pass\n",
    "            else:\n",
    "                k = timestamp.replace(\" :\",\"\")\n",
    "                listTS.append(k)\n",
    "    return listTS"
   ]
  },
  {
   "cell_type": "code",
   "execution_count": 48,
   "metadata": {},
   "outputs": [
    {
     "name": "stdout",
     "output_type": "stream",
     "text": [
      "new method yields 24259 timestamps and 23574 unix timestamps\n",
      "old method yields 38403 timestamps and 37257 unix timestamps\n",
      "\n",
      "estimated # of emails...\n",
      "number of senders = 21537\n",
      "number of froms + ons = 22224\n"
     ]
    }
   ],
   "source": [
    "listTS1 = putinlist(setTS1)\n",
    "unixtimes1 = toUnixTime(listTS1)\n",
    "print(\"new method yields \" + str(len(listTS1)) + \" timestamps and \" + str(len(unixtimes1)) + \" unix timestamps\")\n",
    "\n",
    "listTS0 = setTS0\n",
    "unixtimes0 = toUnixTime(listTS0)\n",
    "len(unixtimes0)\n",
    "print(\"old method yields \" + str(len(listTS0)) + \" timestamps and \" + str(len(unixtimes0)) + \" unix timestamps\")\n",
    "print(\"\")\n",
    "\n",
    "print(\"estimated # of emails...\")\n",
    "print(\"number of senders = \" + str(len(testmod.findSenders(emailstext))))\n",
    "i = re.findall(\"\\n[> ]*From[:;]+.[A-Za-z].*\",emailstext)\n",
    "e = re.findall(\"On.*wro[tf]e[:;\\n]\",emailstext)\n",
    "print(\"number of froms + ons = \" + str(len(i + e)))"
   ]
  },
  {
   "cell_type": "code",
   "execution_count": 49,
   "metadata": {},
   "outputs": [],
   "source": [
    "setTS1np = DateTimeExtractornopp(reg1,emailstext)\n",
    "setTS0np = DateTimeExtractornopp(reg0,emailstext)\n",
    "listTS1np = putinlist(setTS1np)\n",
    "listTS0np = setTS0np"
   ]
  },
  {
   "cell_type": "code",
   "execution_count": 50,
   "metadata": {},
   "outputs": [],
   "source": [
    "#in new but not old\n",
    "TS1onlynp = []\n",
    "for time in listTS1np:\n",
    "    if time in listTS0np:\n",
    "        pass\n",
    "    else:\n",
    "        TS1onlynp.append(time)\n",
    "        \n",
    "#in old but not new\n",
    "TS0onlynp = []\n",
    "for time in listTS0np:\n",
    "    if time in listTS1np:\n",
    "        pass\n",
    "    else:\n",
    "        TS0onlynp.append(time)"
   ]
  },
  {
   "cell_type": "code",
   "execution_count": 51,
   "metadata": {},
   "outputs": [
    {
     "data": {
      "text/plain": [
       "17920"
      ]
     },
     "execution_count": 51,
     "metadata": {},
     "output_type": "execute_result"
    }
   ],
   "source": [
    "len(TS0onlynp)"
   ]
  },
  {
   "cell_type": "code",
   "execution_count": 52,
   "metadata": {},
   "outputs": [
    {
     "data": {
      "text/plain": [
       "24249"
      ]
     },
     "execution_count": 52,
     "metadata": {},
     "output_type": "execute_result"
    }
   ],
   "source": [
    "len(TS1onlynp)"
   ]
  }
 ],
 "metadata": {
  "kernelspec": {
   "display_name": "Python 3",
   "language": "python",
   "name": "python3"
  },
  "language_info": {
   "codemirror_mode": {
    "name": "ipython",
    "version": 3
   },
   "file_extension": ".py",
   "mimetype": "text/x-python",
   "name": "python",
   "nbconvert_exporter": "python",
   "pygments_lexer": "ipython3",
   "version": "3.5.3"
  }
 },
 "nbformat": 4,
 "nbformat_minor": 4
}
