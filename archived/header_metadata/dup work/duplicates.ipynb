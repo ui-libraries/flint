{
 "cells": [
  {
   "cell_type": "code",
   "execution_count": 1,
   "metadata": {},
   "outputs": [],
   "source": [
    "import emails\n",
    "import hme\n",
    "import dupl\n",
    "import uts\n",
    "import re\n",
    "import csv"
   ]
  },
  {
   "cell_type": "code",
   "execution_count": 5,
   "metadata": {},
   "outputs": [],
   "source": [
    "emailstext = emails.getAll(\"allfilenames.txt\")"
   ]
  },
  {
   "cell_type": "code",
   "execution_count": 6,
   "metadata": {},
   "outputs": [],
   "source": [
    "def machine(bmpgl_emailstext, METHOD, R, ):\n",
    "    Sdeqs = []\n",
    "    if METHOD == 'bm':\n",
    "        listbms = re.split(\"BOOKMARKend---\",bmpgl_emailstext)\n",
    "        for bm in listbms:\n",
    "            listTS = uts.getUnixTS(bm) #1*\n",
    "            listTSr = uts.getUnixTSr(bm) #1*\n",
    "            listSo = dupl.findRawSenders_bm(bm) #2*\n",
    "            deqfile = re.findall(\"deq.*.txt\",bm) #0\n",
    "            if deqfile == [] or listTS == [] or listSo == []:\n",
    "                pass\n",
    "            else:\n",
    "                dfroot = re.findall(\"(deq.._b[0-9]*_[0-9]+_[0-9]+_)[0-9]+.txt\",bm)\n",
    "                dfroot_X = str(dfroot[0] + \"X\")\n",
    "                if R == \"round\":\n",
    "                    Sdeq = (dfroot_X,listTSr,listSo)\n",
    "                    Sdeqs.append(Sdeq)\n",
    "                elif R == \"no round\":\n",
    "                    Sdeq = (dfroot_X,listTS,listSo)\n",
    "                    Sdeqs.append(Sdeq)\n",
    "                else:\n",
    "                    print(\"\"\"do you want to round unix ts? print 'round' or 'no round' in third pos\"\"\")\n",
    "                    break\n",
    "\n",
    "        return Sdeqs\n",
    "    elif METHOD == 'pg':\n",
    "        Sdeqs = []\n",
    "        listpgs = re.split(\"---endPAGE\",bmpgl_emailstext)\n",
    "        for pg in listpgs:\n",
    "            listTS = uts.getUnixTS(pg) #1*\n",
    "            listTSr = uts.getUnixTSr(pg) #1*\n",
    "            listSo = dupl.findRawSenders_pg(pg) #2*\n",
    "            deqfile = re.findall(\"deq.*.txt\",pg) #0\n",
    "            if deqfile == [] or listTS == [] or listSo == []:\n",
    "                pass\n",
    "            else:\n",
    "                if R == \"round\":\n",
    "                    Sdeq = (deqfile[0],listTSr,listSo)#listRo,listSub)\n",
    "                    Sdeqs.append(Sdeq)\n",
    "                elif R == \"no round\":\n",
    "                    Sdeq = (deqfile[0],listTS,listSo)#listRo,listSub)\n",
    "                    Sdeqs.append(Sdeq)\n",
    "                else:\n",
    "                    print(\"\"\"do you want to round unix ts? print 'round' or 'no round' in third pos\"\"\")\n",
    "                    break\n",
    "        return Sdeqs\n",
    "    else:\n",
    "        print(\"invalid METHOD. try 'bm' or 'pg' in second position\")"
   ]
  },
  {
   "cell_type": "code",
   "execution_count": 7,
   "metadata": {},
   "outputs": [
    {
     "name": "stderr",
     "output_type": "stream",
     "text": [
      "/home/bitnami/.local/lib/python3.5/site-packages/dateutil/parser/_parser.py:1218: UnknownTimezoneWarning: tzname EST identified but not understood.  Pass `tzinfos` argument in order to correctly return a timezone-aware datetime.  In a future version, this will raise an exception.\n",
      "  category=UnknownTimezoneWarning)\n",
      "/home/bitnami/.local/lib/python3.5/site-packages/dateutil/parser/_parser.py:1218: UnknownTimezoneWarning: tzname EDT identified but not understood.  Pass `tzinfos` argument in order to correctly return a timezone-aware datetime.  In a future version, this will raise an exception.\n",
      "  category=UnknownTimezoneWarning)\n",
      "/home/bitnami/.local/lib/python3.5/site-packages/dateutil/parser/_parser.py:1218: UnknownTimezoneWarning: tzname EDY identified but not understood.  Pass `tzinfos` argument in order to correctly return a timezone-aware datetime.  In a future version, this will raise an exception.\n",
      "  category=UnknownTimezoneWarning)\n",
      "/home/bitnami/.local/lib/python3.5/site-packages/dateutil/parser/_parser.py:1218: UnknownTimezoneWarning: tzname AV identified but not understood.  Pass `tzinfos` argument in order to correctly return a timezone-aware datetime.  In a future version, this will raise an exception.\n",
      "  category=UnknownTimezoneWarning)\n",
      "/home/bitnami/.local/lib/python3.5/site-packages/dateutil/parser/_parser.py:1218: UnknownTimezoneWarning: tzname C identified but not understood.  Pass `tzinfos` argument in order to correctly return a timezone-aware datetime.  In a future version, this will raise an exception.\n",
      "  category=UnknownTimezoneWarning)\n",
      "/home/bitnami/.local/lib/python3.5/site-packages/dateutil/parser/_parser.py:1218: UnknownTimezoneWarning: tzname FM identified but not understood.  Pass `tzinfos` argument in order to correctly return a timezone-aware datetime.  In a future version, this will raise an exception.\n",
      "  category=UnknownTimezoneWarning)\n",
      "/home/bitnami/.local/lib/python3.5/site-packages/dateutil/parser/_parser.py:1218: UnknownTimezoneWarning: tzname PV identified but not understood.  Pass `tzinfos` argument in order to correctly return a timezone-aware datetime.  In a future version, this will raise an exception.\n",
      "  category=UnknownTimezoneWarning)\n",
      "/home/bitnami/.local/lib/python3.5/site-packages/dateutil/parser/_parser.py:1218: UnknownTimezoneWarning: tzname EOT identified but not understood.  Pass `tzinfos` argument in order to correctly return a timezone-aware datetime.  In a future version, this will raise an exception.\n",
      "  category=UnknownTimezoneWarning)\n"
     ]
    }
   ],
   "source": [
    "#STEP 1:\n",
    "#format -- ('deqfile',[list of uts],[list of senders])\n",
    "deqbm = machine(emailstext,'bm','round')\n",
    "deqpg = machine(emailstext,'pg','round')"
   ]
  },
  {
   "cell_type": "code",
   "execution_count": 122,
   "metadata": {},
   "outputs": [
    {
     "data": {
      "text/plain": [
       "[('deq01_b33_3579_3579_X', [1412080600], ['Busch, Stephen']),\n",
       " ('deq01_b378_4225_4226_X',\n",
       "  ['NOTIMESTAMP', 1437739700],\n",
       "  ['NOSENDER', 'Wurfel, Brad']),\n",
       " ('deq01_b150_3778_3782_X',\n",
       "  ['NOTIMESTAMP', 1426777500, 1426767300, 1426261600, 1426012800],\n",
       "  ['NOSENDER',\n",
       "   'Busch, Stephen',\n",
       "   'Henry, James',\n",
       "   'Busch, Stephen',\n",
       "   'Henry, James']),\n",
       " ('deq01_b412_4298_4299_X',\n",
       "  [1380098700, 1380096100, 1380033800],\n",
       "  ['Busz, Rick', 'Cook, Pat', 'Rusz, Rick']),\n",
       " ('deq01_b355_4185_4186_X',\n",
       "  [1402579200, 1402579000],\n",
       "  ['Wurfel, Brad', 'Busch, Stephen'])]"
      ]
     },
     "execution_count": 122,
     "metadata": {},
     "output_type": "execute_result"
    }
   ],
   "source": [
    "#here's what this looks like\n",
    "deqbm[0:5]"
   ]
  },
  {
   "cell_type": "code",
   "execution_count": 33,
   "metadata": {},
   "outputs": [
    {
     "data": {
      "text/plain": [
       "10799"
      ]
     },
     "execution_count": 33,
     "metadata": {},
     "output_type": "execute_result"
    }
   ],
   "source": [
    "#STEP 3, part 1: takes the short files from deqbm and the long files from deqpg\n",
    "sdeqbm = dupl.shortbm(deqbm,11) #takes <11\n",
    "ldeqpg = dupl.longpg(deqpg,10) #takes >10\n",
    "total = len(sdeqbm) + len(ldeqpg)\n",
    "total"
   ]
  },
  {
   "cell_type": "code",
   "execution_count": 9,
   "metadata": {},
   "outputs": [
    {
     "data": {
      "text/plain": [
       "10249"
      ]
     },
     "execution_count": 9,
     "metadata": {},
     "output_type": "execute_result"
    }
   ],
   "source": [
    "#STEP 3, part 2: take only the files where len(utslist) = len(senderlist)\n",
    "sdeqslist = []\n",
    "for deqs in sdeqbm:\n",
    "    if len(deqs[1]) == len(deqs[2]):\n",
    "        sdeqslist.append(deqs)\n",
    "(sdeqslist)\n",
    "\n",
    "ldeqslist = []\n",
    "for deqs in ldeqpg:\n",
    "    if len(deqs[1]) == len(deqs[2]):\n",
    "        ldeqslist.append(deqs)\n",
    "lpg_sbm = list(ldeqslist+sdeqslist)\n",
    "len(ldeqslist) + len(sdeqslist)"
   ]
  },
  {
   "cell_type": "code",
   "execution_count": 197,
   "metadata": {},
   "outputs": [
    {
     "data": {
      "text/plain": [
       "[('deq01_b1_1_1275_110.txt',\n",
       "  [1431597000, 1431593600, 1431529600],\n",
       "  ['Rosenthal, Adam', 'Glasgow, Michael', 'Rosenthal, Adam']),\n",
       " ('deq01_b1_1_1275_111.txt',\n",
       "  [1431518000, 1431448300],\n",
       "  ['Glasgow, Michael', 'Rosenthal, Adam']),\n",
       " ('deq01_b1_1_1275_113.txt',\n",
       "  [1431529700, 1431518000, 1431448300],\n",
       "  ['Rosenthal, Adam', 'Glasgow, Michael', 'Rosenthal, Adam']),\n",
       " ('deq01_b1_1_1275_115.txt',\n",
       "  [1423492600, 1423490400, 1423488000],\n",
       "  ['Rosenthal, Adam', 'Glasgow, Michael', 'Rosenthal, Adam']),\n",
       " ('deq01_b1_1_1275_118.txt', [1444924500], ['Feuerstein, Heather'])]"
      ]
     },
     "execution_count": 197,
     "metadata": {},
     "output_type": "execute_result"
    }
   ],
   "source": [
    "# here's what this looks like\n",
    "lpg_sbm[30:35]"
   ]
  },
  {
   "cell_type": "code",
   "execution_count": 202,
   "metadata": {},
   "outputs": [
    {
     "data": {
      "text/plain": [
       "[((1366306400, 'Donaldson, Kristina'),\n",
       "  ['deq04_b579_6765_7195_236.txt', 'deq21_b1_1_1811_1550.txt']),\n",
       " ((1366307300, 'Benzie, Richard'), ['deq21_b1_1_1811_1550.txt']),\n",
       " ((1366313100, 'Thelen, Mary Beth'), ['deq24_b575_1489_1489_X']),\n",
       " ((1366315600, 'Anderson, Madhu'), ['deq12_b155_684_684_X']),\n",
       " ((1366359500, 'Shekter Smith, Liane'),\n",
       "  ['deq03_b1_1_4717_282.txt', 'deq21_b1_1_1811_588.txt'])]"
      ]
     },
     "execution_count": 202,
     "metadata": {},
     "output_type": "execute_result"
    }
   ],
   "source": [
    "#STEP 4: change unit of analysis to 'email'\n",
    "em_deqf = dupl.resortbyUTS(lpg_sbm)\n",
    "em_deqf[745:750]"
   ]
  },
  {
   "cell_type": "code",
   "execution_count": null,
   "metadata": {},
   "outputs": [],
   "source": [
    "# TYPE B DUPS"
   ]
  },
  {
   "cell_type": "code",
   "execution_count": 209,
   "metadata": {},
   "outputs": [],
   "source": [
    "#STEP 5B:\n",
    "em_deqfB = []\n",
    "for elem in em_deqf:\n",
    "    us = elem[0]\n",
    "    deqf = elem[1]\n",
    "    uts=us[0]\n",
    "    sndr=us[1]\n",
    "    if uts != 'NOTIMESTAMP':\n",
    "        em_deqfB.append(elem) #em_deqf, but excluding NOTIMESTAMP"
   ]
  },
  {
   "cell_type": "code",
   "execution_count": 206,
   "metadata": {},
   "outputs": [],
   "source": [
    "# generating frequency data for Type B #"
   ]
  },
  {
   "cell_type": "code",
   "execution_count": 210,
   "metadata": {},
   "outputs": [],
   "source": [
    "frequ = []\n",
    "for ls in em_deqfB:\n",
    "    us = ls[0]\n",
    "    deq = ls[1]\n",
    "    uts = us[0]\n",
    "    frequ_item=(uts,int(len(deq)))\n",
    "    frequ.append(frequ_item)\n",
    "frequ.sort(key=dupl.takeSecond)\n",
    "#frequ #list of (uts,freq of uts)\n",
    "\n",
    "fof = []\n",
    "for item in frequ:\n",
    "    freq = item[1]\n",
    "    fof.append(freq)\n",
    "j = hme.freqs(fof)\n",
    "#list of (freq of uts, freq of freq of uts)"
   ]
  },
  {
   "cell_type": "code",
   "execution_count": 222,
   "metadata": {},
   "outputs": [],
   "source": [
    "# DATA FOR FIGs 1 & 2: freq of type B dups\n",
    "with open('dupsB.csv', mode='w') as usd_file:\n",
    "        table = csv.writer(usd_file, delimiter=',', quotechar='\"', quoting=csv.QUOTE_MINIMAL)\n",
    "        for elem in j:\n",
    "            dupnum = elem[0]\n",
    "            count = elem[1]\n",
    "            table.writerow([dupnum,count])"
   ]
  },
  {
   "cell_type": "code",
   "execution_count": 223,
   "metadata": {},
   "outputs": [],
   "source": [
    "# TYPE A DUPS"
   ]
  },
  {
   "cell_type": "code",
   "execution_count": 224,
   "metadata": {},
   "outputs": [],
   "source": [
    "# STEP 5A: rearrange to ((emails in file),[deqfiles with that email sequence])\n",
    "fdic1 = {}\n",
    "ndl = {}\n",
    "news = []\n",
    "for things in em_deqf:\n",
    "    deqflist = things[1]\n",
    "    us = things[0]\n",
    "    usl = list(us)\n",
    "    for deqs in deqflist:\n",
    "        new = (deqs,us)\n",
    "        news.append(new)\n",
    "        deqf = new[0]\n",
    "        us0 = new[1]\n",
    "        newdic = {}\n",
    "        if deqf not in [*ndl]:\n",
    "            newdic[deqf] = [us0]\n",
    "            ndl.update(newdic)\n",
    "        else:\n",
    "            ndl[deqf].append(us0)\n",
    "            pass\n",
    "predeqf_em = dupl.tolist(ndl)"
   ]
  },
  {
   "cell_type": "code",
   "execution_count": 225,
   "metadata": {},
   "outputs": [],
   "source": [
    "def takeX(elem):\n",
    "    for elems in elem[0]:\n",
    "        if elems[0] == 'NOTIMESTAMP':\n",
    "            return 0\n",
    "        else:\n",
    "            return (elems[0])"
   ]
  },
  {
   "cell_type": "code",
   "execution_count": 226,
   "metadata": {},
   "outputs": [
    {
     "data": {
      "text/plain": [
       "[(((1383839500, 'Jansen, David'),\n",
       "   (1383901000, \"O'Malia, John\"),\n",
       "   (1383901100, \"O'Malia, John\"),\n",
       "   (1384243300, 'Prysby, Mike')),\n",
       "  ['deq04_b577_6019_6376_275.txt']),\n",
       " (((1383899200, 'Busch, Stephen'),), ['deq11_b450_1943_1943_X']),\n",
       " (((1383901100, \"O'Malia, John\"),\n",
       "   (1384243300, 'Prysby, Mike'),\n",
       "   (1384252400, 'Busch, Stephen')),\n",
       "  ['deq03_b1_1_4717_4241.txt']),\n",
       " (((1385118600, 'Glasgow, Michael'), (1385124400, 'Forbes, Kevin')),\n",
       "  ['deq11_b3_6_6_X']),\n",
       " (((1385400600, 'Wurfel, Brad'),\n",
       "   (1385453400, 'Hare, Chris'),\n",
       "   (1385454800, 'Bloemker, Jon'),\n",
       "   (1385462800, 'Bloemker, Jon'),\n",
       "   (1385463500, 'Benzie, Richard')),\n",
       "  ['deq21_b1_1_1811_806.txt'])]"
      ]
     },
     "execution_count": 226,
     "metadata": {},
     "output_type": "execute_result"
    }
   ],
   "source": [
    "roo = []\n",
    "ndl={}\n",
    "for des in predeqf_em:\n",
    "    emails = des[1]\n",
    "    deq = des[0]\n",
    "    ro = (emails,deq)\n",
    "    roo.append(ro)\n",
    "roo.sort(key=dupl.takeSecond)\n",
    "for roos in roo:\n",
    "    newdic = {}\n",
    "    email = tuple(roos[0])\n",
    "    deqf = roos[1]\n",
    "    if email not in [*ndl]:\n",
    "        newdic[email] = [deqf]\n",
    "        ndl.update(newdic)\n",
    "    else:\n",
    "        ndl[email].append(deqf)\n",
    "        pass\n",
    "ems_deqfA = dupl.tolist(ndl)\n",
    "ems_deqfA.sort(key=takeX)\n",
    "(ems_deqfA[500:505])"
   ]
  },
  {
   "cell_type": "code",
   "execution_count": 227,
   "metadata": {},
   "outputs": [],
   "source": [
    "# generating frequency data for Type A #"
   ]
  },
  {
   "cell_type": "code",
   "execution_count": 228,
   "metadata": {},
   "outputs": [],
   "source": [
    "newls = []\n",
    "for ls in ems_deqfA:\n",
    "    new = (ls[0],len(ls[1]))\n",
    "    newls.append(new)\n",
    "newls.sort(key=dupl.takeSecond)"
   ]
  },
  {
   "cell_type": "code",
   "execution_count": 229,
   "metadata": {},
   "outputs": [
    {
     "data": {
      "text/plain": [
       "(1, 4209)"
      ]
     },
     "execution_count": 229,
     "metadata": {},
     "output_type": "execute_result"
    }
   ],
   "source": [
    "roo1 = []\n",
    "edA_freq = []\n",
    "for roos in newls:\n",
    "    roo1.append(roos[1])\n",
    "edA_freq = hme.freqs(roo1)\n",
    "edA_freq.sort(key=dupl.takeFirst)\n",
    "edA_freq[0]"
   ]
  },
  {
   "cell_type": "code",
   "execution_count": 230,
   "metadata": {},
   "outputs": [],
   "source": [
    "# DATA FOR FIGs 3 & 4: freq of type A dups\n",
    "with open('dupsA.csv', mode='w') as usd_file:\n",
    "        table = csv.writer(usd_file, delimiter=',', quotechar='\"', quoting=csv.QUOTE_MINIMAL)\n",
    "        for elem in edA_freq:\n",
    "            dupnum = elem[0]\n",
    "            count = elem[1]\n",
    "            table.writerow([dupnum,count])"
   ]
  },
  {
   "cell_type": "code",
   "execution_count": null,
   "metadata": {},
   "outputs": [],
   "source": [
    "# END #"
   ]
  },
  {
   "cell_type": "code",
   "execution_count": 114,
   "metadata": {},
   "outputs": [
    {
     "data": {
      "text/plain": [
       "8517"
      ]
     },
     "execution_count": 114,
     "metadata": {},
     "output_type": "execute_result"
    }
   ],
   "source": [
    "deqs = []\n",
    "for things in em_deqf: #((uts, sender),[deqflist])\n",
    "    deqlist = things[1]\n",
    "    if len(deqlist) > 1:\n",
    "        deqs.extend(deqlist)\n",
    "deqsd = list(dict.fromkeys(deqs))\n",
    "len(deqsd) # num of files with type A dups in them, combo of bookmarks and pgs"
   ]
  },
  {
   "cell_type": "code",
   "execution_count": 115,
   "metadata": {},
   "outputs": [
    {
     "data": {
      "text/plain": [
       "2499"
      ]
     },
     "execution_count": 115,
     "metadata": {},
     "output_type": "execute_result"
    }
   ],
   "source": [
    "dd1 = []\n",
    "for dd in deqsd:\n",
    "    dfroot = re.findall(\"(deq.._b[0-9]*_[0-9]+_[0-9]+_)[0-9]+.txt\",dd)\n",
    "    if dfroot != []:\n",
    "        dfroot_X = str(dfroot[0] + \"X\")\n",
    "        dd1.append(dfroot_X)\n",
    "    else:\n",
    "        dd1.append(dd)\n",
    "dd1d = list(dict.fromkeys(dd1))\n",
    "len(dd1d) # deqsd, but only bookmarks"
   ]
  },
  {
   "cell_type": "code",
   "execution_count": 116,
   "metadata": {},
   "outputs": [
    {
     "data": {
      "text/plain": [
       "0.49504754358161646"
      ]
     },
     "execution_count": 116,
     "metadata": {},
     "output_type": "execute_result"
    }
   ],
   "source": [
    "2499/5048"
   ]
  },
  {
   "cell_type": "code",
   "execution_count": 104,
   "metadata": {},
   "outputs": [
    {
     "name": "stdout",
     "output_type": "stream",
     "text": [
      "51768 pages\n",
      "5048 bookmarks\n"
     ]
    }
   ],
   "source": [
    "f = open(\"allfilenames.txt\", \"r+\")\n",
    "deqsstr = f.read()\n",
    "deqfn = re.findall(\"deq0[1234].*|deq1[012456789].*|deq2[0145].*\",deqsstr)\n",
    "\n",
    "bookmarks_pg = []\n",
    "for deqs in deqfn:\n",
    "    dfroot = (re.findall(\"(deq.._b[0-9]*_[0-9]+_[0-9]+_)[0-9]+.txt\",deqs))\n",
    "    if dfroot != []:\n",
    "        dfroot_X = str((dfroot[0]) + \"X\")\n",
    "        bookmarks_pg.append(dfroot_X)\n",
    "    else:\n",
    "        pass\n",
    "bookmarks = list(dict.fromkeys(bookmarks_pg))\n",
    "print(str(len(bookmarks_pg)) + \" pages\")\n",
    "print(str(len(bookmarks)) + \" bookmarks\")"
   ]
  },
  {
   "cell_type": "code",
   "execution_count": 107,
   "metadata": {},
   "outputs": [
    {
     "name": "stdout",
     "output_type": "stream",
     "text": [
      "mean: 10.331418383518225\n",
      "median: 2.0\n",
      "stdev: 120.6362767228428\n",
      "range: 1 - 4717\n"
     ]
    }
   ],
   "source": [
    "import statistics\n",
    "pgz = []\n",
    "pgz1 = []\n",
    "for root in bookmarks:\n",
    "    m1 = re.findall(\"deq[0-9][0-9]_b[0-9]+_([0-9]+)_[0-9]+_X\",root)\n",
    "    m2 = re.findall(\"deq[0-9][0-9]_b[0-9]+_[0-9]+_([0-9]+)_X\",root)\n",
    "    pgs = int(m2[0]) - int(m1[0])\n",
    "    pgz.append(pgs)\n",
    "for pg in pgz:\n",
    "    new = int(pg + 1)\n",
    "    pgz1.append(new)\n",
    "    pgz1.sort()\n",
    "print(\"mean: \" + str(statistics.mean(pgz1)))\n",
    "print(\"median: \" + str(statistics.median(pgz1)))\n",
    "print(\"stdev: \" + str(statistics.stdev(pgz1)))\n",
    "print(\"range: \" + str(pgz1[0]) + \" - \" + str(pgz1[-1]))"
   ]
  }
 ],
 "metadata": {
  "kernelspec": {
   "display_name": "Python 3",
   "language": "python",
   "name": "python3"
  },
  "language_info": {
   "codemirror_mode": {
    "name": "ipython",
    "version": 3
   },
   "file_extension": ".py",
   "mimetype": "text/x-python",
   "name": "python",
   "nbconvert_exporter": "python",
   "pygments_lexer": "ipython3",
   "version": "3.5.3"
  }
 },
 "nbformat": 4,
 "nbformat_minor": 4
}
