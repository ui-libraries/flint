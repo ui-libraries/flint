{
 "cells": [
  {
   "cell_type": "code",
   "execution_count": 2,
   "metadata": {},
   "outputs": [],
   "source": [
    "import networkx as nx\n",
    "import matplotlib.pyplot as plt\n",
    "import math\n",
    "import sreq\n",
    "import networkx\n",
    "import emails"
   ]
  },
  {
   "cell_type": "code",
   "execution_count": 3,
   "metadata": {},
   "outputs": [],
   "source": [
    "def ifstr(elem):\n",
    "    if type(elem)==str:\n",
    "        return elem\n",
    "    if type(elem)==tuple:\n",
    "        return elem[0]\n",
    "def takeSec(elem):\n",
    "    return elem[1]"
   ]
  },
  {
   "cell_type": "code",
   "execution_count": 4,
   "metadata": {},
   "outputs": [],
   "source": [
    "all_txtfile = \"allintxns.txt\"\n",
    "top_txtfile = \"topintxns.txt\"\n",
    "f = open(all_txtfile, \"r+\")\n",
    "#strx = f.read()"
   ]
  },
  {
   "cell_type": "code",
   "execution_count": 5,
   "metadata": {},
   "outputs": [],
   "source": [
    "f = open(\"inxnmoyrs.txt\", \"r+\")\n",
    "strx=f.read()"
   ]
  },
  {
   "cell_type": "code",
   "execution_count": 6,
   "metadata": {
    "scrolled": true
   },
   "outputs": [],
   "source": [
    "def str2list(listx): # take str and return list of (((sender,receiver),date),freq)\n",
    "    import re\n",
    "    relist = []\n",
    "    listx1 = re.split('\\n',listx)\n",
    "    for thing in listx1:\n",
    "        num = re.findall(\"//(.*)\",thing)\n",
    "        first = re.findall(\"^(.*)[+]\",thing)\n",
    "        sec = re.findall(\"[+](.*)!!\",thing)\n",
    "        moyr = re.findall(\"[!!]+(.+)//\",thing)\n",
    "        if num==[] or first==[] or sec ==[]:\n",
    "            pass\n",
    "        else:\n",
    "            g=(((first[0],sec[0]),moyr[0]),int(num[0]))\n",
    "            relist.append(g)\n",
    "    alls=[]\n",
    "    intwt=[]\n",
    "    brr30=[]\n",
    "    for tup in relist:\n",
    "        sr = tup[0]\n",
    "        alls.extend(sr)\n",
    "    #allsd = list(dict.fromkeys(alls))\n",
    "    for tup in relist:\n",
    "        sry=tup[0]\n",
    "        sr=sry[0]\n",
    "        if sr[0]!=sr[1] and tup[1]>30:\n",
    "            brr30.append(tup)\n",
    "        if sr[0]!=sr[1]:\n",
    "            intwt.append(tup)\n",
    "    return relist\n",
    "def tograph(b201x): # takes list and makes a graph\n",
    "    X = nx.DiGraph()\n",
    "    for things in b201x:\n",
    "        srmy = things[0]\n",
    "        sr=srmy[0]\n",
    "        s = sr[0]\n",
    "        r = sr[1]\n",
    "        freq = things[1]\n",
    "        X.add_edge(s,r,weight=freq)\n",
    "    #pos = nx.circular_layout(X)\n",
    "    #nx.draw_networkx_nodes(X, pos, node_size=10,node_color='c')\n",
    "    #nx.draw_networkx_edges(X, pos,width=1,edge_color='c')\n",
    "    return X"
   ]
  },
  {
   "cell_type": "code",
   "execution_count": 7,
   "metadata": {},
   "outputs": [],
   "source": [
    "def getBC(relist,xym): # generates list of BC for each node in graph for a given month\n",
    "    for r in relist:\n",
    "        srym = r[0]\n",
    "        ym=srym[1]\n",
    "        if ym == xym:\n",
    "            p=[]\n",
    "            bc = networkx.algorithms.centrality.betweenness_centrality(m)\n",
    "            bc1 = sre.tolist(bc)\n",
    "    return bc1"
   ]
  },
  {
   "cell_type": "code",
   "execution_count": 8,
   "metadata": {
    "scrolled": true
   },
   "outputs": [],
   "source": [
    "cal=[]\n",
    "for y in range(2011,2017):\n",
    "    for m in range(1,13):\n",
    "        if len(str(m))==1:\n",
    "            m0 = str('0'+str(m))\n",
    "        else:\n",
    "            m0 = str(m)\n",
    "        ym = str(str(y)+\"-\"+str(m0))\n",
    "        cal.append(ym)\n",
    "cal.sort() # list of calendar months e.g. 2011-02"
   ]
  },
  {
   "cell_type": "code",
   "execution_count": 9,
   "metadata": {},
   "outputs": [],
   "source": [
    "sryf = str2list(strx)"
   ]
  },
  {
   "cell_type": "code",
   "execution_count": 11,
   "metadata": {
    "scrolled": true
   },
   "outputs": [],
   "source": [
    "relist = str2list(strx)"
   ]
  },
  {
   "cell_type": "code",
   "execution_count": 13,
   "metadata": {},
   "outputs": [],
   "source": [
    "grap = tograph(sryf)\n",
    "bc = networkx.algorithms.centrality.betweenness_centrality(grap)\n",
    "dc = networkx.algorithms.centrality.degree_centrality(grap)\n",
    "ldc = sreq.tolist(dc)\n",
    "lbc = sreq.tolist(bc)\n",
    "ldc.sort(key=takeSec)\n",
    "lbc.sort(key=takeSec)\n",
    "bcn=[]\n",
    "bc2 = emails.revlist(lbc)\n",
    "for items in bc2[0:15]:\n",
    "    bcn.append(items[0])\n",
    "dcn=[]\n",
    "dc2 = emails.revlist(ldc)\n",
    "for items in dc2[0:15]:\n",
    "    dcn.append(items[0])"
   ]
  },
  {
   "cell_type": "code",
   "execution_count": 16,
   "metadata": {},
   "outputs": [],
   "source": [
    "def XCout(relist,names,bdc):\n",
    "    def bcdc(grap):\n",
    "        if bdc == 'bc':\n",
    "            xc = networkx.algorithms.centrality.betweenness_centrality(grap)\n",
    "        elif bdc == 'dc':\n",
    "            xc = networkx.algorithms.centrality.degree_centrality(grap)\n",
    "        return xc\n",
    "    # generates list of lists, where each list/folder contains first item is str(date), and subsequent items\n",
    "    # are the list items for that month\n",
    "    folders=[]\n",
    "    for date in cal:\n",
    "        month=[]\n",
    "        month.append(date)\n",
    "        for item in relist:\n",
    "            sry = item[0]\n",
    "            if sry[1] == date:\n",
    "                month.append(item)\n",
    "        folders.append(month) \n",
    "    # turns into graph and gets bc/dc\n",
    "    ult=[]\n",
    "    for folder in folders:\n",
    "        newlist=[]\n",
    "        date=folder[0]\n",
    "        newlist.append(date)\n",
    "        gbs=[]\n",
    "        for thing in folder:\n",
    "            if type(thing)==tuple:\n",
    "                gbs.append(thing)\n",
    "        grap = tograph(gbs)\n",
    "        xc = bcdc(grap,)\n",
    "        xc1=sreq.tolist(xc)\n",
    "        for tup in xc1:\n",
    "            newlist.append(tup)\n",
    "        ult.append(newlist)  \n",
    "    # for each folder, outputs only for names in list \"names\"\n",
    "    bct=[]\n",
    "    for u in ult:\n",
    "        noms=[]\n",
    "        new=[]\n",
    "        date = u[0]\n",
    "        new.append(date)\n",
    "        for m in u:\n",
    "            bc = m[1]\n",
    "            nom = m[0]\n",
    "            noms.append(nom)\n",
    "            if type(m)==tuple:\n",
    "                for n in names:\n",
    "                    if n == nom:\n",
    "                        k = (nom,bc)\n",
    "                        new.append(k)\n",
    "                        new.sort(key=ifstr)\n",
    "        bct.append(new)\n",
    "    a=[]\n",
    "    b=[]\n",
    "    c=[]\n",
    "    lenname = len(names)\n",
    "    for q in bct:\n",
    "        date = q[0]\n",
    "        if len(q) > 1:\n",
    "            items = q[1:]\n",
    "            new=[]\n",
    "            newitems=[]\n",
    "            new.append(date)\n",
    "            if len(items)==lenname:\n",
    "                for i in items:\n",
    "                    new.append(i)\n",
    "                    new.sort(key=ifstr)\n",
    "                    a.append((new))\n",
    "            elif len(items)<=lenname and len(items)!=0:\n",
    "                noms=[]\n",
    "                newitems.append(date)\n",
    "                newitems.extend(items)\n",
    "                for i in items:\n",
    "                    noms.append(i[0])\n",
    "                b.append(noms)\n",
    "                for n in names:\n",
    "                    if n not in noms:\n",
    "                        k = (n,0)\n",
    "                        newitems.append(k)\n",
    "                        newitems.sort(key=ifstr)\n",
    "                        if len(newitems)==4:\n",
    "                            a.append(newitems)\n",
    "                        else:\n",
    "                            a.append(newitems)\n",
    "        elif len(q) == 1:\n",
    "            newitems=[]\n",
    "            newitems.append(q[0])\n",
    "            for n in names:\n",
    "                new = (n, 0)\n",
    "                newitems.append(new)\n",
    "                newitems.sort(key=ifstr)\n",
    "                a.append(newitems)\n",
    "    a.sort()\n",
    "    return a\n"
   ]
  },
  {
   "cell_type": "code",
   "execution_count": 17,
   "metadata": {},
   "outputs": [],
   "source": [
    "# if bc, use bcn; if dc, use dcn (top 15 for each measure)\n",
    "x = XCout(relist,dcn,'dc')"
   ]
  },
  {
   "cell_type": "code",
   "execution_count": 19,
   "metadata": {},
   "outputs": [
    {
     "data": {
      "text/plain": [
       "['2011-01',\n",
       " ('Benzie, Richard', 0.36363636363636365),\n",
       " ('Busch, Stephen', 0),\n",
       " ('Cook, Pat', 0),\n",
       " ('Devereaux, Tracy', 0),\n",
       " ('Dykema, Linda', 0),\n",
       " ('Krisztian, George', 0),\n",
       " ('Pallone, Maggie', 0),\n",
       " ('Prysby, Mike', 0),\n",
       " ('Rosenthal, Adam', 0),\n",
       " ('Shaler, Karen', 0),\n",
       " ('Shekter Smith, Liane', 0.09090909090909091),\n",
       " ('Sygo, Jim', 0),\n",
       " ('Tommasulo, Karen', 0),\n",
       " ('Wurfel, Brad', 0),\n",
       " ('Wyant, Dan', 0)]"
      ]
     },
     "execution_count": 19,
     "metadata": {},
     "output_type": "execute_result"
    }
   ],
   "source": [
    "x[0]"
   ]
  },
  {
   "cell_type": "code",
   "execution_count": 22,
   "metadata": {},
   "outputs": [],
   "source": [
    "g=[]\n",
    "for xs in x:\n",
    "    g.append(tuple(xs))\n",
    "gg = list(dict.fromkeys(g)) # makes into tuple so i can eliminate duplicates\n",
    "gg.sort()"
   ]
  },
  {
   "cell_type": "code",
   "execution_count": null,
   "metadata": {},
   "outputs": [],
   "source": [
    "import csv\n",
    "with open('DC.csv', mode='w') as usd_file:\n",
    "        table = csv.writer(usd_file, delimiter=',', quotechar='\"', quoting=csv.QUOTE_MINIMAL)\n",
    "        for elem in gg:\n",
    "            date = elem[0]\n",
    "            a=elem[1]\n",
    "            b=elem[2]\n",
    "            c=elem[3]\n",
    "            d=elem[4]\n",
    "            e=elem[5]\n",
    "            f=elem[6]\n",
    "            g=elem[7]\n",
    "            h=elem[8]\n",
    "            i=elem[9]\n",
    "            j=elem[10]\n",
    "            k=elem[11]\n",
    "            l=elem[12]\n",
    "            m=elem[13]\n",
    "            n=elem[14]\n",
    "            o=elem[15]\n",
    "            table.writerow([date,a[1],b[1],c[1],d[1],e[1],f[1],g[1],h[1],i[1],j[1],k[1],l[1],m[1],n[1],o[1]])\n",
    "            \n",
    "            \n",
    "            "
   ]
  },
  {
   "cell_type": "code",
   "execution_count": 23,
   "metadata": {},
   "outputs": [],
   "source": [
    "# END #"
   ]
  },
  {
   "cell_type": "code",
   "execution_count": null,
   "metadata": {},
   "outputs": [],
   "source": [
    "# a graph"
   ]
  },
  {
   "cell_type": "code",
   "execution_count": 26,
   "metadata": {},
   "outputs": [],
   "source": [
    "intwt = str2list(strx)"
   ]
  },
  {
   "cell_type": "code",
   "execution_count": 30,
   "metadata": {},
   "outputs": [
    {
     "data": {
      "text/plain": [
       "((('Jonas, Jill', 'Smith, Gerald'), '2011-01'), 4)"
      ]
     },
     "execution_count": 30,
     "metadata": {},
     "output_type": "execute_result"
    }
   ],
   "source": [
    "intwt[0]"
   ]
  },
  {
   "cell_type": "code",
   "execution_count": 34,
   "metadata": {},
   "outputs": [
    {
     "data": {
      "image/png": "[encoded data removed]",
      "text/plain": [
       "<Figure size 432x288 with 1 Axes>"
      ]
     },
     "metadata": {},
     "output_type": "display_data"
    }
   ],
   "source": [
    "X = nx.MultiDiGraph()\n",
    "for sams in intwt:\n",
    "    sry = sams[0]\n",
    "    sr = sry[0]\n",
    "    for name in sr:\n",
    "        if name in [\"Wurfel, Brad\",\"Shekter Smith, Liane\",\"Prysby, Mike\"]:\n",
    "            s = sr[0]\n",
    "            r = sr[1]\n",
    "            freq = sams[1]\n",
    "            X.add_edge(s,r,weight=freq)\n",
    "\n",
    "pos = nx.spring_layout(X)  # positions for all nodes\n",
    "    \n",
    "#for i in range(0,777):\n",
    "    #e = [(u, v) for (u, v, d) in X.edges(data=True) if d['weight'] == i]\n",
    "    #nx.draw_networkx_edges(X, pos, edgelist=e,width=math.sqrt(i/10),edge_color='c',alpha=i)\n",
    "    \n",
    "e1 = [(u, v) for (u, v, d) in X.edges(data=True) if d['weight'] > 120]\n",
    "e2 = [(u, v) for (u, v, d) in X.edges(data=True) if d['weight'] in range(90,120)]\n",
    "e3 = [(u, v) for (u, v, d) in X.edges(data=True) if d['weight'] in range(20,90)]\n",
    "e3 = [(u, v) for (u, v, d) in X.edges(data=True) if d['weight'] in range(20,90)]\n",
    "e4 = [(u, v) for (u, v, d) in X.edges(data=True) if d['weight'] in range(0,5)]\n",
    "\n",
    "\n",
    "\n",
    "# nodes\n",
    "nx.draw_networkx_nodes(X, pos, node_size=10,node_color='c')\n",
    "\n",
    "# edges\n",
    "nx.draw_networkx_edges(X, pos, edgelist=e1,width=7,edge_color='c', alpha=0.9)\n",
    "nx.draw_networkx_edges(X, pos, edgelist=e2,width=5,edge_color='c', alpha=0.9)\n",
    "nx.draw_networkx_edges(X, pos, edgelist=e3,width=3,edge_color='c',alpha=0.95)\n",
    "nx.draw_networkx_edges(X, pos, edgelist=e4,width=1,edge_color='c',alpha= 1.0)\n",
    "\n",
    "# labels\n",
    "nx.draw_networkx_labels(X, pos, font_size=10,alpha=0)\n",
    "\n",
    "plt.axis('off')\n",
    "plt.savefig('grap.jpg')\n",
    "plt.show();\n"
   ]
  },
  {
   "cell_type": "code",
   "execution_count": null,
   "metadata": {},
   "outputs": [],
   "source": []
  }
 ],
 "metadata": {
  "kernelspec": {
   "display_name": "Python 3",
   "language": "python",
   "name": "python3"
  },
  "language_info": {
   "codemirror_mode": {
    "name": "ipython",
    "version": 3
   },
   "file_extension": ".py",
   "mimetype": "text/x-python",
   "name": "python",
   "nbconvert_exporter": "python",
   "pygments_lexer": "ipython3",
   "version": "3.5.3"
  }
 },
 "nbformat": 4,
 "nbformat_minor": 4
}
