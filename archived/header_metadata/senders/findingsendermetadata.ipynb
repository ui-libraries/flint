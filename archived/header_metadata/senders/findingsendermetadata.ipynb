{
 "cells": [
  {
   "cell_type": "code",
   "execution_count": 19,
   "metadata": {},
   "outputs": [
    {
     "data": {
      "text/plain": [
       "str"
      ]
     },
     "execution_count": 19,
     "metadata": {},
     "output_type": "execute_result"
    }
   ],
   "source": [
    "import re\n",
    "f = open(\"deq14sample.txt\", \"r+\")\n",
    "deqsstr = f.read()\n",
    "type(deqsstr)"
   ]
  },
  {
   "cell_type": "code",
   "execution_count": 20,
   "metadata": {},
   "outputs": [],
   "source": [
    "deqslist = re.split(\"\\n\", deqsstr)"
   ]
  },
  {
   "cell_type": "code",
   "execution_count": 21,
   "metadata": {},
   "outputs": [],
   "source": [
    "from urllib import request\n",
    "\n",
    "s3_root = \"https://flint-text.s3.amazonaws.com/\"\n",
    "for deq in deqslist:       \n",
    "    url = s3_root + deq\n",
    "    response = request.urlopen(url)\n",
    "    raw_text = response.read().decode('utf8')\n",
    "    text += raw_text"
   ]
  },
  {
   "cell_type": "code",
   "execution_count": 22,
   "metadata": {
    "scrolled": true
   },
   "outputs": [
    {
     "name": "stdout",
     "output_type": "stream",
     "text": [
      "Lasher, Geralyn (DHHS)\n",
      "Wurfel, Brad (DEQ)\n",
      "Lasher, Geralyn (DHHS)\n",
      "Holton, Jennifer (MDARD)\n",
      "Marc Edwards <edwardsm@vt.edu>\n",
      "Marc Edwards [mailto:edwardsm@vi.edu]\n",
      "Workman, Wayne (TREASURY)\n",
      "Byrne, Randall (Treasury)\n",
      "Natasha Henderson [mailto:nhenderson@®citvofflint.com]\n",
      "\"Sean Kammer\" <skammer@cityofflint.com>\n",
      "Murray, David (GOV)\n",
      "Muchmore, Dennis (GOV)\n",
      "Workman, Wayne (TREASURY)\n",
      "Byrne, Randall (Treasury)\n",
      "Natasha Henderson [mazilto:nhenderson®cityofflint.com]\n",
      "\"Sean Kammer\" <skammer@cityofflint.com>\n",
      "Sameen Amin <sameen.amin@aljazeera.net>\n",
      "Holton, Jennifer (MDARD)\n",
      "\"Stuever, Beth\" <stuever@anr.msu.edu>\n",
      "Ockert, Katherine\n",
      "Holton, Jennifer (MDARD)\n",
      "\"Stuever, Beth\" <stugver@anr.msu.egdu>\n",
      "Bryan Hill <orificeflow@yahoo.com>\n",
      "Egan, Paul [mailto:pegan@freepress.com]\n",
      "Minicuci, Angela (DHHS)\n",
      "Wurfel, Brad (DEQ)\n",
      "Saxton, Thomas (Treasury)\n",
      "Danielle Emerson <demerson@gongwer.com>\n",
      "Angela Wittrock [mailto: AWittro BN\n",
      "Lindsey Smith <Imsmi@umich.edu>\n",
      "Angela Wittrock <AWittrock{@senate michigan. gov>\n",
      "Macaluso, Nora <nmacaluso@bna.com>\n",
      "Wurfel, Brad (DEQ) [mzilto:WurfelB@michigan.gov]\n",
      "Angela Wittrock [mailto:AWitirock@senate.michigan.gov]\n",
      "Danielle Emerson [mailto:demerson@®gongwer.com]\n",
      "Danielle Emerson <demerson@gongwer.com>\n",
      "Wurfel, Brad (DEQ) [maiito: WurfalB@michi\n",
      "Danielle Emerson [mziltg:demerson@gongwer.com\n",
      "Holton, Jennifer (MDARD)\n",
      "Holton, Jennifer (MDARD)\n",
      "Holton, Jennifer (MDARD)\n",
      "Gary Wilson [garygIx5@gmail.com]\n",
      "GOV Newsroom <govnewsroom@govsubscriptions.michigan.gov>\n",
      "Wurfel, Brad (DEQ)\n",
      "\"Krisztian, George (DEQ)\" <krisztiang@michigan.gov>\n",
      "Wurfel, Brad (DEQ)\n",
      "\"Krisztian, George (DEQ)\" <krisztiang@michigan.gov>\n",
      "Wurfel, Sara (GOV)\n",
      "Wurfel, Sara (GOV)\n",
      "Ronald Fonger [mailto:RECGNGERI @ miive.com\n",
      "Wurfel, Sara (GOV)\n",
      "Wurfel, Brad (DEQ)\n",
      "Jacob Kanclerz <jacob@mirsnews.com>\n",
      "Wurfel, Sara (GOV)\n",
      "Wurfel, Brad (DEQ)\n",
      "Wurfel, Sara (GOV)\n",
      "Ronald Fonger [mailto:RFQNGERI@milve.com]\n",
      "Wurfel, Brad (DEQ)\n",
      "Wurfel, Brad (DEQ)\n",
      "Ronald Fonger [maillo:RFONGER]1 @mlive.com]\n",
      "Wurfel, Brad (DEQ) [mailio: WurfelB@michigan.qaov]\n",
      "Ronald Fonger [mailio:RFONGER1 &mlive.com]\n",
      "Waurfel, Brad (DEQ)\n",
      "Pallone, Maggie (DEQ)\n",
      "\"Fortin, Denise\"” <bortin.Denise@epa.zov>\n",
      "Waurfel, Brad (DEQ)\n",
      "Wurfel, Brad (DEQ)\n",
      "Feuerstein, Heather (DEQ)\n",
      "Waurfel, Brad (DEQ)\n",
      "Wurfel, Brad (DEQ)\n",
      "\"Busch, Stephen (DEQ)\" <BUSCHS@michigan.gov>\n",
      "Wurfel, Brad (DEQ)\n",
      "\"Prysby, Mike (DEQ)\" <PRYSBYM@michigan.govw>\n",
      "Wurfel, Brad (DEQ)\n",
      "Muchmore, Dennis (GOV)\n",
      "Wurfel, Brad (DEQ)\n",
      "Muchmore, Dennis (GOV)\n",
      "do-not-reply@detroitnews.com [mailto:do-not-reply@detroitnews.com\n",
      "Wurfel, Sara (GOV)\n",
      "Jason Lorenz [mailto:jlorenz@cityoffiint.com]\n",
      "Wurfel, Brad (DEQ)\n",
      "Busch, Stephen (DEQ)\n",
      "Busch, Stephen (DEQ)\n",
      "Curt Guyette <cguvette@aciumich.org>\n",
      "Rosenthal, Adam (DEQ)\n",
      "Marc Edwards [mail m@\n",
      "Marc Edwards [mailio:edwardsm@vt.ed:\n",
      "Wurfel, Brad (DEQ)\n",
      "Busch, Stephen (DEQ)\n",
      "Wurfel, Brad (DEQ)\n",
      "Saxton, Thomas (Treasury)\n",
      "Wurfel, Brad (DEQ)\n",
      "Lasher, Geralyn (DHHS)\n",
      "Wurfel, Brad (DEQ)\n",
      "Lasher, Geralyn (DHHS)\n",
      "Holton, Jennifer (MDARD)\n",
      "Marc Edwards <edwardsm@vt.edu>\n",
      "Marc Edwards [mailto:edwardsm@vi.edu]\n",
      "Workman, Wayne (TREASURY)\n",
      "Byrne, Randall (Treasury)\n",
      "Natasha Henderson [mailto:nhenderson@®citvofflint.com]\n",
      "\"Sean Kammer\" <skammer@cityofflint.com>\n",
      "Murray, David (GOV)\n",
      "Muchmore, Dennis (GOV)\n",
      "Workman, Wayne (TREASURY)\n",
      "Byrne, Randall (Treasury)\n",
      "Natasha Henderson [mazilto:nhenderson®cityofflint.com]\n",
      "\"Sean Kammer\" <skammer@cityofflint.com>\n",
      "Sameen Amin <sameen.amin@aljazeera.net>\n",
      "Holton, Jennifer (MDARD)\n",
      "\"Stuever, Beth\" <stuever@anr.msu.edu>\n",
      "Ockert, Katherine\n",
      "Holton, Jennifer (MDARD)\n",
      "\"Stuever, Beth\" <stugver@anr.msu.egdu>\n",
      "Bryan Hill <orificeflow@yahoo.com>\n",
      "Egan, Paul [mailto:pegan@freepress.com]\n",
      "Minicuci, Angela (DHHS)\n",
      "Wurfel, Brad (DEQ)\n",
      "Saxton, Thomas (Treasury)\n",
      "Danielle Emerson <demerson@gongwer.com>\n",
      "Angela Wittrock [mailto: AWittro BN\n",
      "Lindsey Smith <Imsmi@umich.edu>\n",
      "Angela Wittrock <AWittrock{@senate michigan. gov>\n",
      "Macaluso, Nora <nmacaluso@bna.com>\n",
      "Wurfel, Brad (DEQ) [mzilto:WurfelB@michigan.gov]\n",
      "Angela Wittrock [mailto:AWitirock@senate.michigan.gov]\n",
      "Danielle Emerson [mailto:demerson@®gongwer.com]\n",
      "Danielle Emerson <demerson@gongwer.com>\n",
      "Wurfel, Brad (DEQ) [maiito: WurfalB@michi\n",
      "Danielle Emerson [mziltg:demerson@gongwer.com\n",
      "Holton, Jennifer (MDARD)\n",
      "Holton, Jennifer (MDARD)\n",
      "Holton, Jennifer (MDARD)\n",
      "Gary Wilson [garygIx5@gmail.com]\n",
      "GOV Newsroom <govnewsroom@govsubscriptions.michigan.gov>\n",
      "Wurfel, Brad (DEQ)\n",
      "\"Krisztian, George (DEQ)\" <krisztiang@michigan.gov>\n",
      "Wurfel, Brad (DEQ)\n",
      "\"Krisztian, George (DEQ)\" <krisztiang@michigan.gov>\n",
      "Wurfel, Sara (GOV)\n",
      "Wurfel, Sara (GOV)\n",
      "Ronald Fonger [mailto:RECGNGERI @ miive.com\n",
      "Wurfel, Sara (GOV)\n",
      "Wurfel, Brad (DEQ)\n",
      "Jacob Kanclerz <jacob@mirsnews.com>\n",
      "Wurfel, Sara (GOV)\n",
      "Wurfel, Brad (DEQ)\n",
      "Wurfel, Sara (GOV)\n",
      "Ronald Fonger [mailto:RFQNGERI@milve.com]\n",
      "Wurfel, Brad (DEQ)\n",
      "Wurfel, Brad (DEQ)\n",
      "Ronald Fonger [maillo:RFONGER]1 @mlive.com]\n",
      "Wurfel, Brad (DEQ) [mailio: WurfelB@michigan.qaov]\n",
      "Ronald Fonger [mailio:RFONGER1 &mlive.com]\n",
      "Waurfel, Brad (DEQ)\n",
      "Pallone, Maggie (DEQ)\n",
      "\"Fortin, Denise\"” <bortin.Denise@epa.zov>\n",
      "Waurfel, Brad (DEQ)\n",
      "Wurfel, Brad (DEQ)\n",
      "Feuerstein, Heather (DEQ)\n",
      "Waurfel, Brad (DEQ)\n",
      "Wurfel, Brad (DEQ)\n",
      "\"Busch, Stephen (DEQ)\" <BUSCHS@michigan.gov>\n",
      "Wurfel, Brad (DEQ)\n",
      "\"Prysby, Mike (DEQ)\" <PRYSBYM@michigan.govw>\n",
      "Wurfel, Brad (DEQ)\n",
      "Muchmore, Dennis (GOV)\n",
      "Wurfel, Brad (DEQ)\n",
      "Muchmore, Dennis (GOV)\n",
      "do-not-reply@detroitnews.com [mailto:do-not-reply@detroitnews.com\n",
      "Wurfel, Sara (GOV)\n",
      "Jason Lorenz [mailto:jlorenz@cityoffiint.com]\n",
      "Wurfel, Brad (DEQ)\n",
      "Busch, Stephen (DEQ)\n",
      "Busch, Stephen (DEQ)\n",
      "Curt Guyette <cguvette@aciumich.org>\n",
      "Rosenthal, Adam (DEQ)\n",
      "Marc Edwards [mail m@\n",
      "Marc Edwards [mailio:edwardsm@vt.ed:\n",
      "Wurfel, Brad (DEQ)\n",
      "Busch, Stephen (DEQ)\n",
      "Wurfel, Brad (DEQ)\n",
      "Saxton, Thomas (Treasury)\n",
      "Wurfel, Brad (DEQ)\n"
     ]
    }
   ],
   "source": [
    "froms = re.findall(\"From:.*\", text)\n",
    "fromstr = '\\n'.join(froms)\n",
    "fromstr_orgs = re.sub(\"From: \",\"\", fromstr) #with (ORG)\n",
    "fromstr_noorgs = re.sub(\"[(].*[)]\",\"\", fromstr) #without (ORG)\n",
    "print(fromstr_orgs)"
   ]
  },
  {
   "cell_type": "code",
   "execution_count": 23,
   "metadata": {
    "scrolled": true
   },
   "outputs": [
    {
     "name": "stdout",
     "output_type": "stream",
     "text": [
      "Wurfel, Brad (DEQ) <WurfelB@michigan gov> \n",
      "Lindsey Smith <lmsmif@umich.edu> \n",
      "Macaluso, Nora <nmacaluso@bna.com> \n",
      "Gary Wilson <garvgixS@gmail com> \n",
      "Wurfel, Brad (DEQ) <WurfeiB@michigan.gov> \n",
      "Wurfel, Brad (DEQ) <WurfelB@michigan gov> \n",
      "Lindsey Smith <lmsmif@umich.edu> \n",
      "Macaluso, Nora <nmacaluso@bna.com> \n",
      "Gary Wilson <garvgixS@gmail com> \n",
      "Wurfel, Brad (DEQ) <WurfeiB@michigan.gov> \n"
     ]
    }
   ],
   "source": [
    "ons = re.findall(\"On.*wrote\", text)\n",
    "onstr = '\\n'.join(ons)\n",
    "#print(onstr) #see full line\n",
    "onstr1 = re.sub(\"On\\s.*at\\s[0-9]*:[0-9][0-9]\\s[AP]M,\\s\",\"\", onstr)\n",
    "onstr2 = re.sub(\"wrote\",\"\",onstr1)\n",
    "print(onstr2) #see only name component"
   ]
  },
  {
   "cell_type": "code",
   "execution_count": 24,
   "metadata": {},
   "outputs": [],
   "source": [
    "###"
   ]
  },
  {
   "cell_type": "code",
   "execution_count": 25,
   "metadata": {},
   "outputs": [
    {
     "data": {
      "text/plain": [
       "128"
      ]
     },
     "execution_count": 25,
     "metadata": {},
     "output_type": "execute_result"
    }
   ],
   "source": [
    "lastcommafirst = re.findall(\".*,.*\",fromstr_noorgs) #list of lastcommafirstnames\n",
    "#print(lastcommafirst)\n",
    "len(lastcommafirst)"
   ]
  },
  {
   "cell_type": "code",
   "execution_count": 26,
   "metadata": {},
   "outputs": [
    {
     "data": {
      "text/plain": [
       "60"
      ]
     },
     "execution_count": 26,
     "metadata": {},
     "output_type": "execute_result"
    }
   ],
   "source": [
    "firstlast = re.findall(\"[A-Z][a-z]*\\s[A-Z][a-z]*\",fromstr_noorgs)\n",
    "#print(firstlast)\n",
    "len(firstlast)"
   ]
  },
  {
   "cell_type": "code",
   "execution_count": 27,
   "metadata": {},
   "outputs": [
    {
     "data": {
      "text/plain": [
       "20"
      ]
     },
     "execution_count": 27,
     "metadata": {},
     "output_type": "execute_result"
    }
   ],
   "source": [
    "firstlastemailab = re.findall(\"[A-Z][a-z]*\\s[A-Z][a-z]*\\s[<].*[>]\",fromstr_noorgs) #e.g. First Last <email>\n",
    "#print(firstlastemailab) #ab = arrow brackets\n",
    "len(firstlastemailab)"
   ]
  },
  {
   "cell_type": "code",
   "execution_count": 28,
   "metadata": {},
   "outputs": [
    {
     "data": {
      "text/plain": [
       "38"
      ]
     },
     "execution_count": 28,
     "metadata": {},
     "output_type": "execute_result"
    }
   ],
   "source": [
    "firstlastemailabbroken = re.findall(\".*\\s.*\\s[<].*[>]\\n\",fromstr_noorgs) #e.g. First Last <email>\n",
    "#print(firstlastemailabbroken) #ab = arrow brackets\n",
    "len(firstlastemailabbroken)"
   ]
  },
  {
   "cell_type": "code",
   "execution_count": 29,
   "metadata": {},
   "outputs": [
    {
     "data": {
      "text/plain": [
       "20"
      ]
     },
     "execution_count": 29,
     "metadata": {},
     "output_type": "execute_result"
    }
   ],
   "source": [
    "firstlastemailsb = re.findall(\"[A-Z][a-z]*\\s[A-Z][a-z]*\\s\\[.*\\]\",fromstr_noorgs) #e.g. First Last [email]\n",
    "#print(firstlastemailsb) #sb = square brackets\n",
    "len(firstlastemailsb)"
   ]
  },
  {
   "cell_type": "code",
   "execution_count": 30,
   "metadata": {},
   "outputs": [],
   "source": [
    "namelist = re.split(\"\\n\", fromstr_noorgs)"
   ]
  },
  {
   "cell_type": "code",
   "execution_count": 31,
   "metadata": {
    "scrolled": true
   },
   "outputs": [
    {
     "name": "stdout",
     "output_type": "stream",
     "text": [
      "['From: Lasher, Geralyn ', 'From: Wurfel, Brad ', 'From: Lasher, Geralyn ', 'From: Holton, Jennifer ', 'From: Marc Edwards <edwardsm@vt.edu>', 'From: Marc Edwards [mailto:edwardsm@vi.edu]', 'From: Workman, Wayne ', 'From: Byrne, Randall ', 'From: Natasha Henderson [mailto:nhenderson@®citvofflint.com]', 'From: \"Sean Kammer\" <skammer@cityofflint.com>', 'From: Murray, David ', 'From: Muchmore, Dennis ', 'From: Workman, Wayne ', 'From: Byrne, Randall ', 'From: Natasha Henderson [mazilto:nhenderson®cityofflint.com]', 'From: \"Sean Kammer\" <skammer@cityofflint.com>', 'From: Sameen Amin <sameen.amin@aljazeera.net>', 'From: Holton, Jennifer ', 'From: \"Stuever, Beth\" <stuever@anr.msu.edu>', 'From: Ockert, Katherine', 'From: Holton, Jennifer ', 'From: \"Stuever, Beth\" <stugver@anr.msu.egdu>', 'From: Bryan Hill <orificeflow@yahoo.com>', 'From: Egan, Paul [mailto:pegan@freepress.com]', 'From: Minicuci, Angela ', 'From: Wurfel, Brad ', 'From: Saxton, Thomas ', 'From: Danielle Emerson <demerson@gongwer.com>', 'From: Angela Wittrock [mailto: AWittro BN', 'From: Lindsey Smith <Imsmi@umich.edu>', 'From: Angela Wittrock <AWittrock{@senate michigan. gov>', 'From: Macaluso, Nora <nmacaluso@bna.com>', 'From: Wurfel, Brad  [mzilto:WurfelB@michigan.gov]', 'From: Angela Wittrock [mailto:AWitirock@senate.michigan.gov]', 'From: Danielle Emerson [mailto:demerson@®gongwer.com]', 'From: Danielle Emerson <demerson@gongwer.com>', 'From: Wurfel, Brad  [maiito: WurfalB@michi', 'From: Danielle Emerson [mziltg:demerson@gongwer.com', 'From: Holton, Jennifer ', 'From: Holton, Jennifer ', 'From: Holton, Jennifer ', 'From: Gary Wilson [garygIx5@gmail.com]', 'From: GOV Newsroom <govnewsroom@govsubscriptions.michigan.gov>', 'From: Wurfel, Brad ', 'From: \"Krisztian, George \" <krisztiang@michigan.gov>', 'From: Wurfel, Brad ', 'From: \"Krisztian, George \" <krisztiang@michigan.gov>', 'From: Wurfel, Sara ', 'From: Wurfel, Sara ', 'From: Ronald Fonger [mailto:RECGNGERI @ miive.com', 'From: Wurfel, Sara ', 'From: Wurfel, Brad ', 'From: Jacob Kanclerz <jacob@mirsnews.com>', 'From: Wurfel, Sara ', 'From: Wurfel, Brad ', 'From: Wurfel, Sara ', 'From: Ronald Fonger [mailto:RFQNGERI@milve.com]', 'From: Wurfel, Brad ', 'From: Wurfel, Brad ', 'From: Ronald Fonger [maillo:RFONGER]1 @mlive.com]', 'From: Wurfel, Brad  [mailio: WurfelB@michigan.qaov]', 'From: Ronald Fonger [mailio:RFONGER1 &mlive.com]', 'From: Waurfel, Brad ', 'From: Pallone, Maggie ', 'From: \"Fortin, Denise\"” <bortin.Denise@epa.zov>', 'From: Waurfel, Brad ', 'From: Wurfel, Brad ', 'From: Feuerstein, Heather ', 'From: Waurfel, Brad ', 'From: Wurfel, Brad ', 'From: \"Busch, Stephen \" <BUSCHS@michigan.gov>', 'From: Wurfel, Brad ', 'From: \"Prysby, Mike \" <PRYSBYM@michigan.govw>', 'From: Wurfel, Brad ', 'From: Muchmore, Dennis ', 'From: Wurfel, Brad ', 'From: Muchmore, Dennis ', 'From: do-not-reply@detroitnews.com [mailto:do-not-reply@detroitnews.com', 'From: Wurfel, Sara ', 'From: Jason Lorenz [mailto:jlorenz@cityoffiint.com]', 'From: Wurfel, Brad ', 'From: Busch, Stephen ', 'From: Busch, Stephen ', 'From: Curt Guyette <cguvette@aciumich.org>', 'From: Rosenthal, Adam ', 'From: Marc Edwards [mail m@', 'From: Marc Edwards [mailio:edwardsm@vt.ed:', 'From: Wurfel, Brad ', 'From: Busch, Stephen ', 'From: Wurfel, Brad ', 'From: Saxton, Thomas ', 'From: Wurfel, Brad ', 'From: Lasher, Geralyn ', 'From: Wurfel, Brad ', 'From: Lasher, Geralyn ', 'From: Holton, Jennifer ', 'From: Marc Edwards <edwardsm@vt.edu>', 'From: Marc Edwards [mailto:edwardsm@vi.edu]', 'From: Workman, Wayne ', 'From: Byrne, Randall ', 'From: Natasha Henderson [mailto:nhenderson@®citvofflint.com]', 'From: \"Sean Kammer\" <skammer@cityofflint.com>', 'From: Murray, David ', 'From: Muchmore, Dennis ', 'From: Workman, Wayne ', 'From: Byrne, Randall ', 'From: Natasha Henderson [mazilto:nhenderson®cityofflint.com]', 'From: \"Sean Kammer\" <skammer@cityofflint.com>', 'From: Sameen Amin <sameen.amin@aljazeera.net>', 'From: Holton, Jennifer ', 'From: \"Stuever, Beth\" <stuever@anr.msu.edu>', 'From: Ockert, Katherine', 'From: Holton, Jennifer ', 'From: \"Stuever, Beth\" <stugver@anr.msu.egdu>', 'From: Bryan Hill <orificeflow@yahoo.com>', 'From: Egan, Paul [mailto:pegan@freepress.com]', 'From: Minicuci, Angela ', 'From: Wurfel, Brad ', 'From: Saxton, Thomas ', 'From: Danielle Emerson <demerson@gongwer.com>', 'From: Angela Wittrock [mailto: AWittro BN', 'From: Lindsey Smith <Imsmi@umich.edu>', 'From: Angela Wittrock <AWittrock{@senate michigan. gov>', 'From: Macaluso, Nora <nmacaluso@bna.com>', 'From: Wurfel, Brad  [mzilto:WurfelB@michigan.gov]', 'From: Angela Wittrock [mailto:AWitirock@senate.michigan.gov]', 'From: Danielle Emerson [mailto:demerson@®gongwer.com]', 'From: Danielle Emerson <demerson@gongwer.com>', 'From: Wurfel, Brad  [maiito: WurfalB@michi', 'From: Danielle Emerson [mziltg:demerson@gongwer.com', 'From: Holton, Jennifer ', 'From: Holton, Jennifer ', 'From: Holton, Jennifer ', 'From: Gary Wilson [garygIx5@gmail.com]', 'From: GOV Newsroom <govnewsroom@govsubscriptions.michigan.gov>', 'From: Wurfel, Brad ', 'From: \"Krisztian, George \" <krisztiang@michigan.gov>', 'From: Wurfel, Brad ', 'From: \"Krisztian, George \" <krisztiang@michigan.gov>', 'From: Wurfel, Sara ', 'From: Wurfel, Sara ', 'From: Ronald Fonger [mailto:RECGNGERI @ miive.com', 'From: Wurfel, Sara ', 'From: Wurfel, Brad ', 'From: Jacob Kanclerz <jacob@mirsnews.com>', 'From: Wurfel, Sara ', 'From: Wurfel, Brad ', 'From: Wurfel, Sara ', 'From: Ronald Fonger [mailto:RFQNGERI@milve.com]', 'From: Wurfel, Brad ', 'From: Wurfel, Brad ', 'From: Ronald Fonger [maillo:RFONGER]1 @mlive.com]', 'From: Wurfel, Brad  [mailio: WurfelB@michigan.qaov]', 'From: Ronald Fonger [mailio:RFONGER1 &mlive.com]', 'From: Waurfel, Brad ', 'From: Pallone, Maggie ', 'From: \"Fortin, Denise\"” <bortin.Denise@epa.zov>', 'From: Waurfel, Brad ', 'From: Wurfel, Brad ', 'From: Feuerstein, Heather ', 'From: Waurfel, Brad ', 'From: Wurfel, Brad ', 'From: \"Busch, Stephen \" <BUSCHS@michigan.gov>', 'From: Wurfel, Brad ', 'From: \"Prysby, Mike \" <PRYSBYM@michigan.govw>', 'From: Wurfel, Brad ', 'From: Muchmore, Dennis ', 'From: Wurfel, Brad ', 'From: Muchmore, Dennis ', 'From: do-not-reply@detroitnews.com [mailto:do-not-reply@detroitnews.com', 'From: Wurfel, Sara ', 'From: Jason Lorenz [mailto:jlorenz@cityoffiint.com]', 'From: Wurfel, Brad ', 'From: Busch, Stephen ', 'From: Busch, Stephen ', 'From: Curt Guyette <cguvette@aciumich.org>', 'From: Rosenthal, Adam ', 'From: Marc Edwards [mail m@', 'From: Marc Edwards [mailio:edwardsm@vt.ed:', 'From: Wurfel, Brad ', 'From: Busch, Stephen ', 'From: Wurfel, Brad ', 'From: Saxton, Thomas ', 'From: Wurfel, Brad ']\n"
     ]
    }
   ],
   "source": [
    "print(namelist)"
   ]
  },
  {
   "cell_type": "code",
   "execution_count": null,
   "metadata": {},
   "outputs": [],
   "source": []
  }
 ],
 "metadata": {
  "kernelspec": {
   "display_name": "Python 3",
   "language": "python",
   "name": "python3"
  },
  "language_info": {
   "codemirror_mode": {
    "name": "ipython",
    "version": 3
   },
   "file_extension": ".py",
   "mimetype": "text/x-python",
   "name": "python",
   "nbconvert_exporter": "python",
   "pygments_lexer": "ipython3",
   "version": "3.5.3"
  }
 },
 "nbformat": 4,
 "nbformat_minor": 4
}
