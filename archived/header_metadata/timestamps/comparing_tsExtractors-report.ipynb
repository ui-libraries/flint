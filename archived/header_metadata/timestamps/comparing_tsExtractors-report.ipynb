{
 "cells": [
  {
   "cell_type": "code",
   "execution_count": null,
   "metadata": {},
   "outputs": [],
   "source": [
    "# this notebook tests two reg expressions (dtr0 vs, dtr1) #"
   ]
  },
  {
   "cell_type": "code",
   "execution_count": 1,
   "metadata": {},
   "outputs": [],
   "source": [
    "import datetime\n",
    "import dateutil.parser\n",
    "import re\n",
    "from urllib import request\n",
    "import testmod"
   ]
  },
  {
   "cell_type": "code",
   "execution_count": 2,
   "metadata": {},
   "outputs": [],
   "source": [
    "f = open(\"allfilenames.txt\", \"r+\")\n",
    "deqsstr = f.read()\n",
    "\n",
    "s3_root = \"http://d1us66xhqwx73c.cloudfront.net/\"\n",
    "\n",
    "def getemails(deqslist):\n",
    "    emailstext = ''\n",
    "    for deq in deqslist:\n",
    "        url = s3_root + deq\n",
    "        response = request.urlopen(url)\n",
    "        raw_text = response.read().decode('utf8')\n",
    "        emailstext = \"\".join((raw_text, emailstext))\n",
    "    return emailstext"
   ]
  },
  {
   "cell_type": "code",
   "execution_count": null,
   "metadata": {},
   "outputs": [],
   "source": [
    "# METHODS #"
   ]
  },
  {
   "cell_type": "code",
   "execution_count": null,
   "metadata": {},
   "outputs": [],
   "source": [
    "# takes a sample from each deq"
   ]
  },
  {
   "cell_type": "code",
   "execution_count": 3,
   "metadata": {},
   "outputs": [],
   "source": [
    "deq01list = re.findall(\"deq01.b1.*\", deqsstr)\n",
    "deq01 = ''.join(getemails(deq01list))\n",
    "deq02list = re.findall(\"deq02.b1.*\", deqsstr)\n",
    "deq02 = ''.join(getemails(deq02list))"
   ]
  },
  {
   "cell_type": "code",
   "execution_count": 4,
   "metadata": {},
   "outputs": [],
   "source": [
    "deq03list = re.findall(\"deq03.b1.*\", deqsstr)\n",
    "deq03 = ''.join(getemails(deq03list))\n",
    "deq04list = re.findall(\"deq04.b1.*\", deqsstr)\n",
    "deq04 = ''.join(getemails(deq04list))"
   ]
  },
  {
   "cell_type": "code",
   "execution_count": 5,
   "metadata": {},
   "outputs": [],
   "source": [
    "deq10list = re.findall(\"deq10.b1.*\", deqsstr)\n",
    "deq10 = ''.join(getemails(deq10list))\n",
    "deq11list = re.findall(\"deq11.b1.*\", deqsstr)\n",
    "deq11 = ''.join(getemails(deq11list))\n",
    "deq12list = re.findall(\"deq12.b1.*\", deqsstr)\n",
    "deq12 = ''.join(getemails(deq12list))\n",
    "deq14list = re.findall(\"deq14.b1.*\", deqsstr)\n",
    "deq14 = ''.join(getemails(deq14list))"
   ]
  },
  {
   "cell_type": "code",
   "execution_count": 7,
   "metadata": {},
   "outputs": [],
   "source": [
    "deq15list = re.findall(\"deq15.b1.*\", deqsstr)\n",
    "deq15 = ''.join(getemails(deq15list))\n",
    "deq16list = re.findall(\"deq16.b1.*\", deqsstr)\n",
    "deq16 = ''.join(getemails(deq16list))"
   ]
  },
  {
   "cell_type": "code",
   "execution_count": 8,
   "metadata": {},
   "outputs": [],
   "source": [
    "deq17list = re.findall(\"deq17.b1.*\", deqsstr)\n",
    "deq17 = ''.join(getemails(deq17list))"
   ]
  },
  {
   "cell_type": "code",
   "execution_count": 13,
   "metadata": {},
   "outputs": [],
   "source": [
    "deq18list = re.findall(\"deq18.b1.*\", deqsstr)\n",
    "deq18 = ''.join(getemails(deq18list))"
   ]
  },
  {
   "cell_type": "code",
   "execution_count": 11,
   "metadata": {},
   "outputs": [],
   "source": [
    "deq19list = re.findall(\"deq19.b1.*\", deqsstr)\n",
    "deq19 = ''.join(getemails(deq19list))\n",
    "deq20list = re.findall(\"deq20.b1.*\", deqsstr)\n",
    "deq20 = ''.join(getemails(deq20list))"
   ]
  },
  {
   "cell_type": "code",
   "execution_count": 12,
   "metadata": {},
   "outputs": [],
   "source": [
    "deq21list = re.findall(\"deq21.b1.*\", deqsstr)\n",
    "deq21 = ''.join(getemails(deq21list))\n",
    "deq24list = re.findall(\"deq24.b1.*\", deqsstr)\n",
    "deq24 = ''.join(getemails(deq24list))\n",
    "deq25list = re.findall(\"deq25.b1.*\", deqsstr)\n",
    "deq25 = ''.join(getemails(deq25list))"
   ]
  },
  {
   "cell_type": "code",
   "execution_count": 22,
   "metadata": {},
   "outputs": [],
   "source": [
    "listdeqst = [(deq01,deq01list,1),(deq02,deq02list,2),(deq03,deq03list,3),(deq04,deq04list,4),(deq10,deq10list,10),(deq11,deq11list,11),(deq12,deq12list,12),(deq14,deq14list,14),(deq15,deq15list,15),(deq16,deq16list,16),(deq17,deq17list,17),(deq18,deq18list,18),(deq19,deq19list,19),(deq20,deq20list,20),(deq21,deq21list,21),(deq24,deq24list,24),(deq25,deq25list,25),]"
   ]
  },
  {
   "cell_type": "code",
   "execution_count": 23,
   "metadata": {},
   "outputs": [],
   "source": [
    "deqtl = []\n",
    "for deq in listdeqst:\n",
    "    deqtl.extend(deq[0])\n",
    "emailstext = ''.join(deqtl)"
   ]
  },
  {
   "cell_type": "code",
   "execution_count": 24,
   "metadata": {},
   "outputs": [],
   "source": [
    "dtr1 = {\"Sent:\":\"Sent[:;](.*[AP][M])\",\"Date:\":\"Date[:;](.*[AP][M])\",\"On1\":\"On ([A-Z].*[AP][M]).* wro[tf]e:\"}\n",
    "dtr0 = {\n",
    "                'weekday month yearOrday yearORday hours:mins AMorPM':'\\\\b[A-Za-z]+\\s+[A-Za-z]+\\s+\\d+\\s+\\d+\\s+\\d+\\:\\d+\\s+[A-Z]+\\\\b',\n",
    "                'weekday month yearORday yearORday hours:mins:secs AMorPM':'\\\\b[A-Za-z]+\\s+[A-Za-z]+\\s+\\d+\\s+\\d+\\s+\\d+\\:\\d+\\:\\d+\\s+[A-Z]+\\\\b',\n",
    "                'yearORmonthORday-yearORmonthORday-yearORmonthORday:hours:mins:secs':'\\\\b\\d+\\-\\d+\\-\\d+\\:\\d+\\:\\d+\\:\\d+\\\\b',\n",
    "                'yearORmonthORday/yearORmonthORday/yearORmonthORday:hours:mins:secs':'\\\\b\\d+\\/\\d+\\/\\d+\\:\\d+\\:\\d+\\:\\d+\\\\b',\n",
    "                'yearORmonthORday-yearORmonthORday-yearORmonthORday-hours.mins.secs.millisecs':'\\\\b\\d+\\-\\d+\\-\\d+\\-\\d+\\.\\d+\\.\\d+\\.\\d+\\-\\d+\\\\b',\n",
    "                'yearORmonthORday/yearORmonthORday/yearORmonthORday-hours.mins.secs.millisecs':'\\\\b\\d+\\/\\d+\\/\\d+\\-\\d+\\.\\d+\\.\\d+\\.\\d+\\-\\d+\\\\b',\n",
    "                'yearORmonthORday-yearORmonthORday-yearORmonthORday-hours.mins.secs':'\\\\b\\d+\\-\\d+\\-\\d+\\-\\d+\\.\\d+\\.\\d+\\\\b',\n",
    "                'yearORmonthORday/yearORmonthORday/yearORmonthORday-hours.mins.secs':'\\\\b\\d+\\/\\d+\\/\\d+\\-\\d+\\.\\d+\\.\\d+\\\\b',\n",
    "                'yearORmonthORday-yearORmonthORday-yearORmonthORdayThours:mins:secs.millisecs':'\\\\b\\d+\\-\\d+\\-\\d+[A-Za-z]+\\d+\\:\\d+\\:\\d+\\.\\w+\\\\b',\n",
    "                'yearORmonthORday-yearORmonthORday-yearORmonthORdayThours:mins:secs+millisecs':'\\\\b\\d+\\-\\d+\\-\\d+[A-Za-z]+\\d+\\:\\d+\\:\\d+\\+\\d+\\\\b',\n",
    "                'yearORmonthORday-yearORmonthORday-yearORmonthORdayThours:mins:secs*millisecs':'\\\\b\\d+\\-\\d+\\-\\d+[A-Za-z]+\\d+\\:\\d+\\:\\d+\\*\\d+\\+\\d+\\\\b',\n",
    "                'yearORmonthORday-yearORmonthORday-yearORmonthORday*hours:mins:secs:millisecs':'\\\\b\\d+\\-\\d+\\-\\d+\\*\\d+\\:\\d+\\:\\d+\\:\\d+\\\\b',\n",
    "                'yearORmonthORday-yearORmonthORday-yearORmonthORday*hours:mins:secs':'\\\\b\\d+\\-\\d+\\-\\d+\\*\\d+\\:\\d+\\:\\d+\\\\b',\n",
    "                'yearORmonthORday-yearORmonthORday-yearORmonthORdayThours:mins:secs':'\\\\b\\d+\\-\\d+\\-\\d+[A-Za-z]+\\d+\\:\\d+\\:\\d+\\\\b',\n",
    "                'yearORmonthORday-yearORmonthORday-yearORmonthORday hours:mins:secs.millisecs':'\\\\b\\d+\\-\\d+\\-\\d+\\s+\\d+\\:\\d+\\:\\d+\\.\\w+\\\\b',\n",
    "                'yearORmonthORday/yearORmonthORday/yearORmonthORday hours:mins:secs:millisecs':'\\\\b\\d+\\/\\d+\\/\\d+\\s+\\d+\\:\\d+\\:\\d+\\:\\w+\\\\b',\n",
    "                'yearORmonthORday-yearORmonthORday-yearORmonthORday hours:mins:secs AMorPM':'\\\\b\\d+\\-\\d+\\-\\d+\\s+\\d+\\:\\d+\\:\\d+\\s+[A-Z]+\\\\b',\n",
    "                'yearORmonthORday-yearORmonthORday-yearORmonthORday hours:mins:secs':'\\\\b\\d+\\-\\d+\\-\\d+\\s+\\d+\\:\\d+\\:\\d+\\\\b',\n",
    "                'yearORmonthORday/yearORmonthORday/yearORmonthORday hours:mins:secs AMorPM':'\\\\b\\d+\\/\\d+\\/\\d+\\s+\\d+\\:\\d+\\:\\d+\\s+[A-Z]+\\\\b',\n",
    "                'yearORmonthORday/yearORmonthORday/yearORmonthORday hours:mins:secs':'\\\\b\\d+\\/\\d+\\/\\d+\\s+\\d+\\:\\d+\\:\\d+\\\\b',\n",
    "                'yearORmonthORday/yearORmonthORday/yearORmonthORday-hours:mins':'\\\\b\\d+\\/\\d+\\/\\d+\\-\\d+\\.\\d+\\\\b',\n",
    "                'yearORmonthORday-yearORmonthORday-yearORmonthORday-hours:mins':'\\\\b\\d+\\-\\d+\\-\\d+\\-\\d+\\.\\d+\\\\b',\n",
    "                'yearORmonthORday/yearORmonthORday/yearORmonthORday:hours:mins':'\\\\b\\d+\\/\\d+\\/\\d+\\:\\d+\\:\\d+\\\\b',\n",
    "                'yearORmonthORday-yearORmonthORday-yearORmonthORdayThours:mins':'\\\\b\\d+\\-\\d+\\-\\d+[A-Za-z]+\\d+\\:\\d+\\\\b',\n",
    "                'yearORmonthORday-yearORmonthORday-yearORmonthORday*hours:mins':'\\\\b\\d+\\-\\d+\\-\\d+\\*\\d+\\:\\d+\\\\b',\n",
    "                'yearORmonthORday/yearORmonthORday/yearORmonthORday hours:mins':'\\\\b\\d+\\/\\d+\\/\\d+\\s+\\d+\\:\\d+\\\\b',\n",
    "                'yearORmonthORday/yearORmonthORday/yearORmonthORday hours:mins AMorPM':'\\\\b\\d+\\/\\d+\\/\\d+\\s+\\d+\\:\\d+\\s+[A-Za-z]+\\\\b',\n",
    "                'yearORmonthORday-yearORmonthORday-yearORmonthORday hours:mins':'\\\\b\\d+\\-\\d+\\-\\d+\\s+\\d+\\:\\d+\\\\b',\n",
    "                'yearORmonthORday-yearORmonthORday-yearORmonthORday hours:mins AMorPM':'\\\\b\\d+\\-\\d+\\-\\d+\\s+\\d+\\:\\d+\\s+[A-Za-z]\\\\b',\n",
    "                'yearORday/month/yearORday:hours:mins:secs AMorPM':'\\\\b\\d+\\/[A-Za-z]+\\/\\d+\\:\\d+\\:\\d+\\:\\d+\\s+[A-Z]+\\\\b',\n",
    "                'yearORday/month/yearORday:hours:mins:secs':'\\\\b\\d+\\/[A-Za-z]+\\/\\d+\\:\\d+\\:\\d+\\:\\d+\\\\b',\n",
    "                'yearORday-month-yearORday:hours:mins:secs AMorPM':'\\\\b\\d+\\-[A-Za-z]+\\-\\d+\\:\\d+\\:\\d+\\:\\d+\\s+[A-Z]+\\\\b',\n",
    "                'yearORday-month-yearORday:hours:mins:secs':'\\\\b\\d+\\-[A-Za-z]+\\-\\d+\\:\\d+\\:\\d+\\:\\d+\\\\b',\n",
    "                'month/yearORday/yearORday:hours:mins:secs AMorPM':'\\\\b[A-Za-z]+\\/\\d+\\/\\d+\\:\\d+\\:\\d+\\:\\d+\\s+[A-Z]+\\\\b',\n",
    "                'month/yearORday/yearORday:hours:mins:secs':'\\\\b[A-Za-z]+\\/\\d+\\/\\d+\\:\\d+\\:\\d+\\:\\d+\\\\b',\n",
    "                'month-yearORday-yearORday:hours:mins:secs AMorPM':'\\\\b[A-Za-z]+\\-\\d+\\-\\d+\\:\\d+\\:\\d+\\:\\d+\\s+[A-Z]+\\\\b',\n",
    "                'month-yearORday-yearORday:hours:mins:secs':'\\\\b[A-Za-z]+\\-\\d+\\-\\d+\\:\\d+\\:\\d+\\:\\d+\\\\b',\n",
    "                'yearORday/month/yearORday hours:mins:secs AMorPM':'\\\\b\\d+\\/[A-Za-z]+\\/\\d+\\s+\\d+\\:\\d+\\:\\d+\\s+[A-Z]+\\\\b',\n",
    "                'yearORday/month/yearORday hours:mins:secs':'\\\\b\\d+\\/[A-Za-z]+\\/\\d+\\s+\\d+\\:\\d+\\:\\d+\\\\b',\n",
    "                'yearORday-month-yearORday hours:mins:secs AMorPM':'\\\\b\\d+\\-[A-Za-z]+\\-\\d+\\s+\\d+\\:\\d+\\:\\d+\\s+[A-Z]+\\\\b',\n",
    "                'yearORday-month-yearORday hours:mins:secs':'\\\\b\\d+\\-[A-Za-z]+\\-\\d+\\s+\\d+\\:\\d+\\:\\d+\\\\b',\n",
    "                'month/yearORday/yearORday hours:mins:secs AMorPM':'\\\\b[A-Za-z]+\\/\\d+\\/\\d+\\s+\\d+\\:\\d+\\:\\d+\\s+[A-Z]+\\\\b',\n",
    "                'month/yearORday/yearORday hours:mins:secs':'\\\\b[A-Za-z]+\\/\\d+\\/\\d+\\s+\\d+\\:\\d+\\:\\d+\\\\b',\n",
    "                'month-yearORday-yearORday hours:mins:secs AMorPM':'\\\\b[A-Za-z]+\\-\\d+\\-\\d+\\s+\\d+\\:\\d+\\:\\d+\\s+[A-Z]+\\\\b',\n",
    "                'month-yearORday-yearORday hours:mins:secs':'\\\\b[A-Za-z]+\\-\\d+\\-\\d+\\s+\\d+\\:\\d+\\:\\d+\\\\b',\n",
    "                'yearORday month yearORday hours:mins:secs.millisecs':'\\\\b\\d+\\s+[A-Za-z]+\\s+\\d+\\s+\\d+\\:\\d+\\:\\d+\\.\\d+\\\\b',\n",
    "                'month dayORyear hours:mins:secs +millisecs dayORyear':'\\\\b[A-Za-z]+\\s+\\d+\\s+\\d+\\:\\d+\\:\\d+\\s+\\+\\d+\\s+\\d+\\\\b',\n",
    "                'month dayORyear hours:mins:secs dayORyear':'\\\\b[A-Za-z]+\\s+\\d+\\s+\\d+\\:\\d+\\:\\d+\\s+\\d+\\\\b',\n",
    "                'month dayORyear dayORyear hours:mins:secs AMorPM':'\\\\b[A-Za-z]+\\s+\\d+\\s+\\d+\\s+\\d+\\:\\d+\\:\\d+\\s+[A-Z]+\\\\b',\n",
    "                'month dayORyear dayORyear hours:mins:secs':'\\\\b[A-Za-z]+\\s+\\d+\\s+\\d+\\s+\\d+\\:\\d+\\:\\d+\\\\b',\n",
    "                'month dayORyear hours:mins:secs +millisecs':'\\\\b[A-Za-z]+\\s+\\d+\\s+\\d+\\:\\d+\\:\\d+\\s+\\+\\d+\\\\b',\n",
    "                'dayORyear month dayORyear hours:mins:secs':'\\\\b\\d+\\s+[A-Za-z]+\\s+\\d+\\s+\\d+\\:\\d+\\:\\d+\\\\b',\n",
    "                'month dayORyear hours:mins:secs':'\\\\b[A-Za-z]+\\s+\\d+\\s+\\d+\\:\\d+\\:\\d+\\\\b',\n",
    "                'yearORmonthORday/yearORmonthORday/yearORmonthORday':'\\\\b\\d+\\/\\d+\\/\\d+\\*\\d+\\:\\d+\\:\\d+\\\\b',\n",
    "                'yearORday/month/yearORday:hours:mins AMorPM':'\\\\b\\d+\\/[A-Za-z]+\\d+\\:\\d+\\:\\d+\\s+[A-Za-z]+\\\\b',\n",
    "                'yearORday/month/yearORday:hours:mins':'\\\\b\\d+\\/[A-Za-z]+\\/\\d+\\:\\d+\\:\\d+\\\\b',\n",
    "                'yearORday-month-yearORday:hours:mins AMorPM':'\\\\b\\d+\\-[A-Za-z]+\\-\\d+\\:\\d+\\:\\d+\\s+[A-Za-z]+\\\\b',\n",
    "                'yearORday-month-yearORday:hours:mins':'\\\\b\\d+\\-[A-Za-z]+\\-\\d+\\:\\d+\\:\\d+\\\\b',\n",
    "                'month-yearORday-yearORday:hours:mins AMorPM':'\\\\b[A-Za-z]+\\-\\d+\\-\\d+\\:\\d+\\:\\d+\\s+[A-Za-z]+\\\\b',\n",
    "                'month-yearORday-yearORday:hours:mins':'\\\\b[A-Za-z]+\\-\\d+\\-\\d+\\:\\d+\\:\\d+\\\\b',\n",
    "                'month/yearORday/yearORday:hours:mins AMorPM':'\\\\b[A-Za-z]+\\/\\d+\\/\\d+\\:\\d+\\:\\d+\\s+[A-Za-z]+\\\\b',\n",
    "                'month/yearORday/yearORday:hours:mins':'\\\\b[A-Za-z]+\\/\\d+\\/\\d+\\:\\d+\\:\\d+\\\\b',\n",
    "                'yearORday/month/yearORday hours:mins AMorPM':'\\\\b\\d+\\/[A-Za-z]+\\/\\d+\\s+\\d+\\:\\d+\\s+[A-Za-z]+\\\\b',\n",
    "                'yearORday/month/yearORday hours:mins':'\\\\b\\d+\\/[A-Za-z]+\\/\\d+\\s+\\d+\\:\\d+\\\\b',\n",
    "                'yearORday-month-yearORday hours:mins AMorPM':'\\\\b\\d+\\-[A-Za-z]+\\-\\d+\\s+\\d+\\:\\d+\\s+[A-Za-z]+\\\\b',\n",
    "                'yearORday-month-yearORday hours:mins':'\\\\b\\d+\\-[A-Za-z]+\\-\\d+\\s+\\d+\\:\\d+\\\\b',\n",
    "                'month/yearORday/yearORday hours:mins AMorPM':'\\\\b[A-Za-z]\\/\\d+\\/\\d+\\s+\\d+\\:\\d+\\s+[A-Za-z]+\\\\b',\n",
    "                'month/yearORday/yearORday hours:mins':'\\\\b[A-Za-z]\\/\\d+\\/\\d+\\s+\\d+\\:\\d+\\\\b',\n",
    "                'month-yearORday-yearORday hours:mins AMorPM':'\\\\b[A-Za-z]+\\-\\d+\\-\\d+\\s+\\d+\\:\\d+\\s+[A-Za-z]+\\\\b',\n",
    "                'month-yearORday-yearORday hours:mins':'\\\\b[A-Za-z]+\\-\\d+\\-\\d+\\s+\\d+\\:\\d+\\\\b',\n",
    "                'year month day hours:mins':'\\\\b\\d+\\s+[A-Za-z]+\\s+\\d+\\s+\\d+\\:\\d+\\\\b',\n",
    "                'month day hours:mins year':'\\\\b[A-Za-z]+\\s+\\d+\\s+\\d+\\:\\d+\\s+\\d+\\\\b',\n",
    "                'month day hours:mins':'\\\\b[A-Za-z]+\\s+\\d+\\s+\\d+\\:\\d+\\\\b',\n",
    "                'month day year hours:mins AMorPM':'\\\\b[A-Za-z]+\\s+\\d+\\s+\\d+\\s+\\d+\\:\\d+\\s+[A-Za-z]+\\\\b',\n",
    "                'month day year hours:mins':'\\\\b[A-Za-z]+\\s+\\d+\\s+\\d+\\s+\\d+\\:\\d+\\\\b',\n",
    "                'on weekday, month day, year at hours:mins AMorPM':'\\\\b[a-z]+\\s+[A-Za-z]+\\s+[A-Za-z]+\\s+\\d+\\s+\\d+\\s+[a-z]+\\s+\\d+\\:\\d+\\s+[A-Za-z]+\\\\b',\n",
    "                'on month day, year, at hours:mins AMorPM':'\\\\b[a-z]+\\s+[A-Za-z]+\\s+\\d+\\s+\\d+\\s+[a-z]+\\s+\\d+\\:\\d+\\s+[A-Za-z]+\\\\b'\n",
    "                }\n",
    "\n",
    "def preprocess(x):\n",
    "    x = x.replace('\\t',' ')\n",
    "    #x = x.replace('\\n',' ')\n",
    "    x = x.replace('(',' ')\n",
    "    x = x.replace(')',' ')\n",
    "    x = x.replace('[',' ')\n",
    "    x = x.replace(']',' ')\n",
    "    x = x.replace('{',' ')\n",
    "    x = x.replace('}',' ')\n",
    "    x = x.replace(',',' ')\n",
    "    x = x.replace('\"','')\n",
    "    x = x.replace(\"'\",'')\n",
    "    x = x.replace(\"_\",\"\")\n",
    "    x = x.replace(\"-\",\"\")\n",
    "    x = x.replace(\"|\",\"\")\n",
    "    x = x.replace(\"~\",\"\")\n",
    "    x = x.replace(\".\",\"\")\n",
    "    x = x.replace(\"+\",\"\")\n",
    "    x = x.replace(\"=\",\"\")\n",
    "    x = x.replace(\"C \",\"\")\n",
    "    x = x.replace(\"o \",\"\")\n",
    "    x = x.replace(\";\",\":\")\n",
    "    x = x.replace(\"; \",\"\")\n",
    "    x = x.replace(\"`\",\"\")\n",
    "    x = x.replace(\"y:\",\"y\")\n",
    "    x = x.replace(\"?\",\"2\")\n",
    "    x = x.replace(\"‘\",\"\")\n",
    "    return(x)\n",
    "    \n",
    "reg1 = '|'.join(dtr1.values())\n",
    "reg0 = '|'.join(dtr0.values())\n",
    "\n",
    "def DateTimeExtractor(reg,x):\n",
    "    x = preprocess(x)\n",
    "    DT = re.findall(reg,x)\n",
    "    return(DT)\n",
    "\n",
    "def DateTimeExtractornopp (reg,x):\n",
    "    DT = re.findall(reg,x)\n",
    "    return(DT)\n",
    "\n",
    "def toUnixTime(time_list):\n",
    "    new_list = []\n",
    "    for t in time_list:\n",
    "        try:\n",
    "            unixtime = dateutil.parser.parse(t).timestamp()\n",
    "            new_list.append(unixtime)\n",
    "        except Exception:\n",
    "            pass  \n",
    "    return new_list"
   ]
  },
  {
   "cell_type": "code",
   "execution_count": 25,
   "metadata": {},
   "outputs": [],
   "source": [
    "# TEST #"
   ]
  },
  {
   "cell_type": "code",
   "execution_count": 26,
   "metadata": {},
   "outputs": [],
   "source": [
    "setTS1 = DateTimeExtractor(reg1,emailstext)\n",
    "setTS0 = DateTimeExtractor(reg0,emailstext)\n",
    "def putinlist(setTS):\n",
    "    listTS = []\n",
    "    for trio in setTS:\n",
    "        for timestamp in trio:\n",
    "            if timestamp == '':\n",
    "                pass\n",
    "            else:\n",
    "                k = timestamp.replace(\" :\",\"\")\n",
    "                listTS.append(k)\n",
    "    return listTS"
   ]
  },
  {
   "cell_type": "code",
   "execution_count": 27,
   "metadata": {},
   "outputs": [],
   "source": [
    "# RESULTS #"
   ]
  },
  {
   "cell_type": "code",
   "execution_count": 29,
   "metadata": {},
   "outputs": [
    {
     "name": "stdout",
     "output_type": "stream",
     "text": [
      "predicted number of ts, as estimated by # of froms + ons: 9069\n"
     ]
    }
   ],
   "source": [
    "# how many timestamps should be expected? #\n",
    "f = re.findall(\"\\n[> ]*From[:;].[A-Za-z].*\",emailstext)\n",
    "o = re.findall(\"On.*wro[tf]e[:;\\n]\",emailstext)\n",
    "fo = len(f+o)\n",
    "print(\"predicted number of ts, as estimated by # of froms + ons: \" + str(fo))"
   ]
  },
  {
   "cell_type": "code",
   "execution_count": 30,
   "metadata": {},
   "outputs": [
    {
     "name": "stderr",
     "output_type": "stream",
     "text": [
      "/home/bitnami/.local/lib/python3.5/site-packages/dateutil/parser/_parser.py:1218: UnknownTimezoneWarning: tzname PV identified but not understood.  Pass `tzinfos` argument in order to correctly return a timezone-aware datetime.  In a future version, this will raise an exception.\n",
      "  category=UnknownTimezoneWarning)\n"
     ]
    },
    {
     "name": "stdout",
     "output_type": "stream",
     "text": [
      "dtr0 method yields 18152 ts ... 17664 unix ts ... 17694 unix ts after fixing\n",
      "97.48% of ts unix-recognized\n"
     ]
    }
   ],
   "source": [
    "listTS0 = setTS0\n",
    "unixtimes0 = toUnixTime(listTS0)\n",
    "flistTS0 = testmod.fixTS(listTS0)\n",
    "funixtimes0 = toUnixTime(flistTS0)\n",
    "print(\"dtr0 method yields \" + str(len(listTS0)) + \" ts ... \" + str(len(unixtimes0)) + \" unix ts ... \" + str(len(funixtimes0)) + \" unix ts after fixing\")\n",
    "perc0 = (len(funixtimes0))/(len(listTS0)) * 100\n",
    "print(str(round(perc0,2)) + \"% of ts unix-recognized\")\n",
    "###"
   ]
  },
  {
   "cell_type": "code",
   "execution_count": 31,
   "metadata": {},
   "outputs": [
    {
     "name": "stdout",
     "output_type": "stream",
     "text": [
      "dtr1 method yields 9890 ts ... 9655 unix ts ... 9844 unix ts after fixing\n",
      "99.53% of ts unix-recognized\n"
     ]
    }
   ],
   "source": [
    "listTS1 = putinlist(setTS1)\n",
    "unixtimes1 = toUnixTime(listTS1)\n",
    "flistTS1 = testmod.fixTS(listTS1)\n",
    "funixtimes1 = toUnixTime(flistTS1)\n",
    "print(\"dtr1 method yields \" + str(len(listTS1)) + \" ts ... \" + str(len(unixtimes1)) + \" unix ts ... \" + str(len(funixtimes1)) + \" unix ts after fixing\")\n",
    "perc1 = (len(funixtimes1))/(len(listTS1)) * 100\n",
    "print(str(round(perc1,2)) + \"% of ts unix-recognized\")\n",
    "###"
   ]
  },
  {
   "cell_type": "code",
   "execution_count": 32,
   "metadata": {},
   "outputs": [],
   "source": [
    "# what timestamps are being uniquely caught by each? #"
   ]
  },
  {
   "cell_type": "code",
   "execution_count": 33,
   "metadata": {},
   "outputs": [],
   "source": [
    "setTS1np = DateTimeExtractornopp(reg1,emailstext)\n",
    "setTS0np = DateTimeExtractornopp(reg0,emailstext)\n",
    "listTS1np = putinlist(setTS1np)\n",
    "listTS0np = setTS0np"
   ]
  },
  {
   "cell_type": "code",
   "execution_count": 34,
   "metadata": {},
   "outputs": [],
   "source": [
    "#in new but not old\n",
    "TS1onlynp = []\n",
    "for time in listTS1np:\n",
    "    if time in listTS0np:\n",
    "        pass\n",
    "    else:\n",
    "        TS1onlynp.append(time)"
   ]
  },
  {
   "cell_type": "code",
   "execution_count": 35,
   "metadata": {},
   "outputs": [],
   "source": [
    "#in old but not new\n",
    "TS0onlynp = []\n",
    "for time in listTS0np:\n",
    "    if time in listTS1np:\n",
    "        pass\n",
    "    else:\n",
    "        TS0onlynp.append(time)"
   ]
  },
  {
   "cell_type": "code",
   "execution_count": 36,
   "metadata": {},
   "outputs": [
    {
     "name": "stdout",
     "output_type": "stream",
     "text": [
      "found only by dtr0: 9787\n",
      "found only by dtr1: 9886\n"
     ]
    }
   ],
   "source": [
    "print(\"found only by dtr0: \" + str(len(TS0onlynp)))\n",
    "print(\"found only by dtr1: \" + str(len(TS1onlynp)))"
   ]
  },
  {
   "cell_type": "code",
   "execution_count": 53,
   "metadata": {
    "scrolled": true
   },
   "outputs": [
    {
     "data": {
      "text/plain": [
       "['07/22/2015 07:00',\n",
       " '07/30/2015 11:01',\n",
       " '7/31/2015 4:35',\n",
       " '07/13/2015 06:30',\n",
       " '07/23/2015 11:10',\n",
       " '7/28/2015 12:20',\n",
       " '07/15/2015 09:00',\n",
       " '07/23/2015 11:10',\n",
       " '7/28/2015 12:20',\n",
       " '07/16/2015 07:15']"
      ]
     },
     "execution_count": 53,
     "metadata": {},
     "output_type": "execute_result"
    }
   ],
   "source": [
    "TS0onlynp[0:10]"
   ]
  },
  {
   "cell_type": "code",
   "execution_count": 54,
   "metadata": {
    "scrolled": true
   },
   "outputs": [
    {
     "data": {
      "text/plain": [
       "[' Tuesday, March 17, 2015 4:26 PM',\n",
       " ' Monday, March 16, 2015 4:28 PM',\n",
       " ' Wednesday, March 11, 2015 9:07 AM',\n",
       " ' Thursday, March 12, 2015 1:12 PM',\n",
       " 'Mar 11, 2015, at 5:04 PM',\n",
       " ' Friday, March 13, 2015 1:46 PM',\n",
       " 'Mar 13, 2015 8:54 AM',\n",
       " ' Thursday, March 19, 2015 6:57 AM',\n",
       " 'Mar 19, 2015 7:55 AM',\n",
       " 'Mar 15, 2015 5:26 PM']"
      ]
     },
     "execution_count": 54,
     "metadata": {},
     "output_type": "execute_result"
    }
   ],
   "source": [
    "TS1onlynp[0:10]"
   ]
  },
  {
   "cell_type": "code",
   "execution_count": 37,
   "metadata": {},
   "outputs": [],
   "source": [
    "# what ts are not-unixable in each? #"
   ]
  },
  {
   "cell_type": "code",
   "execution_count": 55,
   "metadata": {},
   "outputs": [
    {
     "data": {
      "text/plain": [
       "['March 19  20159:09',\n",
       " '16/13/18 2:39',\n",
       " 'Coi 1613 5 2:30 Pr',\n",
       " '18/13/15 2:30',\n",
       " '16/13/15 2:32',\n",
       " '18/13/15 2:30',\n",
       " 'Collection 510 2:30',\n",
       " 'subje 60 5:0',\n",
       " '18/13/15 2:36',\n",
       " '18/13/15 2:30']"
      ]
     },
     "execution_count": 55,
     "metadata": {},
     "output_type": "execute_result"
    }
   ],
   "source": [
    "no0 = testmod.NoUnix(flistTS0)\n",
    "no0[0:10]"
   ]
  },
  {
   "cell_type": "code",
   "execution_count": 56,
   "metadata": {},
   "outputs": [
    {
     "data": {
      "text/plain": [
       "[' 6M1/2015 10:61:10 AM',\n",
       " 'Nov 11  20135  at 9:57 AM',\n",
       " 'Tue  Nov 10  20135 at 5:14 PM',\n",
       " 'Mon  Nov 9: 20135 at 6:20 PM',\n",
       " 'Tue  Nov 10  2015 ﬁt 1:59 PM',\n",
       " ' 2119/2015 11:13:00 AM',\n",
       " ' Thursday  Oct 01  2015 8:2¢ AM',\n",
       " ' Monday  lanuary 26  2015 10:14 AM',\n",
       " ' Friday  Feb 06  2015 11:3% AM',\n",
       " ' November 12  2015 at 3:47: 14 PM']"
      ]
     },
     "execution_count": 56,
     "metadata": {},
     "output_type": "execute_result"
    }
   ],
   "source": [
    "no1 = testmod.NoUnix(flistTS1)\n",
    "no1[0:10]"
   ]
  },
  {
   "cell_type": "code",
   "execution_count": 40,
   "metadata": {},
   "outputs": [],
   "source": [
    "# DISCUSSION #"
   ]
  },
  {
   "cell_type": "code",
   "execution_count": 41,
   "metadata": {},
   "outputs": [],
   "source": [
    "# dtr1 appears to do a better job at finding ts, as evidenced by the fact that...\n",
    "### a) the number of predicted ts, from froms + ons, from this sample is 9069, \n",
    "### which is closer to len(listTS1)=9844 than len(listTS0)=17694\n",
    "### b) 99.22% of listTS1 is unix-able. even though dtr0 also has a high % unix-able... (see c)\n",
    "### c) from the list of ts that dtr0 caught and dtr1 did not (and vice-versa),\n",
    "### it is clear that dtr0 gets more false positives than dtr1 -- see TS0onlynp and TS1onlynp"
   ]
  },
  {
   "cell_type": "code",
   "execution_count": 42,
   "metadata": {},
   "outputs": [],
   "source": [
    "# CONCLUSION #"
   ]
  },
  {
   "cell_type": "code",
   "execution_count": 43,
   "metadata": {},
   "outputs": [],
   "source": [
    "# although it is of course a work in progress, for now dtr1 will work better for extracting ts"
   ]
  }
 ],
 "metadata": {
  "kernelspec": {
   "display_name": "Python 3",
   "language": "python",
   "name": "python3"
  },
  "language_info": {
   "codemirror_mode": {
    "name": "ipython",
    "version": 3
   },
   "file_extension": ".py",
   "mimetype": "text/x-python",
   "name": "python",
   "nbconvert_exporter": "python",
   "pygments_lexer": "ipython3",
   "version": "3.5.3"
  }
 },
 "nbformat": 4,
 "nbformat_minor": 4
}
