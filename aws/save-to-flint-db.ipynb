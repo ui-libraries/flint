{
 "cells": [
  {
   "cell_type": "code",
   "execution_count": 12,
   "metadata": {},
   "outputs": [],
   "source": [
    "import boto3\n",
    "from boto3.dynamodb.conditions import Key, Attr\n",
    "import json\n",
    "import os"
   ]
  },
  {
   "cell_type": "code",
   "execution_count": 13,
   "metadata": {},
   "outputs": [],
   "source": [
    "dynamodb_client = boto3.resource('dynamodb', \n",
    "                               region_name='us-east-1')\n",
    "\n",
    "flint_emails_table = dynamodb_client.Table('db_test')"
   ]
  },
  {
   "cell_type": "code",
   "execution_count": 15,
   "metadata": {},
   "outputs": [],
   "source": [
    "with open('dbtest.json') as json_file:\n",
    "    data = json.load(json_file)\n",
    "    for d in data:\n",
    "        files = d['files']\n",
    "        for l in files:\n",
    "            item = {}\n",
    "            item['id'] = l\n",
    "            item['subject'] = d['subj']\n",
    "            item['uts'] = d['uts']\n",
    "            item['sender'] = d['sender']\n",
    "            item['receivers_to'] = d['receivers (To:)']\n",
    "            item['receivers_cc'] = d['receivers (Cc:)']\n",
    "            flint_emails_table.put_item(\n",
    "                Item=item\n",
    "                )"
   ]
  },
  {
   "cell_type": "code",
   "execution_count": 2,
   "metadata": {},
   "outputs": [],
   "source": [
    "dynamodb_client = boto3.resource('dynamodb', \n",
    "                               region_name='us-east-1')\n",
    "\n",
    "flint_emails_table = dynamodb_client.Table('db_test')"
   ]
  },
  {
   "cell_type": "markdown",
   "metadata": {},
   "source": [
    "# query database"
   ]
  },
  {
   "cell_type": "code",
   "execution_count": 3,
   "metadata": {},
   "outputs": [],
   "source": [
    "response = flint_emails_table.query(\n",
    "    KeyConditionExpression=Key('id').eq('deq01_b210_3886_3888_1')\n",
    ")"
   ]
  },
  {
   "cell_type": "markdown",
   "metadata": {},
   "source": [
    "# insert into database"
   ]
  },
  {
   "cell_type": "code",
   "execution_count": 4,
   "metadata": {},
   "outputs": [
    {
     "data": {
      "text/plain": [
       "{'ResponseMetadata': {'RequestId': '3QCBJFR2NFI99QC9F3OCQACGQ3VV4KQNSO5AEMVJF66Q9ASUAAJG',\n",
       "  'HTTPStatusCode': 200,\n",
       "  'HTTPHeaders': {'server': 'Server',\n",
       "   'date': 'Wed, 22 Jul 2020 16:53:50 GMT',\n",
       "   'content-type': 'application/x-amz-json-1.0',\n",
       "   'content-length': '2',\n",
       "   'connection': 'keep-alive',\n",
       "   'x-amzn-requestid': '3QCBJFR2NFI99QC9F3OCQACGQ3VV4KQNSO5AEMVJF66Q9ASUAAJG',\n",
       "   'x-amz-crc32': '2745614147'},\n",
       "  'RetryAttempts': 0}}"
      ]
     },
     "execution_count": 4,
     "metadata": {},
     "output_type": "execute_result"
    }
   ],
   "source": [
    "flint_emails_table.put_item(\n",
    "    Item={\n",
    "            'id': 'deq_b_69',\n",
    "            'url': 'google.com'\n",
    "        }\n",
    "    )"
   ]
  },
  {
   "cell_type": "code",
   "execution_count": null,
   "metadata": {},
   "outputs": [],
   "source": []
  }
 ],
 "metadata": {
  "kernelspec": {
   "display_name": "Python 3",
   "language": "python",
   "name": "python3"
  },
  "language_info": {
   "codemirror_mode": {
    "name": "ipython",
    "version": 3
   },
   "file_extension": ".py",
   "mimetype": "text/x-python",
   "name": "python",
   "nbconvert_exporter": "python",
   "pygments_lexer": "ipython3",
   "version": "3.7.6"
  }
 },
 "nbformat": 4,
 "nbformat_minor": 4
}
