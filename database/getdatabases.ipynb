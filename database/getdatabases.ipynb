{
 "cells": [
  {
   "cell_type": "code",
   "execution_count": 3367,
   "metadata": {},
   "outputs": [
    {
     "name": "stderr",
     "output_type": "stream",
     "text": [
      "[nltk_data] Downloading package punkt to /home/bitnami/nltk_data...\n",
      "[nltk_data]   Package punkt is already up-to-date!\n"
     ]
    }
   ],
   "source": [
    "import sys\n",
    "sys.path.insert(0, '//notebooks/Hannah notebooks/header metadata/modules')\n",
    "from modules import uts\n",
    "from modules import hme\n",
    "from modules import emails\n",
    "from modules import srec\n",
    "from modules import biroo\n",
    "from modules import atto\n",
    "\n",
    "\n",
    "import nltk\n",
    "nltk.download('punkt')\n",
    "from nltk.tokenize import word_tokenize\n",
    "from nltk.tag import pos_tag\n",
    "from nltk.chunk import ne_chunk\n",
    "\n",
    "import re\n",
    "import os\n",
    "import json\n",
    "from itertools import repeat"
   ]
  },
  {
   "cell_type": "code",
   "execution_count": 3,
   "metadata": {},
   "outputs": [],
   "source": [
    "# get email database\n",
    "emailstextdeq = emails.getEmails(\"allfilenames.txt\",\"deq\",-1)\n",
    "emailstexteoe = emails.getEmails(\"allfilenames.txt\",\"executiveofficeemails\",-1)\n",
    "emailstextdhhs = emails.getEmails(\"allfilenames.txt\",\"dhhs\",-1)\n",
    "emailstextmsp = emails.getEmails(\"allfilenames.txt\",\"msp\",-1)"
   ]
  },
  {
   "cell_type": "code",
   "execution_count": 2904,
   "metadata": {},
   "outputs": [],
   "source": [
    "allet=emailstextdeq+emailstexteoe+emailstextdhhs+emailstextmsp\n",
    "allets=emailstextdeq[0:1999999]+emailstexteoe[0:1999999]+emailstextdhhs[0:1999999]+emailstextmsp[0:1999999]"
   ]
  },
  {
   "cell_type": "code",
   "execution_count": 3184,
   "metadata": {},
   "outputs": [
    {
     "data": {
      "text/plain": [
       "142468"
      ]
     },
     "execution_count": 3184,
     "metadata": {},
     "output_type": "execute_result"
    }
   ],
   "source": [
    "len(listpgs)"
   ]
  },
  {
   "cell_type": "code",
   "execution_count": 3024,
   "metadata": {
    "scrolled": true
   },
   "outputs": [
    {
     "name": "stdout",
     "output_type": "stream",
     "text": [
      "msp\n",
      "28082 pages with emailmetadata out of 72196 pgs in dept\n",
      "dept time: 598.2849397659302 seconds\n",
      "deq\n",
      "11822 pages with emailmetadata out of 51768 pgs in dept\n",
      "dept time: 588.7476825714111 seconds\n",
      "dhhs\n",
      "2663 pages with emailmetadata out of 9460 pgs in dept\n",
      "dept time: 584.415186882019 seconds\n",
      "executiveofficeemails\n",
      "3111 pages with emailmetadata out of 9043 pgs in dept\n",
      "dept time: 587.9615359306335 seconds\n"
     ]
    }
   ],
   "source": [
    "fp=[]\n",
    "listpgs = re.split(\"---endPAGE\",allet)\n",
    "for dept in [\"msp\",\"deq\",\"dhhs\",\"executiveofficeemails\"]:\n",
    "    u = biroo.getFP5(allet,listpgs,dept)\n",
    "    fp.extend(u)"
   ]
  },
  {
   "cell_type": "code",
   "execution_count": 3051,
   "metadata": {},
   "outputs": [
    {
     "name": "stdout",
     "output_type": "stream",
     "text": [
      "% with all matched fields: 0.8644642935329918\n",
      "after clearing bad fields of mismatched pages, 100.0% of pages have all matched fields\n",
      "12418 emails with cleared fields (13.028652964443467%) excluded because they probably have viable duplicates\n",
      "82895 total emails returned\n",
      "53194 unique emails returned\n"
     ]
    }
   ],
   "source": [
    "fp5, op5, ot5 = biroo.getDB(fp,\"5\",\"id\") "
   ]
  },
  {
   "cell_type": "code",
   "execution_count": 3052,
   "metadata": {},
   "outputs": [
    {
     "name": "stdout",
     "output_type": "stream",
     "text": [
      "% with all matched fields: 0.8644642935329918\n",
      "after clearing bad fields of mismatched pages, 100.0% of pages have all matched fields\n",
      "5995 emails with cleared fields (6.289803069885536%) excluded because they probably have viable duplicates\n",
      "89318 total emails returned\n",
      "43139 unique emails returned\n"
     ]
    }
   ],
   "source": [
    "fp2, op2, ot2 = biroo.getDB(fp,\"2\",\"id\") "
   ]
  },
  {
   "cell_type": "code",
   "execution_count": 3095,
   "metadata": {
    "scrolled": true
   },
   "outputs": [
    {
     "name": "stdout",
     "output_type": "stream",
     "text": [
      "TYPE A\n",
      "perc w/ dups: 0.23230316993723682\n",
      "running thru algorithm\n",
      "consolidating scores\n",
      "total dups: 20504\n",
      "labeling pages\n",
      "canonical dups: 5848\n",
      "canonical nondups: 25174\n",
      "noncanonical dups: 14656\n",
      "TYPE B\n",
      "perc w/ dups: 0.3405734949813394\n",
      "running thru algorithm\n",
      "consolidating scores\n",
      "total dups: 60784\n",
      "labeling emails\n",
      "canonical dups: 14692\n",
      "canonical nondups: 25003\n",
      "noncanonical dups: 46092\n",
      "noinfos: 3531\n",
      "6423\n",
      "total time: 13313.612995624542 seconds\n"
     ]
    }
   ],
   "source": [
    "typeA, typeB = biroo.getAB(fp2,op2,op5,ot2)"
   ]
  },
  {
   "cell_type": "code",
   "execution_count": 3098,
   "metadata": {},
   "outputs": [
    {
     "name": "stdout",
     "output_type": "stream",
     "text": [
      "3156(5.933%) are placeholders\n",
      "\n",
      "\n",
      "\n",
      "total time: 3931.8997802734375 seconds\n"
     ]
    }
   ],
   "source": [
    "fulldb = biroo.getDBAB(fp2x,op2,op5,ot2,ot5,typeA,typeB)"
   ]
  },
  {
   "cell_type": "code",
   "execution_count": 3121,
   "metadata": {},
   "outputs": [
    {
     "data": {
      "text/plain": [
       "53194"
      ]
     },
     "execution_count": 3121,
     "metadata": {},
     "output_type": "execute_result"
    }
   ],
   "source": [
    "len(fulldb)"
   ]
  },
  {
   "cell_type": "code",
   "execution_count": 3234,
   "metadata": {},
   "outputs": [],
   "source": [
    "fulldb2=[]\n",
    "fulldb3=[]\n",
    "for item in fulldb:\n",
    "    e = item[1]\n",
    "    ut = (e[0],e[1])\n",
    "    fu = (item[0],ut)\n",
    "    uf = (ut,[item[0]])\n",
    "    fulldb3.append(uf)\n",
    "    fulldb2.append(fu)\n",
    "#xdb = biroo.combine(fulldb2)"
   ]
  },
  {
   "cell_type": "code",
   "execution_count": 3410,
   "metadata": {},
   "outputs": [
    {
     "name": "stdout",
     "output_type": "stream",
     "text": [
      "     using 5 header fields\n",
      "pgs w/ hme: 45678\n",
      "total emails (excl @ 5): 82895\n",
      "unique emails: 53194\n",
      "     using 2 header fields\n",
      "pgs w/ hme: 45678\n",
      "total emails (excl @ 2): 89318\n",
      "unique emails: 43139\n",
      "     use in db?\n",
      "total emails (none excl): 95313\n",
      "unique emails (sens=2hf): 43139\n"
     ]
    }
   ],
   "source": [
    "print(\"     using 5 header fields\")\n",
    "print(\"pgs w/ hme: \" + str(len(fp5x)))\n",
    "print(\"total emails (excl @ 5): \" + str(len(op5))) #lower bc excl function, more fields to catch X's\n",
    "print(\"unique emails: \" + str(len(ot5))) #higher bc more sensitive dup detection\n",
    "print(\"     using 2 header fields\")\n",
    "print(\"pgs w/ hme: \" + str(len(fp2x)))\n",
    "print(\"total emails (excl @ 2): \" + str(len(op2)))\n",
    "print(\"unique emails: \" + str(len(ot2)))\n",
    "print(\"     use in db?\")\n",
    "print(\"total emails (none excl): \" + str(len(op2e)))\n",
    "print(\"unique emails (sens=2hf): \" + str(len(ot2))) #found dups using (uts, sndr)"
   ]
  },
  {
   "cell_type": "code",
   "execution_count": 3182,
   "metadata": {
    "scrolled": true
   },
   "outputs": [
    {
     "data": {
      "text/plain": [
       "[('deq', 10979),\n",
       " ('msp', 35614),\n",
       " ('executiveofficeemails', 3291),\n",
       " ('dhhs', 3310)]"
      ]
     },
     "execution_count": 3182,
     "metadata": {},
     "output_type": "execute_result"
    }
   ],
   "source": [
    "r=[]\n",
    "r2=[]\n",
    "for f in fulldb:\n",
    "    fn = f[0]\n",
    "    de = re.findall(\"(^[a-z]+)[0-9]*_b\",fn)\n",
    "    if de !=[]:\n",
    "        r.append(de[0])\n",
    "r3=[]\n",
    "r2=list(dict.fromkeys(r))\n",
    "for dept in r2:\n",
    "    new = (dept,r.count(dept))\n",
    "    r3.append(new)\n",
    "r3"
   ]
  },
  {
   "cell_type": "code",
   "execution_count": 3412,
   "metadata": {},
   "outputs": [
    {
     "name": "stdout",
     "output_type": "stream",
     "text": [
      "A0B123: 3386\n",
      "A12B0: 12046\n"
     ]
    }
   ],
   "source": [
    "A0B123=[]\n",
    "A12B0=[]\n",
    "for item in fulldb:\n",
    "    A = item[2]\n",
    "    B = item[3]\n",
    "    if A == '0' and B != '0':\n",
    "        A0B123.append(item)\n",
    "        can.append(item)\n",
    "        pass\n",
    "    if A != '0' and B =='0':\n",
    "        A12B0.append(item)\n",
    "        can.append(item)\n",
    "        pass\n",
    "print(\"A0B123: \" + str(len(A0B1)))\n",
    "print(\"A12B0: \" + str(len(A1B0)))"
   ]
  },
  {
   "cell_type": "code",
   "execution_count": null,
   "metadata": {},
   "outputs": [],
   "source": [
    "# get attachment database"
   ]
  },
  {
   "cell_type": "code",
   "execution_count": 2651,
   "metadata": {},
   "outputs": [
    {
     "name": "stdout",
     "output_type": "stream",
     "text": [
      "getting no-email bookmarks\n",
      "tokenizing emails\n",
      "splitting emails\n",
      "sorting tokenized emails\n",
      "221.01298475265503 seconds\n"
     ]
    }
   ],
   "source": [
    "h = atto.preprocessAD(allet,'msp|deq|dhhs|executiveofficeemails')"
   ]
  },
  {
   "cell_type": "code",
   "execution_count": 3261,
   "metadata": {},
   "outputs": [
    {
     "name": "stdout",
     "output_type": "stream",
     "text": [
      "sorting tokenized email groups into probable pairs\n",
      "processing tokenized email groups\n",
      "matching by tokens\n",
      "combining\n",
      "finishing up\n",
      "start #: 2228\n",
      "# after elim internal repeats: 635\n",
      "start disparity: 559\n",
      "end disparity: 179\n",
      "0 disparity\n",
      "0 disparity\n",
      "final #: 524\n",
      "271.81903052330017 seconds\n",
      "incorporating non-dups\n",
      "278.37711215019226 seconds\n"
     ]
    }
   ],
   "source": [
    "u = atto.getAD(h)"
   ]
  },
  {
   "cell_type": "code",
   "execution_count": 3264,
   "metadata": {},
   "outputs": [
    {
     "data": {
      "text/plain": [
       "0.3057176196032672"
      ]
     },
     "execution_count": 3264,
     "metadata": {},
     "output_type": "execute_result"
    }
   ],
   "source": [
    "u2=[]\n",
    "for item in u:\n",
    "    if len(item)>1:\n",
    "        u2.append(item)\n",
    "len(u2)/len(u) # % of attachments with duplicates"
   ]
  },
  {
   "cell_type": "code",
   "execution_count": 2661,
   "metadata": {},
   "outputs": [],
   "source": [
    "# exporting database"
   ]
  },
  {
   "cell_type": "code",
   "execution_count": 988,
   "metadata": {},
   "outputs": [],
   "source": [
    "# to txtfile\n",
    "news=[]\n",
    "for xs in x:\n",
    "    em = xs[0]\n",
    "    files = xs[1]\n",
    "    files1=', '.join(files)\n",
    "    uts=em[0]\n",
    "    frum=em[1]\n",
    "    to=em[2]\n",
    "    to1 = ', '.join(to)\n",
    "    cc=em[3]\n",
    "    cc1 = ', '.join(cc)\n",
    "    sub=em[4]\n",
    "    new = (\"UTS: \" + str(uts) + \"//SNDR: \" + frum + \"//TO: \" + to1 + \"//CC: \" + cc1 + \"//SUB: \" + sub + '////files: ' + files1)\n",
    "    news.append(new)\n",
    "news1='\\n'.join(news)\n",
    "f = open('fulldatabase.txt','w')\n",
    "f.write(news1) #delete the final comma from final text file\n",
    "f.close()"
   ]
  },
  {
   "cell_type": "code",
   "execution_count": 3110,
   "metadata": {},
   "outputs": [
    {
     "name": "stdout",
     "output_type": "stream",
     "text": [
      "{\n",
      "    \"uts\": 1452018100,\n",
      "    \"receivers (Cc:)\": [\n",
      "        \"X\"\n",
      "    ],\n",
      "    \"Bcode\": \"2\",\n",
      "    \"sender\": \"Egan, Paul\",\n",
      "    \"files\": \"executiveofficeemails19_b109_299_301_1.txt--2/3\",\n",
      "    \"receivers (To:)\": [\n",
      "        \"X\"\n",
      "    ],\n",
      "    \"Acode\": \"2\",\n",
      "    \"subj\": \"Your question\"\n",
      "}\n"
     ]
    }
   ],
   "source": [
    "# to json file\n",
    "for tup in fulldb: \n",
    "    fn = tup[0]\n",
    "    metadata = tup[1]\n",
    "    Acode = tup[2]\n",
    "    Bcode = tup[3]\n",
    "    uts = metadata[0]\n",
    "    sender = metadata[1]\n",
    "    tos = metadata[2]\n",
    "    Ccs = metadata[3]\n",
    "    subj = metadata[4]\n",
    "    data = {\n",
    "        \"uts\": uts,\n",
    "        \"sender\": sender,\n",
    "        \"receivers (To:)\": tos,\n",
    "        \"receivers (Cc:)\": Ccs,\n",
    "        \"subj\": subj,\n",
    "        \"files\": fn,\n",
    "        \"Acode\":Acode,\n",
    "        \"Bcode\":Bcode\n",
    "    }\n",
    "    obj = json.dumps(data, indent=4)\n",
    "    \n",
    "#write to json file #\n",
    "    f = open('fulldatabase3.json','a+')\n",
    "    f.write(obj + ',') #delete the final comma from final text file\n",
    "    f.close()\n",
    "print(obj)"
   ]
  }
 ],
 "metadata": {
  "kernelspec": {
   "display_name": "Python 3",
   "language": "python",
   "name": "python3"
  },
  "language_info": {
   "codemirror_mode": {
    "name": "ipython",
    "version": 3
   },
   "file_extension": ".py",
   "mimetype": "text/x-python",
   "name": "python",
   "nbconvert_exporter": "python",
   "pygments_lexer": "ipython3",
   "version": "3.5.3"
  }
 },
 "nbformat": 4,
 "nbformat_minor": 4
}
