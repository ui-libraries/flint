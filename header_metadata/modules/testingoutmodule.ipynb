{
 "cells": [
  {
   "cell_type": "code",
   "execution_count": 1,
   "metadata": {},
   "outputs": [],
   "source": [
    "import testmod"
   ]
  },
  {
   "cell_type": "code",
   "execution_count": 2,
   "metadata": {},
   "outputs": [],
   "source": [
    "import re\n",
    "f = open(\"alldeq14.txt\", \"r+\")\n",
    "deqsstr = f.read()\n",
    "deqslist= re.findall(\"deq14.b10.*\", deqsstr)"
   ]
  },
  {
   "cell_type": "code",
   "execution_count": 3,
   "metadata": {},
   "outputs": [],
   "source": [
    "from urllib import request\n",
    "\n",
    "emailstext = ''\n",
    "\n",
    "s3_root = \"https://flint-text.s3.amazonaws.com/\"\n",
    "for deq in deqslist:       \n",
    "    url = s3_root + deq\n",
    "    response = request.urlopen(url)\n",
    "    raw_text = response.read().decode('utf8')\n",
    "    emailstext = \"\".join((raw_text, emailstext)) #changed this line"
   ]
  },
  {
   "cell_type": "code",
   "execution_count": 4,
   "metadata": {},
   "outputs": [
    {
     "name": "stdout",
     "output_type": "stream",
     "text": [
      "['Kaffer, Nancy', 'Kaffer, Nancy', 'Wurfel, Brad', 'Macaluso, Nora', 'Wurfel, Brad', 'Wurfel, Brad', 'Busch, Stephen', 'Wurfel, Brad', 'Waurfel, Brad', 'Dalebout, Rick', 'Wurfel, Brad', 'Wurfel, Brad', 'Kaffer, Nancy', 'Wurfel, Brad', 'Wurfel, Brad', 'Wurfel, Brad', 'Wurfel, Brad', 'Saxton, Thomas', 'Busch, Stephen', 'Wurfel, Brad', 'Rosenthal, Adam', 'Wurfel, Brad', 'Busch, Stephen', 'Busch, Stephen', 'Wurfel, Sara', 'Wurfel, Brad', 'Muchmore, Dennis', 'Wurfel, Brad', 'Muchmore, Dennis', 'Wurfel, Brad', 'Prysby, Mike', 'Wurfel, Brad', 'Busch, Stephen', 'Waurfel, Brad', 'Waurfel, Brad', 'Wurfel, Brad', 'Feuerstein, Heather', 'Waurfel, Brad', 'Pallone, Maggie', 'Fortin, Denise', 'Wurfel, Brad', 'Wurfel, Brad', 'Wurfel, Brad', 'Wurfel, Sara', 'Wurfel, Brad', 'Wurfel, Sara', 'Wurfel, Sara', 'Wurfel, Brad', 'Wurfel, Sara', 'Wurfel, Sara', 'Wurfel, Brad', 'Krisztian, George', 'Wurfel, Brad', 'Krisztian, George', 'Holton, Jennifer', 'Holton, Jennifer', 'Holton, Jennifer', 'Wurfel, Brad', 'Macaluso, Nora', 'Wurfel, Brad', 'Wurfel, Brad', 'Saxton, Thomas', 'Minicuci, Angela', 'Egan, Paul', 'Holton, Jennifer', 'Stuever, Beth', 'Holton, Jennifer', 'Stuever, Beth', 'Ockert, Katherine', 'Muchmore, Dennis', 'Workman, Wayne', 'Byrne, Randall', 'Murray, David', 'Workman, Wayne', 'Byrne, Randall', 'Holton, Jennifer', 'Lasher, Geralyn', 'Wurfel, Brad', 'Lasher, Geralyn', 'Wilson, Gary', 'Smith, Lindsey', 'Carmody, Stephen', 'Edwards, Marc', 'Edwards, Marc', 'Guyette, Curt', 'Lorenz, Jason', 'Fonger, Ronald', 'Fonger, Ronald', 'Fonger, Ronald', 'Kanclerz, Jacob', 'Fonger, Ronald', 'Wilson, Gary', 'Emerson, Danielle', 'Emerson, Danielle', 'Emerson, Danielle', 'Wittrock, Angela', 'Smith, Lindsey', 'Wittrock, Angela', 'Emerson, Danielle', 'Wittrock, Angela', 'Hill, Bryan', 'Amin, Sameen', 'Kammer, Sean', 'Henderson, Natasha', 'Henderson, Natasha', 'Kammer, Sean', 'Edwards, Marc', 'Edwards, Marc']\n"
     ]
    }
   ],
   "source": [
    "testmod.findsenders(emailstext)"
   ]
  },
  {
   "cell_type": "code",
   "execution_count": 5,
   "metadata": {},
   "outputs": [
    {
     "name": "stdout",
     "output_type": "stream",
     "text": [
      "['Muchmore, Dennis', 'Murray, David', 'Agen, Jarrod', 'Hollins, Harvey', 'Wurfel, Brad', 'Tommasulo, Karen', 'Wurfel, Sara', 'Murray, David', 'Wurfel, Sara', 'Wurfel, Brad', 'Wurfel, Sara', 'Tommasulo, Karen', 'Wurfel, Brad', 'Wurfel, Sara', 'Kaffer, Nancy', 'Kaffer, Nancy', 'Wurfel, Sara', 'Tommasulo, Karen', 'Wurfel, Sara', 'Muchmore, Dennis', 'Pallone, Maggie', 'Wurfel, Brad', 'Wurfel, Sara', 'Busch, Stephen', 'Rosenthal, Adam', 'Ptaszenski, Rachel', 'Feuerstein, Heather', 'Wurfel, Brad', 'Wurfel, Brad', 'Muchmore, Dennis', 'Feuerstein, Heather', 'Wurfel, Brad', 'Muchmore, Dennis', 'Saxton, Thomas', 'Workman, Wayne', 'Hollins, Harvey', 'Saxton, Thomas', 'Workman, Wayne', 'Hollins, Harvey', 'Wurfel, Sara', 'Wurfel, Brad', 'Murray, David', 'Wurfel, Sara', 'Wurfel, Brad', 'Fields, Maggie', 'Murray, David', 'Wurfel, Sara', 'Pallone, Maggie', 'Wurfel, Brad', 'Murray, David', 'Wurfel, Sara', 'Pallone, Maggie', 'Feuerstein, Heather', 'Hollins, Harvey', 'Muchmore, Dennis', 'Brown, Eric', 'Wurfel, Brad', 'Brown, Eric', 'Hollins, Harvey', 'Muchmore, Dennis', 'Wyant, Dan', 'Thelen, Mary', 'Howes, Sarah', 'Wurfel, Brad', 'Busch, Stephen', 'Pallone, Maggie', 'Wurfel, Brad', 'Wurfel, Brad', 'Wurfel, Sara', 'Murray, David', 'Wurfel, Sara', 'Wurfel, Brad', 'Murray, David', 'Wurfel, Sara', 'Murray, David', 'Wyant, Dan', 'Wurfel, Brad', 'Wurfel, Brad', 'Murray, David', 'Murray, David', 'Wurfel, Sara', 'Wurfel, Brad', 'Wurfel, Brad', 'Stanton, Terry', 'Sampson, Jeremy', 'Wurfel, Sara', 'Wurfel, Sara', 'Lasher, Geralyn', 'Wurfel, Brad', 'Wyant, Dan', 'Wurfel, Sara', 'Wyant, Dan', 'Wurfel, Brad', 'Wurfel, Brad', 'Waurfel, Brad', 'Waurfel, Brad', 'Wurfel, Brad', 'Wurfel, Brad', 'Wurfel, Brad', 'Wurfel, Brad', 'Murray, David', 'Wurfel, Brad', 'Wurfel, Brad', 'Macaluso, Nora', 'Waurfel, Brad', 'Waurfel, Brad', 'Wurfel, Sara', 'Muchmore, Dennis', 'Murray, David', 'Wurfel, Brad', 'Brown, Jessica', 'Kennedy, Jordan', 'Egan, Paul', 'Wurfel, Brad', 'Waurfel, Brad', 'Wurfel, Brad', 'Krisztian, George', 'Averill, James', 'Wurfel, Brad', 'Workman, Wayne', 'Khouri, Nick', 'Saxton, Thomas', 'Khouri, Nick', 'Saxton, Thomas', 'Workman, Wayne', 'Schafer, Suzanne', 'Byrne, Randall', 'Eisner, Jennifer', 'Wurfel, Brad', 'Khouri, Nick', 'Saxton, Thomas', 'Muchmore, Dennis', 'Workman, Wayne', 'Schafer, Suzanne', 'Byrne, Randall', 'Wurfel, Brad', 'Wurfel, Brad', 'Waurfel, Brad', 'Wurfel, Brad', 'Lasher, Geralyn', 'Wurfel, Brad', 'Sygo, Jim', 'Carmody, Stephen', 'Wurfel, Brad', 'Stanton, Terry', 'Fonger, Ronald', 'Fonger, Ronald', 'Fonger, Ronald', 'Emerson, Danielle', 'Wittrock, Angela', 'Wittrock, Angela', 'Wittrock, Angela', 'Stanton, Terry', 'Smith, Jennifer', 'Sygo, Jim', 'Benzie, Richard', 'Cook, Pat', 'Prysby, Mike', 'Rosenthal, Adam', 'Lasher, Geralyn', 'Eisner, Jennifer', 'Lasher, Geralyn', 'Eisner, Jennifer', 'Wurfel, Sara', 'Wisely, John', 'Wurfel, Sara', 'Wisely, John', 'Khouri, Nick', 'Workman, Wayne', 'Stanton, Terry', 'Wurfel, Brad', 'Smith, Liane', 'Sygo, Jim', 'Benzie, Richard', 'Wyant, Dan', 'Smith, Liane', 'Wyant, Dan', 'Prysby, Mike', 'Muchmore, Dennis', 'Hollins, Harvey', 'Clement, Elizabeth', 'Wyant, Dan', 'Clement, Elizabeth', 'Muchmore, Dennis', 'Hollins, Harvey', 'Brown, Eric', 'Brown, Jessica', 'Benzie, Richard', 'Busch, Stephen', 'Brown, Eric', 'Brown, Jessica', 'Muchmore, Dennis', 'Feuerstein, Heather', 'Muchmore, Dennis', 'Hollins, Harvey', 'Brown, Jessica', 'Wurfel, Sara', 'Murray, David', 'Brown, Jessica', 'Wurfel, Sara', 'Murray, David', 'Beckmann, Ronna', 'Deamer, Eileen', 'Murray, David', 'Murray, David', 'Murray, David', 'Khouri, Nick', 'Workman, Wayne', 'Stanton, Terry', 'Wurfel, Brad', 'Lasher, Geralyn', 'Eisner, Jennifer', 'Quealy, Erica', 'Murray, David', 'Rosenthal, Adam', 'Busch, Stephen', 'Wurfel, Brad', 'Stuever, Beth', 'Wilson, Jamie', 'Sygo, Jim', 'Krisztian, George', 'Dykema, Linda', 'Sygo, Jim', 'Krisztian, George', 'Dykema, Linda', 'Ridley, Nancy', 'Erin, Ronna', 'Longley, Kristin', 'Mickie, Bryn', 'Gliha, Lori']\n"
     ]
    }
   ],
   "source": [
    "testmod.findrecievers(emailstext)"
   ]
  },
  {
   "cell_type": "code",
   "execution_count": null,
   "metadata": {},
   "outputs": [],
   "source": []
  }
 ],
 "metadata": {
  "kernelspec": {
   "display_name": "Python 3",
   "language": "python",
   "name": "python3"
  },
  "language_info": {
   "codemirror_mode": {
    "name": "ipython",
    "version": 3
   },
   "file_extension": ".py",
   "mimetype": "text/x-python",
   "name": "python",
   "nbconvert_exporter": "python",
   "pygments_lexer": "ipython3",
   "version": "3.5.3"
  }
 },
 "nbformat": 4,
 "nbformat_minor": 4
}
