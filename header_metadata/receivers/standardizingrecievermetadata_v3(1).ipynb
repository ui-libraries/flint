{
 "cells": [
  {
   "cell_type": "code",
   "execution_count": 39,
   "metadata": {},
   "outputs": [],
   "source": [
    "import re\n",
    "f = open(\"alldeq14.txt\", \"r+\")\n",
    "deqsstr = f.read()\n",
    "#deqslist = re.split(\"\\n\", deqsstr)"
   ]
  },
  {
   "cell_type": "code",
   "execution_count": 40,
   "metadata": {},
   "outputs": [
    {
     "data": {
      "text/plain": [
       "1038"
      ]
     },
     "execution_count": 40,
     "metadata": {},
     "output_type": "execute_result"
    }
   ],
   "source": [
    "deqslist = re.findall(\"deq14.b1.*\", deqsstr)\n",
    "len(deqslist)"
   ]
  },
  {
   "cell_type": "code",
   "execution_count": 41,
   "metadata": {},
   "outputs": [],
   "source": [
    "from urllib import request\n",
    "\n",
    "emailstext = ''\n",
    "\n",
    "s3_root = \"http://d1us66xhqwx73c.cloudfront.net/\"\n",
    "for deq in deqslist:       \n",
    "    url = s3_root + deq\n",
    "    response = request.urlopen(url)\n",
    "    raw_text = response.read().decode('utf8')\n",
    "    emailstext = \"\".join((raw_text, emailstext)) #changed this line"
   ]
  },
  {
   "cell_type": "code",
   "execution_count": 42,
   "metadata": {
    "scrolled": true
   },
   "outputs": [],
   "source": [
    "#print(emailstext) #see full email output"
   ]
  },
  {
   "cell_type": "code",
   "execution_count": 43,
   "metadata": {
    "scrolled": true
   },
   "outputs": [],
   "source": [
    "# To: #\n",
    "tos = re.findall(\"\\nTo:.*[A-Za-z].*\", emailstext)\n",
    "tostr = '\\n'.join(tos)\n",
    "#print(tostr)"
   ]
  },
  {
   "cell_type": "code",
   "execution_count": 44,
   "metadata": {
    "scrolled": true
   },
   "outputs": [
    {
     "name": "stdout",
     "output_type": "stream",
     "text": [
      "607 [Last, First] names\n"
     ]
    }
   ],
   "source": [
    "ultimatelist_to = []\n",
    "ultimatelist_to.clear()\n",
    "\n",
    "lastcommafirst_to = re.findall(\"[A-Za-z]+,.[A-Za-z]+\",tostr)\n",
    "ultimatelist_to.extend(lastcommafirst_to)\n",
    "print(str(len(lastcommafirst_to)) + \" [Last, First] names\")\n",
    "#print(lastcommafirst_to)"
   ]
  },
  {
   "cell_type": "code",
   "execution_count": 45,
   "metadata": {
    "scrolled": true
   },
   "outputs": [
    {
     "name": "stdout",
     "output_type": "stream",
     "text": [
      "48 [First Last] names\n"
     ]
    }
   ],
   "source": [
    "# # # GETTING AND REFORMATTING [First Last] NAMES # # #\n",
    "\n",
    "firstlast_to0 = re.findall(\"[A-Z][a-z]+[^\\n.,-_A-Za-z;:][A-Z][a-z][A-Za-z]+\",tostr) \n",
    "unwanted = {'Shekter Smith', 'Mary Beth','Tracy Jo'}\n",
    "firstlast_to = [e for e in firstlast_to0 if e not in unwanted]\n",
    "firstlast_to_str = '\\n'.join(firstlast_to)\n",
    "\n",
    "#LIST OF FIRST NAMES\n",
    "firstnames_to = re.findall('^[A-Z][a-z]+\\s|\\n[A-Z][a-z]+\\s',firstlast_to_str)\n",
    "firstnames1_to = ' '.join(firstnames_to)\n",
    "firstnames2_to = re.sub(\"\\n\",\"\",firstnames1_to)\n",
    "firstnameslist_to = re.split(\"\\s+\",firstnames2_to)\n",
    "firstnameslist_to.pop()\n",
    "\n",
    "#LIST OF LAST NAMES\n",
    "lastnames1_to = re.findall('.[A-Z][a-z]+',firstlast_to_str)\n",
    "lastnames2_to = ''.join(lastnames1_to)\n",
    "lastnameslist_to = re.split('\\s',lastnames2_to)\n",
    "del lastnameslist_to[0]\n",
    "\n",
    "#print(\"Reformatted names:\")\n",
    "#print(\"- - -\")\n",
    "for idx, value in enumerate(firstnameslist_to):\n",
    "    key_to = lastnameslist_to[idx] + \", \" + firstnameslist_to[idx]\n",
    "    #print(key_to)\n",
    "    ultimatelist_to.append(key_to) #adds these reformatted names to ultimatelist\n",
    "    \n",
    "\n",
    "print(str(len(firstlast_to)) + \" [First Last] names\")\n"
   ]
  },
  {
   "cell_type": "code",
   "execution_count": 46,
   "metadata": {},
   "outputs": [
    {
     "name": "stdout",
     "output_type": "stream",
     "text": [
      "To: standardized names\n",
      "\n",
      "\n",
      "93 unique To: recievers found:\n",
      "\n"
     ]
    }
   ],
   "source": [
    "print(\"To: standardized names\" + \"\\n\")\n",
    "#print(ultimatelist_to)\n",
    "len(ultimatelist_to)\n",
    "\n",
    "ultimatelist_to_d = list(dict.fromkeys(ultimatelist_to))\n",
    "print(\"\")\n",
    "print(str(len(ultimatelist_to_d)) + \" unique To: recievers found:\")\n",
    "print(\"\")\n",
    "#print(ultimatelist_to_d)"
   ]
  },
  {
   "cell_type": "code",
   "execution_count": 47,
   "metadata": {},
   "outputs": [],
   "source": [
    "# Cc: #\n",
    "Ccs = re.findall(\"Cc:.*[A-Za-z].*\", emailstext)\n",
    "Ccstr = '\\n'.join(Ccs)\n",
    "#print(Ccstr)"
   ]
  },
  {
   "cell_type": "code",
   "execution_count": 48,
   "metadata": {},
   "outputs": [
    {
     "name": "stdout",
     "output_type": "stream",
     "text": [
      "366 [Last, First] names\n"
     ]
    }
   ],
   "source": [
    "ultimatelist_Cc = []\n",
    "ultimatelist_Cc.clear()\n",
    "\n",
    "lastcommafirst_Cc = re.findall(\"[A-Za-z]+,.[A-Za-z]+\",Ccstr)\n",
    "ultimatelist_Cc.extend(lastcommafirst_Cc)\n",
    "print(str(len(lastcommafirst_Cc)) + \" [Last, First] names\")\n"
   ]
  },
  {
   "cell_type": "code",
   "execution_count": 49,
   "metadata": {},
   "outputs": [
    {
     "name": "stdout",
     "output_type": "stream",
     "text": [
      "20 [First Last] names\n"
     ]
    }
   ],
   "source": [
    "# # # GETTING AND REFORMATTING [First Last] NAMES # # #\n",
    "\n",
    "firstlast_Cc0 = re.findall(\"[A-Z][a-z]+[^\\n.,-_A-Za-z;:][A-Z][a-z][A-Za-z]+\",Ccstr)\n",
    "unwanted = {'Shekter Smith', 'Mary Beth','Tracy Jo'}\n",
    "firstlast_Cc = [e for e in firstlast_Cc0 if e not in unwanted]\n",
    "firstlast_Cc_str = '\\n'.join(firstlast_Cc)\n",
    "\n",
    "#LIST OF FIRST NAMES\n",
    "firstnames_Cc = re.findall('^[A-Z][a-z]+\\s|\\n[A-Z][a-z]+\\s',firstlast_Cc_str)\n",
    "firstnames1_Cc = ' '.join(firstnames_Cc)\n",
    "firstnames2_Cc = re.sub(\"\\n\",\"\",firstnames1_Cc)\n",
    "firstnameslist_Cc = re.split(\"\\s+\",firstnames2_Cc)\n",
    "firstnameslist_Cc.pop()\n",
    "\n",
    "#LIST OF LAST NAMES\n",
    "lastnames1_Cc = re.findall('.[A-Z][a-z]+',firstlast_Cc_str)\n",
    "lastnames2_Cc = ''.join(lastnames1_Cc)\n",
    "lastnameslist_Cc = re.split('\\s',lastnames2_Cc)\n",
    "del lastnameslist_Cc[0]\n",
    "\n",
    "#print(\"Reformatted names:\")\n",
    "#print(\"- - -\")\n",
    "for idx, value in enumerate(firstnameslist_Cc):\n",
    "    key_Cc = lastnameslist_Cc[idx] + \", \" + firstnameslist_Cc[idx]\n",
    "    #print(key_Cc)\n",
    "    ultimatelist_Cc.append(key_Cc) #adds these reformatted names to ultimatelist\n",
    "    \n",
    "\n",
    "print(str(len(firstlast_Cc)) + \" [First Last] names\")\n"
   ]
  },
  {
   "cell_type": "code",
   "execution_count": 50,
   "metadata": {
    "scrolled": true
   },
   "outputs": [
    {
     "name": "stdout",
     "output_type": "stream",
     "text": [
      "Cc: standardized names\n",
      "\n",
      "\n",
      "82 unique Cc: recievers found:\n",
      "\n"
     ]
    }
   ],
   "source": [
    "print(\"Cc: standardized names\" + \"\\n\")\n",
    "#print(ultimatelist_Cc)\n",
    "len(ultimatelist_Cc)\n",
    "\n",
    "ultimatelist_Cc_d = list(dict.fromkeys(ultimatelist_Cc))\n",
    "print(\"\")\n",
    "print(str(len(ultimatelist_Cc_d)) + \" unique Cc: recievers found:\")\n",
    "print(\"\")\n",
    "#print(ultimatelist_Cc_d)"
   ]
  },
  {
   "cell_type": "code",
   "execution_count": 51,
   "metadata": {
    "scrolled": true
   },
   "outputs": [
    {
     "name": "stdout",
     "output_type": "stream",
     "text": [
      "all 1041 reciever names, with duplicates:\n",
      "\n",
      "\n",
      "all 133 unique reciever names, no duplicates:\n",
      "\n"
     ]
    }
   ],
   "source": [
    "ultimatelist_rec = []\n",
    "ultimatelist_rec.clear()\n",
    "\n",
    "ultimatelist_rec.extend(ultimatelist_to)\n",
    "ultimatelist_rec.extend(ultimatelist_Cc)\n",
    "\n",
    "print(\"all \" + str(len(ultimatelist_rec)) + \" reciever names, with duplicates:\" + \"\\n\")\n",
    "#print(ultimatelist_rec)\n",
    "\n",
    "ultimatelist_rec_d = []\n",
    "ultimatelist_rec_d.clear()\n",
    "\n",
    "ultimatelist_rec_d = list(dict.fromkeys(ultimatelist_rec))\n",
    "\n",
    "print(\"\")\n",
    "print(\"all \" + str(len(ultimatelist_rec_d)) + \" unique reciever names, no duplicates:\" + \"\\n\")\n",
    "#print(ultimatelist_rec_d)"
   ]
  },
  {
   "cell_type": "code",
   "execution_count": 52,
   "metadata": {},
   "outputs": [],
   "source": [
    "def namecounter(uniquenames,allnames):\n",
    "    name_freq = []\n",
    "    pair = ()\n",
    "    for uname in uniquenames:\n",
    "        if uname in allnames:\n",
    "            number = allnames.count(uname)\n",
    "            pair = (uname,number)\n",
    "            name_freq.append(pair)\n",
    "    return name_freq\n",
    "    print(len(name_freq))\n",
    "    \n",
    "listname_freq = namecounter(ultimatelist_rec_d,ultimatelist_rec)\n",
    "len(listname_freq)\n",
    "\n",
    "def takeSecond(elem):\n",
    "    return int(elem[1])\n",
    "listname_freq.sort(key=takeSecond)\n",
    "#print(listname_freq)"
   ]
  },
  {
   "cell_type": "code",
   "execution_count": 53,
   "metadata": {
    "scrolled": true
   },
   "outputs": [
    {
     "name": "stdout",
     "output_type": "stream",
     "text": [
      "[('Deltoral, Miguei', 1), ('Murphy, Thomas', 1), ('Peterman, Tammy', 1), ('Bloemker, Jon', 1), ('Customers, Wholesale', 1), ('Balr, Rita', 1), ('Porter, Andrea', 1), ('Sygo, Jlm', 1), ('Kennedy, Jordan', 1), ('Egan, Paul', 1), ('Mickle, Bryn', 1), ('Averill, James', 1), ('Sampson, Jeremy', 1), ('Ridley, Nancy', 1), ('Edwards, Marc', 1), ('Smith, Lindsey', 1), ('Grijalva, Nancy', 1), ('Rosenthsl, Adam', 1), ('Chrlstensen, Chris', 1), ('Miller, Mark', 1), ('Walling, Dayne', 1), ('Peeler, Nancy', 1), ('Wilson, Jamie', 1), ('Pallone, Maggle', 1), ('Macaluso, Nora', 1), ('Livengood, Chad', 1), ('Olszewski, Rosemarie', 1), ('Tanner, Kristi', 1), ('Philip, Kristen', 1), ('Fauerstein, Heather', 1), ('Kanclerz, Jacob', 1), ('Brewster, Simone', 1), ('Fields, Maggie', 1), ('Stuever, Beth', 1), ('Rivard, Mitchell', 1), ('Forbes, Kevin', 1), ('Skinker, Bethel', 1), ('Quealy, Erica', 1), ('Christensen, Chris', 1), ('Howell, Sherri', 1), ('Conradson, Scott', 1), ('Gliha, Lori', 1), ('Emerson, Danielle', 1), ('DeBruyn, Dana', 1), ('Moste, Lea', 1), ('Barr, Jacqui', 2), ('Brown, Melanie', 2), ('Stanaway, Deb', 2), ('Fortin, Denise', 2), ('Wheaton, Bob', 2), ('Shaw, Eric', 2), ('Kuefler, Janet', 2), ('Clement, Elizabeth', 2), ('Minicuci, Angela', 2), ('Schafer, Suzanne', 2), ('Glasgow, Michaet', 2), ('Bouters, Janese', 2), ('Byrne, Randall', 2), ('Davenport, Rodney', 2), ('Behen, David', 2), ('Beckmann, Ronna', 2), ('Muchmore, Dennls', 2), ('Travis, Rashmi', 2), ('Deamer, Eileen', 2), ('Joseph, Mark', 2), ('Carmody, Stephen', 2), ('Priem, Wesley', 2), ('Erin, Ronna', 2), ('Miller, Corinne', 2), ('Lytle, Darren', 3), ('Shekter, Jean', 3), ('Burneson, Eric', 3), ('Smith, Jennifer', 3), ('Mickie, Bryn', 3), ('Henry, Timothy', 3), ('Moran, Susan', 3), ('Wittrock, Angela', 3), ('Shoven, Heather', 3), ('Anderson, Paula', 3), ('Buhs, Caleb', 3), ('Schock, Michael', 3), ('Rennaker, Joanne', 4), ('Ptaszenski, Rachel', 4), ('Agen, Jarrod', 4), ('Philip, Kris', 4), ('Deltoral, Miguel', 4), ('Monosmith, Carrie', 4), ('Longley, Kristin', 4), ('Howes, Sarah', 4), ('Brown, Eric', 5), ('Kaffer, Nancy', 5), ('Crooks, Jennifer', 5), ('Wisely, John', 5), ('Dykema, Linda', 5), ('Hyde, Tinka', 6), ('Lachance, Amy', 6), ('Shaler, Karen', 6), ('Eisner, Jennifer', 6), ('Bair, Rita', 7), ('Khouri, Nick', 7), ('Saxton, Thomas', 7), ('Glasgow, Michael', 7), ('Ostrander, Debbie', 7), ('Wright, Brent', 8), ('Krisztian, George', 8), ('Devereaux, Tracy', 8), ('Damato, Nicholas', 9), ('Lasher, Geralyn', 9), ('Stanton, Terry', 9), ('Thelen, Mary', 9), ('Workman, Wayne', 9), ('Feuerstein, Heather', 11), ('Cook, Pat', 14), ('Hollins, Harvey', 14), ('Poy, Thomas', 15), ('Brown, Jessica', 15), ('Tommasulo, Karen', 17), ('Fonger, Ronald', 20), ('Muchmore, Dennis', 21), ('Pallone, Maggie', 24), ('Sygo, Jim', 27), ('Wyant, Dan', 30), ('Prysby, Mike', 33), ('Rosenthal, Adam', 47), ('Murray, David', 51), ('Benzie, Richard', 53), ('Wurfel, Sara', 59), ('Shekter Smith, Liane', 66), ('Busch, Stephen', 71), ('Wurfel, Brad', 139)]\n"
     ]
    }
   ],
   "source": [
    "def fixingnames(regex,rightname,listofunames):\n",
    "    ult = \"\\n\".join(listofunames)\n",
    "    error_names = re.findall(regex,ult)\n",
    "    error_numbs = []\n",
    "    for toop in listname_freq:\n",
    "        if toop[0] in error_names:\n",
    "            n = toop[1]\n",
    "            error_numbs.append(n)\n",
    "        else:\n",
    "            continue\n",
    "    totalerror_names = sum(error_numbs)\n",
    "\n",
    "\n",
    "    rightname = [rightname,totalerror_names]\n",
    "    rightnamet = tuple(rightname)\n",
    "\n",
    "    for toop in listname_freq:\n",
    "        if toop[0] in error_names:\n",
    "            listname_freq.remove(toop)\n",
    "    listname_freq.append(rightnamet)\n",
    "    listname_freq.sort(key=takeSecond)\n",
    "    #print(listname_freq)\n",
    "    \n",
    "def fixallnames(listofunames):\n",
    "    fixingnames(\"Smith, L.*ne\",\"Shekter Smith, Liane\",listofunames)\n",
    "    fixingnames(\"[Ww].+rfel,.B.*\", \"Wurfel, Brad\",listofunames)\n",
    "    fixingnames(\"[Ww].+rfel,.S.*\", \"Wurfel, Sara\",listofunames)\n",
    "    fixingnames(\"Fonger.*\", \"Fonger, Ronald\",listofunames)\n",
    "    #fixingnames(\"Edw.*\", \"Edwards, Marc\",listofunames)\n",
    "    fixingnames(\"Benz.*\", \"Benzie, Richard\",listofunames)\n",
    "    #fixingnames(regex,correctname,listofunames)\n",
    "\n",
    "fixallnames(ultimatelist_rec_d)\n",
    "print(listname_freq)\n",
    "#be sure to enter prev cell before re-entering this cell"
   ]
  },
  {
   "cell_type": "code",
   "execution_count": 54,
   "metadata": {},
   "outputs": [
    {
     "data": {
      "text/plain": [
       "130"
      ]
     },
     "execution_count": 54,
     "metadata": {},
     "output_type": "execute_result"
    }
   ],
   "source": [
    "len(listname_freq)"
   ]
  },
  {
   "cell_type": "code",
   "execution_count": 55,
   "metadata": {},
   "outputs": [
    {
     "data": {
      "text/plain": [
       "['ktanner@freepress.com',\n",
       " 'cklaver@gongwer.com',\n",
       " 'wnem@wnem.com',\n",
       " 'MSUEEVERYONE@LIST.MSU.EDU']"
      ]
     },
     "execution_count": 55,
     "metadata": {},
     "output_type": "execute_result"
    }
   ],
   "source": [
    "emailadds = re.findall(\"\\nTo:\\s*([A-Za-z._]*@[A-Za-z._]*);*\",emailstext)\n",
    "emailadds2 = re.findall(\"\\nTo:.*;([A-Za-z._]*@[A-Za-z._]*);*\",emailstext)\n",
    "emailadds3 = re.findall(\"\\nTo:.*;.*;([A-Za-z._]*@[A-Za-z._]*);*\",emailstext)\n",
    "emailadds4 = re.findall(\"\\nTo:.*;.*;.*;([A-Za-z._]*@[A-Za-z._]*);*\",emailstext)\n",
    "emailadds.extend(emailadds2)\n",
    "emailadds.extend(emailadds3)\n",
    "emailadds.extend(emailadds4)\n",
    "emailadds"
   ]
  },
  {
   "cell_type": "code",
   "execution_count": 56,
   "metadata": {},
   "outputs": [
    {
     "data": {
      "text/plain": [
       "4"
      ]
     },
     "execution_count": 56,
     "metadata": {},
     "output_type": "execute_result"
    }
   ],
   "source": [
    "emailadds_d = list(dict.fromkeys(emailadds))\n",
    "len(emailadds_d)"
   ]
  }
 ],
 "metadata": {
  "kernelspec": {
   "display_name": "Python 3",
   "language": "python",
   "name": "python3"
  },
  "language_info": {
   "codemirror_mode": {
    "name": "ipython",
    "version": 3
   },
   "file_extension": ".py",
   "mimetype": "text/x-python",
   "name": "python",
   "nbconvert_exporter": "python",
   "pygments_lexer": "ipython3",
   "version": "3.5.3"
  }
 },
 "nbformat": 4,
 "nbformat_minor": 4
}
