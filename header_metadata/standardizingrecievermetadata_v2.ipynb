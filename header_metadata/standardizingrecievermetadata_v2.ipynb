{
 "cells": [
  {
   "cell_type": "code",
   "execution_count": 2,
   "metadata": {},
   "outputs": [],
   "source": [
    "import re\n",
    "f = open(\"alldeq14.txt\", \"r+\")\n",
    "deqsstr = f.read()\n",
    "#deqslist = re.split(\"\\n\", deqsstr)"
   ]
  },
  {
   "cell_type": "code",
   "execution_count": 3,
   "metadata": {},
   "outputs": [
    {
     "data": {
      "text/plain": [
       "3516"
      ]
     },
     "execution_count": 3,
     "metadata": {},
     "output_type": "execute_result"
    }
   ],
   "source": [
    "deqslist = re.findall(\"deq14.b.*\", deqsstr)\n",
    "len(deqslist)"
   ]
  },
  {
   "cell_type": "code",
   "execution_count": 4,
   "metadata": {},
   "outputs": [],
   "source": [
    "from urllib import request\n",
    "\n",
    "emailstext = ''\n",
    "\n",
    "s3_root = \"https://flint-text.s3.amazonaws.com/\"\n",
    "for deq in deqslist:       \n",
    "    url = s3_root + deq\n",
    "    response = request.urlopen(url)\n",
    "    raw_text = response.read().decode('utf8')\n",
    "    emailstext = \"\".join((raw_text, emailstext)) #changed this line"
   ]
  },
  {
   "cell_type": "code",
   "execution_count": 53,
   "metadata": {
    "scrolled": true
   },
   "outputs": [],
   "source": [
    "#print(emailstext) #see full email output"
   ]
  },
  {
   "cell_type": "code",
   "execution_count": 54,
   "metadata": {
    "scrolled": true
   },
   "outputs": [],
   "source": [
    "# To: #\n",
    "tos = re.findall(\"\\nTo:.*[A-Za-z].*\", emailstext)\n",
    "tostr = '\\n'.join(tos)\n",
    "#print(tostr)"
   ]
  },
  {
   "cell_type": "code",
   "execution_count": 55,
   "metadata": {
    "scrolled": true
   },
   "outputs": [
    {
     "name": "stdout",
     "output_type": "stream",
     "text": [
      "2973 [Last, First] names\n"
     ]
    }
   ],
   "source": [
    "ultimatelist_to = []\n",
    "ultimatelist_to.clear()\n",
    "\n",
    "lastcommafirst_to = re.findall(\"[A-Za-z]+,.[A-Za-z]+\",tostr)\n",
    "ultimatelist_to.extend(lastcommafirst_to)\n",
    "print(str(len(lastcommafirst_to)) + \" [Last, First] names\")\n",
    "#print(lastcommafirst_to)"
   ]
  },
  {
   "cell_type": "code",
   "execution_count": 56,
   "metadata": {
    "scrolled": true
   },
   "outputs": [
    {
     "name": "stdout",
     "output_type": "stream",
     "text": [
      "288 [First Last] names\n"
     ]
    }
   ],
   "source": [
    "# # # GETTING AND REFORMATTING [First Last] NAMES # # #\n",
    "\n",
    "firstlast_to0 = re.findall(\"[A-Z][a-z]+[^\\n.,-_A-Za-z;:][A-Z][a-z][A-Za-z]+\",tostr) \n",
    "unwanted = {'Shekter Smith', 'Mary Beth','Tracy Jo'}\n",
    "firstlast_to = [e for e in firstlast_to0 if e not in unwanted]\n",
    "firstlast_to_str = '\\n'.join(firstlast_to)\n",
    "\n",
    "#LIST OF FIRST NAMES\n",
    "firstnames_to = re.findall('^[A-Z][a-z]+\\s|\\n[A-Z][a-z]+\\s',firstlast_to_str)\n",
    "firstnames1_to = ' '.join(firstnames_to)\n",
    "firstnames2_to = re.sub(\"\\n\",\"\",firstnames1_to)\n",
    "firstnameslist_to = re.split(\"\\s+\",firstnames2_to)\n",
    "firstnameslist_to.pop()\n",
    "\n",
    "#LIST OF LAST NAMES\n",
    "lastnames1_to = re.findall('.[A-Z][a-z]+',firstlast_to_str)\n",
    "lastnames2_to = ''.join(lastnames1_to)\n",
    "lastnameslist_to = re.split('\\s',lastnames2_to)\n",
    "del lastnameslist_to[0]\n",
    "\n",
    "#print(\"Reformatted names:\")\n",
    "#print(\"- - -\")\n",
    "for idx, value in enumerate(firstnameslist_to):\n",
    "    key_to = lastnameslist_to[idx] + \", \" + firstnameslist_to[idx]\n",
    "    #print(key_to)\n",
    "    ultimatelist_to.append(key_to) #adds these reformatted names to ultimatelist\n",
    "    \n",
    "\n",
    "print(str(len(firstlast_to)) + \" [First Last] names\")\n"
   ]
  },
  {
   "cell_type": "code",
   "execution_count": 57,
   "metadata": {},
   "outputs": [
    {
     "name": "stdout",
     "output_type": "stream",
     "text": [
      "To: standardized names\n",
      "\n",
      "\n",
      "220 unique To: recievers found:\n",
      "\n"
     ]
    }
   ],
   "source": [
    "print(\"To: standardized names\" + \"\\n\")\n",
    "#print(ultimatelist_to)\n",
    "len(ultimatelist_to)\n",
    "\n",
    "ultimatelist_to_d = list(dict.fromkeys(ultimatelist_to))\n",
    "print(\"\")\n",
    "print(str(len(ultimatelist_to_d)) + \" unique To: recievers found:\")\n",
    "print(\"\")\n",
    "#print(ultimatelist_to_d)"
   ]
  },
  {
   "cell_type": "code",
   "execution_count": 58,
   "metadata": {},
   "outputs": [],
   "source": [
    "# Cc: #\n",
    "Ccs = re.findall(\"Cc:.*[A-Za-z].*\", emailstext)\n",
    "Ccstr = '\\n'.join(Ccs)\n",
    "#print(Ccstr)"
   ]
  },
  {
   "cell_type": "code",
   "execution_count": 59,
   "metadata": {},
   "outputs": [
    {
     "name": "stdout",
     "output_type": "stream",
     "text": [
      "1898 [Last, First] names\n"
     ]
    }
   ],
   "source": [
    "ultimatelist_Cc = []\n",
    "ultimatelist_Cc.clear()\n",
    "\n",
    "lastcommafirst_Cc = re.findall(\"[A-Za-z]+,.[A-Za-z]+\",Ccstr)\n",
    "ultimatelist_Cc.extend(lastcommafirst_Cc)\n",
    "print(str(len(lastcommafirst_Cc)) + \" [Last, First] names\")\n"
   ]
  },
  {
   "cell_type": "code",
   "execution_count": 60,
   "metadata": {},
   "outputs": [
    {
     "name": "stdout",
     "output_type": "stream",
     "text": [
      "261 [First Last] names\n"
     ]
    }
   ],
   "source": [
    "# # # GETTING AND REFORMATTING [First Last] NAMES # # #\n",
    "\n",
    "firstlast_Cc0 = re.findall(\"[A-Z][a-z]+[^\\n.,-_A-Za-z;:][A-Z][a-z][A-Za-z]+\",Ccstr)\n",
    "unwanted = {'Shekter Smith', 'Mary Beth','Tracy Jo'}\n",
    "firstlast_Cc = [e for e in firstlast_Cc0 if e not in unwanted]\n",
    "firstlast_Cc_str = '\\n'.join(firstlast_Cc)\n",
    "\n",
    "#LIST OF FIRST NAMES\n",
    "firstnames_Cc = re.findall('^[A-Z][a-z]+\\s|\\n[A-Z][a-z]+\\s',firstlast_Cc_str)\n",
    "firstnames1_Cc = ' '.join(firstnames_Cc)\n",
    "firstnames2_Cc = re.sub(\"\\n\",\"\",firstnames1_Cc)\n",
    "firstnameslist_Cc = re.split(\"\\s+\",firstnames2_Cc)\n",
    "firstnameslist_Cc.pop()\n",
    "\n",
    "#LIST OF LAST NAMES\n",
    "lastnames1_Cc = re.findall('.[A-Z][a-z]+',firstlast_Cc_str)\n",
    "lastnames2_Cc = ''.join(lastnames1_Cc)\n",
    "lastnameslist_Cc = re.split('\\s',lastnames2_Cc)\n",
    "del lastnameslist_Cc[0]\n",
    "\n",
    "#print(\"Reformatted names:\")\n",
    "#print(\"- - -\")\n",
    "for idx, value in enumerate(firstnameslist_Cc):\n",
    "    key_Cc = lastnameslist_Cc[idx] + \", \" + firstnameslist_Cc[idx]\n",
    "    #print(key_Cc)\n",
    "    ultimatelist_Cc.append(key_Cc) #adds these reformatted names to ultimatelist\n",
    "    \n",
    "\n",
    "print(str(len(firstlast_Cc)) + \" [First Last] names\")\n"
   ]
  },
  {
   "cell_type": "code",
   "execution_count": 61,
   "metadata": {
    "scrolled": true
   },
   "outputs": [
    {
     "name": "stdout",
     "output_type": "stream",
     "text": [
      "Cc: standardized names\n",
      "\n",
      "\n",
      "199 unique Cc: recievers found:\n",
      "\n"
     ]
    }
   ],
   "source": [
    "print(\"Cc: standardized names\" + \"\\n\")\n",
    "#print(ultimatelist_Cc)\n",
    "len(ultimatelist_Cc)\n",
    "\n",
    "ultimatelist_Cc_d = list(dict.fromkeys(ultimatelist_Cc))\n",
    "print(\"\")\n",
    "print(str(len(ultimatelist_Cc_d)) + \" unique Cc: recievers found:\")\n",
    "print(\"\")\n",
    "#print(ultimatelist_Cc_d)"
   ]
  },
  {
   "cell_type": "code",
   "execution_count": 62,
   "metadata": {
    "scrolled": true
   },
   "outputs": [
    {
     "name": "stdout",
     "output_type": "stream",
     "text": [
      "all 5420 reciever names, with duplicates:\n",
      "\n",
      "\n",
      "all 314 unique reciever names, no duplicates:\n",
      "\n"
     ]
    }
   ],
   "source": [
    "ultimatelist_rec = []\n",
    "ultimatelist_rec.clear()\n",
    "\n",
    "ultimatelist_rec.extend(ultimatelist_to)\n",
    "ultimatelist_rec.extend(ultimatelist_Cc)\n",
    "\n",
    "print(\"all \" + str(len(ultimatelist_rec)) + \" reciever names, with duplicates:\" + \"\\n\")\n",
    "#print(ultimatelist_rec)\n",
    "\n",
    "ultimatelist_rec_d = []\n",
    "ultimatelist_rec_d.clear()\n",
    "\n",
    "ultimatelist_rec_d = list(dict.fromkeys(ultimatelist_rec))\n",
    "\n",
    "print(\"\")\n",
    "print(\"all \" + str(len(ultimatelist_rec_d)) + \" unique reciever names, no duplicates:\" + \"\\n\")\n",
    "#print(ultimatelist_rec_d)"
   ]
  },
  {
   "cell_type": "code",
   "execution_count": 63,
   "metadata": {},
   "outputs": [],
   "source": [
    "def namecounter(uniquenames,allnames):\n",
    "    name_freq = []\n",
    "    pair = ()\n",
    "    for uname in uniquenames:\n",
    "        if uname in allnames:\n",
    "            number = allnames.count(uname)\n",
    "            pair = (uname,number)\n",
    "            name_freq.append(pair)\n",
    "    return name_freq\n",
    "    print(len(name_freq))\n",
    "    \n",
    "listname_freq = namecounter(ultimatelist_rec_d,ultimatelist_rec)\n",
    "len(listname_freq)\n",
    "\n",
    "def takeSecond(elem):\n",
    "    return int(elem[1])\n",
    "listname_freq.sort(key=takeSecond)\n",
    "#print(listname_freq)"
   ]
  },
  {
   "cell_type": "code",
   "execution_count": 64,
   "metadata": {
    "scrolled": true
   },
   "outputs": [
    {
     "name": "stdout",
     "output_type": "stream",
     "text": [
      "[('Stephen, Busch', 1), ('Portef, Andrea', 1), ('Porter, Andres', 1), ('Jones, Rosemary', 1), ('Lundy, Anastasia', 1), ('Elliott, Larry', 1), ('Bart, sacqui', 1), ('Fink, Brenda', 1), ('Hagler, Gary', 1), ('Quealy, Erica', 1), ('Rosenthsl, Adam', 1), ('Frank, Nancy', 1), ('Hedman, Susan', 1), ('Walters, Kevin', 1), ('Leavitt, Andrew', 1), ('Karcher, Janice', 1), ('Austin, Dawn', 1), ('Lenard, Tom', 1), ('Thompson, Sheryl', 1), ('Gutting, Karen', 1), ('Creech, Thomas', 1), ('Walser, D', 1), ('Rospond, Laurie', 1), ('Busch, stephen', 1), ('Pleyte, Beth', 1), ('Murray, Maxine', 1), ('Howell, Sherri', 1), ('Baiyasi, Stephanie', 1), ('Neuman, Andy', 1), ('Golder, Edward', 1), ('Bradsher, Esther', 1), ('Allan, Jon', 1), ('Bettenhausen, Margaret', 1), ('Tetzlaff, Katherine', 1), ('Macaluso, Nora', 1), ('Mc, Dave', 1), ('Becker, Timothy', 1), ('Beebe, Beth', 1), ('Maloney, Damon', 1), ('Conradson, Scott', 1), ('Harris, Kimberly', 1), ('Kuhl, Richard', 1), ('Suzanne, Schafer', 1), ('Margolis, Lizabeth', 1), ('Poke, Irvin', 1), ('Peterman, Tammy', 1), ('waurfel, Brad', 1), ('michizan, guw', 1), ('Wilson, Gary', 1), ('Mc, Bryanna', 1), ('Pieper, Julia', 1), ('Smith, Shekier', 1), ('Ploehn, Kelly', 1), ('Emerson, Danielle', 1), ('Wlsely, John', 1), ('Marinangeli, Lois', 1), ('Sprague, Megan', 1), ('Walser, Sean', 1), ('Spangler, Todd', 1), ('Porter, Andtea', 1), ('Maul, Sue', 1), ('Bentie, Richard', 1), ('Egan, Paul', 1), ('Graham, Lois', 1), ('Prysby, Mlke', 1), ('Baird, Richard', 1), ('Gliha, Lori', 1), ('Wolf, Jennifer', 1), ('Reichert, Anna', 1), ('Chrlstensen, Chris', 1), ('Stoken, Laura', 1), ('Wilson, Jamie', 1), ('Dillon, Andy', 1), ('Bloemker, Jon', 1), ('McDonald, Paul', 1), ('Snyder, Rick', 1), ('Jackson, Michael', 1), ('Murphy, Elizabeth', 1), ('peeler, Nancy', 1), ('Stuever, Beth', 1), ('Biehl, Laura', 1), ('Crane, Paul', 1), ('VanSickle, Michele', 1), ('Beaulac, Michael', 1), ('Peeler, Nancy', 1), ('Andorfer, Bob', 1), ('Lambrinidou, Yanna', 1), ('Higgins, Deborah', 1), ('Burr, Richard', 1), ('Kanclerz, Jacob', 1), ('Philip, Kristen', 1), ('McGarry, Sean', 1), ('Forbes, Kevin', 1), ('Craig, John', 1), ('Renteria, Sylvia', 1), ('Weiss, Kurt', 2), ('Sampson, Jeremy', 2), ('Smith, Carol', 2), ('Matta, Samir', 2), ('Markstrom, Jeff', 2), ('Browne, Elizabeth', 2), ('Customers, Wholesale', 2), ('Croft, Gerald', 2), ('Williams, Rebecca', 2), ('Green, Warren', 2), ('Ackley, Martin', 2), ('Johnson, Bentley', 2), ('Mayor, Flint', 2), ('Thomas, Chuck', 2), ('Bincsik, Robert', 2), ('Miller, Mark', 2), ('METTLER, MARTHA', 2), ('Blayer, Steve', 2), ('Fitzner, Wendy', 2), ('Alexander, Michael', 2), ('Joseph, Mark', 2), ('Terrill, Jennifer', 2), ('Leeming, Susan', 2), ('Shane, Kirby', 2), ('Koryzno, Edward', 2), ('Brown, Melanie', 2), ('Tanner, Kristi', 2), ('Carmody, Stephen', 2), ('Averill, James', 2), ('Hallwood, Dawn', 2), ('Willhite, Marcia', 2), ('DuMont, Ralph', 2), ('Creal, William', 2), ('Robinson, Mikelle', 2), ('VanOtteren, Bruce', 2), ('Disessa, William', 2), ('Madziar, Joseph', 2), ('Dixon, Janice', 2), ('Doll, Jeanette', 2), ('Dempkowski, Angela', 2), ('Wagner, Robert', 2), ('Sullivan, Laura', 2), ('Arduin, Jim', 2), ('Brennan, Patrick', 2), ('Freeman, Rick', 2), ('Hausler, Jeanne', 2), ('Levine, Pete', 2), ('Brewster, Simone', 3), ('Mack, Melissa', 3), ('Hutchings, Thomas', 3), ('Stibitz, Brom', 3), ('Sygo, Jlm', 3), ('Chris, Chrlstensen', 3), ('Rivard, Mitchell', 3), ('Case, Robert', 3), ('Green, Kelly', 3), ('Pallone, Maggle', 3), ('Balr, Rita', 3), ('Deltoral, Miguei', 3), ('Valacak, Mark', 3), ('Rauch, Randy', 3), ('Skinker, Bethel', 3), ('Bennett, Charles', 3), ('Deamer, Eileen', 3), ('Barr, Jacqui', 3), ('Holton, Jennifer', 3), ('Lorenz, Jason', 3), ('Winegar, Carla', 3), ('Shekter, Jean', 3), ('Christensen, Chris', 3), ('Roberts, John', 3), ('Fauerstein, Heather', 3), ('Kammer, Stephanie', 3), ('Wisniewski, Wendy', 3), ('Hansen, Jeff', 3), ('Wittrock, Angela', 3), ('Beckmann, Ronna', 3), ('Smith, Jennifer', 3), ('Cupal, Suzanne', 3), ('Erin, Ronna', 3), ('Fortin, Denise', 4), ('Bouters, Janese', 4), ('Murphy, Thomas', 4), ('Schafer, Suzanne', 4), ('Butler, Sonya', 4), ('Priem, Wesley', 4), ('Seratt, Donna', 4), ('Miller, Corinne', 4), ('Burgess, Louis', 4), ('Edlin, Karen', 4), ('Schinderle, Jack', 4), ('Lyon, Nick', 4), ('Smith, Lindsey', 4), ('Fields, Maggie', 4), ('White, Valorie', 4), ('Byrne, Randall', 4), ('Vorce, Susan', 4), ('Wright, Michael', 4), ('Heaton, Anna', 4), ('Glasgow, Michaet', 4), ('Mickie, Bryn', 4), ('Livengood, Chad', 4), ('Moran, Susan', 4), ('Clayton, Stacie', 4), ('Drake, Jerry', 4), ('Grijalva, Nancy', 4), ('Copen, Leigh', 5), ('Chubb, Anthony', 5), ('Shaw, Eric', 5), ('Mose, Sandi', 5), ('Antil, Jeffrey', 5), ('Edgerton, Shelly', 5), ('Bruneau, Michelle', 5), ('DeBruyn, Dana', 5), ('Kay, Sandi', 5), ('Erb, Robin', 6), ('Muchmore, Dennls', 6), ('Twenter, Lisa', 6), ('Davenport, Rodney', 6), ('Clement, Elizabeth', 6), ('Scherbarth, John', 6), ('Mickle, Bryn', 6), ('Behen, David', 6), ('Travis, Rashmi', 6), ('Glasgow, Mike', 6), ('Hertel, Elizabeth', 6), ('Stanaway, Deb', 7), ('Palione, Maggie', 7), ('Ridley, Nancy', 7), ('Lynch, James', 7), ('Burneson, Eric', 7), ('Ambrose, Gerald', 7), ('Silfven, Ken', 7), ('Anderson, Paula', 7), ('Kuefler, Janet', 8), ('Olszewski, Rosemarie', 8), ('Kammer, Sean', 8), ('Khouri, Nick', 8), ('Henderson, Natasha', 8), ('Wheaton, Bob', 8), ('Wells, Eden', 9), ('Datema, Maggie', 9), ('Johnson, Daugherty', 9), ('Henry, Timothy', 10), ('Longley, Kristin', 10), ('Ptaszenski, Rachel', 10), ('Reynolds, Lawrence', 11), ('Lane, Mike', 11), ('Kaffer, Nancy', 11), ('Shoven, Heather', 11), ('Wisely, John', 11), ('Anderson, Madhu', 11), ('Moste, Lea', 11), ('Kennedy, Jordan', 12), ('Buhs, Caleb', 12), ('Sitko, Anthony', 13), ('Groetsch, Kory', 13), ('Ostrowski, James', 14), ('Schock, Michael', 16), ('Monosmith, Carrie', 16), ('Workman, Wayne', 17), ('Saxton, Thomas', 17), ('Philip, Kris', 20), ('Lachance, Amy', 20), ('Henry, James', 21), ('Brown, Eric', 21), ('Hyde, Tinka', 23), ('Agen, Jarrod', 24), ('Ermak, Lisa', 24), ('Ostrander, Debbie', 24), ('Stanton, Terry', 25), ('Bair, Rita', 26), ('Glasgow, Michael', 27), ('Rennaker, Joanne', 27), ('Damato, Nicholas', 28), ('Howes, Sarah', 29), ('Tawwab, Bilal', 29), ('Devereaux, Tracy', 32), ('Dykema, Linda', 32), ('Minicuci, Angela', 33), ('Porter, Andrea', 33), ('Eisner, Jennifer', 35), ('Leavitt, Andy', 37), ('Lytle, Darren', 39), ('Hollins, Harvey', 39), ('Fonger, Ronald', 39), ('Hovey, Amy', 40), ('Edwards, Marc', 42), ('Brown, Jessica', 44), ('Walling, Dayne', 46), ('Croft, Howard', 47), ('Crooks, Jennifer', 48), ('Deltoral, Miguel', 50), ('Muchmore, Dennis', 51), ('Lasher, Geralyn', 56), ('Feuerstein, Heather', 58), ('Wright, Brent', 61), ('Krisztian, George', 67), ('Shaler, Karen', 69), ('Thelen, Mary', 82), ('Cook, Pat', 83), ('Wyant, Dan', 96), ('Poy, Thomas', 106), ('Pallone, Maggie', 127), ('Tommasulo, Karen', 132), ('Sygo, Jim', 143), ('Murray, David', 169), ('Wurfel, Sara', 191), ('Rosenthal, Adam', 216), ('Benzie, Richard', 218), ('Prysby, Mike', 225), ('Shekter Smith, Liane', 289), ('Busch, Stephen', 400), ('Wurfel, Brad', 706)]\n"
     ]
    }
   ],
   "source": [
    "def fixingnames(regex,rightname,listofunames):\n",
    "    ult = \"\\n\".join(listofunames)\n",
    "    error_names = re.findall(regex,ult)\n",
    "    error_numbs = []\n",
    "    for toop in listname_freq:\n",
    "        if toop[0] in error_names:\n",
    "            n = toop[1]\n",
    "            error_numbs.append(n)\n",
    "        else:\n",
    "            continue\n",
    "    totalerror_names = sum(error_numbs)\n",
    "\n",
    "\n",
    "    rightname = [rightname,totalerror_names]\n",
    "    rightnamet = tuple(rightname)\n",
    "\n",
    "    for toop in listname_freq:\n",
    "        if toop[0] in error_names:\n",
    "            listname_freq.remove(toop)\n",
    "    listname_freq.append(rightnamet)\n",
    "    listname_freq.sort(key=takeSecond)\n",
    "    #print(listname_freq)\n",
    "    \n",
    "def fixallnames(listofunames):\n",
    "    fixingnames(\"Smith, L.*ne\",\"Shekter Smith, Liane\",listofunames)\n",
    "    fixingnames(\"W.+rfel,.B.*\", \"Wurfel, Brad\",listofunames)\n",
    "    fixingnames(\"W.+rfel,.S.*\", \"Wurfel, Sara\",listofunames)\n",
    "    fixingnames(\"Fonger.*\", \"Fonger, Ronald\",listofunames)\n",
    "    fixingnames(\"Edw.*\", \"Edwards, Marc\",listofunames)\n",
    "    fixingnames(\"Benz.*\", \"Benzie, Richard\",listofunames)\n",
    "    #fixingnames(regex,correctname,listofunames)\n",
    "\n",
    "fixallnames(ultimatelist_rec_d)\n",
    "print(listname_freq)\n",
    "#be sure to enter prev cell before re-entering this cell"
   ]
  },
  {
   "cell_type": "code",
   "execution_count": 65,
   "metadata": {},
   "outputs": [
    {
     "data": {
      "text/plain": [
       "309"
      ]
     },
     "execution_count": 65,
     "metadata": {},
     "output_type": "execute_result"
    }
   ],
   "source": [
    "len(listname_freq)"
   ]
  },
  {
   "cell_type": "code",
   "execution_count": 116,
   "metadata": {},
   "outputs": [
    {
     "data": {
      "text/plain": [
       "['edwardsm@vt.edy',\n",
       " 'wkopsr@amail.com',\n",
       " 'hcroft@cityofflint.com',\n",
       " 'protectphiladelphia@gmail.com',\n",
       " 'Joe@JSN',\n",
       " 'vweiss@grandblancschools.org',\n",
       " 'jhenry@gchd.us',\n",
       " 'emurphy@cityofflint.com',\n",
       " 'emurphy@cityofflint.com',\n",
       " 'emurphy@cityofflint.com',\n",
       " 'gthomas@citvofflint.com',\n",
       " 'ihenry@achd.us',\n",
       " 'jhenry@gchd.us',\n",
       " 'nhenderson@cityofflint.com',\n",
       " 'mglasgow@cityofflint.com',\n",
       " 'ktanner@freepress.com',\n",
       " 'cklaver@gongwer.com',\n",
       " 'wnem@wnem.com',\n",
       " 'MSUEEVERYONE@LIST.MSU.EDU',\n",
       " 'emily.cizmas@wayne.edu',\n",
       " 'tsitko@flintschools.org',\n",
       " 'tsitko@flintschools.org',\n",
       " 'gthomas@cityofflint.com',\n",
       " 'tsitko@flintschools.org',\n",
       " 'tsitko@flintschools.org']"
      ]
     },
     "execution_count": 116,
     "metadata": {},
     "output_type": "execute_result"
    }
   ],
   "source": [
    "emailadds = re.findall(\"\\nTo:\\s*([A-Za-z._]*@[A-Za-z._]*);*\",emailstext)\n",
    "emailadds2 = re.findall(\"\\nTo:.*;([A-Za-z._]*@[A-Za-z._]*);*\",emailstext)\n",
    "emailadds3 = re.findall(\"\\nTo:.*;.*;([A-Za-z._]*@[A-Za-z._]*);*\",emailstext)\n",
    "emailadds4 = re.findall(\"\\nTo:.*;.*;.*;([A-Za-z._]*@[A-Za-z._]*);*\",emailstext)\n",
    "emailadds.extend(emailadds2)\n",
    "emailadds.extend(emailadds3)\n",
    "emailadds.extend(emailadds4)\n",
    "emailadds"
   ]
  },
  {
   "cell_type": "code",
   "execution_count": 119,
   "metadata": {},
   "outputs": [
    {
     "data": {
      "text/plain": [
       "19"
      ]
     },
     "execution_count": 119,
     "metadata": {},
     "output_type": "execute_result"
    }
   ],
   "source": [
    "emailadds_d = list(dict.fromkeys(emailadds))\n",
    "len(emailadds_d)"
   ]
  },
  {
   "cell_type": "code",
   "execution_count": 121,
   "metadata": {},
   "outputs": [
    {
     "data": {
      "text/plain": [
       "1944"
      ]
     },
     "execution_count": 121,
     "metadata": {},
     "output_type": "execute_result"
    }
   ],
   "source": [
    "tos = re.findall(\"\\nTo:.*[A-Za-z].*\", emailstext)\n",
    "len(tos)"
   ]
  },
  {
   "cell_type": "code",
   "execution_count": 124,
   "metadata": {},
   "outputs": [
    {
     "data": {
      "text/plain": [
       "761"
      ]
     },
     "execution_count": 124,
     "metadata": {},
     "output_type": "execute_result"
    }
   ],
   "source": [
    "tos_mults = re.findall(\"\\nTo:.*[A-Za-z].*;\", emailstext)\n",
    "len(tos_mults)"
   ]
  }
 ],
 "metadata": {
  "kernelspec": {
   "display_name": "Python 3",
   "language": "python",
   "name": "python3"
  },
  "language_info": {
   "codemirror_mode": {
    "name": "ipython",
    "version": 3
   },
   "file_extension": ".py",
   "mimetype": "text/x-python",
   "name": "python",
   "nbconvert_exporter": "python",
   "pygments_lexer": "ipython3",
   "version": "3.5.3"
  }
 },
 "nbformat": 4,
 "nbformat_minor": 4
}
