{
 "cells": [
  {
   "cell_type": "code",
   "execution_count": 1,
   "metadata": {},
   "outputs": [],
   "source": [
    "import json, re"
   ]
  },
  {
   "cell_type": "code",
   "execution_count": null,
   "metadata": {},
   "outputs": [],
   "source": [
    "pip install pymysql"
   ]
  },
  {
   "cell_type": "code",
   "execution_count": 2,
   "metadata": {},
   "outputs": [],
   "source": [
    "import pymysql\n",
    "from pymysql.converters import escape_string"
   ]
  },
  {
   "cell_type": "code",
   "execution_count": 5,
   "metadata": {},
   "outputs": [],
   "source": [
    "sql_file = open(\"sql_file.sql\", \"a\")"
   ]
  },
  {
   "cell_type": "code",
   "execution_count": 6,
   "metadata": {},
   "outputs": [],
   "source": [
    "with open('db-ddet.json') as flint_emails:\n",
    "    data = json.load(flint_emails)\n",
    "    for key, value in data.items():\n",
    "        filename = '\"' + key + '\"'\n",
    "        bcode = value['Bcode']\n",
    "        body = '\"' + escape_string(json.dumps(value['body'])) + '\"'\n",
    "        sender = '\"' + escape_string(json.dumps(value['sender'])) + '\"'\n",
    "        subject = '\"' + escape_string(value['subject']) + '\"'\n",
    "        timestamp = value['timestamp']\n",
    "        cc = '\"' + escape_string(' '.join(value['Cc'])) + '\"'\n",
    "        email_to = '\"' + (' '.join(value['to'])) + '\"'\n",
    "        acode = value['Acode']\n",
    "        page = '\"' + escape_string(value['page']) + '\"'\n",
    "\n",
    "        sql = \"INSERT INTO `emails` (`filename`, `bcode`, `body`, `sender`, `subject`, `timestamp`, `cc`, `email_to`, `acode`, `page`) VALUES (%s, %s, %s, %s, %s, %s, %s, %s, %s, %s)\" % (filename, bcode, body, sender, subject, timestamp, cc, email_to, acode, page)\n",
    "        sql += ';'\n",
    "        sql_file.write(sql)\n",
    "sql_file.close()"
   ]
  },
  {
   "cell_type": "code",
   "execution_count": null,
   "metadata": {},
   "outputs": [],
   "source": []
  }
 ],
 "metadata": {
  "kernelspec": {
   "display_name": "Python 3",
   "language": "python",
   "name": "python3"
  },
  "language_info": {
   "codemirror_mode": {
    "name": "ipython",
    "version": 3
   },
   "file_extension": ".py",
   "mimetype": "text/x-python",
   "name": "python",
   "nbconvert_exporter": "python",
   "pygments_lexer": "ipython3",
   "version": "3.7.3"
  }
 },
 "nbformat": 4,
 "nbformat_minor": 2
}
