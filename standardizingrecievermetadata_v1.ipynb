{
 "cells": [
  {
   "cell_type": "code",
   "execution_count": 226,
   "metadata": {},
   "outputs": [],
   "source": [
    "import re\n",
    "f = open(\"alldeq14.txt\", \"r+\")\n",
    "deqsstr = f.read()\n",
    "#deqslist = re.split(\"\\n\", deqsstr)"
   ]
  },
  {
   "cell_type": "code",
   "execution_count": 227,
   "metadata": {},
   "outputs": [
    {
     "data": {
      "text/plain": [
       "1038"
      ]
     },
     "execution_count": 227,
     "metadata": {},
     "output_type": "execute_result"
    }
   ],
   "source": [
    "deqslist = re.findall(\"deq14.b1.*\", deqsstr)\n",
    "len(deqslist)"
   ]
  },
  {
   "cell_type": "code",
   "execution_count": 228,
   "metadata": {},
   "outputs": [],
   "source": [
    "from urllib import request\n",
    "\n",
    "emailstext = ''\n",
    "\n",
    "s3_root = \"https://flint-text.s3.amazonaws.com/\"\n",
    "for deq in deqslist:       \n",
    "    url = s3_root + deq\n",
    "    response = request.urlopen(url)\n",
    "    raw_text = response.read().decode('utf8')\n",
    "    emailstext = \"\".join((raw_text, emailstext)) #changed this line"
   ]
  },
  {
   "cell_type": "code",
   "execution_count": 277,
   "metadata": {
    "scrolled": true
   },
   "outputs": [],
   "source": [
    "#print(emailstext) #see full email output"
   ]
  },
  {
   "cell_type": "code",
   "execution_count": 266,
   "metadata": {
    "scrolled": true
   },
   "outputs": [],
   "source": [
    "# To: #\n",
    "tos = re.findall(\"To:.*[A-Za-z].*\", emailstext)\n",
    "tostr = '\\n'.join(tos)\n",
    "#print(tostr)"
   ]
  },
  {
   "cell_type": "code",
   "execution_count": 276,
   "metadata": {
    "scrolled": true
   },
   "outputs": [
    {
     "name": "stdout",
     "output_type": "stream",
     "text": [
      "611 [Last, First] names\n"
     ]
    }
   ],
   "source": [
    "ultimatelist_to = []\n",
    "ultimatelist_to.clear()\n",
    "\n",
    "lastcommafirst_to = re.findall(\"[A-Za-z]+,.[A-Za-z]+\",tostr)\n",
    "ultimatelist_to.extend(lastcommafirst_to)\n",
    "print(str(len(lastcommafirst_to)) + \" [Last, First] names\")\n",
    "#print(lastcommafirst_to)"
   ]
  },
  {
   "cell_type": "code",
   "execution_count": 275,
   "metadata": {
    "scrolled": true
   },
   "outputs": [
    {
     "name": "stdout",
     "output_type": "stream",
     "text": [
      "50 [First Last] names\n"
     ]
    }
   ],
   "source": [
    "# # # GETTING AND REFORMATTING [First Last] NAMES # # #\n",
    "\n",
    "firstlast_to0 = re.findall(\"[A-Z][a-z]+.[A-Z][a-z][A-Za-z]*\",tostr)\n",
    "unwanted = {'Shekter Smith', 'Mary Beth','Tracy Jo'}\n",
    "firstlast_to = [e for e in firstlast_to0 if e not in unwanted]\n",
    "firstlast_to_str = '\\n'.join(firstlast_to)\n",
    "\n",
    "#LIST OF FIRST NAMES\n",
    "firstnames_to = re.findall('^[A-Z][a-z]+\\s|\\n[A-Z][a-z]+\\s',firstlast_to_str)\n",
    "firstnames1_to = ' '.join(firstnames_to)\n",
    "firstnames2_to = re.sub(\"\\n\",\"\",firstnames1_to)\n",
    "firstnameslist_to = re.split(\"\\s+\",firstnames2_to)\n",
    "firstnameslist_to.pop()\n",
    "\n",
    "#LIST OF LAST NAMES\n",
    "lastnames1_to = re.findall('.[A-Z][a-z]+',firstlast_to_str)\n",
    "lastnames2_to = ''.join(lastnames1_to)\n",
    "lastnameslist_to = re.split('\\s',lastnames2_to)\n",
    "del lastnameslist_to[0]\n",
    "\n",
    "#print(\"Reformatted names:\")\n",
    "#print(\"- - -\")\n",
    "for idx, value in enumerate(firstnameslist_to):\n",
    "    key_to = lastnameslist_to[idx] + \", \" + firstnameslist_to[idx]\n",
    "    #print(key_to)\n",
    "    ultimatelist_to.append(key) #adds these reformatted names to ultimatelist\n",
    "    \n",
    "\n",
    "print(str(len(firstlast_to)) + \" [First Last] names\")\n"
   ]
  },
  {
   "cell_type": "code",
   "execution_count": 269,
   "metadata": {},
   "outputs": [
    {
     "name": "stdout",
     "output_type": "stream",
     "text": [
      "To: standardized names\n",
      "\n",
      "['Murray, David', 'Wurfel, Brad', 'Crooks, Jennifer', 'Busch, Stephen', 'Prysby, Mike', 'Prysby, Mike', 'Crooks, Jennifer', 'Busch, Stephen', 'Prysby, Mike', 'Rosenthal, Adam', 'Smith, Liane', 'Benzie, Richard', 'Busch, Stephen', 'Rosenthal, Adam', 'Wyant, Dan', 'Rosenthal, Adam', 'Bloemker, Jon', 'Conradson, Scott', 'Howell, Sherri', 'Peterman, Tammy', 'Rosenthal, Adam', 'Ostrander, Debbie', 'Benzie, Richard', 'Ostrander, Debbie', 'Ostrander, Debbie', 'Rosenthal, Adam', 'Rosenthal, Adam', 'Benzie, Richard', 'Ostrander, Debbie', 'Rosenthal, Adam', 'Ostrander, Debbie', 'Benzie, Richard', 'Ostrander, Debbie', 'Rosenthal, Adam', 'Rosenthal, Adam', 'Rosenthal, Adam', 'Brewster, Simone', 'Rosenthal, Adam', 'Wurfel, Sara', 'Murray, David', 'Brown, Jessica', 'Muchmore, Dennis', 'Rosenthal, Adam', 'Prysby, Mike', 'Tommasulo, Karen', 'Rosenthal, Adam', 'Prysby, Mike', 'Sygo, Jim', 'Rosenthal, Adam', 'Busch, Stephen', 'Prysby, Mike', 'Sygo, Jim', 'Tommasulo, Karen', 'Rosenthal, Adam', 'Rosenthal, Adam', 'Rosenthal, Adam', 'Rosenthal, Adam', 'Rosenthsl, Adam', 'Damato, Nicholas', 'Schock, Michael', 'Lytle, Darren', 'Burneson, Eric', 'Smith, Liane', 'Fortin, Denise', 'Henry, Timothy', 'Hyde, Tinka', 'Shaler, Karen', 'Feuerstein, Heather', 'Busch, Stephen', 'Prysby, Mike', 'Wurfel, Brad', 'Rosenthal, Adam', 'Ostrander, Debbie', 'Cook, Pat', 'Busch, Stephen', 'Smith, Liane', 'Benzie, Richard', 'Philip, Kris', 'Monosmith, Carrie', 'Smith, Liane', 'Monosmith, Carrie', 'DeBruyn, Dana', 'Rosenthal, Adam', 'Rosenthal, Adam', 'Busch, Stephen', 'Smith, Liane', 'Benzie, Richard', 'Wurfel, Brad', 'Damato, Nicholas', 'Schock, Michael', 'Lytle, Darren', 'Burneson, Eric', 'Smith, Liane', 'Fortin, Denise', 'Henry, Timothy', 'Hyde, Tinka', 'Wurfel, Brad', 'Sygo, Jim', 'Pallone, Maggie', 'Hyde, Tinka', 'Smith, Liane', 'Hyde, Tinka', 'Smith, Liane', 'Busch, Stephen', 'Smith, Liane', 'Wyant, Dan', 'Prysby, Mike', 'Smith, Liane', 'Busch, Stephen', 'Tommasulo, Karen', 'Sygo, Jim', 'Busch, Stephen', 'Tommasulo, Karen', 'Wurfel, Brad', 'Sygo, Jlm', 'Poy, Thomas', 'Smith, Liane', 'Benzie, Richard', 'Busch, Stephen', 'Smith, Liane', 'Benzie, Richard', 'Smith, Liane', 'Benzie, Richard', 'Busch, Stephen', 'Poy, Thomas', 'Busch, Stephen', 'Smith, Liane', 'Benzle, Richard', 'Busch, Stephen', 'Benzie, Richard', 'Sygo, Jim', 'Smith, Liane', 'Benzie, Richard', 'Smith, Liane', 'Busch, Stephen', 'Rosenthal, Adam', 'Ptaszenski, Rachel', 'Busch, Stephen', 'Prysby, Mike', 'Rosenthal, Adam', 'Busch, Stephen', 'Smith, Liane', 'Wyant, Dan', 'Prysby, Mike', 'Benzie, Richard', 'Busch, Stephen', 'Smith, Liane', 'Wurfel, Brad', 'Prysby, Mike', 'Busch, Stephen', 'Smith, Liane', 'Wurfel, Brad', 'Benzle, Richard', 'Busch, Stephen', 'Smith, Liane', 'Wurfel, Brad', 'Prysby, Mike', 'Cook, Pat', 'Prysby, Mike', 'Cook, Pat', 'Cook, Pat', 'Poy, Thomas', 'Smith, Liane', 'Busch, Stephen', 'Busch, Stephen', 'Benzie, Richard', 'Benzie, Richard', 'Smith, Liane', 'Busch, Stephen', 'Prysby, Mike', 'Rosenthal, Adam', 'Ptaszenski, Rachel', 'Benzie, Richard', 'Poy, Thomas', 'Benzie, Richard', 'Wurfel, Brad', 'Wurfel, Brad', 'Benzie, Richard', 'Smith, Liane', 'Busch, Stephen', 'Benzle, Richard', 'Smith, Liane', 'Rosenthal, Adam', 'Rosenthal, Adam', 'Smith, Liane', 'Benzie, Richard', 'Busch, Stephen', 'Rosenthal, Adam', 'Smith, Liane', 'Benzie, Richard', 'Busch, Stephen', 'Bair, Rita', 'Damato, Nicholas', 'Poy, Thomas', 'Schock, Michael', 'Lytle, Darren', 'Burneson, Eric', 'Busch, Stephen', 'Prysby, Mike', 'Cook, Pat', 'Fauerstein, Heather', 'Wurfel, Brad', 'Busch, Stephen', 'Rosenthal, Adam', 'Ptaszenski, Rachel', 'Feuerstein, Heather', 'Wurfel, Brad', 'Wurfel, Brad', 'Feuerstein, Heather', 'Wurfel, Brad', 'Feuerstein, Heather', 'Smith, Liane', 'Wurfel, Brad', 'Feuerstein, Heather', 'Wurfel, Brad', 'Busch, Stephen', 'Smith, Liane', 'Benzie, Richard', 'Prysby, Mike', 'Feuerstein, Heather', 'Wurfel, Brad', 'Smith, Llane', 'Busch, Stephen', 'Tommasulo, Karen', 'Sygo, Jim', 'Busch, Stephen', 'Tommasulo, Karen', 'Wurfel, Brad', 'Sygo, Jim', 'Wurfel, Brad', 'Sygo, Jim', 'Wurfel, Brad', 'Tommasulo, Karen', 'Krisztian, George', 'Smith, Liane', 'Cook, Pat', 'Busch, Stephen', 'Smith, Liane', 'Smith, Liane', 'Smith, Liane', 'Wurfel, Brad', 'Krisztian, George', 'Smith, Liane', 'Rosenthal, Adam', 'Prysby, Mike', 'Smith, Liane', 'Busch, Stephen', 'Rosenthal, Adam', 'Prysby, Mike', 'Wurfel, Sara', 'Murray, David', 'Rosenthal, Adam', 'Shekter, Jean', 'Rosenthal, Adam', 'Shekter, Jean', 'Prysby, Mike', 'Busch, Stephen', 'Smith, Liane', 'Benzie, Richard', 'Philip, Kris', 'Dykema, Linda', 'Wurfel, Brad', 'Pallone, Maggie', 'Wurfel, Sara', 'Wyant, Dan', 'Wurfel, Brad', 'Eisner, Jennifer', 'Murray, David', 'Brown, Jessica', 'Wurfel, Brad', 'Wurfel, Sara', 'Murray, David', 'Brown, Jessica', 'Buhs, Caleb', 'Murray, David', 'Wurfel, Brad', 'Murray, David', 'Wurfel, Sara', 'Behen, David', 'Davenport, Rodney', 'Wurfel, Brad', 'Wurfel, Sara', 'Murray, David', 'Wurfel, Sara', 'Wurfel, Sara', 'Kaffer, Nancy', 'Wurfel, Brad', 'Wurfel, Sara', 'Wurfel, Brad', 'Wurfel, Sara', 'Wurfel, Sara', 'Waurfel, Brad', 'Wurfel, Sara', 'Wurfel, Brad', 'Wurfel, Sara', 'Wurfel, Brad', 'Stanton, Terry', 'Wurfel, Sara', 'Kaffer, Nancy', 'Livengood, Chad', 'Wurfel, Brad', 'Rivard, Mitchell', 'Wurfel, Brad', 'Wurfel, Sara', 'Murray, David', 'Wurfel, Brad', 'Wurfel, Sara', 'Wyant, Dan', 'Thelen, Mary', 'Pallone, Maggie', 'Busch, Stephen', 'Wurfel, Brad', 'Smith, Liane', 'Busch, Stephen', 'Benzie, Richard', 'Busch, Stephen', 'Benzie, Richard', 'Pallone, Maggie', 'Busch, Stephen', 'Pallone, Maggie', 'Smith, Liane', 'Busch, Stephen', 'Pallone, Maggie', 'Devereaux, Tracy', 'Devereaux, Tracy', 'Pallone, Maggie', 'Fonger, Ronald', 'Moran, Susan', 'Miller, Corinne', 'Travis, Rashmi', 'Anderson, Paula', 'Miller, Mark', 'Smith, Liane', 'Busch, Stephen', 'Anderson, Paula', 'Miller, Corinne', 'Travis, Rashmi', 'Moran, Susan', 'Grijalva, Nancy', 'Wurfel, Brad', 'Waurfel, Brad', 'Busch, Stephen', 'Wurfel, Brad', 'Smith, Liane', 'Benzie, Richard', 'Smith, Liane', 'Busch, Stephen', 'Benzie, Richard', 'Wurfel, Brad', 'Smith, Liane', 'Benzie, Richard', 'Wurfel, Brad', 'Wurfel, Brad', 'Smith, Liane', 'Benzie, Richard', 'Smith, Liane', 'Busch, Stephen', 'Benzie, Richard', 'Wurfel, Brad', 'Wurfel, Brad', 'Wurfel, Brad', 'Wurfel, Brad', 'Wurfel, Brad', 'Wurfel, Brad', 'Wurfel, Brad', 'Wurfel, Brad', 'Wurfel, Brad', 'Saxton, Thomas', 'Muchmore, Dennis', 'Muchmore, Dennis', 'Wurfel, Brad', 'Wurfel, Brad', 'Wurfel, Brad', 'Wurfel, Brad', 'Wurfel, Brad', 'Wurfel, Brad', 'Wurfel, Brad', 'Fonger, Ronald', 'Howes, Sarah', 'Pallone, Maggie', 'Wurfel, Brad', 'Wurfel, Brad', 'Wurfel, Brad', 'Wurfel, Brad', 'Hollins, Harvey', 'Hollins, Harvey', 'Muchmore, Dennis', 'Wurfel, Brad', 'Howes, Sarah', 'Pallone, Maggie', 'Wurfel, Brad', 'Wurfel, Brad', 'Brown, Jessica', 'Wurfel, Brad', 'Brown, Jessica', 'Wurfel, Sara', 'Murray, David', 'Wurfel, Brad', 'Brown, Jessica', 'Wurfel, Sara', 'Murray, David', 'Howes, Sarah', 'Pallone, Maggie', 'Wurfel, Brad', 'Murray, David', 'Wurfel, Brad', 'Stanton, Terry', 'Wurfel, Sara', 'Agen, Jarrod', 'Hollins, Harvey', 'Murray, David', 'Wurfel, Sara', 'Sygo, Jim', 'Wyant, Dan', 'Buhs, Caleb', 'Wurfel, Sara', 'Murray, David', 'Wurfel, Brad', 'Buhs, Caleb', 'Murray, David', 'Wurfel, Brad', 'Murray, David', 'Wurfel, Sara', 'Behen, David', 'Davenport, Rodney', 'Murray, David', 'Wurfel, Sara', 'Busch, Stephen', 'Krisztian, George', 'Wurfel, Brad', 'Tommasulo, Karen', 'Kaffer, Nancy', 'Wurfel, Brad', 'Smith, Liane', 'Busch, Stephen', 'Prysby, Mike', 'Murray, David', 'Wurfel, Sara', 'Wurfel, Brad', 'Wurfel, Sara', 'Murray, David', 'Wurfel, Brad', 'Wurfel, Sara', 'Murray, David', 'Muchmore, Dennis', 'Wyant, Dan', 'Eisner, Jennifer', 'Wurfel, Brad', 'Wyant, Dan', 'Busch, Stephen', 'Prysby, Mike', 'Wurfel, Brad', 'Saxton, Thomas', 'Muchmore, Dennis', 'Wyant, Dan', 'Wurfel, Sara', 'Murray, David', 'Brown, Jessica', 'Wurfel, Brad', 'Wyant, Dan', 'Murray, David', 'Wurfel, Sara', 'Lasher, Geralyn', 'Tommasulo, Karen', 'Krisztian, George', 'Wurfel, Sara', 'Lasher, Geralyn', 'Wurfel, Brad', 'Wyant, Dan', 'Muchmore, Dennis', 'Murray, David', 'Agen, Jarrod', 'Hollins, Harvey', 'Wurfel, Brad', 'Tommasulo, Karen', 'Wurfel, Sara', 'Murray, David', 'Wurfel, Sara', 'Wurfel, Brad', 'Wurfel, Sara', 'Tommasulo, Karen', 'Wurfel, Brad', 'Wurfel, Sara', 'Kaffer, Nancy', 'Kaffer, Nancy', 'Wurfel, Sara', 'Tommasulo, Karen', 'Wurfel, Sara', 'Muchmore, Dennis', 'Pallone, Maggie', 'Wurfel, Brad', 'Wurfel, Sara', 'Busch, Stephen', 'Rosenthal, Adam', 'Ptaszenski, Rachel', 'Feuerstein, Heather', 'Wurfel, Brad', 'Wurfel, Brad', 'Muchmore, Dennis', 'Feuerstein, Heather', 'Wurfel, Brad', 'Muchmore, Dennis', 'Saxton, Thomas', 'Workman, Wayne', 'Hollins, Harvey', 'Saxton, Thomas', 'Workman, Wayne', 'Hollins, Harvey', 'Wurfel, Sara', 'Wurfel, Brad', 'Murray, David', 'Wurfel, Sara', 'Wurfel, Brad', 'Fields, Maggie', 'Murray, David', 'Wurfel, Sara', 'Pallone, Maggie', 'Wurfel, Brad', 'Murray, David', 'Wurfel, Sara', 'Pallone, Maggie', 'Feuerstein, Heather', 'Hollins, Harvey', 'Muchmore, Dennis', 'Brown, Eric', 'Wurfel, Brad', 'Brown, Eric', 'Hollins, Harvey', 'Muchmore, Dennis', 'Wyant, Dan', 'Thelen, Mary', 'Howes, Sarah', 'Wurfel, Brad', 'Busch, Stephen', 'Pallone, Maggie', 'Wurfel, Brad', 'Wurfel, Brad', 'Wurfel, Sara', 'Murray, David', 'Wurfel, Sara', 'Wurfel, Brad', 'Murray, David', 'Wurfel, Sara', 'Murray, David', 'Wyant, Dan', 'Wurfel, Brad', 'Wurfel, Brad', 'Murray, David', 'Murray, David', 'Wurfel, Sara', 'Wurfel, Brad', 'Wurfel, Brad', 'Stanton, Terry', 'Sampson, Jeremy', 'Wurfel, Sara', 'Wurfel, Sara', 'Lasher, Geralyn', 'Wurfel, Brad', 'Wyant, Dan', 'Wurfel, Sara', 'Wyant, Dan', 'Wurfel, Brad', 'Wurfel, Brad', 'Waurfel, Brad', 'Waurfel, Brad', 'Wurfel, Brad', 'Wurfel, Brad', 'Wurfel, Brad', 'Wurfel, Brad', 'Murray, David', 'Wurfel, Brad', 'Wurfel, Brad', 'Macaluso, Nora', 'Waurfel, Brad', 'Waurfel, Brad', 'Wurfel, Sara', 'Muchmore, Dennis', 'Murray, David', 'Wurfel, Brad', 'Brown, Jessica', 'Kennedy, Jordan', 'Egan, Paul', 'Wurfel, Brad', 'Waurfel, Brad', 'Wurfel, Brad', 'Krisztian, George', 'Averill, James', 'Wurfel, Brad', 'Workman, Wayne', 'Khouri, Nick', 'Saxton, Thomas', 'Khouri, Nick', 'Saxton, Thomas', 'Workman, Wayne', 'Schafer, Suzanne', 'Byrne, Randall', 'Eisner, Jennifer', 'Wurfel, Brad', 'Khouri, Nick', 'Saxton, Thomas', 'Muchmore, Dennis', 'Workman, Wayne', 'Schafer, Suzanne', 'Byrne, Randall', 'Wurfel, Brad', 'Wurfel, Brad', 'Waurfel, Brad', 'Wurfel, Brad', 'Lasher, Geralyn', 'Wurfel, Brad', 'Sygo, Jim', 'Glasgow, Michael', 'Glasgow, Michael', 'Glasgow, Michael', 'Glasgow, Michael', 'Glasgow, Michael', 'Glasgow, Michael', 'Glasgow, Michael', 'Glasgow, Michael', 'Glasgow, Michael', 'Glasgow, Michael', 'Glasgow, Michael', 'Glasgow, Michael', 'Glasgow, Michael', 'Glasgow, Michael', 'Glasgow, Michael', 'Glasgow, Michael', 'Glasgow, Michael', 'Glasgow, Michael', 'Glasgow, Michael', 'Glasgow, Michael', 'Glasgow, Michael', 'Glasgow, Michael', 'Glasgow, Michael', 'Glasgow, Michael', 'Glasgow, Michael', 'Glasgow, Michael', 'Glasgow, Michael', 'Glasgow, Michael', 'Glasgow, Michael', 'Glasgow, Michael', 'Glasgow, Michael', 'Glasgow, Michael', 'Glasgow, Michael', 'Glasgow, Michael', 'Glasgow, Michael', 'Glasgow, Michael', 'Glasgow, Michael', 'Glasgow, Michael', 'Glasgow, Michael', 'Glasgow, Michael', 'Glasgow, Michael', 'Glasgow, Michael', 'Glasgow, Michael', 'Glasgow, Michael', 'Glasgow, Michael', 'Glasgow, Michael', 'Glasgow, Michael', 'Glasgow, Michael']\n",
      "\n",
      "80 unique To: recievers found:\n",
      "\n",
      "['Philip, Kris', 'Miller, Mark', 'Eisner, Jennifer', 'Ostrander, Debbie', 'Cook, Pat', 'Murray, David', 'Smith, Llane', 'Hollins, Harvey', 'Benzle, Richard', 'Fonger, Ronald', 'Bair, Rita', 'Workman, Wayne', 'Conradson, Scott', 'Glasgow, Michael', 'Bloemker, Jon', 'Rosenthal, Adam', 'Krisztian, George', 'Benzie, Richard', 'Kaffer, Nancy', 'Sygo, Jlm', 'Kennedy, Jordan', 'Schock, Michael', 'Egan, Paul', 'Shaler, Karen', 'Moran, Susan', 'Poy, Thomas', 'Wyant, Dan', 'Wurfel, Brad', 'Howell, Sherri', 'Khouri, Nick', 'Thelen, Mary', 'Devereaux, Tracy', 'Tommasulo, Karen', 'Brown, Eric', 'Waurfel, Brad', 'Muchmore, Dennis', 'Crooks, Jennifer', 'Lasher, Geralyn', 'Damato, Nicholas', 'Feuerstein, Heather', 'Buhs, Caleb', 'Livengood, Chad', 'Brown, Jessica', 'Agen, Jarrod', 'Anderson, Paula', 'Prysby, Mike', 'Fauerstein, Heather', 'Busch, Stephen', 'Stanton, Terry', 'Rosenthsl, Adam', 'Rivard, Mitchell', 'Burneson, Eric', 'Byrne, Randall', 'Ptaszenski, Rachel', 'Fortin, Denise', 'DeBruyn, Dana', 'Sampson, Jeremy', 'Hyde, Tinka', 'Saxton, Thomas', 'Henry, Timothy', 'Monosmith, Carrie', 'Sygo, Jim', 'Grijalva, Nancy', 'Averill, James', 'Macaluso, Nora', 'Peterman, Tammy', 'Smith, Liane', 'Travis, Rashmi', 'Dykema, Linda', 'Fields, Maggie', 'Schafer, Suzanne', 'Behen, David', 'Davenport, Rodney', 'Miller, Corinne', 'Pallone, Maggie', 'Shekter, Jean', 'Lytle, Darren', 'Brewster, Simone', 'Wurfel, Sara', 'Howes, Sarah']\n"
     ]
    }
   ],
   "source": [
    "print(\"To: standardized names\" + \"\\n\")\n",
    "print(ultimatelist_to)\n",
    "len(ultimatelist_to)\n",
    "\n",
    "ultimatelist_to_d = list(dict.fromkeys(ultimatelist_to))\n",
    "print(\"\")\n",
    "print(str(len(ultimatelist_to_d)) + \" unique To: recievers found:\")\n",
    "print(\"\")\n",
    "print(ultimatelist_to_d)"
   ]
  },
  {
   "cell_type": "code",
   "execution_count": 270,
   "metadata": {},
   "outputs": [],
   "source": [
    "# Cc: #\n",
    "Ccs = re.findall(\"Cc:.*[A-Za-z].*\", emailstext)\n",
    "Ccstr = '\\n'.join(Ccs)\n",
    "#print(Ccstr)"
   ]
  },
  {
   "cell_type": "code",
   "execution_count": 271,
   "metadata": {},
   "outputs": [
    {
     "name": "stdout",
     "output_type": "stream",
     "text": [
      "366 [Last, First] names\n"
     ]
    }
   ],
   "source": [
    "ultimatelist_Cc = []\n",
    "ultimatelist_Cc.clear()\n",
    "\n",
    "lastcommafirst_Cc = re.findall(\"[A-Za-z]+,.[A-Za-z]+\",Ccstr)\n",
    "ultimatelist_Cc.extend(lastcommafirst_Cc)\n",
    "print(str(len(lastcommafirst_Cc)) + \" [Last, First] names\")\n"
   ]
  },
  {
   "cell_type": "code",
   "execution_count": 272,
   "metadata": {},
   "outputs": [
    {
     "name": "stdout",
     "output_type": "stream",
     "text": [
      "23 [First Last] names\n"
     ]
    }
   ],
   "source": [
    "# # # GETTING AND REFORMATTING [First Last] NAMES # # #\n",
    "\n",
    "firstlast_Cc0 = re.findall(\"[A-Z][a-z]+.[A-Z][a-z][A-Za-z]*\",Ccstr)\n",
    "unwanted = {'Shekter Smith', 'Mary Beth','Tracy Jo'}\n",
    "firstlast_Cc = [e for e in firstlast_Cc0 if e not in unwanted]\n",
    "firstlast_Cc_str = '\\n'.join(firstlast_Cc)\n",
    "\n",
    "#LIST OF FIRST NAMES\n",
    "firstnames_Cc = re.findall('^[A-Z][a-z]+\\s|\\n[A-Z][a-z]+\\s',firstlast_Cc_str)\n",
    "firstnames1_Cc = ' '.join(firstnames_Cc)\n",
    "firstnames2_Cc = re.sub(\"\\n\",\"\",firstnames1_Cc)\n",
    "firstnameslist_Cc = re.split(\"\\s+\",firstnames2_Cc)\n",
    "firstnameslist_Cc.pop()\n",
    "\n",
    "#LIST OF LAST NAMES\n",
    "lastnames1_Cc = re.findall('.[A-Z][a-z]+',firstlast_Cc_str)\n",
    "lastnames2_Cc = ''.join(lastnames1_Cc)\n",
    "lastnameslist_Cc = re.split('\\s',lastnames2_Cc)\n",
    "del lastnameslist_Cc[0]\n",
    "\n",
    "#print(\"Reformatted names:\")\n",
    "#print(\"- - -\")\n",
    "for idx, value in enumerate(firstnameslist_Cc):\n",
    "    key_Cc = lastnameslist_Cc[idx] + \", \" + firstnameslist_Cc[idx]\n",
    "    #print(key_Cc)\n",
    "    ultimatelist_Cc.append(key) #adds these reformatted names to ultimatelist\n",
    "    \n",
    "\n",
    "print(str(len(firstlast_Cc)) + \" [First Last] names\")\n"
   ]
  },
  {
   "cell_type": "code",
   "execution_count": 273,
   "metadata": {},
   "outputs": [
    {
     "name": "stdout",
     "output_type": "stream",
     "text": [
      "Cc: standardized names\n",
      "\n",
      "['Poy, Thomas', 'Deltoral, Miguel', 'Busch, Stephen', 'Rosenthal, Adam', 'Deltoral, Miguel', 'Poy, Thomas', 'Busch, Stephen', 'Rosenthal, Adam', 'Pallone, Maggie', 'Brown, Eric', 'Muchmore, Dennis', 'Murray, David', 'Smith, Liane', 'Devereaux, Tracy', 'Sygo, Jim', 'Lachance, Amy', 'Busch, Stephen', 'Lachance, Amy', 'Busch, Stephen', 'Lachance, Amy', 'Busch, Stephen', 'Lachance, Amy', 'Busch, Stephen', 'Smith, Liane', 'Lachance, Amy', 'Busch, Stephen', 'Smith, Liane', 'Lachance, Amy', 'Busch, Stephen', 'Prysby, Mike', 'Skinker, Bethel', 'Joseph, Mark', 'Wyant, Dan', 'Busch, Stephen', 'Smith, Liane', 'Pallone, Maggie', 'Brown, Melanie', 'Murray, David', 'Brown, Melanie', 'Murray, David', 'Busch, Stephen', 'Smith, Liane', 'Wyant, Dan', 'Pallone, Maggie', 'Smith, Liane', 'Wyant, Dan', 'Pallone, Maggie', 'Prysby, Mike', 'Joseph, Mark', 'Prysby, Mike', 'Benzie, Richard', 'Poy, Thomas', 'Bair, Rita', 'Damato, Nicholas', 'Shoven, Heather', 'Kuefler, Janet', 'Bair, Rita', 'Damato, Nicholas', 'Shoven, Heather', 'Kuefler, Janet', 'Murphy, Thomas', 'Porter, Andrea', 'Wyant, Dan', 'Tommasulo, Karen', 'Pallone, Maggie', 'Feuerstein, Heather', 'Poy, Thomas', 'Bair, Rita', 'Damato, Nicholas', 'Busch, Stephen', 'Cook, Pat', 'Poy, Thomas', 'Bair, Rita', 'Damato, Nicholas', 'Poy, Thomas', 'Balr, Rita', 'Damato, Nicholas', 'Muchmore, Dennis', 'Hollins, Harvey', 'Murray, David', 'Wurfel, Sara', 'Benzie, Richard', 'Benzie, Richard', 'Hyde, Tinka', 'Crooks, Jennifer', 'Deltoral, Miguel', 'Crooks, Jennifer', 'Shoven, Heather', 'Hyde, Tinka', 'Crooks, Jennifer', 'Shaler, Karen', 'Devereaux, Tracy', 'Monosmith, Carrie', 'Monosmith, Carrie', 'Henry, Timothy', 'Poy, Thomas', 'Bair, Rita', 'Damato, Nicholas', 'Muchmore, Dennls', 'Hollins, Harvey', 'Murray, David', 'Wurfel, Sara', 'Rennaker, Joanne', 'Rosenthal, Adam', 'Cook, Pat', 'Rennaker, Joanne', 'Rosenthal, Adam', 'Cook, Pat', 'Rennaker, Joanne', 'Rosenthal, Adam', 'Cook, Pat', 'Busch, Stephen', 'Rosenthal, Adam', 'Rosenthal, Adam', 'Busch, Stephen', 'Rosenthal, Adam', 'Rosenthal, Adam', 'Prysby, Mike', 'Busch, Stephen', 'Rosenthal, Adam', 'Smith, Liane', 'Busch, Stephen', 'Rosenthal, Adam', 'Smith, Liane', 'Pallone, Maggle', 'Wyant, Dan', 'Deltoral, Miguel', 'Smith, Liane', 'Benzie, Richard', 'Philip, Kris', 'Deltoral, Miguei', 'Smith, Liane', 'Wyant, Dan', 'Prysby, Mike', 'Muchmore, Dennls', 'Hollins, Harvey', 'Wurfel, Brad', 'Pallone, Maggie', 'Busch, Stephen', 'Benzle, Richard', 'Cook, Pat', 'Benzle, Richard', 'Busch, Stephen', 'Prysby, Mike', 'Benzle, Richard', 'Benzie, Richard', 'Olszewski, Rosemarie', 'Rennaker, Joanne', 'Poy, Thomas', 'Bair, Rita', 'Benzie, Richard', 'Busch, Stephen', 'Prysby, Mike', 'Poy, Thomas', 'Sygo, Jim', 'Wyant, Dan', 'Thelen, Mary', 'Shaler, Karen', 'Sygo, Jim', 'Wyant, Dan', 'Thelen, Mary', 'Shaler, Karen', 'Sygo, Jim', 'Wurfel, Brad', 'Krisztian, George', 'Devereaux, Tracy', 'Busch, Stephen', 'Philip, Kris', 'Cook, Pat', 'Shekter, Jean', 'Lasher, Geralyn', 'Minicuci, Angela', 'Lasher, Geralyn', 'Minicuci, Angela', 'Christensen, Chris', 'Stanaway, Deb', 'Pallone, Maggie', 'Wisely, John', 'Wisely, John', 'Wisely, John', 'Murray, David', 'Murray, David', 'Beckmann, Ronna', 'Deamer, Eileen', 'Wurfel, Brad', 'Sygo, Jim', 'Smith, Liane', 'Benzie, Richard', 'Wurfel, Brad', 'Sygo, Jim', 'Wurfel, Brad', 'Sygo, Jim', 'Devereaux, Tracy', 'Wurfel, Brad', 'Sygo, Jim', 'Devereaux, Tracy', 'Smith, Liane', 'Benzie, Richard', 'Wurfel, Brad', 'Sygo, Jim', 'Busch, Stephen', 'Smith, Liane', 'Benzie, Richard', 'Wurfel, Brad', 'Sygo, Jim', 'Smith, Liane', 'Benzie, Richard', 'Wurfel, Brad', 'Sygo, Jim', 'Anderson, Paula', 'Priem, Wesley', 'Dykema, Linda', 'Peeler, Nancy', 'Bouters, Janese', 'Barr, Jacqui', 'Moran, Susan', 'Priem, Wesley', 'Dykema, Linda', 'Bouters, Janese', 'Barr, Jacqui', 'Busch, Stephen', 'Khouri, Nick', 'Workman, Wayne', 'Stanton, Terry', 'Khouri, Nick', 'Workman, Wayne', 'Stanton, Terry', 'Wurfel, Brad', 'Smith, Liane', 'Benzie, Richard', 'Sygo, Jim', 'Murray, David', 'Wurfel, Sara', 'Brown, Jessica', 'Murray, David', 'Wurfel, Sara', 'Brown, Jessica', 'Devereaux, Tracy', 'Busch, Stephen', 'Benzie, Richard', 'Sygo, Jim', 'Shaler, Karen', 'Prysby, Mike', 'Benzie, Richard', 'Smith, Liane', 'Rosenthal, Adam', 'Thelen, Mary', 'Smith, Jennifer', 'Wheaton, Bob', 'Smith, Jennifer', 'Wheaton, Bob', 'Prysby, Mike', 'Benzie, Richard', 'Smith, Liane', 'Rosenthal, Adam', 'Thelen, Mary', 'Wyant, Dan', 'Wurfel, Brad', 'Thelen, Mary', 'Shaler, Karen', 'Chrlstensen, Chris', 'Stanaway, Deb', 'Murray, David', 'Wurfel, Sara', 'Tanner, Kristi', 'Wyant, Dan', 'Pallone, Maggie', 'Wurfel, Brad', 'Wurfel, Sara', 'Murray, David', 'Agen, Jarrod', 'Tommasulo, Karen', 'Tommasulo, Karen', 'Thelen, Mary', 'Smith, Liane', 'Wyant, Dan', 'Pallone, Maggie', 'Smith, Liane', 'Wyant, Dan', 'Pallone, Maggie', 'Prysby, Mike', 'Benzie, Richard', 'Muchmore, Dennis', 'Agen, Jarrod', 'Tommasulo, Karen', 'Thelen, Mary', 'Wurfel, Sara', 'Tommasulo, Karen', 'Wurfel, Brad', 'Shaw, Eric', 'Wurfel, Brad', 'Shaw, Eric', 'Stanton, Terry', 'Smith, Jennifer', 'Sygo, Jim', 'Benzie, Richard', 'Cook, Pat', 'Prysby, Mike', 'Rosenthal, Adam', 'Lasher, Geralyn', 'Eisner, Jennifer', 'Lasher, Geralyn', 'Eisner, Jennifer', 'Wurfel, Sara', 'Wisely, John', 'Wurfel, Sara', 'Wisely, John', 'Khouri, Nick', 'Workman, Wayne', 'Stanton, Terry', 'Wurfel, Brad', 'Smith, Liane', 'Sygo, Jim', 'Benzie, Richard', 'Wyant, Dan', 'Smith, Liane', 'Wyant, Dan', 'Prysby, Mike', 'Muchmore, Dennis', 'Hollins, Harvey', 'Clement, Elizabeth', 'Wyant, Dan', 'Clement, Elizabeth', 'Muchmore, Dennis', 'Hollins, Harvey', 'Brown, Eric', 'Brown, Jessica', 'Benzie, Richard', 'Busch, Stephen', 'Brown, Eric', 'Brown, Jessica', 'Muchmore, Dennis', 'Feuerstein, Heather', 'Muchmore, Dennis', 'Hollins, Harvey', 'Brown, Jessica', 'Wurfel, Sara', 'Murray, David', 'Brown, Jessica', 'Wurfel, Sara', 'Murray, David', 'Beckmann, Ronna', 'Deamer, Eileen', 'Murray, David', 'Murray, David', 'Murray, David', 'Khouri, Nick', 'Workman, Wayne', 'Stanton, Terry', 'Wurfel, Brad', 'Lasher, Geralyn', 'Eisner, Jennifer', 'Quealy, Erica', 'Murray, David', 'Rosenthal, Adam', 'Busch, Stephen', 'Wurfel, Brad', 'Stuever, Beth', 'Wilson, Jamie', 'Sygo, Jim', 'Krisztian, George', 'Dykema, Linda', 'Sygo, Jim', 'Krisztian, George', 'Dykema, Linda', 'Ridley, Nancy', 'Glasgow, Michael', 'Glasgow, Michael', 'Glasgow, Michael', 'Glasgow, Michael', 'Glasgow, Michael', 'Glasgow, Michael', 'Glasgow, Michael', 'Glasgow, Michael', 'Glasgow, Michael', 'Glasgow, Michael', 'Glasgow, Michael', 'Glasgow, Michael', 'Glasgow, Michael', 'Glasgow, Michael', 'Glasgow, Michael', 'Glasgow, Michael', 'Glasgow, Michael', 'Glasgow, Michael', 'Glasgow, Michael', 'Glasgow, Michael']\n",
      "\n",
      "77 unique Cc: recievers found:\n",
      "\n",
      "['Philip, Kris', 'Ridley, Nancy', 'Stanton, Terry', 'Muchmore, Dennls', 'Deltoral, Miguel', 'Wheaton, Bob', 'Cook, Pat', 'Murray, David', 'Skinker, Bethel', 'Wisely, John', 'Benzle, Richard', 'Olszewski, Rosemarie', 'Peeler, Nancy', 'Bair, Rita', 'Christensen, Chris', 'Balr, Rita', 'Pallone, Maggle', 'Kuefler, Janet', 'Stanaway, Deb', 'Wilson, Jamie', 'Rosenthal, Adam', 'Stuever, Beth', 'Krisztian, George', 'Benzie, Richard', 'Quealy, Erica', 'Eisner, Jennifer', 'Joseph, Mark', 'Shaler, Karen', 'Moran, Susan', 'Deltoral, Miguei', 'Wyant, Dan', 'Wurfel, Brad', 'Shoven, Heather', 'Devereaux, Tracy', 'Tommasulo, Karen', 'Brown, Eric', 'Crooks, Jennifer', 'Shekter, Jean', 'Lasher, Geralyn', 'Damato, Nicholas', 'Feuerstein, Heather', 'Murphy, Thomas', 'Barr, Jacqui', 'Thelen, Mary', 'Brown, Jessica', 'Agen, Jarrod', 'Anderson, Paula', 'Prysby, Mike', 'Chrlstensen, Chris', 'Muchmore, Dennis', 'Busch, Stephen', 'Hollins, Harvey', 'Porter, Andrea', 'Khouri, Nick', 'Bouters, Janese', 'Lachance, Amy', 'Rennaker, Joanne', 'Hyde, Tinka', 'Priem, Wesley', 'Henry, Timothy', 'Monosmith, Carrie', 'Sygo, Jim', 'Minicuci, Angela', 'Shaw, Eric', 'Deamer, Eileen', 'Brown, Melanie', 'Beckmann, Ronna', 'Clement, Elizabeth', 'Smith, Liane', 'Glasgow, Michael', 'Dykema, Linda', 'Smith, Jennifer', 'Workman, Wayne', 'Tanner, Kristi', 'Pallone, Maggie', 'Poy, Thomas', 'Wurfel, Sara']\n"
     ]
    }
   ],
   "source": [
    "print(\"Cc: standardized names\" + \"\\n\")\n",
    "print(ultimatelist_Cc)\n",
    "len(ultimatelist_Cc)\n",
    "\n",
    "ultimatelist_Cc_d = list(dict.fromkeys(ultimatelist_Cc))\n",
    "print(\"\")\n",
    "print(str(len(ultimatelist_Cc_d)) + \" unique Cc: recievers found:\")\n",
    "print(\"\")\n",
    "print(ultimatelist_Cc_d)"
   ]
  },
  {
   "cell_type": "code",
   "execution_count": 274,
   "metadata": {
    "scrolled": true
   },
   "outputs": [
    {
     "name": "stdout",
     "output_type": "stream",
     "text": [
      "all 1045 reciever names, with duplicates:\n",
      "\n",
      "['Murray, David', 'Wurfel, Brad', 'Crooks, Jennifer', 'Busch, Stephen', 'Prysby, Mike', 'Prysby, Mike', 'Crooks, Jennifer', 'Busch, Stephen', 'Prysby, Mike', 'Rosenthal, Adam', 'Smith, Liane', 'Benzie, Richard', 'Busch, Stephen', 'Rosenthal, Adam', 'Wyant, Dan', 'Rosenthal, Adam', 'Bloemker, Jon', 'Conradson, Scott', 'Howell, Sherri', 'Peterman, Tammy', 'Rosenthal, Adam', 'Ostrander, Debbie', 'Benzie, Richard', 'Ostrander, Debbie', 'Ostrander, Debbie', 'Rosenthal, Adam', 'Rosenthal, Adam', 'Benzie, Richard', 'Ostrander, Debbie', 'Rosenthal, Adam', 'Ostrander, Debbie', 'Benzie, Richard', 'Ostrander, Debbie', 'Rosenthal, Adam', 'Rosenthal, Adam', 'Rosenthal, Adam', 'Brewster, Simone', 'Rosenthal, Adam', 'Wurfel, Sara', 'Murray, David', 'Brown, Jessica', 'Muchmore, Dennis', 'Rosenthal, Adam', 'Prysby, Mike', 'Tommasulo, Karen', 'Rosenthal, Adam', 'Prysby, Mike', 'Sygo, Jim', 'Rosenthal, Adam', 'Busch, Stephen', 'Prysby, Mike', 'Sygo, Jim', 'Tommasulo, Karen', 'Rosenthal, Adam', 'Rosenthal, Adam', 'Rosenthal, Adam', 'Rosenthal, Adam', 'Rosenthsl, Adam', 'Damato, Nicholas', 'Schock, Michael', 'Lytle, Darren', 'Burneson, Eric', 'Smith, Liane', 'Fortin, Denise', 'Henry, Timothy', 'Hyde, Tinka', 'Shaler, Karen', 'Feuerstein, Heather', 'Busch, Stephen', 'Prysby, Mike', 'Wurfel, Brad', 'Rosenthal, Adam', 'Ostrander, Debbie', 'Cook, Pat', 'Busch, Stephen', 'Smith, Liane', 'Benzie, Richard', 'Philip, Kris', 'Monosmith, Carrie', 'Smith, Liane', 'Monosmith, Carrie', 'DeBruyn, Dana', 'Rosenthal, Adam', 'Rosenthal, Adam', 'Busch, Stephen', 'Smith, Liane', 'Benzie, Richard', 'Wurfel, Brad', 'Damato, Nicholas', 'Schock, Michael', 'Lytle, Darren', 'Burneson, Eric', 'Smith, Liane', 'Fortin, Denise', 'Henry, Timothy', 'Hyde, Tinka', 'Wurfel, Brad', 'Sygo, Jim', 'Pallone, Maggie', 'Hyde, Tinka', 'Smith, Liane', 'Hyde, Tinka', 'Smith, Liane', 'Busch, Stephen', 'Smith, Liane', 'Wyant, Dan', 'Prysby, Mike', 'Smith, Liane', 'Busch, Stephen', 'Tommasulo, Karen', 'Sygo, Jim', 'Busch, Stephen', 'Tommasulo, Karen', 'Wurfel, Brad', 'Sygo, Jlm', 'Poy, Thomas', 'Smith, Liane', 'Benzie, Richard', 'Busch, Stephen', 'Smith, Liane', 'Benzie, Richard', 'Smith, Liane', 'Benzie, Richard', 'Busch, Stephen', 'Poy, Thomas', 'Busch, Stephen', 'Smith, Liane', 'Benzle, Richard', 'Busch, Stephen', 'Benzie, Richard', 'Sygo, Jim', 'Smith, Liane', 'Benzie, Richard', 'Smith, Liane', 'Busch, Stephen', 'Rosenthal, Adam', 'Ptaszenski, Rachel', 'Busch, Stephen', 'Prysby, Mike', 'Rosenthal, Adam', 'Busch, Stephen', 'Smith, Liane', 'Wyant, Dan', 'Prysby, Mike', 'Benzie, Richard', 'Busch, Stephen', 'Smith, Liane', 'Wurfel, Brad', 'Prysby, Mike', 'Busch, Stephen', 'Smith, Liane', 'Wurfel, Brad', 'Benzle, Richard', 'Busch, Stephen', 'Smith, Liane', 'Wurfel, Brad', 'Prysby, Mike', 'Cook, Pat', 'Prysby, Mike', 'Cook, Pat', 'Cook, Pat', 'Poy, Thomas', 'Smith, Liane', 'Busch, Stephen', 'Busch, Stephen', 'Benzie, Richard', 'Benzie, Richard', 'Smith, Liane', 'Busch, Stephen', 'Prysby, Mike', 'Rosenthal, Adam', 'Ptaszenski, Rachel', 'Benzie, Richard', 'Poy, Thomas', 'Benzie, Richard', 'Wurfel, Brad', 'Wurfel, Brad', 'Benzie, Richard', 'Smith, Liane', 'Busch, Stephen', 'Benzle, Richard', 'Smith, Liane', 'Rosenthal, Adam', 'Rosenthal, Adam', 'Smith, Liane', 'Benzie, Richard', 'Busch, Stephen', 'Rosenthal, Adam', 'Smith, Liane', 'Benzie, Richard', 'Busch, Stephen', 'Bair, Rita', 'Damato, Nicholas', 'Poy, Thomas', 'Schock, Michael', 'Lytle, Darren', 'Burneson, Eric', 'Busch, Stephen', 'Prysby, Mike', 'Cook, Pat', 'Fauerstein, Heather', 'Wurfel, Brad', 'Busch, Stephen', 'Rosenthal, Adam', 'Ptaszenski, Rachel', 'Feuerstein, Heather', 'Wurfel, Brad', 'Wurfel, Brad', 'Feuerstein, Heather', 'Wurfel, Brad', 'Feuerstein, Heather', 'Smith, Liane', 'Wurfel, Brad', 'Feuerstein, Heather', 'Wurfel, Brad', 'Busch, Stephen', 'Smith, Liane', 'Benzie, Richard', 'Prysby, Mike', 'Feuerstein, Heather', 'Wurfel, Brad', 'Smith, Llane', 'Busch, Stephen', 'Tommasulo, Karen', 'Sygo, Jim', 'Busch, Stephen', 'Tommasulo, Karen', 'Wurfel, Brad', 'Sygo, Jim', 'Wurfel, Brad', 'Sygo, Jim', 'Wurfel, Brad', 'Tommasulo, Karen', 'Krisztian, George', 'Smith, Liane', 'Cook, Pat', 'Busch, Stephen', 'Smith, Liane', 'Smith, Liane', 'Smith, Liane', 'Wurfel, Brad', 'Krisztian, George', 'Smith, Liane', 'Rosenthal, Adam', 'Prysby, Mike', 'Smith, Liane', 'Busch, Stephen', 'Rosenthal, Adam', 'Prysby, Mike', 'Wurfel, Sara', 'Murray, David', 'Rosenthal, Adam', 'Shekter, Jean', 'Rosenthal, Adam', 'Shekter, Jean', 'Prysby, Mike', 'Busch, Stephen', 'Smith, Liane', 'Benzie, Richard', 'Philip, Kris', 'Dykema, Linda', 'Wurfel, Brad', 'Pallone, Maggie', 'Wurfel, Sara', 'Wyant, Dan', 'Wurfel, Brad', 'Eisner, Jennifer', 'Murray, David', 'Brown, Jessica', 'Wurfel, Brad', 'Wurfel, Sara', 'Murray, David', 'Brown, Jessica', 'Buhs, Caleb', 'Murray, David', 'Wurfel, Brad', 'Murray, David', 'Wurfel, Sara', 'Behen, David', 'Davenport, Rodney', 'Wurfel, Brad', 'Wurfel, Sara', 'Murray, David', 'Wurfel, Sara', 'Wurfel, Sara', 'Kaffer, Nancy', 'Wurfel, Brad', 'Wurfel, Sara', 'Wurfel, Brad', 'Wurfel, Sara', 'Wurfel, Sara', 'Waurfel, Brad', 'Wurfel, Sara', 'Wurfel, Brad', 'Wurfel, Sara', 'Wurfel, Brad', 'Stanton, Terry', 'Wurfel, Sara', 'Kaffer, Nancy', 'Livengood, Chad', 'Wurfel, Brad', 'Rivard, Mitchell', 'Wurfel, Brad', 'Wurfel, Sara', 'Murray, David', 'Wurfel, Brad', 'Wurfel, Sara', 'Wyant, Dan', 'Thelen, Mary', 'Pallone, Maggie', 'Busch, Stephen', 'Wurfel, Brad', 'Smith, Liane', 'Busch, Stephen', 'Benzie, Richard', 'Busch, Stephen', 'Benzie, Richard', 'Pallone, Maggie', 'Busch, Stephen', 'Pallone, Maggie', 'Smith, Liane', 'Busch, Stephen', 'Pallone, Maggie', 'Devereaux, Tracy', 'Devereaux, Tracy', 'Pallone, Maggie', 'Fonger, Ronald', 'Moran, Susan', 'Miller, Corinne', 'Travis, Rashmi', 'Anderson, Paula', 'Miller, Mark', 'Smith, Liane', 'Busch, Stephen', 'Anderson, Paula', 'Miller, Corinne', 'Travis, Rashmi', 'Moran, Susan', 'Grijalva, Nancy', 'Wurfel, Brad', 'Waurfel, Brad', 'Busch, Stephen', 'Wurfel, Brad', 'Smith, Liane', 'Benzie, Richard', 'Smith, Liane', 'Busch, Stephen', 'Benzie, Richard', 'Wurfel, Brad', 'Smith, Liane', 'Benzie, Richard', 'Wurfel, Brad', 'Wurfel, Brad', 'Smith, Liane', 'Benzie, Richard', 'Smith, Liane', 'Busch, Stephen', 'Benzie, Richard', 'Wurfel, Brad', 'Wurfel, Brad', 'Wurfel, Brad', 'Wurfel, Brad', 'Wurfel, Brad', 'Wurfel, Brad', 'Wurfel, Brad', 'Wurfel, Brad', 'Wurfel, Brad', 'Saxton, Thomas', 'Muchmore, Dennis', 'Muchmore, Dennis', 'Wurfel, Brad', 'Wurfel, Brad', 'Wurfel, Brad', 'Wurfel, Brad', 'Wurfel, Brad', 'Wurfel, Brad', 'Wurfel, Brad', 'Fonger, Ronald', 'Howes, Sarah', 'Pallone, Maggie', 'Wurfel, Brad', 'Wurfel, Brad', 'Wurfel, Brad', 'Wurfel, Brad', 'Hollins, Harvey', 'Hollins, Harvey', 'Muchmore, Dennis', 'Wurfel, Brad', 'Howes, Sarah', 'Pallone, Maggie', 'Wurfel, Brad', 'Wurfel, Brad', 'Brown, Jessica', 'Wurfel, Brad', 'Brown, Jessica', 'Wurfel, Sara', 'Murray, David', 'Wurfel, Brad', 'Brown, Jessica', 'Wurfel, Sara', 'Murray, David', 'Howes, Sarah', 'Pallone, Maggie', 'Wurfel, Brad', 'Murray, David', 'Wurfel, Brad', 'Stanton, Terry', 'Wurfel, Sara', 'Agen, Jarrod', 'Hollins, Harvey', 'Murray, David', 'Wurfel, Sara', 'Sygo, Jim', 'Wyant, Dan', 'Buhs, Caleb', 'Wurfel, Sara', 'Murray, David', 'Wurfel, Brad', 'Buhs, Caleb', 'Murray, David', 'Wurfel, Brad', 'Murray, David', 'Wurfel, Sara', 'Behen, David', 'Davenport, Rodney', 'Murray, David', 'Wurfel, Sara', 'Busch, Stephen', 'Krisztian, George', 'Wurfel, Brad', 'Tommasulo, Karen', 'Kaffer, Nancy', 'Wurfel, Brad', 'Smith, Liane', 'Busch, Stephen', 'Prysby, Mike', 'Murray, David', 'Wurfel, Sara', 'Wurfel, Brad', 'Wurfel, Sara', 'Murray, David', 'Wurfel, Brad', 'Wurfel, Sara', 'Murray, David', 'Muchmore, Dennis', 'Wyant, Dan', 'Eisner, Jennifer', 'Wurfel, Brad', 'Wyant, Dan', 'Busch, Stephen', 'Prysby, Mike', 'Wurfel, Brad', 'Saxton, Thomas', 'Muchmore, Dennis', 'Wyant, Dan', 'Wurfel, Sara', 'Murray, David', 'Brown, Jessica', 'Wurfel, Brad', 'Wyant, Dan', 'Murray, David', 'Wurfel, Sara', 'Lasher, Geralyn', 'Tommasulo, Karen', 'Krisztian, George', 'Wurfel, Sara', 'Lasher, Geralyn', 'Wurfel, Brad', 'Wyant, Dan', 'Muchmore, Dennis', 'Murray, David', 'Agen, Jarrod', 'Hollins, Harvey', 'Wurfel, Brad', 'Tommasulo, Karen', 'Wurfel, Sara', 'Murray, David', 'Wurfel, Sara', 'Wurfel, Brad', 'Wurfel, Sara', 'Tommasulo, Karen', 'Wurfel, Brad', 'Wurfel, Sara', 'Kaffer, Nancy', 'Kaffer, Nancy', 'Wurfel, Sara', 'Tommasulo, Karen', 'Wurfel, Sara', 'Muchmore, Dennis', 'Pallone, Maggie', 'Wurfel, Brad', 'Wurfel, Sara', 'Busch, Stephen', 'Rosenthal, Adam', 'Ptaszenski, Rachel', 'Feuerstein, Heather', 'Wurfel, Brad', 'Wurfel, Brad', 'Muchmore, Dennis', 'Feuerstein, Heather', 'Wurfel, Brad', 'Muchmore, Dennis', 'Saxton, Thomas', 'Workman, Wayne', 'Hollins, Harvey', 'Saxton, Thomas', 'Workman, Wayne', 'Hollins, Harvey', 'Wurfel, Sara', 'Wurfel, Brad', 'Murray, David', 'Wurfel, Sara', 'Wurfel, Brad', 'Fields, Maggie', 'Murray, David', 'Wurfel, Sara', 'Pallone, Maggie', 'Wurfel, Brad', 'Murray, David', 'Wurfel, Sara', 'Pallone, Maggie', 'Feuerstein, Heather', 'Hollins, Harvey', 'Muchmore, Dennis', 'Brown, Eric', 'Wurfel, Brad', 'Brown, Eric', 'Hollins, Harvey', 'Muchmore, Dennis', 'Wyant, Dan', 'Thelen, Mary', 'Howes, Sarah', 'Wurfel, Brad', 'Busch, Stephen', 'Pallone, Maggie', 'Wurfel, Brad', 'Wurfel, Brad', 'Wurfel, Sara', 'Murray, David', 'Wurfel, Sara', 'Wurfel, Brad', 'Murray, David', 'Wurfel, Sara', 'Murray, David', 'Wyant, Dan', 'Wurfel, Brad', 'Wurfel, Brad', 'Murray, David', 'Murray, David', 'Wurfel, Sara', 'Wurfel, Brad', 'Wurfel, Brad', 'Stanton, Terry', 'Sampson, Jeremy', 'Wurfel, Sara', 'Wurfel, Sara', 'Lasher, Geralyn', 'Wurfel, Brad', 'Wyant, Dan', 'Wurfel, Sara', 'Wyant, Dan', 'Wurfel, Brad', 'Wurfel, Brad', 'Waurfel, Brad', 'Waurfel, Brad', 'Wurfel, Brad', 'Wurfel, Brad', 'Wurfel, Brad', 'Wurfel, Brad', 'Murray, David', 'Wurfel, Brad', 'Wurfel, Brad', 'Macaluso, Nora', 'Waurfel, Brad', 'Waurfel, Brad', 'Wurfel, Sara', 'Muchmore, Dennis', 'Murray, David', 'Wurfel, Brad', 'Brown, Jessica', 'Kennedy, Jordan', 'Egan, Paul', 'Wurfel, Brad', 'Waurfel, Brad', 'Wurfel, Brad', 'Krisztian, George', 'Averill, James', 'Wurfel, Brad', 'Workman, Wayne', 'Khouri, Nick', 'Saxton, Thomas', 'Khouri, Nick', 'Saxton, Thomas', 'Workman, Wayne', 'Schafer, Suzanne', 'Byrne, Randall', 'Eisner, Jennifer', 'Wurfel, Brad', 'Khouri, Nick', 'Saxton, Thomas', 'Muchmore, Dennis', 'Workman, Wayne', 'Schafer, Suzanne', 'Byrne, Randall', 'Wurfel, Brad', 'Wurfel, Brad', 'Waurfel, Brad', 'Wurfel, Brad', 'Lasher, Geralyn', 'Wurfel, Brad', 'Sygo, Jim', 'Glasgow, Michael', 'Glasgow, Michael', 'Glasgow, Michael', 'Glasgow, Michael', 'Glasgow, Michael', 'Glasgow, Michael', 'Glasgow, Michael', 'Glasgow, Michael', 'Glasgow, Michael', 'Glasgow, Michael', 'Glasgow, Michael', 'Glasgow, Michael', 'Glasgow, Michael', 'Glasgow, Michael', 'Glasgow, Michael', 'Glasgow, Michael', 'Glasgow, Michael', 'Glasgow, Michael', 'Glasgow, Michael', 'Glasgow, Michael', 'Glasgow, Michael', 'Glasgow, Michael', 'Glasgow, Michael', 'Glasgow, Michael', 'Glasgow, Michael', 'Glasgow, Michael', 'Glasgow, Michael', 'Glasgow, Michael', 'Glasgow, Michael', 'Glasgow, Michael', 'Glasgow, Michael', 'Glasgow, Michael', 'Glasgow, Michael', 'Glasgow, Michael', 'Glasgow, Michael', 'Glasgow, Michael', 'Glasgow, Michael', 'Glasgow, Michael', 'Glasgow, Michael', 'Glasgow, Michael', 'Glasgow, Michael', 'Glasgow, Michael', 'Glasgow, Michael', 'Glasgow, Michael', 'Glasgow, Michael', 'Glasgow, Michael', 'Glasgow, Michael', 'Glasgow, Michael', 'Poy, Thomas', 'Deltoral, Miguel', 'Busch, Stephen', 'Rosenthal, Adam', 'Deltoral, Miguel', 'Poy, Thomas', 'Busch, Stephen', 'Rosenthal, Adam', 'Pallone, Maggie', 'Brown, Eric', 'Muchmore, Dennis', 'Murray, David', 'Smith, Liane', 'Devereaux, Tracy', 'Sygo, Jim', 'Lachance, Amy', 'Busch, Stephen', 'Lachance, Amy', 'Busch, Stephen', 'Lachance, Amy', 'Busch, Stephen', 'Lachance, Amy', 'Busch, Stephen', 'Smith, Liane', 'Lachance, Amy', 'Busch, Stephen', 'Smith, Liane', 'Lachance, Amy', 'Busch, Stephen', 'Prysby, Mike', 'Skinker, Bethel', 'Joseph, Mark', 'Wyant, Dan', 'Busch, Stephen', 'Smith, Liane', 'Pallone, Maggie', 'Brown, Melanie', 'Murray, David', 'Brown, Melanie', 'Murray, David', 'Busch, Stephen', 'Smith, Liane', 'Wyant, Dan', 'Pallone, Maggie', 'Smith, Liane', 'Wyant, Dan', 'Pallone, Maggie', 'Prysby, Mike', 'Joseph, Mark', 'Prysby, Mike', 'Benzie, Richard', 'Poy, Thomas', 'Bair, Rita', 'Damato, Nicholas', 'Shoven, Heather', 'Kuefler, Janet', 'Bair, Rita', 'Damato, Nicholas', 'Shoven, Heather', 'Kuefler, Janet', 'Murphy, Thomas', 'Porter, Andrea', 'Wyant, Dan', 'Tommasulo, Karen', 'Pallone, Maggie', 'Feuerstein, Heather', 'Poy, Thomas', 'Bair, Rita', 'Damato, Nicholas', 'Busch, Stephen', 'Cook, Pat', 'Poy, Thomas', 'Bair, Rita', 'Damato, Nicholas', 'Poy, Thomas', 'Balr, Rita', 'Damato, Nicholas', 'Muchmore, Dennis', 'Hollins, Harvey', 'Murray, David', 'Wurfel, Sara', 'Benzie, Richard', 'Benzie, Richard', 'Hyde, Tinka', 'Crooks, Jennifer', 'Deltoral, Miguel', 'Crooks, Jennifer', 'Shoven, Heather', 'Hyde, Tinka', 'Crooks, Jennifer', 'Shaler, Karen', 'Devereaux, Tracy', 'Monosmith, Carrie', 'Monosmith, Carrie', 'Henry, Timothy', 'Poy, Thomas', 'Bair, Rita', 'Damato, Nicholas', 'Muchmore, Dennls', 'Hollins, Harvey', 'Murray, David', 'Wurfel, Sara', 'Rennaker, Joanne', 'Rosenthal, Adam', 'Cook, Pat', 'Rennaker, Joanne', 'Rosenthal, Adam', 'Cook, Pat', 'Rennaker, Joanne', 'Rosenthal, Adam', 'Cook, Pat', 'Busch, Stephen', 'Rosenthal, Adam', 'Rosenthal, Adam', 'Busch, Stephen', 'Rosenthal, Adam', 'Rosenthal, Adam', 'Prysby, Mike', 'Busch, Stephen', 'Rosenthal, Adam', 'Smith, Liane', 'Busch, Stephen', 'Rosenthal, Adam', 'Smith, Liane', 'Pallone, Maggle', 'Wyant, Dan', 'Deltoral, Miguel', 'Smith, Liane', 'Benzie, Richard', 'Philip, Kris', 'Deltoral, Miguei', 'Smith, Liane', 'Wyant, Dan', 'Prysby, Mike', 'Muchmore, Dennls', 'Hollins, Harvey', 'Wurfel, Brad', 'Pallone, Maggie', 'Busch, Stephen', 'Benzle, Richard', 'Cook, Pat', 'Benzle, Richard', 'Busch, Stephen', 'Prysby, Mike', 'Benzle, Richard', 'Benzie, Richard', 'Olszewski, Rosemarie', 'Rennaker, Joanne', 'Poy, Thomas', 'Bair, Rita', 'Benzie, Richard', 'Busch, Stephen', 'Prysby, Mike', 'Poy, Thomas', 'Sygo, Jim', 'Wyant, Dan', 'Thelen, Mary', 'Shaler, Karen', 'Sygo, Jim', 'Wyant, Dan', 'Thelen, Mary', 'Shaler, Karen', 'Sygo, Jim', 'Wurfel, Brad', 'Krisztian, George', 'Devereaux, Tracy', 'Busch, Stephen', 'Philip, Kris', 'Cook, Pat', 'Shekter, Jean', 'Lasher, Geralyn', 'Minicuci, Angela', 'Lasher, Geralyn', 'Minicuci, Angela', 'Christensen, Chris', 'Stanaway, Deb', 'Pallone, Maggie', 'Wisely, John', 'Wisely, John', 'Wisely, John', 'Murray, David', 'Murray, David', 'Beckmann, Ronna', 'Deamer, Eileen', 'Wurfel, Brad', 'Sygo, Jim', 'Smith, Liane', 'Benzie, Richard', 'Wurfel, Brad', 'Sygo, Jim', 'Wurfel, Brad', 'Sygo, Jim', 'Devereaux, Tracy', 'Wurfel, Brad', 'Sygo, Jim', 'Devereaux, Tracy', 'Smith, Liane', 'Benzie, Richard', 'Wurfel, Brad', 'Sygo, Jim', 'Busch, Stephen', 'Smith, Liane', 'Benzie, Richard', 'Wurfel, Brad', 'Sygo, Jim', 'Smith, Liane', 'Benzie, Richard', 'Wurfel, Brad', 'Sygo, Jim', 'Anderson, Paula', 'Priem, Wesley', 'Dykema, Linda', 'Peeler, Nancy', 'Bouters, Janese', 'Barr, Jacqui', 'Moran, Susan', 'Priem, Wesley', 'Dykema, Linda', 'Bouters, Janese', 'Barr, Jacqui', 'Busch, Stephen', 'Khouri, Nick', 'Workman, Wayne', 'Stanton, Terry', 'Khouri, Nick', 'Workman, Wayne', 'Stanton, Terry', 'Wurfel, Brad', 'Smith, Liane', 'Benzie, Richard', 'Sygo, Jim', 'Murray, David', 'Wurfel, Sara', 'Brown, Jessica', 'Murray, David', 'Wurfel, Sara', 'Brown, Jessica', 'Devereaux, Tracy', 'Busch, Stephen', 'Benzie, Richard', 'Sygo, Jim', 'Shaler, Karen', 'Prysby, Mike', 'Benzie, Richard', 'Smith, Liane', 'Rosenthal, Adam', 'Thelen, Mary', 'Smith, Jennifer', 'Wheaton, Bob', 'Smith, Jennifer', 'Wheaton, Bob', 'Prysby, Mike', 'Benzie, Richard', 'Smith, Liane', 'Rosenthal, Adam', 'Thelen, Mary', 'Wyant, Dan', 'Wurfel, Brad', 'Thelen, Mary', 'Shaler, Karen', 'Chrlstensen, Chris', 'Stanaway, Deb', 'Murray, David', 'Wurfel, Sara', 'Tanner, Kristi', 'Wyant, Dan', 'Pallone, Maggie', 'Wurfel, Brad', 'Wurfel, Sara', 'Murray, David', 'Agen, Jarrod', 'Tommasulo, Karen', 'Tommasulo, Karen', 'Thelen, Mary', 'Smith, Liane', 'Wyant, Dan', 'Pallone, Maggie', 'Smith, Liane', 'Wyant, Dan', 'Pallone, Maggie', 'Prysby, Mike', 'Benzie, Richard', 'Muchmore, Dennis', 'Agen, Jarrod', 'Tommasulo, Karen', 'Thelen, Mary', 'Wurfel, Sara', 'Tommasulo, Karen', 'Wurfel, Brad', 'Shaw, Eric', 'Wurfel, Brad', 'Shaw, Eric', 'Stanton, Terry', 'Smith, Jennifer', 'Sygo, Jim', 'Benzie, Richard', 'Cook, Pat', 'Prysby, Mike', 'Rosenthal, Adam', 'Lasher, Geralyn', 'Eisner, Jennifer', 'Lasher, Geralyn', 'Eisner, Jennifer', 'Wurfel, Sara', 'Wisely, John', 'Wurfel, Sara', 'Wisely, John', 'Khouri, Nick', 'Workman, Wayne', 'Stanton, Terry', 'Wurfel, Brad', 'Smith, Liane', 'Sygo, Jim', 'Benzie, Richard', 'Wyant, Dan', 'Smith, Liane', 'Wyant, Dan', 'Prysby, Mike', 'Muchmore, Dennis', 'Hollins, Harvey', 'Clement, Elizabeth', 'Wyant, Dan', 'Clement, Elizabeth', 'Muchmore, Dennis', 'Hollins, Harvey', 'Brown, Eric', 'Brown, Jessica', 'Benzie, Richard', 'Busch, Stephen', 'Brown, Eric', 'Brown, Jessica', 'Muchmore, Dennis', 'Feuerstein, Heather', 'Muchmore, Dennis', 'Hollins, Harvey', 'Brown, Jessica', 'Wurfel, Sara', 'Murray, David', 'Brown, Jessica', 'Wurfel, Sara', 'Murray, David', 'Beckmann, Ronna', 'Deamer, Eileen', 'Murray, David', 'Murray, David', 'Murray, David', 'Khouri, Nick', 'Workman, Wayne', 'Stanton, Terry', 'Wurfel, Brad', 'Lasher, Geralyn', 'Eisner, Jennifer', 'Quealy, Erica', 'Murray, David', 'Rosenthal, Adam', 'Busch, Stephen', 'Wurfel, Brad', 'Stuever, Beth', 'Wilson, Jamie', 'Sygo, Jim', 'Krisztian, George', 'Dykema, Linda', 'Sygo, Jim', 'Krisztian, George', 'Dykema, Linda', 'Ridley, Nancy', 'Glasgow, Michael', 'Glasgow, Michael', 'Glasgow, Michael', 'Glasgow, Michael', 'Glasgow, Michael', 'Glasgow, Michael', 'Glasgow, Michael', 'Glasgow, Michael', 'Glasgow, Michael', 'Glasgow, Michael', 'Glasgow, Michael', 'Glasgow, Michael', 'Glasgow, Michael', 'Glasgow, Michael', 'Glasgow, Michael', 'Glasgow, Michael', 'Glasgow, Michael', 'Glasgow, Michael', 'Glasgow, Michael', 'Glasgow, Michael']\n",
      "\n",
      "all 115 unique reciever names, no duplicates:\n",
      "\n",
      "['Miller, Mark', 'Stanton, Terry', 'Muchmore, Dennls', 'Murray, David', 'Peeler, Nancy', 'Benzle, Richard', 'Olszewski, Rosemarie', 'Bair, Rita', 'Christensen, Chris', 'Workman, Wayne', 'Conradson, Scott', 'Pallone, Maggle', 'Brown, Melanie', 'Deltoral, Miguel', 'Bloemker, Jon', 'Wilson, Jamie', 'Rosenthal, Adam', 'Krisztian, George', 'Lasher, Geralyn', 'Byrne, Randall', 'Schock, Michael', 'Shaler, Karen', 'Poy, Thomas', 'Wurfel, Brad', 'Grijalva, Nancy', 'Devereaux, Tracy', 'Thelen, Mary', 'Minicuci, Angela', 'Clement, Elizabeth', 'Feuerstein, Heather', 'Murphy, Thomas', 'Anderson, Paula', 'Crooks, Jennifer', 'Busch, Stephen', 'Hollins, Harvey', 'Tanner, Kristi', 'Burneson, Eric', 'Khouri, Nick', 'Fortin, Denise', 'Lachance, Amy', 'Rennaker, Joanne', 'Sampson, Jeremy', 'Hyde, Tinka', 'Priem, Wesley', 'Henry, Timothy', 'Monosmith, Carrie', 'Sygo, Jim', 'Ridley, Nancy', 'Averill, James', 'Macaluso, Nora', 'Dykema, Linda', 'Stanaway, Deb', 'Balr, Rita', 'Schafer, Suzanne', 'Fauerstein, Heather', 'Rivard, Mitchell', 'Glasgow, Michael', 'Philip, Kris', 'Eisner, Jennifer', 'Ostrander, Debbie', 'Cook, Pat', 'Smith, Llane', 'Skinker, Bethel', 'Wisely, John', 'Fonger, Ronald', 'Beckmann, Ronna', 'Smith, Jennifer', 'Shaw, Eric', 'Kuefler, Janet', 'Benzie, Richard', 'Kaffer, Nancy', 'Sygo, Jlm', 'Deltoral, Miguei', 'Joseph, Mark', 'Saxton, Thomas', 'Miller, Corinne', 'Wyant, Dan', 'Deamer, Eileen', 'Howell, Sherri', 'Shoven, Heather', 'Tommasulo, Karen', 'Brown, Eric', 'Waurfel, Brad', 'Muchmore, Dennis', 'Shekter, Jean', 'Egan, Paul', 'Damato, Nicholas', 'Buhs, Caleb', 'Livengood, Chad', 'Brown, Jessica', 'Agen, Jarrod', 'Behen, David', 'Prysby, Mike', 'Barr, Jacqui', 'Rosenthsl, Adam', 'Porter, Andrea', 'Bouters, Janese', 'DeBruyn, Dana', 'Stuever, Beth', 'Kennedy, Jordan', 'Moran, Susan', 'Quealy, Erica', 'Chrlstensen, Chris', 'Peterman, Tammy', 'Smith, Liane', 'Travis, Rashmi', 'Fields, Maggie', 'Wheaton, Bob', 'Davenport, Rodney', 'Pallone, Maggie', 'Ptaszenski, Rachel', 'Lytle, Darren', 'Brewster, Simone', 'Wurfel, Sara', 'Howes, Sarah']\n"
     ]
    }
   ],
   "source": [
    "ultimatelist_rec = []\n",
    "ultimatelist_rec.clear()\n",
    "\n",
    "ultimatelist_rec.extend(ultimatelist_to)\n",
    "ultimatelist_rec.extend(ultimatelist_Cc)\n",
    "\n",
    "print(\"all \" + str(len(ultimatelist_rec)) + \" reciever names, with duplicates:\" + \"\\n\")\n",
    "print(ultimatelist_rec)\n",
    "\n",
    "ultimatelist_rec_d = []\n",
    "ultimatelist_rec_d.clear()\n",
    "\n",
    "ultimatelist_rec_d = list(dict.fromkeys(ultimatelist_rec))\n",
    "\n",
    "print(\"\")\n",
    "print(\"all \" + str(len(ultimatelist_rec_d)) + \" unique reciever names, no duplicates:\" + \"\\n\")\n",
    "print(ultimatelist_rec_d)"
   ]
  }
 ],
 "metadata": {
  "kernelspec": {
   "display_name": "Python 3",
   "language": "python",
   "name": "python3"
  },
  "language_info": {
   "codemirror_mode": {
    "name": "ipython",
    "version": 3
   },
   "file_extension": ".py",
   "mimetype": "text/x-python",
   "name": "python",
   "nbconvert_exporter": "python",
   "pygments_lexer": "ipython3",
   "version": "3.5.3"
  }
 },
 "nbformat": 4,
 "nbformat_minor": 4
}
