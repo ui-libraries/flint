{
 "cells": [
  {
   "cell_type": "code",
   "execution_count": 1,
   "metadata": {},
   "outputs": [
    {
     "data": {
      "text/plain": [
       "str"
      ]
     },
     "execution_count": 1,
     "metadata": {},
     "output_type": "execute_result"
    }
   ],
   "source": [
    "import re\n",
    "f = open(\"deq14sample.txt\", \"r+\")\n",
    "deqsstr = f.read()\n",
    "type(deqsstr)"
   ]
  },
  {
   "cell_type": "code",
   "execution_count": 2,
   "metadata": {},
   "outputs": [],
   "source": [
    "deqslist = re.split(\"\\n\", deqsstr)"
   ]
  },
  {
   "cell_type": "code",
   "execution_count": 6,
   "metadata": {},
   "outputs": [],
   "source": [
    "from urllib import request\n",
    "\n",
    "s3_root = \"https://flint-text.s3.amazonaws.com/\"\n",
    "for deq in deqslist:       \n",
    "    url = s3_root + deq\n",
    "    response = request.urlopen(url)\n",
    "    raw_text = response.read().decode('utf8')\n",
    "    text += raw_text #you have to backspace the +, run it, then retype the + for this line to work"
   ]
  },
  {
   "cell_type": "code",
   "execution_count": 7,
   "metadata": {
    "scrolled": true
   },
   "outputs": [
    {
     "name": "stdout",
     "output_type": "stream",
     "text": [
      "Lasher, Geralyn (DHHS)\n",
      "Wurfel, Brad (DEQ)\n",
      "Lasher, Geralyn (DHHS)\n",
      "Holton, Jennifer (MDARD)\n",
      "Marc Edwards <edwardsm@vt.edu>\n",
      "Marc Edwards [mailto:edwardsm@vi.edu]\n",
      "Workman, Wayne (TREASURY)\n",
      "Byrne, Randall (Treasury)\n",
      "Natasha Henderson [mailto:nhenderson@®citvofflint.com]\n",
      "\"Sean Kammer\" <skammer@cityofflint.com>\n",
      "Murray, David (GOV)\n",
      "Muchmore, Dennis (GOV)\n",
      "Workman, Wayne (TREASURY)\n",
      "Byrne, Randall (Treasury)\n",
      "Natasha Henderson [mazilto:nhenderson®cityofflint.com]\n",
      "\"Sean Kammer\" <skammer@cityofflint.com>\n",
      "Sameen Amin <sameen.amin@aljazeera.net>\n",
      "Holton, Jennifer (MDARD)\n",
      "\"Stuever, Beth\" <stuever@anr.msu.edu>\n",
      "Ockert, Katherine\n",
      "Holton, Jennifer (MDARD)\n",
      "\"Stuever, Beth\" <stugver@anr.msu.egdu>\n",
      "Bryan Hill <orificeflow@yahoo.com>\n",
      "Egan, Paul [mailto:pegan@freepress.com]\n",
      "Minicuci, Angela (DHHS)\n",
      "Wurfel, Brad (DEQ)\n",
      "Saxton, Thomas (Treasury)\n",
      "Danielle Emerson <demerson@gongwer.com>\n",
      "Angela Wittrock [mailto: AWittro BN\n",
      "Lindsey Smith <Imsmi@umich.edu>\n",
      "Angela Wittrock <AWittrock{@senate michigan. gov>\n",
      "Macaluso, Nora <nmacaluso@bna.com>\n",
      "Wurfel, Brad (DEQ) [mzilto:WurfelB@michigan.gov]\n",
      "Angela Wittrock [mailto:AWitirock@senate.michigan.gov]\n",
      "Danielle Emerson [mailto:demerson@®gongwer.com]\n",
      "Danielle Emerson <demerson@gongwer.com>\n",
      "Wurfel, Brad (DEQ) [maiito: WurfalB@michi\n",
      "Danielle Emerson [mziltg:demerson@gongwer.com\n",
      "Holton, Jennifer (MDARD)\n",
      "Holton, Jennifer (MDARD)\n",
      "Holton, Jennifer (MDARD)\n",
      "Gary Wilson [garygIx5@gmail.com]\n",
      "GOV Newsroom <govnewsroom@govsubscriptions.michigan.gov>\n",
      "Wurfel, Brad (DEQ)\n",
      "\"Krisztian, George (DEQ)\" <krisztiang@michigan.gov>\n",
      "Wurfel, Brad (DEQ)\n",
      "\"Krisztian, George (DEQ)\" <krisztiang@michigan.gov>\n",
      "Wurfel, Sara (GOV)\n",
      "Wurfel, Sara (GOV)\n",
      "Ronald Fonger [mailto:RECGNGERI @ miive.com\n",
      "Wurfel, Sara (GOV)\n",
      "Wurfel, Brad (DEQ)\n",
      "Jacob Kanclerz <jacob@mirsnews.com>\n",
      "Wurfel, Sara (GOV)\n",
      "Wurfel, Brad (DEQ)\n",
      "Wurfel, Sara (GOV)\n",
      "Ronald Fonger [mailto:RFQNGERI@milve.com]\n",
      "Wurfel, Brad (DEQ)\n",
      "Wurfel, Brad (DEQ)\n",
      "Ronald Fonger [maillo:RFONGER]1 @mlive.com]\n",
      "Wurfel, Brad (DEQ) [mailio: WurfelB@michigan.qaov]\n",
      "Ronald Fonger [mailio:RFONGER1 &mlive.com]\n",
      "Waurfel, Brad (DEQ)\n",
      "Pallone, Maggie (DEQ)\n",
      "\"Fortin, Denise\"” <bortin.Denise@epa.zov>\n",
      "Waurfel, Brad (DEQ)\n",
      "Wurfel, Brad (DEQ)\n",
      "Feuerstein, Heather (DEQ)\n",
      "Waurfel, Brad (DEQ)\n",
      "Wurfel, Brad (DEQ)\n",
      "\"Busch, Stephen (DEQ)\" <BUSCHS@michigan.gov>\n",
      "Wurfel, Brad (DEQ)\n",
      "\"Prysby, Mike (DEQ)\" <PRYSBYM@michigan.govw>\n",
      "Wurfel, Brad (DEQ)\n",
      "Muchmore, Dennis (GOV)\n",
      "Wurfel, Brad (DEQ)\n",
      "Muchmore, Dennis (GOV)\n",
      "do-not-reply@detroitnews.com [mailto:do-not-reply@detroitnews.com\n",
      "Wurfel, Sara (GOV)\n",
      "Jason Lorenz [mailto:jlorenz@cityoffiint.com]\n",
      "Wurfel, Brad (DEQ)\n",
      "Busch, Stephen (DEQ)\n",
      "Busch, Stephen (DEQ)\n",
      "Curt Guyette <cguvette@aciumich.org>\n",
      "Rosenthal, Adam (DEQ)\n",
      "Marc Edwards [mail m@\n",
      "Marc Edwards [mailio:edwardsm@vt.ed:\n",
      "Wurfel, Brad (DEQ)\n",
      "Busch, Stephen (DEQ)\n",
      "Wurfel, Brad (DEQ)\n",
      "Saxton, Thomas (Treasury)\n",
      "Wurfel, Brad (DEQ)\n"
     ]
    }
   ],
   "source": [
    "froms = re.findall(\"From:.*\", text)\n",
    "fromstr = '\\n'.join(froms)\n",
    "fromstr_orgs = re.sub(\"From: \",\"\", fromstr) #with (ORG)\n",
    "fromstr_noorgs = re.sub(\"[(].*[)]\",\"\", fromstr) #without (ORG)\n",
    "print(fromstr_orgs)"
   ]
  },
  {
   "cell_type": "code",
   "execution_count": 8,
   "metadata": {
    "scrolled": false
   },
   "outputs": [
    {
     "name": "stdout",
     "output_type": "stream",
     "text": [
      "Wurfel, Brad (DEQ) <WurfelB@michigan gov> \n",
      "Lindsey Smith <lmsmif@umich.edu> \n",
      "Macaluso, Nora <nmacaluso@bna.com> \n",
      "Gary Wilson <garvgixS@gmail com> \n",
      "Wurfel, Brad (DEQ) <WurfeiB@michigan.gov> \n"
     ]
    }
   ],
   "source": [
    "ons = re.findall(\"On.*wrote\", text)\n",
    "onstr = '\\n'.join(ons)\n",
    "#print(onstr) #see full line\n",
    "onstr1 = re.sub(\"On\\s.*at\\s[0-9]*:[0-9][0-9]\\s[AP]M,\\s\",\"\", onstr)\n",
    "onstr2 = re.sub(\"wrote\",\"\",onstr1)\n",
    "print(onstr2) #see only name component"
   ]
  },
  {
   "cell_type": "code",
   "execution_count": 9,
   "metadata": {},
   "outputs": [
    {
     "data": {
      "text/plain": [
       "97"
      ]
     },
     "execution_count": 9,
     "metadata": {},
     "output_type": "execute_result"
    }
   ],
   "source": [
    "len(froms) + len(ons) #total number of names extracted"
   ]
  },
  {
   "cell_type": "code",
   "execution_count": 10,
   "metadata": {},
   "outputs": [
    {
     "data": {
      "text/plain": [
       "97"
      ]
     },
     "execution_count": 10,
     "metadata": {},
     "output_type": "execute_result"
    }
   ],
   "source": [
    "roughlist = re.split('\\n', fromstr_orgs) #splits from str into list\n",
    "onsenders = re.split('\\s\\n',onstr2) #splits on... str into list\n",
    "roughlist.extend(onsenders) #combines the two lists\n",
    "roughstr = '\\n'.join(roughlist) #makes list into string\n",
    "#print(roughstr)\n",
    "len(roughlist)"
   ]
  },
  {
   "cell_type": "code",
   "execution_count": 11,
   "metadata": {},
   "outputs": [
    {
     "data": {
      "text/plain": [
       "97"
      ]
     },
     "execution_count": 11,
     "metadata": {},
     "output_type": "execute_result"
    }
   ],
   "source": [
    "allthenames = re.split('\\n',roughstr)\n",
    "len(allthenames) #this is how many total names"
   ]
  },
  {
   "cell_type": "code",
   "execution_count": 12,
   "metadata": {},
   "outputs": [],
   "source": [
    "ultimatelist = [] #creates final list"
   ]
  },
  {
   "cell_type": "code",
   "execution_count": 13,
   "metadata": {
    "scrolled": true
   },
   "outputs": [
    {
     "name": "stdout",
     "output_type": "stream",
     "text": [
      "['Lasher, Geralyn', 'Wurfel, Brad', 'Lasher, Geralyn', 'Holton, Jennifer', 'Workman, Wayne', 'Byrne, Randall', 'Murray, David', 'Muchmore, Dennis', 'Workman, Wayne', 'Byrne, Randall', 'Holton, Jennifer', 'Stuever, Beth', 'Ockert, Katherine', 'Holton, Jennifer', 'Stuever, Beth', 'Egan, Paul', 'Minicuci, Angela', 'Wurfel, Brad', 'Saxton, Thomas', 'Macaluso, Nora', 'Wurfel, Brad', 'Wurfel, Brad', 'Holton, Jennifer', 'Holton, Jennifer', 'Holton, Jennifer', 'Wurfel, Brad', 'Krisztian, George', 'Wurfel, Brad', 'Krisztian, George', 'Wurfel, Sara', 'Wurfel, Sara', 'Wurfel, Sara', 'Wurfel, Brad', 'Wurfel, Sara', 'Wurfel, Brad', 'Wurfel, Sara', 'Wurfel, Brad', 'Wurfel, Brad', 'Wurfel, Brad', 'Waurfel, Brad', 'Pallone, Maggie', 'Fortin, Denise', 'Waurfel, Brad', 'Wurfel, Brad', 'Feuerstein, Heather', 'Waurfel, Brad', 'Wurfel, Brad', 'Busch, Stephen', 'Wurfel, Brad', 'Prysby, Mike', 'Wurfel, Brad', 'Muchmore, Dennis', 'Wurfel, Brad', 'Muchmore, Dennis', 'Wurfel, Sara', 'Wurfel, Brad', 'Busch, Stephen', 'Busch, Stephen', 'Rosenthal, Adam', 'Wurfel, Brad', 'Busch, Stephen', 'Wurfel, Brad', 'Saxton, Thomas', 'Wurfel, Brad', 'Wurfel, Brad', 'Macaluso, Nora', 'Wurfel, Brad']\n"
     ]
    },
    {
     "data": {
      "text/plain": [
       "67"
      ]
     },
     "execution_count": 13,
     "metadata": {},
     "output_type": "execute_result"
    }
   ],
   "source": [
    "# extracts sender lines formatted in [Last, First] \n",
    "lastcommafirstdude = re.findall(\"[A-Z][a-z]+,\\s[A-Z][a-z][A-Za-z]+\",roughstr)\n",
    "ultimatelist.extend(lastcommafirstdude) #puts the names already correctly formatted into ultimate list\n",
    "print(lastcommafirstdude)\n",
    "len(lastcommafirstdude) #number of names already in LAST, FIRST format"
   ]
  },
  {
   "cell_type": "code",
   "execution_count": 14,
   "metadata": {},
   "outputs": [],
   "source": [
    "# goal: turn sender names formatted [First Last] into [Last, First]"
   ]
  },
  {
   "cell_type": "code",
   "execution_count": 15,
   "metadata": {
    "scrolled": true
   },
   "outputs": [
    {
     "name": "stdout",
     "output_type": "stream",
     "text": [
      "['Marc Edwards ', 'Marc Edwards ', 'Natasha Henderson ', 'Natasha Henderson ', 'Sameen Amin ', 'Bryan Hill ', 'Danielle Emerson ', 'Angela Wittrock ', 'Lindsey Smith ', 'Angela Wittrock ', 'Angela Wittrock ', 'Danielle Emerson ', 'Danielle Emerson ', 'Danielle Emerson ', 'Gary Wilson ', 'Ronald Fonger ', 'Jacob Kanclerz ', 'Ronald Fonger ', 'Ronald Fonger ', 'Ronald Fonger ', 'Jason Lorenz ', 'Curt Guyette ', 'Marc Edwards ', 'Marc Edwards ', 'Lindsey Smith ', 'Gary Wilson ']\n"
     ]
    },
    {
     "data": {
      "text/plain": [
       "26"
      ]
     },
     "execution_count": 15,
     "metadata": {},
     "output_type": "execute_result"
    }
   ],
   "source": [
    "# extracts sender lines formatted in [First Last] \n",
    "firstlast = re.findall(\"[A-Z][a-z]+\\s[A-Z][a-z][A-Za-z]+\\s\",roughstr)\n",
    "print(firstlast)\n",
    "len(firstlast)"
   ]
  },
  {
   "cell_type": "code",
   "execution_count": 16,
   "metadata": {},
   "outputs": [
    {
     "name": "stdout",
     "output_type": "stream",
     "text": [
      "rats! you're missing 4 names.\n"
     ]
    }
   ],
   "source": [
    "msg = len(allthenames) - (len(lastcommafirstdude) + len(firstlast)) # number of names not accounted for\n",
    "if msg > 0:\n",
    "    print (\"rats! you're missing \" + str(msg) + ' names.')\n",
    "if msg == 0:\n",
    "    print (\"Success! all names are accounted for.\")"
   ]
  },
  {
   "cell_type": "code",
   "execution_count": 17,
   "metadata": {
    "scrolled": true
   },
   "outputs": [
    {
     "name": "stdout",
     "output_type": "stream",
     "text": [
      "Marc Edwards \n",
      "Marc Edwards \n",
      "Natasha Henderson \n",
      "Natasha Henderson \n",
      "Sameen Amin \n",
      "Bryan Hill \n",
      "Danielle Emerson \n",
      "Angela Wittrock \n",
      "Lindsey Smith \n",
      "Angela Wittrock \n",
      "Angela Wittrock \n",
      "Danielle Emerson \n",
      "Danielle Emerson \n",
      "Danielle Emerson \n",
      "Gary Wilson \n",
      "Ronald Fonger \n",
      "Jacob Kanclerz \n",
      "Ronald Fonger \n",
      "Ronald Fonger \n",
      "Ronald Fonger \n",
      "Jason Lorenz \n",
      "Curt Guyette \n",
      "Marc Edwards \n",
      "Marc Edwards \n",
      "Lindsey Smith \n",
      "Gary Wilson \n"
     ]
    }
   ],
   "source": [
    "firstlaststring = '\\n'.join(firstlast)\n",
    "print(firstlaststring)"
   ]
  },
  {
   "cell_type": "code",
   "execution_count": 18,
   "metadata": {},
   "outputs": [
    {
     "name": "stdout",
     "output_type": "stream",
     "text": [
      "['Marc ', 'Edwards ', 'Marc ', 'Edwards ', 'Natasha ', 'Henderson ', 'Natasha ', 'Henderson ', 'Sameen ', 'Amin ', 'Bryan ', 'Hill ', 'Danielle ', 'Emerson ', 'Angela ', 'Wittrock ', 'Lindsey ', 'Smith ', 'Angela ', 'Wittrock ', 'Angela ', 'Wittrock ', 'Danielle ', 'Emerson ', 'Danielle ', 'Emerson ', 'Danielle ', 'Emerson ', 'Gary ', 'Wilson ', 'Ronald ', 'Fonger ', 'Jacob ', 'Kanclerz ', 'Ronald ', 'Fonger ', 'Ronald ', 'Fonger ', 'Ronald ', 'Fonger ', 'Jason ', 'Lorenz ', 'Curt ', 'Guyette ', 'Marc ', 'Edwards ', 'Marc ', 'Edwards ', 'Lindsey ', 'Smith ', 'Gary ', 'Wilson ']\n"
     ]
    },
    {
     "data": {
      "text/plain": [
       "52"
      ]
     },
     "execution_count": 18,
     "metadata": {},
     "output_type": "execute_result"
    }
   ],
   "source": [
    "#LIST OF ALL NAMES (FIRST LAST FIRST LAST etc.)\n",
    "allflnames = re.findall('[A-Z][a-z][A-Za-z]+\\s',firstlaststring)\n",
    "print(allflnames)\n",
    "len(allflnames)"
   ]
  },
  {
   "cell_type": "code",
   "execution_count": 19,
   "metadata": {},
   "outputs": [
    {
     "name": "stdout",
     "output_type": "stream",
     "text": [
      "['Marc', 'Marc', 'Natasha', 'Natasha', 'Sameen', 'Bryan', 'Danielle', 'Angela', 'Lindsey', 'Angela', 'Angela', 'Danielle', 'Danielle', 'Danielle', 'Gary', 'Ronald', 'Jacob', 'Ronald', 'Ronald', 'Ronald', 'Jason', 'Curt', 'Marc', 'Marc', 'Lindsey', 'Gary']\n"
     ]
    },
    {
     "data": {
      "text/plain": [
       "26"
      ]
     },
     "execution_count": 19,
     "metadata": {},
     "output_type": "execute_result"
    }
   ],
   "source": [
    "#LIST OF FIRST NAMES\n",
    "firstnames = re.findall('^[A-Z][a-z]+\\s|\\n[A-Z][a-z]+\\s',firstlaststring)\n",
    "firstnames1 = ' '.join(firstnames)\n",
    "firstnames2 = re.sub(\"\\n\",\"\",firstnames1)\n",
    "firstnameslist = re.split(\"\\s+\",firstnames2)\n",
    "firstnameslist.pop()\n",
    "print(firstnameslist)\n",
    "len(firstnameslist)"
   ]
  },
  {
   "cell_type": "code",
   "execution_count": 20,
   "metadata": {},
   "outputs": [
    {
     "name": "stdout",
     "output_type": "stream",
     "text": [
      "['Edwards', 'Edwards', 'Henderson', 'Henderson', 'Amin', 'Hill', 'Emerson', 'Wittrock', 'Smith', 'Wittrock', 'Wittrock', 'Emerson', 'Emerson', 'Emerson', 'Wilson', 'Fonger', 'Kanclerz', 'Fonger', 'Fonger', 'Fonger', 'Lorenz', 'Guyette', 'Edwards', 'Edwards', 'Smith', 'Wilson']\n"
     ]
    },
    {
     "data": {
      "text/plain": [
       "26"
      ]
     },
     "execution_count": 20,
     "metadata": {},
     "output_type": "execute_result"
    }
   ],
   "source": [
    "#LIST OF LAST NAMES\n",
    "lastnames1 = re.findall('.[A-Z][a-z]+',firstlaststring)\n",
    "lastnames2 = ''.join(lastnames1)\n",
    "lastnameslist = re.split('\\s',lastnames2)\n",
    "del lastnameslist[0]\n",
    "print(lastnameslist)\n",
    "len(lastnameslist)"
   ]
  },
  {
   "cell_type": "code",
   "execution_count": 21,
   "metadata": {},
   "outputs": [
    {
     "name": "stdout",
     "output_type": "stream",
     "text": [
      "Edwards, Marc\n",
      "Edwards, Marc\n",
      "Henderson, Natasha\n",
      "Henderson, Natasha\n",
      "Amin, Sameen\n",
      "Hill, Bryan\n",
      "Emerson, Danielle\n",
      "Wittrock, Angela\n",
      "Smith, Lindsey\n",
      "Wittrock, Angela\n",
      "Wittrock, Angela\n",
      "Emerson, Danielle\n",
      "Emerson, Danielle\n",
      "Emerson, Danielle\n",
      "Wilson, Gary\n",
      "Fonger, Ronald\n",
      "Kanclerz, Jacob\n",
      "Fonger, Ronald\n",
      "Fonger, Ronald\n",
      "Fonger, Ronald\n",
      "Lorenz, Jason\n",
      "Guyette, Curt\n",
      "Edwards, Marc\n",
      "Edwards, Marc\n",
      "Smith, Lindsey\n",
      "Wilson, Gary\n"
     ]
    }
   ],
   "source": [
    "for idx, value in enumerate(firstnameslist):\n",
    "    key = lastnameslist[idx] + \", \" + firstnameslist[idx]\n",
    "    print(key)\n",
    "    ultimatelist.append(key) #adds these reformatted names to ultimatelist"
   ]
  },
  {
   "cell_type": "code",
   "execution_count": 22,
   "metadata": {},
   "outputs": [
    {
     "name": "stdout",
     "output_type": "stream",
     "text": [
      "Success! all names are accounted for.\n"
     ]
    }
   ],
   "source": [
    "msg2 = (len(lastcommafirstdude) + len(firstlast)) - len(ultimatelist) # number of names not accounted for\n",
    "if msg2 > 0:\n",
    "    print(\"rats! you're missing \" + str(msg) + ' names.')\n",
    "elif msg2 == 0:\n",
    "    print(\"Success! all names are accounted for.\")\n",
    "else:\n",
    "    print(\"you gotta restart the kernel.\") #it appended to ultimatelist too many times"
   ]
  },
  {
   "cell_type": "code",
   "execution_count": 25,
   "metadata": {},
   "outputs": [
    {
     "name": "stdout",
     "output_type": "stream",
     "text": [
      "Lasher, Geralyn\n",
      "Wurfel, Brad\n",
      "Lasher, Geralyn\n",
      "Holton, Jennifer\n",
      "Workman, Wayne\n",
      "Byrne, Randall\n",
      "Murray, David\n",
      "Muchmore, Dennis\n",
      "Workman, Wayne\n",
      "Byrne, Randall\n",
      "Holton, Jennifer\n",
      "Stuever, Beth\n",
      "Ockert, Katherine\n",
      "Holton, Jennifer\n",
      "Stuever, Beth\n",
      "Egan, Paul\n",
      "Minicuci, Angela\n",
      "Wurfel, Brad\n",
      "Saxton, Thomas\n",
      "Macaluso, Nora\n",
      "Wurfel, Brad\n",
      "Wurfel, Brad\n",
      "Holton, Jennifer\n",
      "Holton, Jennifer\n",
      "Holton, Jennifer\n",
      "Wurfel, Brad\n",
      "Krisztian, George\n",
      "Wurfel, Brad\n",
      "Krisztian, George\n",
      "Wurfel, Sara\n",
      "Wurfel, Sara\n",
      "Wurfel, Sara\n",
      "Wurfel, Brad\n",
      "Wurfel, Sara\n",
      "Wurfel, Brad\n",
      "Wurfel, Sara\n",
      "Wurfel, Brad\n",
      "Wurfel, Brad\n",
      "Wurfel, Brad\n",
      "Waurfel, Brad\n",
      "Pallone, Maggie\n",
      "Fortin, Denise\n",
      "Waurfel, Brad\n",
      "Wurfel, Brad\n",
      "Feuerstein, Heather\n",
      "Waurfel, Brad\n",
      "Wurfel, Brad\n",
      "Busch, Stephen\n",
      "Wurfel, Brad\n",
      "Prysby, Mike\n",
      "Wurfel, Brad\n",
      "Muchmore, Dennis\n",
      "Wurfel, Brad\n",
      "Muchmore, Dennis\n",
      "Wurfel, Sara\n",
      "Wurfel, Brad\n",
      "Busch, Stephen\n",
      "Busch, Stephen\n",
      "Rosenthal, Adam\n",
      "Wurfel, Brad\n",
      "Busch, Stephen\n",
      "Wurfel, Brad\n",
      "Saxton, Thomas\n",
      "Wurfel, Brad\n",
      "Wurfel, Brad\n",
      "Macaluso, Nora\n",
      "Wurfel, Brad\n",
      "Edwards, Marc\n",
      "Edwards, Marc\n",
      "Henderson, Natasha\n",
      "Henderson, Natasha\n",
      "Amin, Sameen\n",
      "Hill, Bryan\n",
      "Emerson, Danielle\n",
      "Wittrock, Angela\n",
      "Smith, Lindsey\n",
      "Wittrock, Angela\n",
      "Wittrock, Angela\n",
      "Emerson, Danielle\n",
      "Emerson, Danielle\n",
      "Emerson, Danielle\n",
      "Wilson, Gary\n",
      "Fonger, Ronald\n",
      "Kanclerz, Jacob\n",
      "Fonger, Ronald\n",
      "Fonger, Ronald\n",
      "Fonger, Ronald\n",
      "Lorenz, Jason\n",
      "Guyette, Curt\n",
      "Edwards, Marc\n",
      "Edwards, Marc\n",
      "Smith, Lindsey\n",
      "Wilson, Gary\n"
     ]
    }
   ],
   "source": [
    "ultimateliststr = '\\n'.join(ultimatelist)\n",
    "print(ultimateliststr)\n",
    "# final list :o) "
   ]
  },
  {
   "cell_type": "code",
   "execution_count": 26,
   "metadata": {},
   "outputs": [],
   "source": [
    "# note: you have to restart the kernel everytime you want to run this \n",
    "# or else it will keep adding to ultimatelist\n",
    "# generating duplicates...\n",
    "# is there a way to lock a list or something like that?"
   ]
  }
 ],
 "metadata": {
  "kernelspec": {
   "display_name": "Python 3",
   "language": "python",
   "name": "python3"
  },
  "language_info": {
   "codemirror_mode": {
    "name": "ipython",
    "version": 3
   },
   "file_extension": ".py",
   "mimetype": "text/x-python",
   "name": "python",
   "nbconvert_exporter": "python",
   "pygments_lexer": "ipython3",
   "version": "3.5.3"
  }
 },
 "nbformat": 4,
 "nbformat_minor": 4
}
