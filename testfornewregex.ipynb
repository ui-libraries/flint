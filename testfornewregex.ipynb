{
 "cells": [
  {
   "cell_type": "code",
   "execution_count": 92,
   "metadata": {},
   "outputs": [],
   "source": [
    "f = open('testforodddates.txt',\"r\")"
   ]
  },
  {
   "cell_type": "code",
   "execution_count": 93,
   "metadata": {},
   "outputs": [
    {
     "data": {
      "text/plain": [
       "<_io.TextIOWrapper name='testforodddates.txt' mode='r' encoding='cp1252'>"
      ]
     },
     "execution_count": 93,
     "metadata": {},
     "output_type": "execute_result"
    }
   ],
   "source": [
    "f"
   ]
  },
  {
   "cell_type": "code",
   "execution_count": 94,
   "metadata": {},
   "outputs": [],
   "source": [
    "raw = f.read()"
   ]
  },
  {
   "cell_type": "code",
   "execution_count": 95,
   "metadata": {},
   "outputs": [
    {
     "data": {
      "text/plain": [
       "'on Sep 30, 2015, at 9:09 AM, Jack Stock <jstock@gmail.com> wrote:\\n\\non Thu, Oct 1, 2015 at 1:39 PM, Wurfel, Brad <DEQ> <bigbrad@gmail.com> wrote:\\n\\n\\non Thu, Oct 1, 2015 at 1:39 PM, Wurfel, Brad <bigbrad@gmail.com> wrote:\\n\\n\\n\\n\\non Thu, Oct 1, 2015 at 1:39 PM, Brad wrote:\\n\\non Thu, Oct 1 at 1:39 PM, Brad wrote:\\n\\non Thursday at 1:39 PM, Brad wrote:\\n\\non Thu, Oct 1 at 1:39 PM, Brad <bigbrad@gmail.com> wrote:'"
      ]
     },
     "execution_count": 95,
     "metadata": {},
     "output_type": "execute_result"
    }
   ],
   "source": [
    "raw"
   ]
  },
  {
   "cell_type": "code",
   "execution_count": 96,
   "metadata": {},
   "outputs": [],
   "source": [
    "import urllib\n",
    "import os\n",
    "import re"
   ]
  },
  {
   "cell_type": "code",
   "execution_count": 97,
   "metadata": {},
   "outputs": [],
   "source": [
    "def preprocess(x):\n",
    "    x = x.replace('\\t',' ')\n",
    "    x = x.replace('\\n',' ')\n",
    "    x = x.replace('(',' ')\n",
    "    x = x.replace(')',' ')\n",
    "    x = x.replace('[',' ')\n",
    "    x = x.replace(']',' ')\n",
    "    x = x.replace('{',' ')\n",
    "    x = x.replace('}',' ')\n",
    "    x = x.replace(',',' ')\n",
    "    x = x.replace('\"','')\n",
    "    x = x.replace(\"'\",'')\n",
    "    return(x)"
   ]
  },
  {
   "cell_type": "code",
   "execution_count": 113,
   "metadata": {},
   "outputs": [],
   "source": [
    "DateTimeRegex = {'weekday month yearOrday yearORday hours:mins AMorPM':'\\\\b[A-Za-z]+\\s+[A-Za-z]+\\s+\\d+\\s+\\d+\\s+\\d+\\:\\d+\\s+[A-Z]+\\\\b',\n",
    "                 'weekday month yearORday yearORday hours:mins:secs AMorPM':'\\\\b[A-Za-z]+\\s+[A-Za-z]+\\s+\\d+\\s+\\d+\\s+\\d+\\:\\d+\\:\\d+\\s+[A-Z]+\\\\b',\n",
    "    'yearORmonthORday-yearORmonthORday-yearORmonthORday:hours:mins:secs':'\\\\b\\d+\\-\\d+\\-\\d+\\:\\d+\\:\\d+\\:\\d+\\\\b',\n",
    "             'yearORmonthORday/yearORmonthORday/yearORmonthORday:hours:mins:secs':'\\\\b\\d+\\/\\d+\\/\\d+\\:\\d+\\:\\d+\\:\\d+\\\\b',\n",
    "             'yearORmonthORday-yearORmonthORday-yearORmonthORday-hours.mins.secs.millisecs':'\\\\b\\d+\\-\\d+\\-\\d+\\-\\d+\\.\\d+\\.\\d+\\.\\d+\\-\\d+\\\\b',\n",
    "             'yearORmonthORday/yearORmonthORday/yearORmonthORday-hours.mins.secs.millisecs':'\\\\b\\d+\\/\\d+\\/\\d+\\-\\d+\\.\\d+\\.\\d+\\.\\d+\\-\\d+\\\\b',\n",
    "             'yearORmonthORday-yearORmonthORday-yearORmonthORday-hours.mins.secs':'\\\\b\\d+\\-\\d+\\-\\d+\\-\\d+\\.\\d+\\.\\d+\\\\b',\n",
    "             'yearORmonthORday/yearORmonthORday/yearORmonthORday-hours.mins.secs':'\\\\b\\d+\\/\\d+\\/\\d+\\-\\d+\\.\\d+\\.\\d+\\\\b',\n",
    "             'yearORmonthORday-yearORmonthORday-yearORmonthORdayThours:mins:secs.millisecs':'\\\\b\\d+\\-\\d+\\-\\d+[A-Za-z]+\\d+\\:\\d+\\:\\d+\\.\\w+\\\\b',\n",
    "             'yearORmonthORday-yearORmonthORday-yearORmonthORdayThours:mins:secs+millisecs':'\\\\b\\d+\\-\\d+\\-\\d+[A-Za-z]+\\d+\\:\\d+\\:\\d+\\+\\d+\\\\b',\n",
    "             'yearORmonthORday-yearORmonthORday-yearORmonthORdayThours:mins:secs*millisecs':'\\\\b\\d+\\-\\d+\\-\\d+[A-Za-z]+\\d+\\:\\d+\\:\\d+\\*\\d+\\+\\d+\\\\b',\n",
    "             'yearORmonthORday-yearORmonthORday-yearORmonthORday*hours:mins:secs:millisecs':'\\\\b\\d+\\-\\d+\\-\\d+\\*\\d+\\:\\d+\\:\\d+\\:\\d+\\\\b',\n",
    "             'yearORmonthORday-yearORmonthORday-yearORmonthORday*hours:mins:secs':'\\\\b\\d+\\-\\d+\\-\\d+\\*\\d+\\:\\d+\\:\\d+\\\\b',\n",
    "             'yearORmonthORday-yearORmonthORday-yearORmonthORdayThours:mins:secs':'\\\\b\\d+\\-\\d+\\-\\d+[A-Za-z]+\\d+\\:\\d+\\:\\d+\\\\b',\n",
    "             'yearORmonthORday-yearORmonthORday-yearORmonthORday hours:mins:secs.millisecs':'\\\\b\\d+\\-\\d+\\-\\d+\\s+\\d+\\:\\d+\\:\\d+\\.\\w+\\\\b',\n",
    "             'yearORmonthORday/yearORmonthORday/yearORmonthORday hours:mins:secs:millisecs':'\\\\b\\d+\\/\\d+\\/\\d+\\s+\\d+\\:\\d+\\:\\d+\\:\\w+\\\\b',\n",
    "             'yearORmonthORday-yearORmonthORday-yearORmonthORday hours:mins:secs AMorPM':'\\\\b\\d+\\-\\d+\\-\\d+\\s+\\d+\\:\\d+\\:\\d+\\s+[A-Z]+\\\\b',\n",
    "             'yearORmonthORday-yearORmonthORday-yearORmonthORday hours:mins:secs':'\\\\b\\d+\\-\\d+\\-\\d+\\s+\\d+\\:\\d+\\:\\d+\\\\b',\n",
    "             'yearORmonthORday/yearORmonthORday/yearORmonthORday hours:mins:secs AMorPM':'\\\\b\\d+\\/\\d+\\/\\d+\\s+\\d+\\:\\d+\\:\\d+\\s+[A-Z]+\\\\b',\n",
    "             'yearORmonthORday/yearORmonthORday/yearORmonthORday hours:mins:secs':'\\\\b\\d+\\/\\d+\\/\\d+\\s+\\d+\\:\\d+\\:\\d+\\\\b',\n",
    "            'yearORmonthORday/yearORmonthORday/yearORmonthORday-hours:mins':'\\\\b\\d+\\/\\d+\\/\\d+\\-\\d+\\.\\d+\\\\b',\n",
    "            'yearORmonthORday-yearORmonthORday-yearORmonthORday-hours:mins':'\\\\b\\d+\\-\\d+\\-\\d+\\-\\d+\\.\\d+\\\\b',\n",
    "            'yearORmonthORday/yearORmonthORday/yearORmonthORday:hours:mins':'\\\\b\\d+\\/\\d+\\/\\d+\\:\\d+\\:\\d+\\\\b',\n",
    "            'yearORmonthORday-yearORmonthORday-yearORmonthORdayThours:mins':'\\\\b\\d+\\-\\d+\\-\\d+[A-Za-z]+\\d+\\:\\d+\\\\b',\n",
    "            'yearORmonthORday-yearORmonthORday-yearORmonthORday*hours:mins':'\\\\b\\d+\\-\\d+\\-\\d+\\*\\d+\\:\\d+\\\\b',\n",
    "            'yearORmonthORday/yearORmonthORday/yearORmonthORday hours:mins':'\\\\b\\d+\\/\\d+\\/\\d+\\s+\\d+\\:\\d+\\\\b',\n",
    "            'yearORmonthORday/yearORmonthORday/yearORmonthORday hours:mins AMorPM':'\\\\b\\d+\\/\\d+\\/\\d+\\s+\\d+\\:\\d+\\s+[A-Za-z]+\\\\b',\n",
    "            'yearORmonthORday-yearORmonthORday-yearORmonthORday hours:mins':'\\\\b\\d+\\-\\d+\\-\\d+\\s+\\d+\\:\\d+\\\\b',\n",
    "            'yearORmonthORday-yearORmonthORday-yearORmonthORday hours:mins AMorPM':'\\\\b\\d+\\-\\d+\\-\\d+\\s+\\d+\\:\\d+\\s+[A-Za-z]\\\\b',\n",
    "             'yearORday/month/yearORday:hours:mins:secs AMorPM':'\\\\b\\d+\\/[A-Za-z]+\\/\\d+\\:\\d+\\:\\d+\\:\\d+\\s+[A-Z]+\\\\b',\n",
    "             'yearORday/month/yearORday:hours:mins:secs':'\\\\b\\d+\\/[A-Za-z]+\\/\\d+\\:\\d+\\:\\d+\\:\\d+\\\\b',\n",
    "             'yearORday-month-yearORday:hours:mins:secs AMorPM':'\\\\b\\d+\\-[A-Za-z]+\\-\\d+\\:\\d+\\:\\d+\\:\\d+\\s+[A-Z]+\\\\b',\n",
    "             'yearORday-month-yearORday:hours:mins:secs':'\\\\b\\d+\\-[A-Za-z]+\\-\\d+\\:\\d+\\:\\d+\\:\\d+\\\\b',\n",
    "             'month/yearORday/yearORday:hours:mins:secs AMorPM':'\\\\b[A-Za-z]+\\/\\d+\\/\\d+\\:\\d+\\:\\d+\\:\\d+\\s+[A-Z]+\\\\b',\n",
    "             'month/yearORday/yearORday:hours:mins:secs':'\\\\b[A-Za-z]+\\/\\d+\\/\\d+\\:\\d+\\:\\d+\\:\\d+\\\\b',\n",
    "             'month-yearORday-yearORday:hours:mins:secs AMorPM':'\\\\b[A-Za-z]+\\-\\d+\\-\\d+\\:\\d+\\:\\d+\\:\\d+\\s+[A-Z]+\\\\b',\n",
    "             'month-yearORday-yearORday:hours:mins:secs':'\\\\b[A-Za-z]+\\-\\d+\\-\\d+\\:\\d+\\:\\d+\\:\\d+\\\\b',\n",
    "             'yearORday/month/yearORday hours:mins:secs AMorPM':'\\\\b\\d+\\/[A-Za-z]+\\/\\d+\\s+\\d+\\:\\d+\\:\\d+\\s+[A-Z]+\\\\b',\n",
    "             'yearORday/month/yearORday hours:mins:secs':'\\\\b\\d+\\/[A-Za-z]+\\/\\d+\\s+\\d+\\:\\d+\\:\\d+\\\\b',\n",
    "             'yearORday-month-yearORday hours:mins:secs AMorPM':'\\\\b\\d+\\-[A-Za-z]+\\-\\d+\\s+\\d+\\:\\d+\\:\\d+\\s+[A-Z]+\\\\b',\n",
    "             'yearORday-month-yearORday hours:mins:secs':'\\\\b\\d+\\-[A-Za-z]+\\-\\d+\\s+\\d+\\:\\d+\\:\\d+\\\\b',\n",
    "             'month/yearORday/yearORday hours:mins:secs AMorPM':'\\\\b[A-Za-z]+\\/\\d+\\/\\d+\\s+\\d+\\:\\d+\\:\\d+\\s+[A-Z]+\\\\b',\n",
    "             'month/yearORday/yearORday hours:mins:secs':'\\\\b[A-Za-z]+\\/\\d+\\/\\d+\\s+\\d+\\:\\d+\\:\\d+\\\\b',\n",
    "             'month-yearORday-yearORday hours:mins:secs AMorPM':'\\\\b[A-Za-z]+\\-\\d+\\-\\d+\\s+\\d+\\:\\d+\\:\\d+\\s+[A-Z]+\\\\b',\n",
    "             'month-yearORday-yearORday hours:mins:secs':'\\\\b[A-Za-z]+\\-\\d+\\-\\d+\\s+\\d+\\:\\d+\\:\\d+\\\\b',\n",
    "             'yearORday month yearORday hours:mins:secs.millisecs':'\\\\b\\d+\\s+[A-Za-z]+\\s+\\d+\\s+\\d+\\:\\d+\\:\\d+\\.\\d+\\\\b',\n",
    "             'month dayORyear hours:mins:secs +millisecs dayORyear':'\\\\b[A-Za-z]+\\s+\\d+\\s+\\d+\\:\\d+\\:\\d+\\s+\\+\\d+\\s+\\d+\\\\b',\n",
    "             'month dayORyear hours:mins:secs dayORyear':'\\\\b[A-Za-z]+\\s+\\d+\\s+\\d+\\:\\d+\\:\\d+\\s+\\d+\\\\b',\n",
    "             'month dayORyear dayORyear hours:mins:secs AMorPM':'\\\\b[A-Za-z]+\\s+\\d+\\s+\\d+\\s+\\d+\\:\\d+\\:\\d+\\s+[A-Z]+\\\\b',\n",
    "             'month dayORyear dayORyear hours:mins:secs':'\\\\b[A-Za-z]+\\s+\\d+\\s+\\d+\\s+\\d+\\:\\d+\\:\\d+\\\\b',\n",
    "             'month dayORyear hours:mins:secs +millisecs':'\\\\b[A-Za-z]+\\s+\\d+\\s+\\d+\\:\\d+\\:\\d+\\s+\\+\\d+\\\\b',\n",
    "             'dayORyear month dayORyear hours:mins:secs':'\\\\b\\d+\\s+[A-Za-z]+\\s+\\d+\\s+\\d+\\:\\d+\\:\\d+\\\\b',\n",
    "             'month dayORyear hours:mins:secs':'\\\\b[A-Za-z]+\\s+\\d+\\s+\\d+\\:\\d+\\:\\d+\\\\b',\n",
    "             'yearORmonthORday/yearORmonthORday/yearORmonthORday':'\\\\b\\d+\\/\\d+\\/\\d+\\*\\d+\\:\\d+\\:\\d+\\\\b',\n",
    "'yearORday/month/yearORday:hours:mins AMorPM':'\\\\b\\d+\\/[A-Za-z]+\\d+\\:\\d+\\:\\d+\\s+[A-Za-z]+\\\\b',\n",
    "'yearORday/month/yearORday:hours:mins':'\\\\b\\d+\\/[A-Za-z]+\\/\\d+\\:\\d+\\:\\d+\\\\b',\n",
    "'yearORday-month-yearORday:hours:mins AMorPM':'\\\\b\\d+\\-[A-Za-z]+\\-\\d+\\:\\d+\\:\\d+\\s+[A-Za-z]+\\\\b',\n",
    "'yearORday-month-yearORday:hours:mins':'\\\\b\\d+\\-[A-Za-z]+\\-\\d+\\:\\d+\\:\\d+\\\\b',\n",
    "'month-yearORday-yearORday:hours:mins AMorPM':'\\\\b[A-Za-z]+\\-\\d+\\-\\d+\\:\\d+\\:\\d+\\s+[A-Za-z]+\\\\b',\n",
    "'month-yearORday-yearORday:hours:mins':'\\\\b[A-Za-z]+\\-\\d+\\-\\d+\\:\\d+\\:\\d+\\\\b',\n",
    "'month/yearORday/yearORday:hours:mins AMorPM':'\\\\b[A-Za-z]+\\/\\d+\\/\\d+\\:\\d+\\:\\d+\\s+[A-Za-z]+\\\\b',\n",
    "'month/yearORday/yearORday:hours:mins':'\\\\b[A-Za-z]+\\/\\d+\\/\\d+\\:\\d+\\:\\d+\\\\b',\n",
    "'yearORday/month/yearORday hours:mins AMorPM':'\\\\b\\d+\\/[A-Za-z]+\\/\\d+\\s+\\d+\\:\\d+\\s+[A-Za-z]+\\\\b',\n",
    "'yearORday/month/yearORday hours:mins':'\\\\b\\d+\\/[A-Za-z]+\\/\\d+\\s+\\d+\\:\\d+\\\\b',\n",
    "'yearORday-month-yearORday hours:mins AMorPM':'\\\\b\\d+\\-[A-Za-z]+\\-\\d+\\s+\\d+\\:\\d+\\s+[A-Za-z]+\\\\b',\n",
    "'yearORday-month-yearORday hours:mins':'\\\\b\\d+\\-[A-Za-z]+\\-\\d+\\s+\\d+\\:\\d+\\\\b',\n",
    "'month/yearORday/yearORday hours:mins AMorPM':'\\\\b[A-Za-z]\\/\\d+\\/\\d+\\s+\\d+\\:\\d+\\s+[A-Za-z]+\\\\b',\n",
    "'month/yearORday/yearORday hours:mins':'\\\\b[A-Za-z]\\/\\d+\\/\\d+\\s+\\d+\\:\\d+\\\\b',\n",
    "'month-yearORday-yearORday hours:mins AMorPM':'\\\\b[A-Za-z]+\\-\\d+\\-\\d+\\s+\\d+\\:\\d+\\s+[A-Za-z]+\\\\b',\n",
    "'month-yearORday-yearORday hours:mins':'\\\\b[A-Za-z]+\\-\\d+\\-\\d+\\s+\\d+\\:\\d+\\\\b',\n",
    "'year month day hours:mins':'\\\\b\\d+\\s+[A-Za-z]+\\s+\\d+\\s+\\d+\\:\\d+\\\\b',\n",
    "'month day hours:mins year':'\\\\b[A-Za-z]+\\s+\\d+\\s+\\d+\\:\\d+\\s+\\d+\\\\b',\n",
    "'month day hours:mins':'\\\\b[A-Za-z]+\\s+\\d+\\s+\\d+\\:\\d+\\\\b',\n",
    "'month day year hours:mins AMorPM':'\\\\b[A-Za-z]+\\s+\\d+\\s+\\d+\\s+\\d+\\:\\d+\\s+[A-Za-z]+\\\\b',\n",
    "'month day year hours:mins':'\\\\b[A-Za-z]+\\s+\\d+\\s+\\d+\\s+\\d+\\:\\d+\\\\b',\n",
    "'on weekday, month day, year at hours:mins AMorPM':'\\\\b[a-z]+\\s+[A-Za-z]+\\s+[A-Za-z]+\\s+\\d+\\s+\\d+\\s+[a-z]+\\s+\\d+\\:\\d+\\s+[A-Za-z]+\\\\b',\n",
    "'on month day, year, at hours:mins AMorPM':'\\\\b[a-z]+\\s+[A-Za-z]+\\s+\\d+\\s+\\d+\\s+[a-z]+\\s+\\d+\\:\\d+\\s+[A-Za-z]+\\\\b'}"
   ]
  },
  {
   "cell_type": "code",
   "execution_count": 114,
   "metadata": {},
   "outputs": [],
   "source": [
    "reg = '|'.join(DateTimeRegex.values())"
   ]
  },
  {
   "cell_type": "code",
   "execution_count": 115,
   "metadata": {},
   "outputs": [],
   "source": [
    "def DateTimeExtractor(x):\n",
    "    x = preprocess(x)\n",
    "    DT = re.findall(reg,x)\n",
    "    return(DT)"
   ]
  },
  {
   "cell_type": "code",
   "execution_count": 116,
   "metadata": {},
   "outputs": [],
   "source": [
    "result = DateTimeExtractor(raw)"
   ]
  },
  {
   "cell_type": "code",
   "execution_count": 117,
   "metadata": {},
   "outputs": [
    {
     "name": "stdout",
     "output_type": "stream",
     "text": [
      "['on Sep 30  2015  at 9:09 AM', 'on Thu  Oct 1  2015 at 1:39 PM', 'on Thu  Oct 1  2015 at 1:39 PM', 'on Thu  Oct 1  2015 at 1:39 PM']\n"
     ]
    }
   ],
   "source": [
    "print(result)"
   ]
  },
  {
   "cell_type": "code",
   "execution_count": null,
   "metadata": {},
   "outputs": [],
   "source": []
  }
 ],
 "metadata": {
  "kernelspec": {
   "display_name": "Python 3",
   "language": "python",
   "name": "python3"
  },
  "language_info": {
   "codemirror_mode": {
    "name": "ipython",
    "version": 3
   },
   "file_extension": ".py",
   "mimetype": "text/x-python",
   "name": "python",
   "nbconvert_exporter": "python",
   "pygments_lexer": "ipython3",
   "version": "3.7.4"
  }
 },
 "nbformat": 4,
 "nbformat_minor": 2
}
