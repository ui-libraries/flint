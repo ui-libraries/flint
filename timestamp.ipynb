{
 "cells": [
  {
   "cell_type": "code",
   "execution_count": 2,
   "metadata": {},
   "outputs": [],
   "source": [
    "import urllib\n",
    "import os\n",
    "import re"
   ]
  },
  {
   "cell_type": "markdown",
   "metadata": {},
   "source": []
  },
  {
   "cell_type": "code",
   "execution_count": 3,
   "metadata": {},
   "outputs": [],
   "source": [
    "def preprocess(x):\n",
    "    x = x.replace('\\t',' ')\n",
    "    x = x.replace('\\n',' ')\n",
    "    x = x.replace('(',' ')\n",
    "    x = x.replace(')',' ')\n",
    "    x = x.replace('[',' ')\n",
    "    x = x.replace(']',' ')\n",
    "    x = x.replace('{',' ')\n",
    "    x = x.replace('}',' ')\n",
    "    x = x.replace(',',' ')\n",
    "    x = x.replace('\"','')\n",
    "    x = x.replace(\"'\",'')\n",
    "    return(x)"
   ]
  },
  {
   "cell_type": "code",
   "execution_count": 4,
   "metadata": {},
   "outputs": [],
   "source": [
    "DateTimeRegex = {'yearORmonthORday-yearORmonthORday-yearORmonthORday:hours:mins:secs':'\\\\b\\d+\\-\\d+\\-\\d+\\:\\d+\\:\\d+\\:\\d+\\\\b',\n",
    "             'yearORmonthORday/yearORmonthORday/yearORmonthORday:hours:mins:secs':'\\\\b\\d+\\/\\d+\\/\\d+\\:\\d+\\:\\d+\\:\\d+\\\\b',\n",
    "             'yearORmonthORday-yearORmonthORday-yearORmonthORday-hours.mins.secs.millisecs':'\\\\b\\d+\\-\\d+\\-\\d+\\-\\d+\\.\\d+\\.\\d+\\.\\d+\\-\\d+\\\\b',\n",
    "             'yearORmonthORday/yearORmonthORday/yearORmonthORday-hours.mins.secs.millisecs':'\\\\b\\d+\\/\\d+\\/\\d+\\-\\d+\\.\\d+\\.\\d+\\.\\d+\\-\\d+\\\\b',\n",
    "             'yearORmonthORday-yearORmonthORday-yearORmonthORday-hours.mins.secs':'\\\\b\\d+\\-\\d+\\-\\d+\\-\\d+\\.\\d+\\.\\d+\\\\b',\n",
    "             'yearORmonthORday/yearORmonthORday/yearORmonthORday-hours.mins.secs':'\\\\b\\d+\\/\\d+\\/\\d+\\-\\d+\\.\\d+\\.\\d+\\\\b',\n",
    "             'yearORmonthORday-yearORmonthORday-yearORmonthORdayThours:mins:secs.millisecs':'\\\\b\\d+\\-\\d+\\-\\d+[A-Za-z]+\\d+\\:\\d+\\:\\d+\\.\\w+\\\\b',\n",
    "             'yearORmonthORday-yearORmonthORday-yearORmonthORdayThours:mins:secs+millisecs':'\\\\b\\d+\\-\\d+\\-\\d+[A-Za-z]+\\d+\\:\\d+\\:\\d+\\+\\d+\\\\b',\n",
    "             'yearORmonthORday-yearORmonthORday-yearORmonthORdayThours:mins:secs*millisecs':'\\\\b\\d+\\-\\d+\\-\\d+[A-Za-z]+\\d+\\:\\d+\\:\\d+\\*\\d+\\+\\d+\\\\b',\n",
    "             'yearORmonthORday-yearORmonthORday-yearORmonthORday*hours:mins:secs:millisecs':'\\\\b\\d+\\-\\d+\\-\\d+\\*\\d+\\:\\d+\\:\\d+\\:\\d+\\\\b',\n",
    "             'yearORmonthORday-yearORmonthORday-yearORmonthORday*hours:mins:secs':'\\\\b\\d+\\-\\d+\\-\\d+\\*\\d+\\:\\d+\\:\\d+\\\\b',\n",
    "             'yearORmonthORday-yearORmonthORday-yearORmonthORdayThours:mins:secs':'\\\\b\\d+\\-\\d+\\-\\d+[A-Za-z]+\\d+\\:\\d+\\:\\d+\\\\b',\n",
    "             'yearORmonthORday-yearORmonthORday-yearORmonthORday hours:mins:secs.millisecs':'\\\\b\\d+\\-\\d+\\-\\d+\\s+\\d+\\:\\d+\\:\\d+\\.\\w+\\\\b',\n",
    "             'yearORmonthORday/yearORmonthORday/yearORmonthORday hours:mins:secs:millisecs':'\\\\b\\d+\\/\\d+\\/\\d+\\s+\\d+\\:\\d+\\:\\d+\\:\\w+\\\\b',\n",
    "             'yearORmonthORday-yearORmonthORday-yearORmonthORday hours:mins:secs AMorPM':'\\\\b\\d+\\-\\d+\\-\\d+\\s+\\d+\\:\\d+\\:\\d+\\s+[A-Z]+\\\\b',\n",
    "             'yearORmonthORday-yearORmonthORday-yearORmonthORday hours:mins:secs':'\\\\b\\d+\\-\\d+\\-\\d+\\s+\\d+\\:\\d+\\:\\d+\\\\b',\n",
    "             'yearORmonthORday/yearORmonthORday/yearORmonthORday hours:mins:secs AMorPM':'\\\\b\\d+\\/\\d+\\/\\d+\\s+\\d+\\:\\d+\\:\\d+\\s+[A-Z]+\\\\b',\n",
    "             'yearORmonthORday/yearORmonthORday/yearORmonthORday hours:mins:secs':'\\\\b\\d+\\/\\d+\\/\\d+\\s+\\d+\\:\\d+\\:\\d+\\\\b',\n",
    "             'yearORday/month/yearORday:hours:mins:secs AMorPM':'\\\\b\\d+\\/[A-Za-z]+\\/\\d+\\:\\d+\\:\\d+\\:\\d+\\s+[A-Z]+\\\\b',\n",
    "             'yearORday/month/yearORday:hours:mins:secs':'\\\\b\\d+\\/[A-Za-z]+\\/\\d+\\:\\d+\\:\\d+\\:\\d+\\\\b',\n",
    "             'yearORday-month-yearORday:hours:mins:secs AMorPM':'\\\\b\\d+\\-[A-Za-z]+\\-\\d+\\:\\d+\\:\\d+\\:\\d+\\s+[A-Z]+\\\\b',\n",
    "             'yearORday-month-yearORday:hours:mins:secs':'\\\\b\\d+\\-[A-Za-z]+\\-\\d+\\:\\d+\\:\\d+\\:\\d+\\\\b',\n",
    "             'month/yearORday/yearORday:hours:mins:secs AMorPM':'\\\\b[A-Za-z]+\\/\\d+\\/\\d+\\:\\d+\\:\\d+\\:\\d+\\s+[A-Z]+\\\\b',\n",
    "             'month/yearORday/yearORday:hours:mins:secs':'\\\\b[A-Za-z]+\\/\\d+\\/\\d+\\:\\d+\\:\\d+\\:\\d+\\\\b',\n",
    "             'month-yearORday-yearORday:hours:mins:secs AMorPM':'\\\\b[A-Za-z]+\\-\\d+\\-\\d+\\:\\d+\\:\\d+\\:\\d+\\s+[A-Z]+\\\\b',\n",
    "             'month-yearORday-yearORday:hours:mins:secs':'\\\\b[A-Za-z]+\\-\\d+\\-\\d+\\:\\d+\\:\\d+\\:\\d+\\\\b',\n",
    "             'yearORday/month/yearORday hours:mins:secs AMorPM':'\\\\b\\d+\\/[A-Za-z]+\\/\\d+\\s+\\d+\\:\\d+\\:\\d+\\s+[A-Z]+\\\\b',\n",
    "             'yearORday/month/yearORday hours:mins:secs':'\\\\b\\d+\\/[A-Za-z]+\\/\\d+\\s+\\d+\\:\\d+\\:\\d+\\\\b',\n",
    "             'yearORday-month-yearORday hours:mins:secs AMorPM':'\\\\b\\d+\\-[A-Za-z]+\\-\\d+\\s+\\d+\\:\\d+\\:\\d+\\s+[A-Z]+\\\\b',\n",
    "             'yearORday-month-yearORday hours:mins:secs':'\\\\b\\d+\\-[A-Za-z]+\\-\\d+\\s+\\d+\\:\\d+\\:\\d+\\\\b',\n",
    "             'month/yearORday/yearORday hours:mins:secs AMorPM':'\\\\b[A-Za-z]+\\/\\d+\\/\\d+\\s+\\d+\\:\\d+\\:\\d+\\s+[A-Z]+\\\\b',\n",
    "             'month/yearORday/yearORday hours:mins:secs':'\\\\b[A-Za-z]+\\/\\d+\\/\\d+\\s+\\d+\\:\\d+\\:\\d+\\\\b',\n",
    "             'month-yearORday-yearORday hours:mins:secs AMorPM':'\\\\b[A-Za-z]+\\-\\d+\\-\\d+\\s+\\d+\\:\\d+\\:\\d+\\s+[A-Z]+\\\\b',\n",
    "             'month-yearORday-yearORday hours:mins:secs':'\\\\b[A-Za-z]+\\-\\d+\\-\\d+\\s+\\d+\\:\\d+\\:\\d+\\\\b',\n",
    "             'yearORday month yearORday hours:mins:secs.millisecs':'\\\\b\\d+\\s+[A-Za-z]+\\s+\\d+\\s+\\d+\\:\\d+\\:\\d+\\.\\d+\\\\b',\n",
    "             'month dayORyear hours:mins:secs +millisecs dayORyear':'\\\\b[A-Za-z]+\\s+\\d+\\s+\\d+\\:\\d+\\:\\d+\\s+\\+\\d+\\s+\\d+\\\\b',\n",
    "             'month dayORyear hours:mins:secs dayORyear':'\\\\b[A-Za-z]+\\s+\\d+\\s+\\d+\\:\\d+\\:\\d+\\s+\\d+\\\\b',\n",
    "             'month dayORyear dayORyear hours:mins:secs AMorPM':'\\\\b[A-Za-z]+\\s+\\d+\\s+\\d+\\s+\\d+\\:\\d+\\:\\d+\\s+[A-Z]+\\\\b',\n",
    "             'month dayORyear dayORyear hours:mins:secs':'\\\\b[A-Za-z]+\\s+\\d+\\s+\\d+\\s+\\d+\\:\\d+\\:\\d+\\\\b',\n",
    "             'month dayORyear hours:mins:secs +millisecs':'\\\\b[A-Za-z]+\\s+\\d+\\s+\\d+\\:\\d+\\:\\d+\\s+\\+\\d+\\\\b',\n",
    "             'dayORyear month dayORyear hours:mins:secs':'\\\\b\\d+\\s+[A-Za-z]+\\s+\\d+\\s+\\d+\\:\\d+\\:\\d+\\\\b',\n",
    "             'month dayORyear hours:mins:secs':'\\\\b[A-Za-z]+\\s+\\d+\\s+\\d+\\:\\d+\\:\\d+\\\\b',\n",
    "             'yearORmonthORday/yearORmonthORday/yearORmonthORday':'\\\\b\\d+\\/\\d+\\/\\d+\\*\\d+\\:\\d+\\:\\d+\\\\b'}"
   ]
  },
  {
   "cell_type": "code",
   "execution_count": 5,
   "metadata": {},
   "outputs": [],
   "source": [
    "reg = '|'.join(DateTimeRegex.values())"
   ]
  },
  {
   "cell_type": "code",
   "execution_count": 6,
   "metadata": {},
   "outputs": [],
   "source": [
    "def DateTimeExtractor(x):\n",
    "    x = preprocess(x)\n",
    "    DT = re.findall(reg,x)\n",
    "    return(DT)"
   ]
  },
  {
   "cell_type": "code",
   "execution_count": null,
   "metadata": {},
   "outputs": [],
   "source": []
  }
 ],
 "metadata": {
  "kernelspec": {
   "display_name": "Python 3",
   "language": "python",
   "name": "python3"
  },
  "language_info": {
   "codemirror_mode": {
    "name": "ipython",
    "version": 3
   },
   "file_extension": ".py",
   "mimetype": "text/x-python",
   "name": "python",
   "nbconvert_exporter": "python",
   "pygments_lexer": "ipython3",
   "version": "3.7.3"
  }
 },
 "nbformat": 4,
 "nbformat_minor": 2
}
