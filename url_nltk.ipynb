{
 "cells": [
  {
   "cell_type": "code",
   "execution_count": 1,
   "metadata": {},
   "outputs": [
    {
     "name": "stderr",
     "output_type": "stream",
     "text": [
      "[nltk_data] Downloading package punkt to\n",
      "[nltk_data]     C:\\Users\\mtbutler\\AppData\\Roaming\\nltk_data...\n",
      "[nltk_data]   Package punkt is already up-to-date!\n"
     ]
    },
    {
     "data": {
      "text/plain": [
       "True"
      ]
     },
     "execution_count": 1,
     "metadata": {},
     "output_type": "execute_result"
    }
   ],
   "source": [
    "import nltk\n",
    "from nltk import word_tokenize\n",
    "from nltk import sent_tokenize\n",
    "nltk.download('punkt')"
   ]
  },
  {
   "cell_type": "code",
   "execution_count": 2,
   "metadata": {},
   "outputs": [],
   "source": [
    "from urllib import request"
   ]
  },
  {
   "cell_type": "code",
   "execution_count": 3,
   "metadata": {},
   "outputs": [],
   "source": [
    "url = \"http://d1us66xhqwx73c.cloudfront.net/deq01_b103_3673_3673_1.txt\""
   ]
  },
  {
   "cell_type": "code",
   "execution_count": 4,
   "metadata": {},
   "outputs": [],
   "source": [
    "response = request.urlopen(url)"
   ]
  },
  {
   "cell_type": "code",
   "execution_count": 5,
   "metadata": {},
   "outputs": [],
   "source": [
    "raw_text = response.read().decode('utf8')"
   ]
  },
  {
   "cell_type": "code",
   "execution_count": 6,
   "metadata": {},
   "outputs": [
    {
     "name": "stdout",
     "output_type": "stream",
     "text": [
      "test \n",
      "\n",
      " \n",
      "\n",
      "From: Benzie, Richard (DEQ)\n",
      "\n",
      "To: Busch, Stephen (DEQ)\n",
      "\n",
      "Cc: Willard, Veronica (DEQ)\n",
      "\n",
      "Subject: FW: DIR00107 McCormick / Recent developments involving DWSD\"s water service to city of Flint and Genesee\n",
      "County\n",
      "\n",
      "Date: Tuesday, May 13, 2014 1:35:09 PM\n",
      "\n",
      "Attachments: ODWMA 14 DIR00107] McCormick.pdf\n",
      "\n",
      "Please draft a response regarding the reliability of Flint's water supply. I'm not sure DWSD\n",
      "needs to be assured but it's the courteous thing to do and probably makes them drop this issue.\n",
      "\n",
      "From: Willard, Veronica (DEQ)\n",
      "\n",
      "Sent: Tuesday, May 13, 2014 11:36:37 AM\n",
      "\n",
      "To: Benzie, Richard (DEQ)\n",
      "\n",
      "Cc: Shekter Smith, Liane (DEQ)\n",
      "\n",
      "Subject: FW: DIR00107 McCormick / Recent developments involving DWSD's water service to city of\n",
      "Flint and Genesee County\n",
      "\n",
      "From: DEQ-LogLetter\n",
      "\n",
      "Sent: Tuesday, May 13, 2014 9:49 AM\n",
      "\n",
      "To: Willard, Veronica (DEQ)\n",
      "\n",
      "Cc: Thelen, Mary Beth (DEQ); Sygo, Jim (DEQ); Shaler, Karen (DEQ); Anderson, Madhu (DEQ);\n",
      "Patterson, Leigh (DEQ); Shekter Smith, Liane (DEQ)\n",
      "\n",
      "Subject: DIR00107 McCormick / Recent developments involving DWSD's water service to city of Flint\n",
      "and Genesee County\n",
      "\n",
      "Assigned to ODWMA\n",
      "\n",
      " \n",
      "\n",
      " \n",
      "\f",
      "\n"
     ]
    }
   ],
   "source": [
    "print(raw_text)"
   ]
  },
  {
   "cell_type": "code",
   "execution_count": 7,
   "metadata": {},
   "outputs": [],
   "source": [
    "email_tokens = sent_tokenize(raw_text)"
   ]
  },
  {
   "cell_type": "markdown",
   "metadata": {},
   "source": [
    "print(email_tokens)"
   ]
  },
  {
   "cell_type": "code",
   "execution_count": 8,
   "metadata": {},
   "outputs": [
    {
     "name": "stdout",
     "output_type": "stream",
     "text": [
      "test \n",
      "\n",
      " \n",
      "\n",
      "From: Benzie, Richard (DEQ)\n",
      "\n",
      "To: Busch, Stephen (DEQ)\n",
      "\n",
      "Cc: Willard, Veronica (DEQ)\n",
      "\n",
      "Subject: FW: DIR00107 McCormick / Recent developments involving DWSD\"s water service to city of Flint and Genesee\n",
      "County\n",
      "\n",
      "Date: Tuesday, May 13, 2014 1:35:09 PM\n",
      "\n",
      "Attachments: ODWMA 14 DIR00107] McCormick.pdf\n",
      "\n",
      "Please draft a response regarding the reliability of Flint's water supply.\n",
      "I'm not sure DWSD\n",
      "needs to be assured but it's the courteous thing to do and probably makes them drop this issue.\n",
      "From: Willard, Veronica (DEQ)\n",
      "\n",
      "Sent: Tuesday, May 13, 2014 11:36:37 AM\n",
      "\n",
      "To: Benzie, Richard (DEQ)\n",
      "\n",
      "Cc: Shekter Smith, Liane (DEQ)\n",
      "\n",
      "Subject: FW: DIR00107 McCormick / Recent developments involving DWSD's water service to city of\n",
      "Flint and Genesee County\n",
      "\n",
      "From: DEQ-LogLetter\n",
      "\n",
      "Sent: Tuesday, May 13, 2014 9:49 AM\n",
      "\n",
      "To: Willard, Veronica (DEQ)\n",
      "\n",
      "Cc: Thelen, Mary Beth (DEQ); Sygo, Jim (DEQ); Shaler, Karen (DEQ); Anderson, Madhu (DEQ);\n",
      "Patterson, Leigh (DEQ); Shekter Smith, Liane (DEQ)\n",
      "\n",
      "Subject: DIR00107 McCormick / Recent developments involving DWSD's water service to city of Flint\n",
      "and Genesee County\n",
      "\n",
      "Assigned to ODWMA\n"
     ]
    }
   ],
   "source": [
    "for token in email_tokens:\n",
    "    print(token)"
   ]
  },
  {
   "cell_type": "code",
   "execution_count": 9,
   "metadata": {},
   "outputs": [
    {
     "ename": "NameError",
     "evalue": "name 'test' is not defined",
     "output_type": "error",
     "traceback": [
      "\u001b[1;31m---------------------------------------------------------------------------\u001b[0m",
      "\u001b[1;31mNameError\u001b[0m                                 Traceback (most recent call last)",
      "\u001b[1;32m<ipython-input-9-45a1e58fd22d>\u001b[0m in \u001b[0;36m<module>\u001b[1;34m\u001b[0m\n\u001b[1;32m----> 1\u001b[1;33m \u001b[0mmy_list\u001b[0m \u001b[1;33m=\u001b[0m \u001b[1;33m[\u001b[0m\u001b[1;34m\"my name\"\u001b[0m\u001b[1;33m,\u001b[0m \u001b[1;36m23\u001b[0m\u001b[1;33m,\u001b[0m \u001b[1;34m\"another string\"\u001b[0m\u001b[1;33m,\u001b[0m \u001b[0mtest\u001b[0m\u001b[1;33m]\u001b[0m\u001b[1;33m\u001b[0m\u001b[1;33m\u001b[0m\u001b[0m\n\u001b[0m",
      "\u001b[1;31mNameError\u001b[0m: name 'test' is not defined"
     ]
    }
   ],
   "source": [
    "my_list = [\"my name\", 23, \"another string\", test]"
   ]
  }
 ],
 "metadata": {
  "kernelspec": {
   "display_name": "Python 3",
   "language": "python",
   "name": "python3"
  },
  "language_info": {
   "codemirror_mode": {
    "name": "ipython",
    "version": 3
   },
   "file_extension": ".py",
   "mimetype": "text/x-python",
   "name": "python",
   "nbconvert_exporter": "python",
   "pygments_lexer": "ipython3",
   "version": "3.7.4"
  }
 },
 "nbformat": 4,
 "nbformat_minor": 2
}
