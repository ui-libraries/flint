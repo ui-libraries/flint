{
 "cells": [
  {
   "cell_type": "code",
   "execution_count": 1,
   "metadata": {},
   "outputs": [],
   "source": [
    "# import basic packages \n",
    "import re"
   ]
  },
  {
   "cell_type": "code",
   "execution_count": 2,
   "metadata": {},
   "outputs": [],
   "source": [
    "email_text = \"\"\"\n",
    "From: Benzie, Richard (DEQ)\n",
    "\n",
    "Sent: Tuesday, December 03, 2013 11:56 AM\n",
    "\n",
    "To: Shekter Smith, Liane (DEQ)\n",
    "\n",
    "Subject: FW: 2014 Communications planning: NEED YOUR HELP\n",
    "\n",
    "{ think | sent this to vou already.\n",
    "\n",
    "From: Bloemker, Jon (DEQ)\n",
    "\n",
    "Sent: Tuesday, November 26, 2013 10:47 AM\n",
    "\n",
    "To: Benzie, Richard (DEQ)\n",
    "\n",
    "Subject: FW: 2014 Communications planning: NEED YOUR HELP\n",
    "\n",
    "From: Wurfel, Sara (GOV)\n",
    "\n",
    "Sent: Tuesday, November 25, 2013 1:06 PM\n",
    "\n",
    "To: Bloemker, Jon (DEQ)\n",
    "\n",
    "Subject: 2014 Communications planning: NEED YOUR HELP\"\"\""
   ]
  },
  {
   "cell_type": "code",
   "execution_count": 3,
   "metadata": {},
   "outputs": [],
   "source": [
    "# 1: get senders. use re.findall"
   ]
  },
  {
   "cell_type": "code",
   "execution_count": 4,
   "metadata": {},
   "outputs": [],
   "source": [
    "# 2: loop through names and take \"From:\" out of line. use for loop"
   ]
  },
  {
   "cell_type": "code",
   "execution_count": 5,
   "metadata": {},
   "outputs": [],
   "source": [
    "# 3: make list of DEQ senders only. use if...else"
   ]
  },
  {
   "cell_type": "code",
   "execution_count": 6,
   "metadata": {},
   "outputs": [],
   "source": [
    "# 4: a. repeat step 1 with receivers, subjects, and timestamps. b. remove the keys (ie Sent:, To:, Subject:)\n",
    "# a."
   ]
  },
  {
   "cell_type": "code",
   "execution_count": 7,
   "metadata": {},
   "outputs": [],
   "source": [
    "# b."
   ]
  },
  {
   "cell_type": "code",
   "execution_count": 8,
   "metadata": {},
   "outputs": [],
   "source": [
    "# 5: convert new timestamp list (with \"Sent:\" taken out) into unix timestamps\n",
    "# hint: https://blog.softhints.com/python-convert-date-unix-timestamp/\n",
    "# unixtime = dateutil.parser.parse(timestamp).timestamp()\n",
    "# this ^ converts timestamp to unixtime\n",
    "# must import these packages:\n",
    "import datetime\n",
    "import time\n",
    "import dateutil.parser"
   ]
  },
  {
   "cell_type": "code",
   "execution_count": 9,
   "metadata": {},
   "outputs": [
    {
     "data": {
      "text/plain": [
       "[('From: Benzie, Richard (DEQ)',\n",
       "  'Sent: Tuesday, December 03, 2013 11:56 AM',\n",
       "  'To: Shekter Smith, Liane (DEQ)',\n",
       "  'Subject: FW: 2014 Communications planning: NEED YOUR HELP'),\n",
       " ('From: Bloemker, Jon (DEQ)',\n",
       "  'Sent: Tuesday, November 26, 2013 10:47 AM',\n",
       "  'To: Benzie, Richard (DEQ)',\n",
       "  'Subject: FW: 2014 Communications planning: NEED YOUR HELP'),\n",
       " ('From: Wurfel, Sara (GOV)',\n",
       "  'Sent: Tuesday, November 25, 2013 1:06 PM',\n",
       "  'To: Bloemker, Jon (DEQ)',\n",
       "  'Subject: 2014 Communications planning: NEED YOUR HELP')]"
      ]
     },
     "execution_count": 9,
     "metadata": {},
     "output_type": "execute_result"
    }
   ],
   "source": [
    "# 5: put these new lists of metadata together to create an output like this:\n",
    "[('From: Benzie, Richard (DEQ)',\n",
    "  'Sent: Tuesday, December 03, 2013 11:56 AM',\n",
    "  'To: Shekter Smith, Liane (DEQ)',\n",
    "  'Subject: FW: 2014 Communications planning: NEED YOUR HELP'),\n",
    " \n",
    " ('From: Bloemker, Jon (DEQ)',\n",
    "  'Sent: Tuesday, November 26, 2013 10:47 AM',\n",
    "  'To: Benzie, Richard (DEQ)',\n",
    "  'Subject: FW: 2014 Communications planning: NEED YOUR HELP'),\n",
    " \n",
    " ('From: Wurfel, Sara (GOV)',\n",
    "  'Sent: Tuesday, November 25, 2013 1:06 PM',\n",
    "  'To: Bloemker, Jon (DEQ)',\n",
    "  'Subject: 2014 Communications planning: NEED YOUR HELP')]\n",
    "# this is a list of three tuples, where each tuple contains each type of metadata.\n",
    "# the first tuple contains the 1st sender, 1 receiver, 1st timestamp, 1st subject.\n",
    "# the second tuple contains the 2nd sender, 2nd receiver, 2nd timestamp, 2nd subject.\n",
    "# the third tuple contains the 3rd sender, 3rd receiver, 3rd timestamp, 3rd subject."
   ]
  },
  {
   "cell_type": "code",
   "execution_count": 10,
   "metadata": {},
   "outputs": [],
   "source": [
    "metadata_list=[] # create empty list\n",
    "# what next?"
   ]
  },
  {
   "cell_type": "code",
   "execution_count": null,
   "metadata": {},
   "outputs": [],
   "source": []
  }
 ],
 "metadata": {
  "kernelspec": {
   "display_name": "Python 3",
   "language": "python",
   "name": "python3"
  },
  "language_info": {
   "codemirror_mode": {
    "name": "ipython",
    "version": 3
   },
   "file_extension": ".py",
   "mimetype": "text/x-python",
   "name": "python",
   "nbconvert_exporter": "python",
   "pygments_lexer": "ipython3",
   "version": "3.5.3"
  }
 },
 "nbformat": 4,
 "nbformat_minor": 4
}
