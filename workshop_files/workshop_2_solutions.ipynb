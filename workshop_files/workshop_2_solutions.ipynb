{
 "cells": [
  {
   "cell_type": "code",
   "execution_count": 2,
   "metadata": {},
   "outputs": [],
   "source": [
    "# import basic packages \n",
    "import re"
   ]
  },
  {
   "cell_type": "code",
   "execution_count": 3,
   "metadata": {},
   "outputs": [],
   "source": [
    "email_text = \"\"\"\n",
    "From: Benzie, Richard (DEQ)\n",
    "\n",
    "Sent: Tuesday, December 03, 2013 11:56 AM\n",
    "\n",
    "To: Shekter Smith, Liane (DEQ)\n",
    "\n",
    "Subject: FW: 2014 Communications planning: NEED YOUR HELP\n",
    "\n",
    "{ think | sent this to vou already.\n",
    "\n",
    "From: Bloemker, Jon (DEQ)\n",
    "\n",
    "Sent: Tuesday, November 26, 2013 10:47 AM\n",
    "\n",
    "To: Benzie, Richard (DEQ)\n",
    "\n",
    "Subject: FW: 2014 Communications planning: NEED YOUR HELP\n",
    "\n",
    "From: Wurfel, Sara (GOV)\n",
    "\n",
    "Sent: Tuesday, November 25, 2013 1:06 PM\n",
    "\n",
    "To: Bloemker, Jon (DEQ)\n",
    "\n",
    "Subject: 2014 Communications planning: NEED YOUR HELP\"\"\""
   ]
  },
  {
   "cell_type": "code",
   "execution_count": null,
   "metadata": {},
   "outputs": [],
   "source": [
    "# 1: get senders. use re.findall\n",
    "froms=re.findall(\"From:.*\",email_text)\n",
    "print(len(froms))"
   ]
  },
  {
   "cell_type": "code",
   "execution_count": 16,
   "metadata": {},
   "outputs": [
    {
     "name": "stdout",
     "output_type": "stream",
     "text": [
      "['Benzie, Richard (DEQ)', 'Bloemker, Jon (DEQ)', 'Wurfel, Sara (GOV)']\n"
     ]
    }
   ],
   "source": [
    "# 2: loop through names and take \"From:\" out of line. use for loop\n",
    "new_froms=[]\n",
    "for name in froms:\n",
    "    name=re.sub(\"From: \",\"\",name)\n",
    "    new_froms.append(name)\n",
    "print(new_froms)"
   ]
  },
  {
   "cell_type": "code",
   "execution_count": 17,
   "metadata": {},
   "outputs": [
    {
     "name": "stdout",
     "output_type": "stream",
     "text": [
      "['Benzie, Richard (DEQ)', 'Bloemker, Jon (DEQ)']\n"
     ]
    }
   ],
   "source": [
    "# 3: make list of DEQ senders only. use if...else\n",
    "deq_senders=[]\n",
    "gov_senders=[]\n",
    "for name in new_froms:\n",
    "    if \"DEQ\" in name:\n",
    "        deq_senders.append(name) # add to new list\n",
    "    elif \"GOV\" in name:\n",
    "        gov_senders.append(name) # can make a list of (GOV) senders too...\n",
    "print(deq_senders)"
   ]
  },
  {
   "cell_type": "code",
   "execution_count": null,
   "metadata": {},
   "outputs": [],
   "source": [
    "# 4: a. repeat step 1 with receivers, subjects, and timestamps. b. remove the keys (ie Sent:, To:, Subject:)\n",
    "# a.\n",
    "timestamps=re.findall(\"Sent:.*\",email_text)\n",
    "print(len(timestamps))\n",
    "tos=re.findall(\"To:.*\",email_text)\n",
    "print(len(tos))\n",
    "subs=re.findall(\"Subject:.*\",email_text)\n",
    "print(len(subs))"
   ]
  },
  {
   "cell_type": "code",
   "execution_count": 19,
   "metadata": {},
   "outputs": [
    {
     "name": "stdout",
     "output_type": "stream",
     "text": [
      "['Tuesday, December 03, 2013 11:56 AM', 'Tuesday, November 26, 2013 10:47 AM', 'Tuesday, November 25, 2013 1:06 PM']\n",
      "['Shekter Smith, Liane (DEQ)', 'Benzie, Richard (DEQ)', 'Bloemker, Jon (DEQ)']\n",
      "['FW: 2014 Communications planning: NEED YOUR HELP', 'FW: 2014 Communications planning: NEED YOUR HELP', '2014 Communications planning: NEED YOUR HELP']\n"
     ]
    }
   ],
   "source": [
    "# b.\n",
    "new_timestamps=[]\n",
    "for name in timestamps:\n",
    "    name=re.sub(\"Sent: \",\"\",name)\n",
    "    new_timestamps.append(name)\n",
    "print(new_timestamps)\n",
    "new_tos=[]\n",
    "for name in tos:\n",
    "    name=re.sub(\"To: \",\"\",name)\n",
    "    new_tos.append(name)\n",
    "print(new_tos)\n",
    "new_subjects=[]\n",
    "for name in subs:\n",
    "    name=re.sub(\"Subject: \",\"\",name)\n",
    "    new_subjects.append(name)\n",
    "print(new_subjects)"
   ]
  },
  {
   "cell_type": "code",
   "execution_count": 28,
   "metadata": {},
   "outputs": [
    {
     "data": {
      "text/plain": [
       "[1386071760, 1385462820, 1385384760]"
      ]
     },
     "execution_count": 28,
     "metadata": {},
     "output_type": "execute_result"
    }
   ],
   "source": [
    "# 5: convert new timestamp list (with \"Sent:\" taken out) into unix timestamps\n",
    "# hint: unixtime = dateutil.parser.parse(timestamp).timestamp()\n",
    "import datetime\n",
    "import time\n",
    "import dateutil.parser\n",
    "unix_timestamps=[]\n",
    "for timestamp in new_timestamps:\n",
    "    unixtime = dateutil.parser.parse(timestamp).timestamp() # convert timestamp to unix timestamp\n",
    "    unixtime=int(unixtime) # converts float type to int type (not a big deal)\n",
    "    unix_timestamps.append(unixtime) # add new unixtimestamp to list\n",
    "unix_timestamps"
   ]
  },
  {
   "cell_type": "code",
   "execution_count": null,
   "metadata": {},
   "outputs": [],
   "source": [
    "# 5: put these new lists of metadata together to create an output like this:\n",
    "[('From: Benzie, Richard (DEQ)',\n",
    "  'Sent: Tuesday, December 03, 2013 11:56 AM',\n",
    "  'To: Shekter Smith, Liane (DEQ)',\n",
    "  'Subject: FW: 2014 Communications planning: NEED YOUR HELP'),\n",
    " \n",
    " ('From: Bloemker, Jon (DEQ)',\n",
    "  'Sent: Tuesday, November 26, 2013 10:47 AM',\n",
    "  'To: Benzie, Richard (DEQ)',\n",
    "  'Subject: FW: 2014 Communications planning: NEED YOUR HELP'),\n",
    " \n",
    " ('From: Wurfel, Sara (GOV)',\n",
    "  'Sent: Tuesday, November 25, 2013 1:06 PM',\n",
    "  'To: Bloemker, Jon (DEQ)',\n",
    "  'Subject: 2014 Communications planning: NEED YOUR HELP')]\n",
    "# this is a list of three tuples, where each tuple contains each type of metadata.\n",
    "# the first tuple contains the 1st sender, 1 receiver, 1st timestamp, 1st subject.\n",
    "# the second tuple contains the 2nd sender, 2nd receiver, 2nd timestamp, 2nd subject.\n",
    "# the third tuple contains the 3rd sender, 3rd receiver, 3rd timestamp, 3rd subject."
   ]
  },
  {
   "cell_type": "code",
   "execution_count": 13,
   "metadata": {},
   "outputs": [
    {
     "data": {
      "text/plain": [
       "[('From: Benzie, Richard (DEQ)',\n",
       "  'Sent: Tuesday, December 03, 2013 11:56 AM',\n",
       "  'To: Shekter Smith, Liane (DEQ)',\n",
       "  'Subject: FW: 2014 Communications planning: NEED YOUR HELP'),\n",
       " ('From: Bloemker, Jon (DEQ)',\n",
       "  'Sent: Tuesday, November 26, 2013 10:47 AM',\n",
       "  'To: Benzie, Richard (DEQ)',\n",
       "  'Subject: FW: 2014 Communications planning: NEED YOUR HELP'),\n",
       " ('From: Wurfel, Sara (GOV)',\n",
       "  'Sent: Tuesday, November 25, 2013 1:06 PM',\n",
       "  'To: Bloemker, Jon (DEQ)',\n",
       "  'Subject: 2014 Communications planning: NEED YOUR HELP')]"
      ]
     },
     "execution_count": 13,
     "metadata": {},
     "output_type": "execute_result"
    }
   ],
   "source": [
    "metadata_list=[] # create empty list\n",
    "\n",
    "for i in range(0,3): # remember, range(0,3) = 0, 1, 2 \n",
    "    \n",
    "    # make new tuple, put 1st From, 1st timestamp, etc. 2nd From, 2nd timestamp, etc.\n",
    "    new=(new_froms[i],unix_timestamps[i],new_tos[i],new_subs[i]) \n",
    "    \n",
    "    # add tuple to list\n",
    "    metadata_list.append(new)\n",
    "    \n",
    "metadata_list"
   ]
  },
  {
   "cell_type": "code",
   "execution_count": null,
   "metadata": {},
   "outputs": [],
   "source": []
  }
 ],
 "metadata": {
  "kernelspec": {
   "display_name": "Python 3",
   "language": "python",
   "name": "python3"
  },
  "language_info": {
   "codemirror_mode": {
    "name": "ipython",
    "version": 3
   },
   "file_extension": ".py",
   "mimetype": "text/x-python",
   "name": "python",
   "nbconvert_exporter": "python",
   "pygments_lexer": "ipython3",
   "version": "3.5.3"
  }
 },
 "nbformat": 4,
 "nbformat_minor": 4
}
